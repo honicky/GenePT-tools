{
 "cells": [
  {
   "cell_type": "markdown",
   "metadata": {},
   "source": [
    "# GenePT cell classification performance on the Tabula Sapiens data set\n",
    "\n",
    "This notebook downloads (if necessary) the Tabula Sapiens data set (https://cellxgene.cziscience.com/collections/e5f58829-1a66-40b5-a624-9046778e74f5)\n",
    "uses a GenePT-style embedding to embed the cells and then tests classification performance.  This is a benchmark dataset, but we are using it for\n",
    "both training and testing. We are doing this to \"benchmark\" our GenePT embeddings on a large dataset with a high number of cell types.\n"
   ]
  },
  {
   "cell_type": "code",
   "execution_count": 1,
   "metadata": {},
   "outputs": [
    {
     "name": "stdout",
     "output_type": "stream",
     "text": [
      "autoreload enabled\n",
      "repo_dir set to /Users/rj/personal/GenePT-tools\n",
      "File already exists at /Users/rj/personal/GenePT-tools/data/GenePT_emebdding_v2.zip\n",
      "Extracting files...\n",
      "Extracting GenePT_emebdding_v2/\n",
      "Skipping GenePT_emebdding_v2/NCBI_UniProt_summary_of_genes.json - already exists with same size\n",
      "Skipping GenePT_emebdding_v2/GenePT_gene_embedding_ada_text.pickle - already exists with same size\n",
      "Skipping GenePT_emebdding_v2/GenePT_gene_protein_embedding_model_3_text.pickle. - already exists with same size\n",
      "Skipping GenePT_emebdding_v2/NCBI_summary_of_genes.json - already exists with same size\n",
      "Extraction complete!\n",
      "Setup finished!\n",
      "data_dir set to /Users/rj/personal/GenePT-tools/data\n"
     ]
    }
   ],
   "source": [
    "%run notebook_setup.ipynb"
   ]
  },
  {
   "cell_type": "markdown",
   "metadata": {},
   "source": [
    "## Download the Tabula Sapiens data set\n",
    "\n",
    "We use the name `1m_cells.h5ad` for this dataset, which is not the best name."
   ]
  },
  {
   "cell_type": "code",
   "execution_count": 3,
   "metadata": {},
   "outputs": [],
   "source": [
    "import requests\n",
    "\n",
    "dataset = \"https://datasets.cellxgene.cziscience.com/10df7690-6d10-4029-a47e-0f071bb2df83.h5ad\"\n",
    "# dataset_id = \"10df7690-6d10-4029-a47e-0f071bb2df83\"\n",
    "\n",
    "file_path = data_dir / \"1m_cells.h5ad\"  # adjust this path as needed\n",
    "\n",
    "if not file_path.exists():\n",
    "    response = requests.get(dataset, stream=True)\n",
    "    with open(file_path, \"wb\") as file:\n",
    "        for chunk in response.iter_content(chunk_size=8192):\n",
    "            if chunk:  # filter out keep-alive chunks\n",
    "                file.write(chunk)"
   ]
  },
  {
   "cell_type": "code",
   "execution_count": 4,
   "metadata": {},
   "outputs": [
    {
     "name": "stdout",
     "output_type": "stream",
     "text": [
      "Contents of X group: ['data', 'indices', 'indptr']\n",
      "\n",
      "Contents of obs group: ['10X_run', '_index', '_scvi_batch', '_scvi_labels', 'ambient_removal', 'anatomical_position', 'assay', 'assay_ontology_term_id', 'broad_cell_class', 'cdna_plate', 'cdna_well', 'cell_type', 'cell_type_ontology_term_id', 'compartment', 'development_stage', 'development_stage_ontology_term_id', 'disease', 'disease_ontology_term_id', 'donor_assay', 'donor_id', 'donor_method', 'donor_tissue', 'donor_tissue_assay', 'ethnicity_original', 'free_annotation', 'is_primary_data', 'library_plate', 'manually_annotated', 'method', 'n_genes_by_counts', 'notes', 'observation_joinid', 'organism', 'organism_ontology_term_id', 'pct_counts_ercc', 'pct_counts_mt', 'published_2022', 'replicate', 'sample_id', 'sample_number', 'scvi_leiden_donorassay_full', 'self_reported_ethnicity', 'self_reported_ethnicity_ontology_term_id', 'sex', 'sex_ontology_term_id', 'suspension_type', 'tissue', 'tissue_in_publication', 'tissue_ontology_term_id', 'tissue_type', 'total_counts', 'total_counts_ercc', 'total_counts_mt']\n",
      "Contents of var group: ['ensembl_id', 'ensg', 'ercc', 'feature_biotype', 'feature_is_filtered', 'feature_length', 'feature_name', 'feature_reference', 'feature_type', 'genome', 'mean', 'mean_counts', 'mt', 'n_cells_by_counts', 'pct_dropout_by_counts', 'std', 'total_counts']\n",
      "\n",
      "Shape of X/data: (3537524007,)\n",
      "Shape of X/indices: (3537524007,)\n",
      "Shape of X/indptr: (1136219,)\n"
     ]
    }
   ],
   "source": [
    "import h5py\n",
    "\n",
    "with h5py.File(file_path, \"r\") as f:\n",
    "    # Look at the structure of the X group\n",
    "    print(\"Contents of X group:\", list(f[\"X\"].keys()))\n",
    "\n",
    "    # Look at obs and var to get dimensions\n",
    "    print(\"\\nContents of obs group:\", list(f[\"obs\"].keys()))\n",
    "    print(\"Contents of var group:\", list(f[\"var\"].keys()))\n",
    "\n",
    "    # If X contains a sparse matrix, it likely has 'data', 'indices', and 'indptr'\n",
    "    if \"data\" in f[\"X\"]:\n",
    "        print(\"\\nShape of X/data:\", f[\"X\"][\"data\"].shape)\n",
    "        print(\"Shape of X/indices:\", f[\"X\"][\"indices\"].shape)\n",
    "        print(\"Shape of X/indptr:\", f[\"X\"][\"indptr\"].shape)"
   ]
  },
  {
   "cell_type": "code",
   "execution_count": 5,
   "metadata": {},
   "outputs": [
    {
     "name": "stdout",
     "output_type": "stream",
     "text": [
      "\n",
      "Contents of obs['broad_cell_class'] group: 180\n"
     ]
    }
   ],
   "source": [
    "with h5py.File(file_path, \"r\") as f:\n",
    "    # Look at obs and var to get dimensions\n",
    "    print(\"\\nContents of obs['broad_cell_class'] group:\", len(f[\"obs\"][\"cell_type\"][\"categories\"]))"
   ]
  },
  {
   "cell_type": "markdown",
   "metadata": {},
   "source": [
    "## Load 100K cells \n",
    "\n",
    "We load a large subset of the data to make sure that we have enough cells in the smaller classes to train on.  We can use the whole dataset\n",
    "to select cells of each type from."
   ]
  },
  {
   "cell_type": "code",
   "execution_count": 6,
   "metadata": {},
   "outputs": [
    {
     "name": "stdout",
     "output_type": "stream",
     "text": [
      "AnnData shape: (100000, 61759)\n",
      "Feature metadata columns: Index(['ensembl_id', 'ensg', 'ercc', 'feature_biotype', 'feature_is_filtered',\n",
      "       'feature_length', 'feature_name', 'feature_reference', 'feature_type',\n",
      "       'genome', 'mean', 'mean_counts', 'mt', 'n_cells_by_counts',\n",
      "       'pct_dropout_by_counts', 'std', 'total_counts'],\n",
      "      dtype='object')\n",
      "Selected Observation metadata columns: Index(['cell_type', 'broad_cell_class', 'donor_id'], dtype='object')\n",
      "Matrix density: 0.045159779789180524\n"
     ]
    },
    {
     "name": "stderr",
     "output_type": "stream",
     "text": [
      "/Users/rj/personal/GenePT-tools/venv3.10/lib/python3.10/site-packages/anndata/_core/aligned_df.py:68: ImplicitModificationWarning: Transforming to str index.\n",
      "  warnings.warn(\"Transforming to str index.\", ImplicitModificationWarning)\n"
     ]
    }
   ],
   "source": [
    "import h5py\n",
    "import anndata as ad\n",
    "from scipy import sparse\n",
    "import pandas as pd\n",
    "from src.utils import load_subset_anndata\n",
    "\n",
    "# Load with specific obs metadata columns\n",
    "adata_filtered = load_subset_anndata(\n",
    "    file_path,\n",
    "    start_row=0,\n",
    "    n_rows=100000,\n",
    "    obs_columns=[\"cell_type\", \"broad_cell_class\", \"donor_id\"],\n",
    ")\n",
    "\n",
    "print(\"AnnData shape:\", adata_filtered.shape)\n",
    "print(\"Feature metadata columns:\", adata_filtered.var.columns)  # Print all var metadata\n",
    "print(\n",
    "    \"Selected Observation metadata columns:\", adata_filtered.obs.columns\n",
    ")  # Print selected obs metadata\n",
    "print(\n",
    "    \"Matrix density:\",\n",
    "    adata_filtered.X.nnz / (adata_filtered.shape[0] * adata_filtered.shape[1]),\n",
    ")"
   ]
  },
  {
   "cell_type": "markdown",
   "metadata": {},
   "source": [
    "### Count the number of genes and cells in the dataset\n",
    "\n",
    "* `f['var']['feature_name']` contains the gene names\n",
    "* `f['obs']` contains metadata about the cells\n",
    "* `f['X']['indptr']` contains the indices of the cells in the sparse matrix\n",
    "* `f['X']['indices']` contains the indices of the genes in the sparse matrix rows\n",
    "* `f['X']['data']` contains the data for the matrix"
   ]
  },
  {
   "cell_type": "code",
   "execution_count": 7,
   "metadata": {},
   "outputs": [
    {
     "name": "stdout",
     "output_type": "stream",
     "text": [
      "<HDF5 dataset \"categories\": shape (61759,), type \"|O\">\n"
     ]
    }
   ],
   "source": [
    "with h5py.File(file_path, \"r\") as f:\n",
    "    print(f[\"var\"][\"feature_name\"][\"categories\"])\n",
    "    # print(f['X']['indices'][:10])"
   ]
  },
  {
   "cell_type": "code",
   "execution_count": 8,
   "metadata": {},
   "outputs": [],
   "source": [
    "gene_names = adata_filtered.var.feature_name\n",
    "ensembl_ids = adata_filtered.var.ensembl_id\n",
    "major_ensembl_ids = pd.Series(ensembl_id.split(\".\")[0] for ensembl_id in ensembl_ids)"
   ]
  },
  {
   "cell_type": "markdown",
   "metadata": {},
   "source": [
    "## Load the GenePT embeddings\n",
    "We will use the embeddings we created using the `aging_and_related_gene_query.ipynb` notebook.  These embeddings are uploaded to \n",
    "HuggingFace, so we use the `datasets` library to load them."
   ]
  },
  {
   "cell_type": "code",
   "execution_count": 9,
   "metadata": {},
   "outputs": [
    {
     "name": "stderr",
     "output_type": "stream",
     "text": [
      "/Users/rj/personal/GenePT-tools/venv3.10/lib/python3.10/site-packages/tqdm/auto.py:21: TqdmWarning: IProgress not found. Please update jupyter and ipywidgets. See https://ipywidgets.readthedocs.io/en/stable/user_install.html\n",
      "  from .autonotebook import tqdm as notebook_tqdm\n",
      "Using the latest cached version of the dataset since honicky/genept-composable-embeddings-source-data couldn't be found on the Hugging Face Hub\n",
      "Found the latest cached dataset configuration 'gene_info' at /Users/rj/.cache/huggingface/datasets/honicky___genept-composable-embeddings-source-data/gene_info/0.0.0/5a0eee4f5ea012c2de528b150376dc0d4b3c9e45 (last modified on Tue Jan 14 05:59:50 2025).\n"
     ]
    },
    {
     "data": {
      "text/html": [
       "<div>\n",
       "<style scoped>\n",
       "    .dataframe tbody tr th:only-of-type {\n",
       "        vertical-align: middle;\n",
       "    }\n",
       "\n",
       "    .dataframe tbody tr th {\n",
       "        vertical-align: top;\n",
       "    }\n",
       "\n",
       "    .dataframe thead th {\n",
       "        text-align: right;\n",
       "    }\n",
       "</style>\n",
       "<table border=\"1\" class=\"dataframe\">\n",
       "  <thead>\n",
       "    <tr style=\"text-align: right;\">\n",
       "      <th></th>\n",
       "      <th>gene_name</th>\n",
       "      <th>ensembl_id</th>\n",
       "      <th>gene_type</th>\n",
       "    </tr>\n",
       "  </thead>\n",
       "  <tbody>\n",
       "    <tr>\n",
       "      <th>0</th>\n",
       "      <td>TSPAN6</td>\n",
       "      <td>ENSG00000000003</td>\n",
       "      <td>protein_coding</td>\n",
       "    </tr>\n",
       "    <tr>\n",
       "      <th>1</th>\n",
       "      <td>TNMD</td>\n",
       "      <td>ENSG00000000005</td>\n",
       "      <td>protein_coding</td>\n",
       "    </tr>\n",
       "    <tr>\n",
       "      <th>2</th>\n",
       "      <td>DPM1</td>\n",
       "      <td>ENSG00000000419</td>\n",
       "      <td>protein_coding</td>\n",
       "    </tr>\n",
       "    <tr>\n",
       "      <th>3</th>\n",
       "      <td>SCYL3</td>\n",
       "      <td>ENSG00000000457</td>\n",
       "      <td>protein_coding</td>\n",
       "    </tr>\n",
       "    <tr>\n",
       "      <th>4</th>\n",
       "      <td>C1orf112</td>\n",
       "      <td>ENSG00000000460</td>\n",
       "      <td>protein_coding</td>\n",
       "    </tr>\n",
       "  </tbody>\n",
       "</table>\n",
       "</div>"
      ],
      "text/plain": [
       "  gene_name       ensembl_id       gene_type\n",
       "0    TSPAN6  ENSG00000000003  protein_coding\n",
       "1      TNMD  ENSG00000000005  protein_coding\n",
       "2      DPM1  ENSG00000000419  protein_coding\n",
       "3     SCYL3  ENSG00000000457  protein_coding\n",
       "4  C1orf112  ENSG00000000460  protein_coding"
      ]
     },
     "execution_count": 9,
     "metadata": {},
     "output_type": "execute_result"
    }
   ],
   "source": [
    "from datasets import load_dataset\n",
    "\n",
    "gene_info_table_dataset = load_dataset(\n",
    "    \"honicky/genept-composable-embeddings-source-data\", \"gene_info\"\n",
    ")\n",
    "gene_info_table = gene_info_table_dataset[\"train\"].to_pandas()\n",
    "gene_info_table.head()"
   ]
  },
  {
   "cell_type": "code",
   "execution_count": 10,
   "metadata": {},
   "outputs": [],
   "source": [
    "gene_embedding = pd.read_parquet(\n",
    "    data_dir\n",
    "    # / \"generated/embeddings/embedding_associations_age_drugs_pathways_openai_large.parquet\"\n",
    "    / \"generated/embeddings/embedding_associations_age_cell_type_drugs_pathways_openai_large.parquet\"\n",
    ")"
   ]
  },
  {
   "cell_type": "markdown",
   "metadata": {},
   "source": [
    "# Embed using the mean for duplicate Ensembl IDs\n",
    "\n",
    "Some of the embeddings have duplicate Ensembl IDs (but separate gene names). Take the mean of the duplicates as a rough heuristic."
   ]
  },
  {
   "cell_type": "code",
   "execution_count": 11,
   "metadata": {},
   "outputs": [],
   "source": [
    "gene_embeddings_with_ensembl_id = gene_embedding.merge(\n",
    "    gene_info_table, left_index=True, right_on=\"gene_name\"\n",
    ")"
   ]
  },
  {
   "cell_type": "code",
   "execution_count": 12,
   "metadata": {},
   "outputs": [
    {
     "data": {
      "text/html": [
       "<div>\n",
       "<style scoped>\n",
       "    .dataframe tbody tr th:only-of-type {\n",
       "        vertical-align: middle;\n",
       "    }\n",
       "\n",
       "    .dataframe tbody tr th {\n",
       "        vertical-align: top;\n",
       "    }\n",
       "\n",
       "    .dataframe thead th {\n",
       "        text-align: right;\n",
       "    }\n",
       "</style>\n",
       "<table border=\"1\" class=\"dataframe\">\n",
       "  <thead>\n",
       "    <tr style=\"text-align: right;\">\n",
       "      <th></th>\n",
       "      <th>0</th>\n",
       "      <th>1</th>\n",
       "      <th>2</th>\n",
       "      <th>3</th>\n",
       "      <th>4</th>\n",
       "      <th>5</th>\n",
       "      <th>6</th>\n",
       "      <th>7</th>\n",
       "      <th>8</th>\n",
       "      <th>9</th>\n",
       "      <th>...</th>\n",
       "      <th>3065</th>\n",
       "      <th>3066</th>\n",
       "      <th>3067</th>\n",
       "      <th>3068</th>\n",
       "      <th>3069</th>\n",
       "      <th>3070</th>\n",
       "      <th>3071</th>\n",
       "      <th>gene_name</th>\n",
       "      <th>ensembl_id</th>\n",
       "      <th>gene_type</th>\n",
       "    </tr>\n",
       "  </thead>\n",
       "  <tbody>\n",
       "    <tr>\n",
       "      <th>83316</th>\n",
       "      <td>-0.016321</td>\n",
       "      <td>0.013480</td>\n",
       "      <td>-0.016309</td>\n",
       "      <td>0.001952</td>\n",
       "      <td>0.012520</td>\n",
       "      <td>-0.009327</td>\n",
       "      <td>0.040925</td>\n",
       "      <td>0.002115</td>\n",
       "      <td>0.016868</td>\n",
       "      <td>-0.009916</td>\n",
       "      <td>...</td>\n",
       "      <td>-0.027542</td>\n",
       "      <td>0.001239</td>\n",
       "      <td>-0.016941</td>\n",
       "      <td>0.01076</td>\n",
       "      <td>-0.014318</td>\n",
       "      <td>-0.009964</td>\n",
       "      <td>-0.024179</td>\n",
       "      <td>LINC01118</td>\n",
       "      <td>ENSG00000222005</td>\n",
       "      <td>None</td>\n",
       "    </tr>\n",
       "    <tr>\n",
       "      <th>83105</th>\n",
       "      <td>-0.033554</td>\n",
       "      <td>0.011459</td>\n",
       "      <td>-0.010150</td>\n",
       "      <td>-0.014612</td>\n",
       "      <td>-0.007054</td>\n",
       "      <td>-0.002069</td>\n",
       "      <td>0.041835</td>\n",
       "      <td>-0.001449</td>\n",
       "      <td>0.012491</td>\n",
       "      <td>0.018589</td>\n",
       "      <td>...</td>\n",
       "      <td>-0.015028</td>\n",
       "      <td>-0.014096</td>\n",
       "      <td>-0.017658</td>\n",
       "      <td>0.02278</td>\n",
       "      <td>-0.024542</td>\n",
       "      <td>-0.014688</td>\n",
       "      <td>-0.019357</td>\n",
       "      <td>LINC01119</td>\n",
       "      <td>ENSG00000222005</td>\n",
       "      <td>None</td>\n",
       "    </tr>\n",
       "  </tbody>\n",
       "</table>\n",
       "<p>2 rows × 3075 columns</p>\n",
       "</div>"
      ],
      "text/plain": [
       "              0         1         2         3         4         5         6  \\\n",
       "83316 -0.016321  0.013480 -0.016309  0.001952  0.012520 -0.009327  0.040925   \n",
       "83105 -0.033554  0.011459 -0.010150 -0.014612 -0.007054 -0.002069  0.041835   \n",
       "\n",
       "              7         8         9  ...      3065      3066      3067  \\\n",
       "83316  0.002115  0.016868 -0.009916  ... -0.027542  0.001239 -0.016941   \n",
       "83105 -0.001449  0.012491  0.018589  ... -0.015028 -0.014096 -0.017658   \n",
       "\n",
       "          3068      3069      3070      3071  gene_name       ensembl_id  \\\n",
       "83316  0.01076 -0.014318 -0.009964 -0.024179  LINC01118  ENSG00000222005   \n",
       "83105  0.02278 -0.024542 -0.014688 -0.019357  LINC01119  ENSG00000222005   \n",
       "\n",
       "       gene_type  \n",
       "83316       None  \n",
       "83105       None  \n",
       "\n",
       "[2 rows x 3075 columns]"
      ]
     },
     "execution_count": 12,
     "metadata": {},
     "output_type": "execute_result"
    }
   ],
   "source": [
    "gene_embeddings_with_ensembl_id[\n",
    "    gene_embeddings_with_ensembl_id.ensembl_id == \"ENSG00000222005\"\n",
    "]"
   ]
  },
  {
   "cell_type": "code",
   "execution_count": 14,
   "metadata": {},
   "outputs": [
    {
     "data": {
      "text/plain": [
       "ensembl_id\n",
       "ENSG00000000003    2\n",
       "ENSG00000243485    2\n",
       "ENSG00000222005    2\n",
       "ENSG00000264405    2\n",
       "ENSG00000204792    2\n",
       "ENSG00000201388    2\n",
       "ENSG00000222345    2\n",
       "ENSG00000276234    2\n",
       "ENSG00000187838    2\n",
       "ENSG00000202377    2\n",
       "ENSG00000226364    2\n",
       "ENSG00000269433    2\n",
       "ENSG00000183598    2\n",
       "ENSG00000267151    2\n",
       "ENSG00000236790    2\n",
       "ENSG00000264073    2\n",
       "ENSG00000265134    2\n",
       "ENSG00000238936    2\n",
       "ENSG00000270722    2\n",
       "ENSG00000226444    2\n",
       "ENSG00000269099    2\n",
       "ENSG00000204397    2\n",
       "ENSG00000249532    2\n",
       "ENSG00000206603    2\n",
       "ENSG00000284917    2\n",
       "ENSG00000268942    2\n",
       "ENSG00000206903    2\n",
       "ENSG00000063587    2\n",
       "ENSG00000274020    2\n",
       "ENSG00000255154    2\n",
       "ENSG00000090857    2\n",
       "ENSG00000254508    2\n",
       "ENSG00000206897    2\n",
       "ENSG00000251866    2\n",
       "ENSG00000226419    2\n",
       "ENSG00000264448    2\n",
       "ENSG00000206785    2\n",
       "ENSG00000197927    2\n",
       "ENSG00000245080    2\n",
       "ENSG00000269586    2\n",
       "ENSG00000227518    2\n",
       "ENSG00000145491    2\n",
       "ENSG00000221164    2\n",
       "ENSG00000250331    2\n",
       "ENSG00000223770    2\n",
       "ENSG00000269955    2\n",
       "ENSG00000207187    2\n",
       "ENSG00000270011    2\n",
       "ENSG00000212295    2\n",
       "ENSG00000260458    2\n",
       "ENSG00000198064    2\n",
       "ENSG00000236975    2\n",
       "ENSG00000266780    2\n",
       "ENSG00000196696    2\n",
       "ENSG00000208308    2\n",
       "ENSG00000212309    2\n",
       "ENSG00000271907    2\n",
       "ENSG00000265014    2\n",
       "ENSG00000088298    2\n",
       "ENSG00000212264    2\n",
       "ENSG00000212214    2\n",
       "ENSG00000121933    2\n",
       "ENSG00000284505    2\n",
       "ENSG00000264105    2\n",
       "ENSG00000178734    2\n",
       "ENSG00000211563    2\n",
       "ENSG00000253828    2\n",
       "ENSG00000274290    2\n",
       "ENSG00000264346    2\n",
       "ENSG00000252830    2\n",
       "ENSG00000202189    2\n",
       "ENSG00000265075    2\n",
       "ENSG00000266038    2\n",
       "ENSG00000231646    2\n",
       "ENSG00000231767    2\n",
       "ENSG00000251209    2\n",
       "ENSG00000283569    2\n",
       "ENSG00000263572    2\n",
       "ENSG00000221750    2\n",
       "ENSG00000076554    2\n",
       "ENSG00000206947    2\n",
       "ENSG00000207516    2\n",
       "ENSG00000264717    2\n",
       "ENSG00000259324    2\n",
       "ENSG00000268471    2\n",
       "ENSG00000225327    2\n",
       "ENSG00000275379    2\n",
       "ENSG00000254119    2\n",
       "ENSG00000252284    2\n",
       "ENSG00000120341    2\n",
       "ENSG00000286061    2\n",
       "ENSG00000276903    2\n",
       "ENSG00000253051    2\n",
       "ENSG00000109927    2\n",
       "ENSG00000267532    2\n",
       "ENSG00000273331    2\n",
       "ENSG00000276966    2\n",
       "ENSG00000201142    2\n",
       "ENSG00000266354    2\n",
       "ENSG00000212587    2\n",
       "ENSG00000182974    2\n",
       "ENSG00000252699    2\n",
       "ENSG00000188660    2\n",
       "ENSG00000000005    2\n",
       "ENSG00000118804    2\n",
       "ENSG00000283340    2\n",
       "ENSG00000187600    2\n",
       "ENSG00000277075    2\n",
       "ENSG00000288859    2\n",
       "ENSG00000266206    2\n",
       "ENSG00000257114    2\n",
       "ENSG00000085231    2\n",
       "ENSG00000199405    2\n",
       "ENSG00000255267    2\n",
       "ENSG00000216195    2\n",
       "ENSG00000207344    2\n",
       "ENSG00000252135    2\n",
       "ENSG00000132670    2\n",
       "ENSG00000207778    2\n",
       "ENSG00000241098    2\n",
       "ENSG00000222489    2\n",
       "ENSG00000207062    2\n",
       "ENSG00000128534    2\n",
       "ENSG00000263468    2\n",
       "Name: count, dtype: int64"
      ]
     },
     "execution_count": 14,
     "metadata": {},
     "output_type": "execute_result"
    }
   ],
   "source": [
    "import numpy as np\n",
    "\n",
    "matching_ensembl_ids = pd.DataFrame(major_ensembl_ids, columns=[\"ensembl_id\"]).merge(\n",
    "    gene_embeddings_with_ensembl_id, left_on=\"ensembl_id\", right_on=\"ensembl_id\"\n",
    ")[[\"gene_name\", \"ensembl_id\"]]\n",
    "ensembl_id_counts = matching_ensembl_ids.ensembl_id.value_counts()\n",
    "ensembl_id_counts[ensembl_id_counts > 1]"
   ]
  },
  {
   "cell_type": "code",
   "execution_count": 13,
   "metadata": {},
   "outputs": [
    {
     "name": "stdout",
     "output_type": "stream",
     "text": [
      "Original shape: (37220, 3075)\n",
      "After merging duplicates: (36573, 3073)\n",
      "\n",
      "Number of remaining duplicates: 0\n"
     ]
    }
   ],
   "source": [
    "import numpy as np\n",
    "\n",
    "# Get embeddings without metadata columns\n",
    "embedding_cols = [\n",
    "    col\n",
    "    for col in gene_embeddings_with_ensembl_id.columns\n",
    "    if col not in [\"gene_name\", \"ensembl_id\", \"gene_type\"]\n",
    "]\n",
    "\n",
    "# Group by ensembl_id and take mean of embeddings\n",
    "merged_embeddings = (\n",
    "    gene_embeddings_with_ensembl_id.groupby(\"ensembl_id\")[embedding_cols]\n",
    "    .mean()\n",
    "    .reset_index()\n",
    ")\n",
    "\n",
    "# Renormalize the embeddings\n",
    "embedding_values = merged_embeddings[embedding_cols].values\n",
    "norms = np.linalg.norm(embedding_values, axis=1, keepdims=True)\n",
    "merged_embeddings[embedding_cols] = embedding_values / norms\n",
    "\n",
    "# Verify the results\n",
    "print(f\"Original shape: {gene_embeddings_with_ensembl_id.shape}\")\n",
    "print(f\"After merging duplicates: {merged_embeddings.shape}\")\n",
    "\n",
    "# Verify all duplicates are resolved\n",
    "duplicate_check = merged_embeddings.ensembl_id.value_counts()\n",
    "print(\"\\nNumber of remaining duplicates:\", (duplicate_check > 1).sum())"
   ]
  },
  {
   "cell_type": "code",
   "execution_count": 14,
   "metadata": {},
   "outputs": [
    {
     "data": {
      "text/plain": [
       "0        ENSG00000000003\n",
       "1        ENSG00000000005\n",
       "2        ENSG00000000419\n",
       "3        ENSG00000000457\n",
       "4        ENSG00000000460\n",
       "              ...       \n",
       "36568    ENSGR0000230542\n",
       "36569    ENSGR0000234958\n",
       "36570    ENSGR0000236871\n",
       "36571    ENSGR0000237040\n",
       "36572    ENSGR0000265658\n",
       "Name: ensembl_id, Length: 36573, dtype: object"
      ]
     },
     "execution_count": 14,
     "metadata": {},
     "output_type": "execute_result"
    }
   ],
   "source": [
    "merged_embeddings.ensembl_id"
   ]
  },
  {
   "cell_type": "code",
   "execution_count": 17,
   "metadata": {},
   "outputs": [],
   "source": [
    "# # Get the embedding values without the metadata columns\n",
    "# embedding_cols = [col for col in merged_embeddings.columns\n",
    "#                  if col not in ['ensembl_id']]\n",
    "\n",
    "# # Create a mapping from major_ensembl_ids to column indices in cell_gene_matrix\n",
    "# gene_idx_map = {gene_id: idx for idx, gene_id in enumerate(major_ensembl_ids)}\n",
    "\n",
    "# # Find which embeddings correspond to genes in our expression matrix\n",
    "# # and get their indices in the correct order\n",
    "# valid_indices = []\n",
    "# embedding_indices = []\n",
    "# for i, ensembl_id in enumerate(merged_embeddings.ensembl_id):\n",
    "#     if ensembl_id in gene_idx_map:\n",
    "#         valid_indices.append(gene_idx_map[ensembl_id])\n",
    "#         embedding_indices.append(i)\n",
    "\n",
    "# # Create the reordered embedding matrix\n",
    "# embedding_matrix = merged_embeddings[embedding_cols].iloc[embedding_indices].values.T"
   ]
  },
  {
   "cell_type": "code",
   "execution_count": 18,
   "metadata": {},
   "outputs": [],
   "source": [
    "# def create_embedding_matrix(merged_embeddings, major_ensembl_ids):\n",
    "#     \"\"\"\n",
    "#     Create a reordered embedding matrix that aligns gene embeddings with expression matrix columns.\n",
    "\n",
    "#     Args:\n",
    "#         merged_embeddings (pd.DataFrame): DataFrame containing gene embeddings with 'ensembl_id' column\n",
    "#         major_ensembl_ids (pd.Series): Series of Ensembl IDs in the order they appear in expression matrix\n",
    "\n",
    "#     Returns:\n",
    "#         tuple: (embedding_matrix, valid_indices)\n",
    "#             - embedding_matrix: numpy array of shape (n_embedding_dims, n_valid_genes)\n",
    "#             - valid_indices: list of indices mapping to original expression matrix columns\n",
    "#     \"\"\"\n",
    "#     # Get the embedding values without the metadata columns\n",
    "#     embedding_cols = [\n",
    "#         col for col in merged_embeddings.columns if col not in [\"ensembl_id\"]\n",
    "#     ]\n",
    "\n",
    "#     # Create a mapping from major_ensembl_ids to column indices in cell_gene_matrix\n",
    "#     gene_idx_map = {gene_id: idx for idx, gene_id in enumerate(major_ensembl_ids)}\n",
    "\n",
    "#     # Find which embeddings correspond to genes in our expression matrix\n",
    "#     # and get their indices in the correct order\n",
    "#     valid_indices = []\n",
    "#     embedding_indices = []\n",
    "#     for i, ensembl_id in enumerate(merged_embeddings.ensembl_id):\n",
    "#         if ensembl_id in gene_idx_map:\n",
    "#             valid_indices.append(gene_idx_map[ensembl_id])\n",
    "#             embedding_indices.append(i)\n",
    "\n",
    "#     # Create the reordered embedding matrix\n",
    "#     embedding_matrix = (\n",
    "#         merged_embeddings[embedding_cols].iloc[embedding_indices].values.T\n",
    "#     )\n",
    "\n",
    "#     return embedding_matrix, valid_indices"
   ]
  },
  {
   "cell_type": "code",
   "execution_count": 19,
   "metadata": {},
   "outputs": [],
   "source": [
    "# def create_cell_embeddings(expression_matrix, embedding_matrix, valid_indices):\n",
    "#     \"\"\"\n",
    "#     Create normalized cell embeddings from gene expression data and gene embeddings.\n",
    "\n",
    "#     Args:\n",
    "#         expression_matrix: scipy.sparse.csr_matrix or numpy array of shape (n_cells, n_genes)\n",
    "#         embedding_matrix: numpy array of shape (n_embedding_dims, n_valid_genes)\n",
    "#         valid_indices: list of indices to select genes that have embeddings\n",
    "\n",
    "#     Returns:\n",
    "#         numpy array of shape (n_cells, n_embedding_dims) containing normalized cell embeddings\n",
    "#     \"\"\"\n",
    "#     # Select only the columns from expression matrix that have corresponding embeddings\n",
    "#     filtered_expression = expression_matrix[:, valid_indices]\n",
    "\n",
    "#     # Perform the matrix multiplication (n_cells x n_embedding_dimensions)\n",
    "#     cell_embeddings = filtered_expression @ embedding_matrix.T\n",
    "\n",
    "#     # Normalize the cell embeddings\n",
    "#     norms = np.linalg.norm(cell_embeddings, axis=1, keepdims=True)\n",
    "#     cell_embeddings = cell_embeddings / norms\n",
    "\n",
    "#     return cell_embeddings"
   ]
  },
  {
   "cell_type": "code",
   "execution_count": 15,
   "metadata": {},
   "outputs": [],
   "source": [
    "import src.inference as inference\n",
    "\n",
    "embedding_matrix, valid_indices = inference.create_embedding_matrix(\n",
    "    merged_embeddings, major_ensembl_ids\n",
    ")"
   ]
  },
  {
   "cell_type": "code",
   "execution_count": 16,
   "metadata": {},
   "outputs": [
    {
     "name": "stdout",
     "output_type": "stream",
     "text": [
      "Shape of cell embeddings: (100000, 3072)\n",
      "Number of genes used: 33258 out of 61759 total genes\n",
      "Total time: 234.72 seconds\n",
      "Processing speed: 426.0 cells/second\n"
     ]
    }
   ],
   "source": [
    "import time\n",
    "import numpy as np\n",
    "\n",
    "# Time the embedding creation\n",
    "start_time = time.time()\n",
    "cell_embeddings = inference.create_cell_embeddings(\n",
    "    adata_filtered.X, embedding_matrix, valid_indices\n",
    ")\n",
    "end_time = time.time()\n",
    "\n",
    "# Calculate metrics\n",
    "total_time = end_time - start_time\n",
    "cells_per_second = cell_embeddings.shape[0] / total_time\n",
    "\n",
    "print(f\"Shape of cell embeddings: {cell_embeddings.shape}\")\n",
    "print(f\"Number of genes used: {len(valid_indices)} out of {len(major_ensembl_ids)} total genes\")\n",
    "print(f\"Total time: {total_time:.2f} seconds\")\n",
    "print(f\"Processing speed: {cells_per_second:.1f} cells/second\")"
   ]
  },
  {
   "cell_type": "code",
   "execution_count": 38,
   "metadata": {},
   "outputs": [],
   "source": [
    "# # Select only the columns from cell_gene_matrix that have corresponding embeddings\n",
    "# filtered_expression = cell_gene_matrix[:, valid_indices]\n",
    "\n",
    "# # Perform the matrix multiplication\n",
    "# # This will give us (n_cells x n_embedding_dimensions)\n",
    "# cell_embeddings = filtered_expression @ embedding_matrix.T\n",
    "# # Normalize the cell embeddings\n",
    "# norms = np.linalg.norm(cell_embeddings, axis=1, keepdims=True)\n",
    "# cell_embeddings = cell_embeddings / norms\n",
    "\n",
    "\n",
    "# print(f\"Shape of cell embeddings: {cell_embeddings.shape}\")\n",
    "# print(f\"Number of genes used: {len(valid_indices)} out of {len(major_ensembl_ids)} total genes\")"
   ]
  },
  {
   "cell_type": "code",
   "execution_count": 17,
   "metadata": {},
   "outputs": [
    {
     "data": {
      "text/html": [
       "<div>\n",
       "<style scoped>\n",
       "    .dataframe tbody tr th:only-of-type {\n",
       "        vertical-align: middle;\n",
       "    }\n",
       "\n",
       "    .dataframe tbody tr th {\n",
       "        vertical-align: top;\n",
       "    }\n",
       "\n",
       "    .dataframe thead th {\n",
       "        text-align: right;\n",
       "    }\n",
       "</style>\n",
       "<table border=\"1\" class=\"dataframe\">\n",
       "  <thead>\n",
       "    <tr style=\"text-align: right;\">\n",
       "      <th></th>\n",
       "      <th>cell_type</th>\n",
       "      <th>broad_cell_class</th>\n",
       "      <th>donor_id</th>\n",
       "    </tr>\n",
       "  </thead>\n",
       "  <tbody>\n",
       "    <tr>\n",
       "      <th>0</th>\n",
       "      <td>naive thymus-derived CD4-positive, alpha-beta ...</td>\n",
       "      <td>t cell</td>\n",
       "      <td>TSP2</td>\n",
       "    </tr>\n",
       "    <tr>\n",
       "      <th>1</th>\n",
       "      <td>B cell</td>\n",
       "      <td>lymphocyte of b lineage</td>\n",
       "      <td>TSP2</td>\n",
       "    </tr>\n",
       "    <tr>\n",
       "      <th>2</th>\n",
       "      <td>B cell</td>\n",
       "      <td>lymphocyte of b lineage</td>\n",
       "      <td>TSP2</td>\n",
       "    </tr>\n",
       "    <tr>\n",
       "      <th>3</th>\n",
       "      <td>B cell</td>\n",
       "      <td>lymphocyte of b lineage</td>\n",
       "      <td>TSP2</td>\n",
       "    </tr>\n",
       "    <tr>\n",
       "      <th>4</th>\n",
       "      <td>CD8-positive, alpha-beta T cell</td>\n",
       "      <td>t cell</td>\n",
       "      <td>TSP2</td>\n",
       "    </tr>\n",
       "    <tr>\n",
       "      <th>...</th>\n",
       "      <td>...</td>\n",
       "      <td>...</td>\n",
       "      <td>...</td>\n",
       "    </tr>\n",
       "    <tr>\n",
       "      <th>99995</th>\n",
       "      <td>endothelial cell of artery</td>\n",
       "      <td>endothelial cell</td>\n",
       "      <td>TSP2</td>\n",
       "    </tr>\n",
       "    <tr>\n",
       "      <th>99996</th>\n",
       "      <td>mesenchymal stem cell</td>\n",
       "      <td>stem cell</td>\n",
       "      <td>TSP2</td>\n",
       "    </tr>\n",
       "    <tr>\n",
       "      <th>99997</th>\n",
       "      <td>pericyte</td>\n",
       "      <td>contractile cell</td>\n",
       "      <td>TSP2</td>\n",
       "    </tr>\n",
       "    <tr>\n",
       "      <th>99998</th>\n",
       "      <td>skeletal muscle satellite stem cell</td>\n",
       "      <td>stem cell</td>\n",
       "      <td>TSP2</td>\n",
       "    </tr>\n",
       "    <tr>\n",
       "      <th>99999</th>\n",
       "      <td>skeletal muscle satellite stem cell</td>\n",
       "      <td>stem cell</td>\n",
       "      <td>TSP2</td>\n",
       "    </tr>\n",
       "  </tbody>\n",
       "</table>\n",
       "<p>100000 rows × 3 columns</p>\n",
       "</div>"
      ],
      "text/plain": [
       "                                               cell_type  \\\n",
       "0      naive thymus-derived CD4-positive, alpha-beta ...   \n",
       "1                                                 B cell   \n",
       "2                                                 B cell   \n",
       "3                                                 B cell   \n",
       "4                        CD8-positive, alpha-beta T cell   \n",
       "...                                                  ...   \n",
       "99995                         endothelial cell of artery   \n",
       "99996                              mesenchymal stem cell   \n",
       "99997                                           pericyte   \n",
       "99998                skeletal muscle satellite stem cell   \n",
       "99999                skeletal muscle satellite stem cell   \n",
       "\n",
       "              broad_cell_class donor_id  \n",
       "0                       t cell     TSP2  \n",
       "1      lymphocyte of b lineage     TSP2  \n",
       "2      lymphocyte of b lineage     TSP2  \n",
       "3      lymphocyte of b lineage     TSP2  \n",
       "4                       t cell     TSP2  \n",
       "...                        ...      ...  \n",
       "99995         endothelial cell     TSP2  \n",
       "99996                stem cell     TSP2  \n",
       "99997         contractile cell     TSP2  \n",
       "99998                stem cell     TSP2  \n",
       "99999                stem cell     TSP2  \n",
       "\n",
       "[100000 rows x 3 columns]"
      ]
     },
     "execution_count": 17,
     "metadata": {},
     "output_type": "execute_result"
    }
   ],
   "source": [
    "adata_filtered.obs"
   ]
  },
  {
   "cell_type": "code",
   "execution_count": 19,
   "metadata": {},
   "outputs": [
    {
     "name": "stdout",
     "output_type": "stream",
     "text": [
      "Loaded metadata keys: ['cell_type', 'broad_cell_class', 'donor_id']\n",
      "\n",
      "First 5 values of cell_type:\n",
      "0    naive thymus-derived CD4-positive, alpha-beta ...\n",
      "1                                               B cell\n",
      "2                                               B cell\n",
      "3                                               B cell\n",
      "4                      CD8-positive, alpha-beta T cell\n",
      "Name: cell_type, dtype: category\n",
      "Categories (180, object): ['male germ cell', 'spermatocyte', 'spermatid', 'spermatogonium', ..., 'alveolar adventitial fibroblast', 'BEST4+ intestinal epithelial cell, human', 'enteroglial cell', 'unknown']\n",
      "\n",
      "First 5 values of broad_cell_class:\n",
      "0                     t cell\n",
      "1    lymphocyte of b lineage\n",
      "2    lymphocyte of b lineage\n",
      "3    lymphocyte of b lineage\n",
      "4                     t cell\n",
      "Name: broad_cell_class, dtype: category\n",
      "Categories (40, object): ['adventitial cell', 'cardiac endothelial cell', 'ciliated epithelial cell', 'conjunctival epithelial cell', ..., 'stromal cell', 't cell', 'transitional epithelial cell', 'vestibular dark cell']\n",
      "\n",
      "First 5 values of donor_id:\n",
      "0    TSP2\n",
      "1    TSP2\n",
      "2    TSP2\n",
      "3    TSP2\n",
      "4    TSP2\n",
      "Name: donor_id, dtype: category\n",
      "Categories (24, object): ['TSP1', 'TSP2', 'TSP3', 'TSP4', ..., 'TSP26', 'TSP27', 'TSP28', 'TSP30']\n"
     ]
    }
   ],
   "source": [
    "# def load_cell_metadata(file_path, start_row=0, n_rows=1000, columns=None):\n",
    "#     \"\"\"\n",
    "#     Load metadata for specific cells.\n",
    "\n",
    "#     Args:\n",
    "#         file_path: Path to h5ad file\n",
    "#         start_row: Starting row index\n",
    "#         n_rows: Number of rows to load\n",
    "#         columns: List of metadata columns to load (if None, load all)\n",
    "\n",
    "#     Returns:\n",
    "#         Dictionary of metadata arrays\n",
    "#     \"\"\"\n",
    "#     with h5py.File(file_path, 'r') as f:\n",
    "#         metadata = {}\n",
    "#         obs_keys = list(f['obs'].keys()) if columns is None else columns\n",
    "#         for key in obs_keys:\n",
    "#             if key in f['obs']:\n",
    "#                 column_group = f['obs'][key]\n",
    "#                 if isinstance(column_group, h5py.Dataset):\n",
    "#                     metadata[key] = column_group[start_row:start_row + n_rows]\n",
    "#                 else:\n",
    "#                     if 'categories' in column_group and 'codes' in column_group:\n",
    "#                         # Get categories and decode from bytes to strings\n",
    "#                         categories = [cat.decode('utf-8') for cat in column_group['categories'][:]]\n",
    "#                         codes = column_group['codes'][start_row:start_row + n_rows]\n",
    "#                         metadata[key] = np.array([categories[code] for code in codes])\n",
    "#     return metadata\n",
    "\n",
    "# # Example usage:\n",
    "# metadata = load_cell_metadata(file_path, start_row=0, n_rows=1136219,\n",
    "#                             columns=['cell_type', 'total_counts', 'broad_cell_class', 'donor_id'])\n",
    "metadata = adata_filtered.obs\n",
    "\n",
    "print(\"Loaded metadata keys:\", list(metadata.keys()))\n",
    "\n",
    "# Print first few values of each column\n",
    "for key in metadata:\n",
    "    print(f\"\\nFirst 5 values of {key}:\")\n",
    "    print(metadata[key][:5])"
   ]
  },
  {
   "cell_type": "code",
   "execution_count": 20,
   "metadata": {},
   "outputs": [
    {
     "data": {
      "text/html": [
       "<div>\n",
       "<style scoped>\n",
       "    .dataframe tbody tr th:only-of-type {\n",
       "        vertical-align: middle;\n",
       "    }\n",
       "\n",
       "    .dataframe tbody tr th {\n",
       "        vertical-align: top;\n",
       "    }\n",
       "\n",
       "    .dataframe thead th {\n",
       "        text-align: right;\n",
       "    }\n",
       "</style>\n",
       "<table border=\"1\" class=\"dataframe\">\n",
       "  <thead>\n",
       "    <tr style=\"text-align: right;\">\n",
       "      <th></th>\n",
       "      <th>0</th>\n",
       "      <th>1</th>\n",
       "      <th>2</th>\n",
       "      <th>3</th>\n",
       "      <th>4</th>\n",
       "      <th>5</th>\n",
       "      <th>6</th>\n",
       "      <th>7</th>\n",
       "      <th>8</th>\n",
       "      <th>9</th>\n",
       "      <th>...</th>\n",
       "      <th>3065</th>\n",
       "      <th>3066</th>\n",
       "      <th>3067</th>\n",
       "      <th>3068</th>\n",
       "      <th>3069</th>\n",
       "      <th>3070</th>\n",
       "      <th>3071</th>\n",
       "      <th>cell_type</th>\n",
       "      <th>broad_cell_class</th>\n",
       "      <th>donor_id</th>\n",
       "    </tr>\n",
       "  </thead>\n",
       "  <tbody>\n",
       "    <tr>\n",
       "      <th>0</th>\n",
       "      <td>-0.010301</td>\n",
       "      <td>0.010379</td>\n",
       "      <td>-0.006571</td>\n",
       "      <td>0.011774</td>\n",
       "      <td>0.001506</td>\n",
       "      <td>-0.022709</td>\n",
       "      <td>0.043992</td>\n",
       "      <td>-0.031433</td>\n",
       "      <td>0.032449</td>\n",
       "      <td>0.012574</td>\n",
       "      <td>...</td>\n",
       "      <td>-0.020339</td>\n",
       "      <td>-0.002071</td>\n",
       "      <td>-0.015660</td>\n",
       "      <td>0.022679</td>\n",
       "      <td>-0.007080</td>\n",
       "      <td>-0.008498</td>\n",
       "      <td>-0.016054</td>\n",
       "      <td>naive thymus-derived CD4-positive, alpha-beta ...</td>\n",
       "      <td>t cell</td>\n",
       "      <td>TSP2</td>\n",
       "    </tr>\n",
       "    <tr>\n",
       "      <th>1</th>\n",
       "      <td>-0.007703</td>\n",
       "      <td>0.012120</td>\n",
       "      <td>-0.006499</td>\n",
       "      <td>0.010830</td>\n",
       "      <td>0.002258</td>\n",
       "      <td>-0.021240</td>\n",
       "      <td>0.043359</td>\n",
       "      <td>-0.031724</td>\n",
       "      <td>0.033014</td>\n",
       "      <td>0.011825</td>\n",
       "      <td>...</td>\n",
       "      <td>-0.019112</td>\n",
       "      <td>-0.002565</td>\n",
       "      <td>-0.016159</td>\n",
       "      <td>0.022331</td>\n",
       "      <td>-0.006776</td>\n",
       "      <td>-0.008279</td>\n",
       "      <td>-0.016221</td>\n",
       "      <td>B cell</td>\n",
       "      <td>lymphocyte of b lineage</td>\n",
       "      <td>TSP2</td>\n",
       "    </tr>\n",
       "    <tr>\n",
       "      <th>2</th>\n",
       "      <td>-0.009764</td>\n",
       "      <td>0.011107</td>\n",
       "      <td>-0.006796</td>\n",
       "      <td>0.011853</td>\n",
       "      <td>0.002472</td>\n",
       "      <td>-0.022826</td>\n",
       "      <td>0.044937</td>\n",
       "      <td>-0.031636</td>\n",
       "      <td>0.033724</td>\n",
       "      <td>0.012746</td>\n",
       "      <td>...</td>\n",
       "      <td>-0.019122</td>\n",
       "      <td>-0.002058</td>\n",
       "      <td>-0.015863</td>\n",
       "      <td>0.022792</td>\n",
       "      <td>-0.006396</td>\n",
       "      <td>-0.008864</td>\n",
       "      <td>-0.015534</td>\n",
       "      <td>B cell</td>\n",
       "      <td>lymphocyte of b lineage</td>\n",
       "      <td>TSP2</td>\n",
       "    </tr>\n",
       "    <tr>\n",
       "      <th>3</th>\n",
       "      <td>-0.010928</td>\n",
       "      <td>0.010656</td>\n",
       "      <td>-0.006410</td>\n",
       "      <td>0.011689</td>\n",
       "      <td>0.000929</td>\n",
       "      <td>-0.022579</td>\n",
       "      <td>0.043881</td>\n",
       "      <td>-0.031255</td>\n",
       "      <td>0.032687</td>\n",
       "      <td>0.012962</td>\n",
       "      <td>...</td>\n",
       "      <td>-0.019752</td>\n",
       "      <td>-0.002723</td>\n",
       "      <td>-0.016172</td>\n",
       "      <td>0.022298</td>\n",
       "      <td>-0.006645</td>\n",
       "      <td>-0.007882</td>\n",
       "      <td>-0.016126</td>\n",
       "      <td>B cell</td>\n",
       "      <td>lymphocyte of b lineage</td>\n",
       "      <td>TSP2</td>\n",
       "    </tr>\n",
       "    <tr>\n",
       "      <th>4</th>\n",
       "      <td>-0.009252</td>\n",
       "      <td>0.011698</td>\n",
       "      <td>-0.006524</td>\n",
       "      <td>0.011626</td>\n",
       "      <td>0.003669</td>\n",
       "      <td>-0.020668</td>\n",
       "      <td>0.043553</td>\n",
       "      <td>-0.031777</td>\n",
       "      <td>0.033877</td>\n",
       "      <td>0.012864</td>\n",
       "      <td>...</td>\n",
       "      <td>-0.019712</td>\n",
       "      <td>-0.001962</td>\n",
       "      <td>-0.016481</td>\n",
       "      <td>0.022427</td>\n",
       "      <td>-0.006125</td>\n",
       "      <td>-0.008862</td>\n",
       "      <td>-0.015535</td>\n",
       "      <td>CD8-positive, alpha-beta T cell</td>\n",
       "      <td>t cell</td>\n",
       "      <td>TSP2</td>\n",
       "    </tr>\n",
       "    <tr>\n",
       "      <th>...</th>\n",
       "      <td>...</td>\n",
       "      <td>...</td>\n",
       "      <td>...</td>\n",
       "      <td>...</td>\n",
       "      <td>...</td>\n",
       "      <td>...</td>\n",
       "      <td>...</td>\n",
       "      <td>...</td>\n",
       "      <td>...</td>\n",
       "      <td>...</td>\n",
       "      <td>...</td>\n",
       "      <td>...</td>\n",
       "      <td>...</td>\n",
       "      <td>...</td>\n",
       "      <td>...</td>\n",
       "      <td>...</td>\n",
       "      <td>...</td>\n",
       "      <td>...</td>\n",
       "      <td>...</td>\n",
       "      <td>...</td>\n",
       "      <td>...</td>\n",
       "    </tr>\n",
       "    <tr>\n",
       "      <th>99995</th>\n",
       "      <td>-0.009237</td>\n",
       "      <td>0.013456</td>\n",
       "      <td>-0.006648</td>\n",
       "      <td>0.009150</td>\n",
       "      <td>0.004674</td>\n",
       "      <td>-0.019744</td>\n",
       "      <td>0.043241</td>\n",
       "      <td>-0.033059</td>\n",
       "      <td>0.031570</td>\n",
       "      <td>0.011728</td>\n",
       "      <td>...</td>\n",
       "      <td>-0.018692</td>\n",
       "      <td>-0.001963</td>\n",
       "      <td>-0.014551</td>\n",
       "      <td>0.021886</td>\n",
       "      <td>-0.006339</td>\n",
       "      <td>-0.009638</td>\n",
       "      <td>-0.016352</td>\n",
       "      <td>endothelial cell of artery</td>\n",
       "      <td>endothelial cell</td>\n",
       "      <td>TSP2</td>\n",
       "    </tr>\n",
       "    <tr>\n",
       "      <th>99996</th>\n",
       "      <td>-0.008777</td>\n",
       "      <td>0.013819</td>\n",
       "      <td>-0.006788</td>\n",
       "      <td>0.009630</td>\n",
       "      <td>0.005162</td>\n",
       "      <td>-0.020510</td>\n",
       "      <td>0.044297</td>\n",
       "      <td>-0.033164</td>\n",
       "      <td>0.031814</td>\n",
       "      <td>0.012258</td>\n",
       "      <td>...</td>\n",
       "      <td>-0.018571</td>\n",
       "      <td>-0.001918</td>\n",
       "      <td>-0.014760</td>\n",
       "      <td>0.021836</td>\n",
       "      <td>-0.006212</td>\n",
       "      <td>-0.009589</td>\n",
       "      <td>-0.016487</td>\n",
       "      <td>mesenchymal stem cell</td>\n",
       "      <td>stem cell</td>\n",
       "      <td>TSP2</td>\n",
       "    </tr>\n",
       "    <tr>\n",
       "      <th>99997</th>\n",
       "      <td>-0.009267</td>\n",
       "      <td>0.013222</td>\n",
       "      <td>-0.006757</td>\n",
       "      <td>0.010833</td>\n",
       "      <td>0.004078</td>\n",
       "      <td>-0.020482</td>\n",
       "      <td>0.043491</td>\n",
       "      <td>-0.032658</td>\n",
       "      <td>0.032518</td>\n",
       "      <td>0.012985</td>\n",
       "      <td>...</td>\n",
       "      <td>-0.018798</td>\n",
       "      <td>-0.001241</td>\n",
       "      <td>-0.014876</td>\n",
       "      <td>0.021621</td>\n",
       "      <td>-0.006160</td>\n",
       "      <td>-0.009774</td>\n",
       "      <td>-0.015603</td>\n",
       "      <td>pericyte</td>\n",
       "      <td>contractile cell</td>\n",
       "      <td>TSP2</td>\n",
       "    </tr>\n",
       "    <tr>\n",
       "      <th>99998</th>\n",
       "      <td>-0.008667</td>\n",
       "      <td>0.012707</td>\n",
       "      <td>-0.006887</td>\n",
       "      <td>0.009587</td>\n",
       "      <td>0.003211</td>\n",
       "      <td>-0.020788</td>\n",
       "      <td>0.043482</td>\n",
       "      <td>-0.032648</td>\n",
       "      <td>0.031492</td>\n",
       "      <td>0.012009</td>\n",
       "      <td>...</td>\n",
       "      <td>-0.019357</td>\n",
       "      <td>-0.001707</td>\n",
       "      <td>-0.015128</td>\n",
       "      <td>0.022277</td>\n",
       "      <td>-0.005736</td>\n",
       "      <td>-0.009142</td>\n",
       "      <td>-0.016414</td>\n",
       "      <td>skeletal muscle satellite stem cell</td>\n",
       "      <td>stem cell</td>\n",
       "      <td>TSP2</td>\n",
       "    </tr>\n",
       "    <tr>\n",
       "      <th>99999</th>\n",
       "      <td>-0.009719</td>\n",
       "      <td>0.012875</td>\n",
       "      <td>-0.006815</td>\n",
       "      <td>0.010466</td>\n",
       "      <td>0.002310</td>\n",
       "      <td>-0.021334</td>\n",
       "      <td>0.044131</td>\n",
       "      <td>-0.032438</td>\n",
       "      <td>0.032712</td>\n",
       "      <td>0.013537</td>\n",
       "      <td>...</td>\n",
       "      <td>-0.019294</td>\n",
       "      <td>-0.001564</td>\n",
       "      <td>-0.015154</td>\n",
       "      <td>0.022235</td>\n",
       "      <td>-0.006288</td>\n",
       "      <td>-0.009674</td>\n",
       "      <td>-0.016172</td>\n",
       "      <td>skeletal muscle satellite stem cell</td>\n",
       "      <td>stem cell</td>\n",
       "      <td>TSP2</td>\n",
       "    </tr>\n",
       "  </tbody>\n",
       "</table>\n",
       "<p>100000 rows × 3075 columns</p>\n",
       "</div>"
      ],
      "text/plain": [
       "              0         1         2         3         4         5         6  \\\n",
       "0     -0.010301  0.010379 -0.006571  0.011774  0.001506 -0.022709  0.043992   \n",
       "1     -0.007703  0.012120 -0.006499  0.010830  0.002258 -0.021240  0.043359   \n",
       "2     -0.009764  0.011107 -0.006796  0.011853  0.002472 -0.022826  0.044937   \n",
       "3     -0.010928  0.010656 -0.006410  0.011689  0.000929 -0.022579  0.043881   \n",
       "4     -0.009252  0.011698 -0.006524  0.011626  0.003669 -0.020668  0.043553   \n",
       "...         ...       ...       ...       ...       ...       ...       ...   \n",
       "99995 -0.009237  0.013456 -0.006648  0.009150  0.004674 -0.019744  0.043241   \n",
       "99996 -0.008777  0.013819 -0.006788  0.009630  0.005162 -0.020510  0.044297   \n",
       "99997 -0.009267  0.013222 -0.006757  0.010833  0.004078 -0.020482  0.043491   \n",
       "99998 -0.008667  0.012707 -0.006887  0.009587  0.003211 -0.020788  0.043482   \n",
       "99999 -0.009719  0.012875 -0.006815  0.010466  0.002310 -0.021334  0.044131   \n",
       "\n",
       "              7         8         9  ...      3065      3066      3067  \\\n",
       "0     -0.031433  0.032449  0.012574  ... -0.020339 -0.002071 -0.015660   \n",
       "1     -0.031724  0.033014  0.011825  ... -0.019112 -0.002565 -0.016159   \n",
       "2     -0.031636  0.033724  0.012746  ... -0.019122 -0.002058 -0.015863   \n",
       "3     -0.031255  0.032687  0.012962  ... -0.019752 -0.002723 -0.016172   \n",
       "4     -0.031777  0.033877  0.012864  ... -0.019712 -0.001962 -0.016481   \n",
       "...         ...       ...       ...  ...       ...       ...       ...   \n",
       "99995 -0.033059  0.031570  0.011728  ... -0.018692 -0.001963 -0.014551   \n",
       "99996 -0.033164  0.031814  0.012258  ... -0.018571 -0.001918 -0.014760   \n",
       "99997 -0.032658  0.032518  0.012985  ... -0.018798 -0.001241 -0.014876   \n",
       "99998 -0.032648  0.031492  0.012009  ... -0.019357 -0.001707 -0.015128   \n",
       "99999 -0.032438  0.032712  0.013537  ... -0.019294 -0.001564 -0.015154   \n",
       "\n",
       "           3068      3069      3070      3071  \\\n",
       "0      0.022679 -0.007080 -0.008498 -0.016054   \n",
       "1      0.022331 -0.006776 -0.008279 -0.016221   \n",
       "2      0.022792 -0.006396 -0.008864 -0.015534   \n",
       "3      0.022298 -0.006645 -0.007882 -0.016126   \n",
       "4      0.022427 -0.006125 -0.008862 -0.015535   \n",
       "...         ...       ...       ...       ...   \n",
       "99995  0.021886 -0.006339 -0.009638 -0.016352   \n",
       "99996  0.021836 -0.006212 -0.009589 -0.016487   \n",
       "99997  0.021621 -0.006160 -0.009774 -0.015603   \n",
       "99998  0.022277 -0.005736 -0.009142 -0.016414   \n",
       "99999  0.022235 -0.006288 -0.009674 -0.016172   \n",
       "\n",
       "                                               cell_type  \\\n",
       "0      naive thymus-derived CD4-positive, alpha-beta ...   \n",
       "1                                                 B cell   \n",
       "2                                                 B cell   \n",
       "3                                                 B cell   \n",
       "4                        CD8-positive, alpha-beta T cell   \n",
       "...                                                  ...   \n",
       "99995                         endothelial cell of artery   \n",
       "99996                              mesenchymal stem cell   \n",
       "99997                                           pericyte   \n",
       "99998                skeletal muscle satellite stem cell   \n",
       "99999                skeletal muscle satellite stem cell   \n",
       "\n",
       "              broad_cell_class  donor_id  \n",
       "0                       t cell      TSP2  \n",
       "1      lymphocyte of b lineage      TSP2  \n",
       "2      lymphocyte of b lineage      TSP2  \n",
       "3      lymphocyte of b lineage      TSP2  \n",
       "4                       t cell      TSP2  \n",
       "...                        ...       ...  \n",
       "99995         endothelial cell      TSP2  \n",
       "99996                stem cell      TSP2  \n",
       "99997         contractile cell      TSP2  \n",
       "99998                stem cell      TSP2  \n",
       "99999                stem cell      TSP2  \n",
       "\n",
       "[100000 rows x 3075 columns]"
      ]
     },
     "execution_count": 20,
     "metadata": {},
     "output_type": "execute_result"
    }
   ],
   "source": [
    "embed_genept_pdf = pd.DataFrame(cell_embeddings, index=metadata.index).merge(\n",
    "    metadata, left_index=True, right_index=True\n",
    ")\n",
    "embed_genept_pdf.columns = [str(col) for col in embed_genept_pdf.columns]\n",
    "embed_genept_pdf"
   ]
  },
  {
   "cell_type": "code",
   "execution_count": 21,
   "metadata": {},
   "outputs": [],
   "source": [
    "embed_genept_pdf.to_parquet(data_dir / \"tabula_sapiens_100k_genept_embedding_v2.parquet\")"
   ]
  },
  {
   "cell_type": "code",
   "execution_count": 31,
   "metadata": {},
   "outputs": [
    {
     "data": {
      "text/plain": [
       "['t cell', 'lymphocyte of b lineage', 'lymphocyte of b lineage', 'lymphocyte of b lineage', 't cell', ..., 'endothelial cell', 'stem cell', 'contractile cell', 'stem cell', 'stem cell']\n",
       "Length: 100000\n",
       "Categories (40, object): ['adventitial cell', 'cardiac endothelial cell', 'ciliated epithelial cell', 'conjunctival epithelial cell', ..., 'stromal cell', 't cell', 'transitional epithelial cell', 'vestibular dark cell']"
      ]
     },
     "execution_count": 31,
     "metadata": {},
     "output_type": "execute_result"
    }
   ],
   "source": [
    "cell_type_labels = pd.Categorical(\n",
    "    pd.Series(metadata[\"broad_cell_class\"])[: len(cell_embeddings)]\n",
    ")\n",
    "cell_type_labels"
   ]
  },
  {
   "cell_type": "code",
   "execution_count": 32,
   "metadata": {},
   "outputs": [
    {
     "data": {
      "text/plain": [
       "broad_cell_class\n",
       "t cell                             14053\n",
       "stromal cell                       13013\n",
       "myeloid leukocyte                   8565\n",
       "lymphocyte of b lineage             8499\n",
       "contractile cell                    7916\n",
       "fibroblast                          6995\n",
       "endothelial cell                    6019\n",
       "stem cell                           5937\n",
       "granulocyte                         5797\n",
       "intestinal epithelial cell          5764\n",
       "transitional epithelial cell        5384\n",
       "innate lymphoid cell                2507\n",
       "glandular epithelial cell           1988\n",
       "epithelial cell                     1810\n",
       "cardiac endothelial cell            1088\n",
       "epithelial cell of lung              819\n",
       "endo-epithelial cell                 666\n",
       "duct epithelial cell                 592\n",
       "adventitial cell                     450\n",
       "ciliated epithelial cell             415\n",
       "hematopoietic cell                   375\n",
       "erythroid lineage cell               313\n",
       "secretory cell                       276\n",
       "dendritic cell                       227\n",
       "kidney epithelial cell               152\n",
       "glial cell                            86\n",
       "stratified epithelial cell            72\n",
       "neuron                                46\n",
       "fat cell                              39\n",
       "meso-epithelial cell                  37\n",
       "melanocyte                            29\n",
       "conjunctival epithelial cell          23\n",
       "hepatocyte                            14\n",
       "female germ cell                      12\n",
       "ecto-epithelial cell                  10\n",
       "follicle                               9\n",
       "retinal pigment epithelial cell        3\n",
       "male germ cell                         0\n",
       "connective tissue cell                 0\n",
       "vestibular dark cell                   0\n",
       "Name: count, dtype: int64"
      ]
     },
     "execution_count": 32,
     "metadata": {},
     "output_type": "execute_result"
    }
   ],
   "source": [
    "metadata[\"broad_cell_class\"].value_counts()"
   ]
  },
  {
   "cell_type": "code",
   "execution_count": 33,
   "metadata": {},
   "outputs": [
    {
     "data": {
      "text/plain": [
       "['TSP2', 'TSP2', 'TSP2', 'TSP2', 'TSP2', ..., 'TSP2', 'TSP2', 'TSP2', 'TSP2', 'TSP2']\n",
       "Length: 100000\n",
       "Categories (24, object): ['TSP1', 'TSP2', 'TSP3', 'TSP4', ..., 'TSP26', 'TSP27', 'TSP28', 'TSP30']"
      ]
     },
     "execution_count": 33,
     "metadata": {},
     "output_type": "execute_result"
    }
   ],
   "source": [
    "donor_ids = pd.Categorical(metadata[\"donor_id\"][: len(cell_embeddings)])\n",
    "donor_ids"
   ]
  },
  {
   "cell_type": "code",
   "execution_count": 34,
   "metadata": {},
   "outputs": [],
   "source": [
    "cell_embeddings_pdf = pd.DataFrame(\n",
    "    cell_embeddings, columns=list(range(cell_embeddings.shape[1]))\n",
    ")\n",
    "cell_embeddings_pdf[\"cell_type\"] = cell_type_labels\n",
    "cell_embeddings_pdf[\"donor_id\"] = donor_ids"
   ]
  },
  {
   "cell_type": "code",
   "execution_count": 35,
   "metadata": {},
   "outputs": [
    {
     "data": {
      "text/plain": [
       "(100000, 3074)"
      ]
     },
     "execution_count": 35,
     "metadata": {},
     "output_type": "execute_result"
    }
   ],
   "source": [
    "cell_embeddings_pdf.shape"
   ]
  },
  {
   "cell_type": "code",
   "execution_count": 37,
   "metadata": {},
   "outputs": [
    {
     "name": "stderr",
     "output_type": "stream",
     "text": [
      "/Users/rj/personal/GenePT-tools/venv3.10/lib/python3.10/site-packages/sklearn/utils/deprecation.py:151: FutureWarning:\n",
      "\n",
      "'force_all_finite' was renamed to 'ensure_all_finite' in 1.6 and will be removed in 1.8.\n",
      "\n",
      "/Users/rj/personal/GenePT-tools/venv3.10/lib/python3.10/site-packages/umap/umap_.py:1952: UserWarning:\n",
      "\n",
      "n_jobs value 1 overridden to 1 by setting random_state. Use no seed for parallelism.\n",
      "\n"
     ]
    },
    {
     "data": {
      "application/vnd.plotly.v1+json": {
       "config": {
        "plotlyServerURL": "https://plot.ly"
       },
       "data": [
        {
         "hovertemplate": "cell_type=fibroblast<br>UMAP1=%{x}<br>UMAP2=%{y}<extra></extra>",
         "legendgroup": "fibroblast",
         "marker": {
          "color": "#636efa",
          "opacity": 0.7,
          "symbol": "circle"
         },
         "mode": "markers",
         "name": "fibroblast",
         "showlegend": true,
         "type": "scattergl",
         "x": {
          "bdata": "4ccOQWK6IkF3lTZBKTjHQAfpGkEP1xlB75UaQcL+4EC77hxBK8AWQegFEUHbdSVB0VgMQXsDDkEwhhFB89AkQT6sF0EqwAlBGv0KQegEJ0HwBwtBk3E2QQeLCkHzEk1BIhoeQYPbFUFwJBVBtKwlQXBZTEF1GRJB2ncKQbZDIkG1UQ9BkC8MQZisIUEWkBNBe+Y6QTdfJ0FGbhVBKDEjQQzYLEFf3xRBOpwNQVexGUHlQgtBfbkJQf6aMkG0DjpBrQ8oQa1NI0GgZzNBWcYgQfNJFUFEQA9BCGsPQWxANUErJz5BiUgLQW0jCkGhWxZB3eUsQVthF0GZHiRB5w0UQXrBG0HWSilBTZdKQR81CUGrvy5BtWcwQe7xJUFyQrlA1+wJQenfF0FppgpBZwhNQT24NUH43hFBQnomQc+Y2kBjUBBBSfcqQVNoN0EvLiBB1CcZQRkzDEHSrw1BbZULQY37JkGURExBxSw3QSpPPEGWig1BzaQtQVINDEFBrhNBoI0kQY12IUF+TBhBDIc3QW9iGkFBhx5B/KIcQQGUCUEQQzZBkLcVQSreC0HTeDRB63ELQYpBKkFjODVB2NMJQVPMJEHPYTdB7awKQfIwMkHN2DlBHnAaQaJYI0GP1hhB5R0ZQex0D0GRFxJBQHQkQZ2xF0EwYRVBdI82QfuHG0FlWSZB15IQQc70NUHFYQxBWnsbQV9lG0E=",
          "dtype": "f4"
         },
         "xaxis": "x",
         "y": {
          "bdata": "fAwEQeCw/EDYyuxASZFSQfJ16kDnXwdBDw8EQZaXVEGFyglBnm3sQKG160ClR/5ANFTzQG0i/UDlnf1A1jzsQPEg/0ALAAtBS4oIQQdo+0Dr1v9Ac7rrQMv6/UBy1tdA2cC2QPod6kB3GgZB7Dn7QCEE1kBh1fdAIED4QFMBAEFaagdB0ZLzQEKNIEFwoANB+bjkQOSc9UCqhgRB6ILxQABx9kD6WuhABb/7QJdOBUFixANBWQALQdY050CxBeVALUT5QBxk/0D05+lACYgAQRsNAEEs2EBBeSYHQS3P7EAtgOBAwlr/QFD/CUH2WOpAW4f4QPHUDEHPiv9A5D3oQPor7kA3CuxATy3YQBcM+0DmkfRA4yLvQK2y+0BVq1NBsPsIQecn+kC+rv9AQF3XQP+46kD6C+pAXyX8QHEOV0GmpfxAsNjuQDij6UCL8P9A2SkHQe6VQ0ENK/NApy0AQf117ECybdZAOATtQMM740DzNPBAP+3yQMv0+kBmU+hANZP9QLpKA0HmCwRBEtroQCXN90D4RwNBNLMFQQWsCUH8V+9ATKIFQYCS90A/aO9AE/P4QCIZ+UCsBe1AJbf8QJWG+UCN5utAmqoFQa+g8kApMeVAnJ0AQVMNAEHqmQVBBykAQRRTAUGQ+gZBNJDxQGZvBkHRjjxBrJDoQDF3+0DQs+tAz/rpQOaV6EAtwe9AtyoEQap5AUE=",
          "dtype": "f4"
         },
         "yaxis": "y"
        },
        {
         "hovertemplate": "cell_type=granulocyte<br>UMAP1=%{x}<br>UMAP2=%{y}<extra></extra>",
         "legendgroup": "granulocyte",
         "marker": {
          "color": "#EF553B",
          "opacity": 0.7,
          "symbol": "circle"
         },
         "mode": "markers",
         "name": "granulocyte",
         "showlegend": true,
         "type": "scattergl",
         "x": {
          "bdata": "5FexQI8VsUDRpU5AlnGUQAd4kEA8na5A7B9CQK2xO0DbUJNAD4mjQAtplEBwko5AonaPQGDcjUCjIbFA77xUQcYHRkAJallBqFI4QHkyr0C14pO/7J8zQB4DqUBokJtAp/CQQNYZi0BaPq5AhzyuQEf3sEAPeJVAU1aRQH4GgL/uiK5A42FpQHQuj0D8WItAkAyZQFNRsEDbZI5AF9agQJx68T9pJI1AqwCUQKWAkUBI4GRAT+ldQN+2lEAgJo9Ak8OnQBscnECW7ZFAbsmSQBDzpkBJZ35AAK+JQC4Jq0B6mI9AlOyMQBIulEAQBilAKievQMtUkEARGJJA4bWRQEx7rUB0SytBEbmuQCtMlkBbgXhArz6QQB2ZX0DGfK9AJSCxQLfGUEBgsZhAfqSNQNKtkUCZDo5AjZuOQDyvP0BLALFAj7CSQGturEDwZD0/HpeuQLtQh0D2FzdA302UQDXTkEAeoJBA3DgrPtISj0AX0LBAwVKQQLDZU0CcyZpA12YeQMVwMj8NKY5ApGOuQIqlkkD0sFRBf7iyQCUUkkBZVIhA6vCMQOk7kEBjVqVA",
          "dtype": "f4"
         },
         "xaxis": "x",
         "y": {
          "bdata": "XNTkPiat2T4cNX1APfSRPmLrDT/cKr0+KN4mQNimRECWmv4+RhO+PvMoKD/BCyY+LhiQPi9e0z7zw+Y+MHLfQFJ1MkBuyBVBkotlQMNjuj5GF/xAKIUhQHv3wT6cQEs/K4JgPgEPyD4Gs68+DB2OPgRA6D6sYos+GNpNPg3V/kCmA7Q+IJM6QAOI0T68Qg8/u9m1PgnAxD64MJw+k1HyPhVKNkE2URc+VM6fPtGLwT6k9fg/kHIFQLE/1z5oj8g+wV/QPj+Vnj4bD4s+qhLYPkEG9T5cmjBABqwmP6bEpD6x9WE+6wnfPtXeNj5AAylAs0vXPq/ALT/WBQU/brvEPiI5uD6+3sVAyJXNPlXAoT4NcjlAyZHSPnquSEAU+LY+tQTWPpo+jEAkeaI+KGCTPu6d5T7Puy4+nbDxPkaYI0D189Q+fSIRPwoSpT7p+PlANkWjPqHwcD/4hxtA/Y4pP1Znrz7SOu0+u7wOQZxLmT7+qNk+bFfPPkD1QUBlwuc+4oI9QK0xDkGPMec+UYWdPvrFuT5PcOJAmgLwPj/hqj4y/jk/P9gBPsamzz40zLA+",
          "dtype": "f4"
         },
         "yaxis": "y"
        },
        {
         "hovertemplate": "cell_type=lymphocyte of b lineage<br>UMAP1=%{x}<br>UMAP2=%{y}<extra></extra>",
         "legendgroup": "lymphocyte of b lineage",
         "marker": {
          "color": "#00cc96",
          "opacity": 0.7,
          "symbol": "circle"
         },
         "mode": "markers",
         "name": "lymphocyte of b lineage",
         "showlegend": true,
         "type": "scattergl",
         "x": {
          "bdata": "dV06QBRwPEAMOwjALps+QDIbrb+efUU+4pM9QIvguj60yTw/hWxsPvCObj8XJce/xv87QHUkQD9kxqs+f7W2PlaeVD9fjzO/1t2ovz8BPECfBoZAkAUJwOgB3z/W9s+/9lNAQNB0Rz57ZmpAEr01Pxo9BsD3Kv+/mrHQv4X/cT4GHoNAh27gv86ymr/daT9AE5LwP2yzar9UUWO/jW1eQJ+EBT94BERAa7OFviEmor/2Cjg+WcE+QKuy9T4xYwLAGNc+QOyg4798kLi/+2RdQE+EA8DzTEJAQQEHwEL8AMBaG5c/2wqBQI/C2z6raQXA1A9IP1awyL+8NT5AVXSZPTvdQUB+2ArA0hQBwG3LAMCukADAUUjwPnowCT8d6K+/v60JPq1KnT/lesy/pA7rPzRMCsAOmbK/SmQGwM9PoD8/XAbAVKboP3RJFT8n0/2/xFATPx6sXkBuagrAhgJbPtmvxD1etYu/t+nFv7x4gT5hKcw/OeRCQOJgR0Ajfkg+RLqXPsU1kz8g1/6/PUYNPwlxW0DOvXC/Y+xaQI3juT9D84U+YKCmP06Emj/rk4NAaj1gQDHWBcD9AVtAe7Thv0KONr9PQKk/UXDlP7OOVr/dP0FAiCtcQFdsnz6LZUi/KKyBQFzxaz4uCvO/wjp0QNi+qD6v0Eg/dw4DwCSVXkBWYoRA0s2nvzRyyD+Ae0BAwmqVPPGZIT4mpgrAz9G7v3PgFj6EfQjAYntYvyH9174+dfS+JCFDQANDTD5SV0RAIrxUQP/30z7Sj/Q+dpWDQJenQECwKoS/cw5/vzBQPEB+AgrAazVEQGfhMkG1MwLAxr1VQB6VOj8BQ4FAHqBhv9KgRz7aVAvArdk/vyEYFT+IUAnABJmDQBEHJD8=",
          "dtype": "f4"
         },
         "xaxis": "x",
         "y": {
          "bdata": "ZRNXQXcAVEGZLAdBNXFWQfrjEUFp9hJBalVWQfX/JEH7bSdBTKcVQbc+J0GZ0BBBn+ZWQSrvJ0G2fRxBsN0bQXdNKUHeuBBBGh0QQV8SV0EuvktBhm0GQX/FNEE9Ig9BtO5VQaX6FUHyNEdA4bolQewWBkFwjABB8ZQLQUxSE0G6vkxByIgDQa3nE0FGWlZBa3s2QVmcBEHAzhNBfn1OQWlvH0FXAFVBLakNQQ7DD0HXDBpBnIxWQZWSIEHxg/tAvN1WQcZIDEGD0BBB1oNPQT0/BUEvRlVB5dACQSH7B0HrwS1BjvlMQXlnHkF/lQVBcpolQbEDD0F7/1VBo1gZQT0EVkHAk+FAR8IIQbsxB0H+UvZASdMkQbJTGEE5OBFBDYUVQSb0LEFlDhBBHNI1Qa9G4UDAoRJBroAAQSINL0HBOwdBQIw1QcoQJ0HJCwZBmo8hQRyWTEF2MAZBco0RQXKIFUGhJRZBuAcFQXgLEEFWDTJBixtWQUMEVEFxvBdBYtYcQeauLEGTLwdBFCEaQTqwS0G88w1Bvt9LQTLnLUHe+BZBQpkvQbVPLUGEsExBgCRMQcms/0Dgv0tBiPEMQRcHGUGLzi9B3UQ1QbDZFkHuflVBQMZLQUK5GEGYDhBB1fVMQYpBFEFaAgpBDhxJQMdoIkE3MiVB13QHQcs+TUHpBUxBTiwUQTEFMkGwdVRBovINQQypFEGTxuFA3AERQY9hFkHgLQdB50QYQRhECkHzUhhBuWVVQaz2E0GTDVVByZNQQTzGCUGK3BxBLz9MQR7GVUH8DBZBjvIWQaCBVkFG+gVBBT5VQVAly0BIzwdBhihRQeALIUE2ukxBZ58OQduqDEHQbgZBTD4WQclxHkEN8OJAqnFMQRvrIUE=",
          "dtype": "f4"
         },
         "yaxis": "y"
        },
        {
         "hovertemplate": "cell_type=stromal cell<br>UMAP1=%{x}<br>UMAP2=%{y}<extra></extra>",
         "legendgroup": "stromal cell",
         "marker": {
          "color": "#ab63fa",
          "opacity": 0.7,
          "symbol": "circle"
         },
         "mode": "markers",
         "name": "stromal cell",
         "showlegend": true,
         "type": "scattergl",
         "x": {
          "bdata": "4f0sQSSqK0GPDxhBXL5MQcMBGUH348xAiiwcQXVt0ECyL/9AavkYQQU8HUHiBghBnfwhQXSVGkHJPgxB5LkMQe7YAkGmjhRBGTX4QAytJEGQyBRBcUfwQCw0FkHQcQtBne8RQUhgK0GOjRdBhlj5QOiVzkCErUxB+MsMQZGPIkGmzc1AR5weQV27AEFLufpAKJvjQOnY7kCiKO1AGngeQZEKvEDeJxtB/f/JQHN9DkEmhgZBavwQQfayAUGyEPFAZCMFQaZJGkHNa+xAKhr+QJOtIUHEgyFBb6YTQVETFUFtvRhBkz4XQd81F0GU/RZBdyYOQffEIEEFeulA8aMFQdYdvUByZC1BxKwdQQPYDEH2xCtB3gkaQWxnD0E38ExB9ogDQa+dHUGkk8dAVAAZQUIiC0EarwpB4BzQQDQpCkHSNytBc9D3QOM0zkBvSetAIncLQXR/yUAMcR1Bt2cFQRDa1UCQ8x1BYG7PQNnGEkGK2sdAvoL/QJXmFkFYPRNBeJsLQQNfC0GzogpB3vUEQVjCCkHvqspAJmQJQUm23ECG9QJB+IhMQWWdFkH/6kxBI3sbQZe+JUHPr+9AgkIRQUyhLEFdQAlBTZPFQJkl+0C3mAxBzrIgQeCxLUHLhCpBsBAWQcK/BkHHhRdBvdzMQFC1BEGpHexA6xULQdX+/ECcgwhB5ZodQb6EHEGhp8FAnN0HQfF8E0G/EfhAt3YbQXgkzED9igdBU4K9QA5RC0GpP8RA9HMcQUbXG0GqeQlBCmX7QE4m70AlsitBk+srQT/mxUBXRBNB4UsFQTE6GkH0VypB+K8JQbMS7UDYYhdBx3MGQWY4HEEDBBZBC24ZQWyXDUEH2SFBj20pQbcbG0HZ9eFALEH6QP8kC0HbPgpBFdUTQasmC0F0ph5BRRcXQVlUE0GaHs1AxJYIQcUkHEGK0whB8CnTQC6s8UCJuxxBC1lLQbuNEUGEtBFBJroZQThRGkEK4s5AbXUXQcfwwkBODhBBQCjVQFtaEEHigAFBgFzjQC6M90CsAB5BsTgGQWoT80ASyAdByyL5QAwFHEGV1wtBCzoJQT2o/UCcUQ1BlaX+QF/76UBTdSFBDgUbQSoWDUFfqhtBohwZQRAcHkF6xtxA7KsaQWBSLUFab9JAZXAhQRsL/UDr6ypBA3r7QP1R2EDf3uhAzQcNQYx+CkHaqRlBPKreQF+n7EBODR1B12ILQdaqGEHodQlB8KwLQacV8kCh+PVAdCf4QCS3yUBWSCNBOMETQdVTD0E3zCtBSavMQFmVE0F/lxhBcyvXQI5O+kC6cBlB3FQqQdf5S0GWdxtBZQYbQaaQGkENpAVBPurQQOhm50CL1clA08XHQCwpDEEc3+lAu/j3QEq7HUHMRx1B3FcCQQ==",
          "dtype": "f4"
         },
         "xaxis": "x",
         "y": {
          "bdata": "bOYdQflwHUGxkUNB+dDVQBeLRUEYH1lBu9ZBQXmkWEGfn1VBkT40QTWOBkGJ105Bw9kvQTCTREGG+E1B2epPQR4VU0Hi8T9BObpWQRHSLUGNPzpBRzNSQc8FQ0EUPFBBP1dAQc/hHkEo2T5BYhxWQWQQWkFi8tZAQC1OQTnCLkFLtVtBCpMzQVOeVEEVS1BBGmNXQef0V0Fk+1VBuRo4QSPfV0Hl4wlBB2NcQd/VRkFrhVBBRxdKQXMgVEHA1FNB1PVQQZ6+REHNVVRBr9BSQWr0LUFzNjBBzfg7QTvjP0FJEERBVrA5QedtNkF0g0JB3BZGQac5NEHNeFVBil1MQY/uVkH0xh5BW4wEQa/nREGzjyBBEVdDQZIoSUFnkdZAaMRRQVuZNUEV41pBoo9CQe4DTkGZplBB/cRZQdS/TUHCpx1BCRFXQWmXW0FGulZBc7pQQYv3WEGnTTdB3kpQQdc+WEHXhjtBQ2pbQYVvPkEGdlpB8KZTQbqwQUF/jjxBKxRPQYRETkF7zUtBIFFNQajfT0GTultB1jRLQTtDWEGgOVJBPnfWQHskN0HZTddA5Rk/QUl4KkFHNVdB+SROQXJTH0HSG09BBmdZQbfOVUHMaEFBL+8GQaSUHEF/LyNBOGw+Qe/MUEHF/0NBqGRTQR+HU0HBdVhB5T1KQeQ7VkHQYUtBwPA9QeOXL0FSj1lB9GZNQad0O0HrSVdBvnENQRBCWkFKBFFB8OpXQZx8TEHZWFlB2HA/QRFLQkGY9U1B2D1VQUCsVUEQySBB9wIfQVbBWUH8RTtBAW9NQQYZMkHSbiNBLahNQdwcVEFy3EZB6QxSQes8MkH3DUJBnug+QXmIOkFNjTFBZyAXQVrwP0HzpFhBj+lWQaPzTEF2xEpB67tEQSFOTEGtdzRBm9M+QZtPP0GcFVtBVYtLQW/8QUGp1EpBggxWQREeVEFizj9BQmHVQFlWR0HczzxB+R84QSulDkFUY1lB9F5FQYwUW0GpmUlB5XtXQa9jQkG8W1JBGZFXQa2HV0HJBDBBGe1MQbKKV0EI7k9B7uNVQQtbQkHjXE1Bzo9LQfQBVkE4lU9BPVNVQQiCV0F+CzJBmFE0QSGMUEENZEBBM8JBQVpLB0EllVdBozNDQd5EH0GUTFlBKEgyQWIgV0Em1BxBjnNVQZZaVkGrn1dB/gFPQVhEUEGkCUNBT8tWQVcLVUH5wrdAT4tKQcXWQUHLFVJBp6VIQbE3VkFxo1ZBYWBXQR0LW0Eboi5BivQ9Qd4zP0EdKSBBuR9cQXvJOkGEcURBRwxXQSwUVUH6STxBmLIiQfTE1UACIDJBxkM3QUm5QkGxM01BARZZQRlVV0HCvVtBeCRbQSe4TkHfhldBQWxWQY68PUFucAlBbYVSQQ==",
          "dtype": "f4"
         },
         "yaxis": "y"
        },
        {
         "hovertemplate": "cell_type=transitional epithelial cell<br>UMAP1=%{x}<br>UMAP2=%{y}<extra></extra>",
         "legendgroup": "transitional epithelial cell",
         "marker": {
          "color": "#FFA15A",
          "opacity": 0.7,
          "symbol": "circle"
         },
         "mode": "markers",
         "name": "transitional epithelial cell",
         "showlegend": true,
         "type": "scattergl",
         "x": {
          "bdata": "o1NgQcpdZUHdo2BB8jpiQTrrY0HsBGFBaFhfQW+MYkH2rGNBU1piQbaiX0FC9dlA6C9fQYzxt0CAc2BBdp1eQaTiX0FVaV9BtjFhQUDKYkE4bV9BEFi4QIWCYEEV/l5Bv2NjQZaZYkH+6WBBlvFdQZixY0EI12FBimRlQVeJYkHGkCNBeU1jQewYYUFWVl9BtR5jQQv6Y0HiVWNBA+NfQcSEYEFij19B5RJfQa7rXkF+yV5BCyxhQbVHYkFGAWFBGJ5gQXDEYkHFY2NBcyVgQQ6dX0GQRl5BHA9fQROoW0HbSmBBa9JhQVPgXEFHlWRBBdpfQaBrY0GFkl9B4qtdQVFnYUFYhV9BhotjQcG3XkEiLWRBFupgQWi6Z0GYXltB9mhhQbJnZEEeZWRBwEBkQYQSYUF2sV1B6nhiQRYcYEGyyWFBHrZiQc+mYUFa911BenNdQT6aYEHaPWZBG6ZiQRC/XkGDEmNBQT1iQSDnYUHIGGBBouNgQa4VZEE0gGNBTTBiQXWEYEFv+GBBIWFfQY67YEGTjWBBUvdhQY4CYUGmbV5BsMBiQXdTXkHeZ1xBMsFjQdByZUHH02RBuJFgQe+KZUEk/09BQS1iQQxwXkGCTl1BK7tdQQ==",
          "dtype": "f4"
         },
         "xaxis": "x",
         "y": {
          "bdata": "JDErQaUFDkH2xhdBbIcSQWudF0FIBSlBzsfqQBElFEHnCC9BXRkbQfzWEEG6GFVBLD0NQfseTEFpwSVBLO0XQZ3CFEFhAA1BZMAKQd57GEEPPgtBEIFNQZO8B0Eu/QRB6bIJQfeCEkESSSdB/zcNQaT4F0GjexJBe1MrQQy2EEHdKTVBoM4nQaCRKkF8cOtAk0QLQVjCDkGknxJBynoSQSNr80DuUfpAyacMQbdFGEFC1QdBXEIEQe0rEUEpHAFBFiYDQZtPG0ETTBNBiroFQY9/GEG/PN1AiQsGQXUpBkE3DghBJfAMQQoc30DsQApB8g8NQflnF0EZBeBA3SQPQXD6D0FGUwZBBWMQQfD+FUEc5ApBFIoDQdEnHEH9IBFBkSUTQVnhDUHushhBOaQYQTAUMEFx3BVB/1ULQb3FMEEXSBFBmKMpQcmDEkHGRDJBat3bQFs5/0DD9xVBuCkUQf8F3ED2bhlBWMcRQQcCJkGum+FA0lUSQUWbKkHb9SpBLJQIQcEQI0FXkwJBCKsnQapK/kAbxABBswolQWn/KEE3VhpBuOkPQURB3UCVadtAX1EWQSShGEHBVA9BYo8CQaurFkEu0fZAqJIRQdr3DUEimTJBUarbQA==",
          "dtype": "f4"
         },
         "yaxis": "y"
        },
        {
         "hovertemplate": "cell_type=cardiac endothelial cell<br>UMAP1=%{x}<br>UMAP2=%{y}<extra></extra>",
         "legendgroup": "cardiac endothelial cell",
         "marker": {
          "color": "#19d3f3",
          "opacity": 0.7,
          "symbol": "circle"
         },
         "mode": "markers",
         "name": "cardiac endothelial cell",
         "showlegend": true,
         "type": "scattergl",
         "x": {
          "bdata": "0Uc2QQBrGkGIOh9BCkgcQdmIG0HRsDFBPdkYQcNYLUGzwTJBPnMsQf8bLEGG3zRBM2k0QfrhL0G7PxxBH+MtQWYTL0GHfTJBmSMyQWtbHkHrSiVB",
          "dtype": "f4"
         },
         "xaxis": "x",
         "y": {
          "bdata": "XnfEQC6oy0AeGMhAtNTLQPxqyUCmkMBAzV/MQLrgvkCqmMBAXB/IQHC6v0B10sRAg0bDQKNZx0A4FM1AEX2/QHLTvUC6fL5ASr7BQFQTykCLe8NA",
          "dtype": "f4"
         },
         "yaxis": "y"
        },
        {
         "hovertemplate": "cell_type=intestinal epithelial cell<br>UMAP1=%{x}<br>UMAP2=%{y}<extra></extra>",
         "legendgroup": "intestinal epithelial cell",
         "marker": {
          "color": "#FF6692",
          "opacity": 0.7,
          "symbol": "circle"
         },
         "mode": "markers",
         "name": "intestinal epithelial cell",
         "showlegend": true,
         "type": "scattergl",
         "x": {
          "bdata": "ot1rQa7hfUHleXxBRMtfQfvmV0Few1xBzaZoQeRDZUFMintBSf58QSFtfUGpSFtBHO9fQd6ueEFKd2BBjBt+QcuHfkFLnHBBGBFcQfpGXEEtMX1Bx01hQfMRU0F3z3RBZOcnQU9pd0FG/V9B7b5wQZC8ZUGPu3tBp+J3QfcIXUHAiXlBRDl+QRPNfEGjRWRBjCVdQfzZbEHtbnZBtKF9QW2Jd0Fvh19B9tvAQPlNfkE2RV9B12x8QbWOeUHu++tABWhcQXCSW0FOMGtBGPl4QeIif0Ei2n1B2EJiQaezfEGBbWdBred/QQe0d0EpJX9Bksx3QdPsd0FKaihBX9p6QczWd0HjOX1BWPoHQVi8fUErAnlBisTKQMJGfkFwIHdBi+R8QdoMf0H0XHdBxQp/QT03YEHIE35BCydaQR5IYEEWaXxBMx57QX0qfUFa5mhBvc57QeO8WUEB1VtB5zd3QWkDekEhxn5B2dNnQZAheUEs8FpB/vd9QZrRXkE38HxBs/dhQc2eZ0GM33tBBSx9QS8QdkFPMX1BAzhXQX2JWkGqb3dBvoh3QWvSdkFceWZBmB98QS9XeUHiNtxAOox9QQ==",
          "dtype": "f4"
         },
         "xaxis": "x",
         "y": {
          "bdata": "O5MPQZUxA0GsSAJBkPwnQR2x4EBYrBlB6qwoQQhaKEG+aARBa2EDQRMYDEG47whBhUoqQZcFC0H+gyVB6+YMQY1tCUGjYBBBskwHQTC5JEGqEQ9BvsviQOO/10BfrQBBtIMXQaWOAkH10OFA6+IfQSjoJkEFuRFB57EBQXWaBEECLQ5B52cHQX5UAkFvk+tALd0HQerDJkEZSARB62gEQSIsAkG49BxBMqAwQdHZB0E0fBtBlZADQdj8EEHzt1VB0EALQUXGC0FuvyZBGyYOQadMB0GWEQpBP2rpQEXgDUFFDSxBYz4KQaBZCkFhGglBeWoFQUlGD0EJQilB8E0EQbQ8DkHwMwlB9y5RQejLCUFb4AxBfhYmQVnZCkFIyQVBNXgJQWPtCkHP+AtB2lMLQXAc4UAnzQ1B16UMQVa9LUEU7wlBKNkAQadxDkHgRCtBZ/UBQRHGB0HSZAVBCXMOQTT9EUEW8ApBDIwqQfjgDUFR3AdBnaULQVOxCUHedwZBUE0iQbR3K0HDwAlBfwMNQcWSD0EeVwVBxx0EQYPfCkHnUA9Bu1QBQVLaAkEWlSxB0pgJQeIMBEGMB1NB06gNQQ==",
          "dtype": "f4"
         },
         "yaxis": "y"
        },
        {
         "hovertemplate": "cell_type=t cell<br>UMAP1=%{x}<br>UMAP2=%{y}<extra></extra>",
         "legendgroup": "t cell",
         "marker": {
          "color": "#B6E880",
          "opacity": 0.7,
          "symbol": "circle"
         },
         "mode": "markers",
         "name": "t cell",
         "showlegend": true,
         "type": "scattergl",
         "x": {
          "bdata": "ccJPP7F/oL5Gigg/8m+aP8iy2T4r9bq/0lHMvz0ErL/IDZ0/mKAYPwXs0r8g9gjAvVO7P+kDfj6qLAvAkiDHPVBEUD8qXQ2/mdRXQWRH2j3QsWM/cIvzPhc9E7+Ubpa/CDi7v/G7zz5Q+uw+l7hYv77M5T0QLVy/+WEQPxDVGz44Hc8/Uxwjvjn2kr+EiTY/TTR/vlNLGz5xtYo++EGZP+62u79A07G/vfJqv9VW3z76Cbu/V5pXPjP86j6NHgvAnkdaP2N8Dz8wERo/utOTv9HNVD72pTpA+kBnv9BPAj/a9rm+0y9ZP8xAtT8ShU0/3tuov3AbYr8l5Us/MTs3PwZyWL9pb7+/qKADPkr/Jj+xlpW/vqGrQGByjb92rg4/ZCr3v/gA/r4WRGM/53kzP8HpUL/4nre/M1frv0dwRj8tdwrAlmBzv+oWqr9HrME/o9WFvv3sgb9/FXa/2vybvom8cz7msCQ/faMLP/0Zdz7+WLQ/mlFOP3fYfz/rD8o8Rqh1v16xzj/3sd1A9GjlPkdmQD8Fosm/zjjTv8QB8r8evoK/w1e6v6D+Mr3OdRm/hIbJvyBD/rx5zgQ/MnFTP8h5qr+/6/a/lcuuPsZBzb/cLm6/BDePPB8zib9ikCg/WKUuPtySvj7vTrO/VGLWP24fGD/xomU+FAHDv/7NMD/IVa2/i4FSPuhXwr/G+iY//N7Gv12ANT6u+9pAbn08v/BqAr9nFIs/mQZeP2xTTD9vxIS/eTXrvmzdMD9XxSM/De4DP0w7eb9xOru/wVmXv/t+9T86Joo/7PwFPz4grb/iRMK/gyfFv88MTD8+R+Q/2WRnvxoHhD4jBa6/2IwiP14p0b+rPdtANnyLv6S4Jj+AKpa/kYLrv7xRJD9oaxw/yMa/v2tN0T9svCpAf1qTvzAGWb+JiOO/RXkFP5WgB8Bvf6W/ILqgvze/YD6lx6W/Md+qPiJ0tb9UXEe/xzqTPcz1lz/bEDQ+XzIzP2+wn7/hX+c++cWcvx7FTj8Nsf4/I7jiPwd6WD5j/6I+zOl8vwdTaj+htYa/FRvJPngr1D6k9w8/ofQcP1HpqT5hY8C/fxbKvyaCLb0oHK9AZBkTP7Z+WD9N/IO+lHZlPxSH6j86xD+9o0eCv3vGTT0DkGc+vQzIv+AqtD6LQIy/K2v4Pgn7OD8LPbU+f+fOv2b60L8/k++/4h3Tv7zCAj/zvom/ySzRv2Z+5D5pjHW/xGD3PnC6JT6g5l4/mhBnvy2ImL8lmCBBMZ2nPfpoo7++Ajg/PCdZPxbZ9j5kCGk/MD2cPuxfbz+IWYM/AMUqvpxEvr94EwrAKZv1PVtcmb/xq1K/PGZ8vzHYHD/FMHm/huFVP6FYQz8kaly/FJS2Pmu2QD3Oi7A+2lGMv+TD0D9M/aG+fhelv/Qbsr8tWCA/B0abPqBUUj/e+DE/MuUkQc5zg795R7y+rQIxP4fWt79sfrO/Vpa/PQ==",
          "dtype": "f4"
         },
         "xaxis": "x",
         "y": {
          "bdata": "JF4cQcktHkFHXxNB3C0sQa0RAkESCQdB7usLQScM/EAjhS5BwZ4JQRF9+EAClOFAjTQtQbEi+0CB0d9A6vUMQRh9FEEwLRlBCYbdQKKOFUFIOyhByR8LQVNgG0GDDAZB6qgHQe6MF0Hk2g9BV7UXQQBpEEEj/QVBOBcDQQprHkH5WTJBFlcJQQ20+0C0tBJB4SUdQUXt+kD4MQtBz7onQfJsCkHGQApBir8CQZPHAkHtrwtBg0UOQWVCHkFRhOBAwIwVQT+vBEG/FA9BfOoSQVRKDUHPEFdBzIMDQetEB0EUuP9Aa4IpQQVYK0ETOBNBPzMQQcOBA0E8KxRBhJ0UQWnaAUFNyfxAW6ILQQXwHUGQMwJBuPtSQT7xEUGlxw9BW3MFQdN8GEEIGhZB58YlQVh0BUF1VwNBQD35QCxrFkHEQOBAiPoUQX0YD0FV1C9BxV0aQa3vCEFHDAhB4xkbQR/N/0AVSBhBXosnQZ6x9ECYti1BXmoYQXMYLEF78B5BqQwCQeqsMkF2KkdBfccMQWpwH0FffQpBku78QKaf9kCgjwRBv+77QAHR/ECkqPxA5LX7QPNRAEGSmCNBz2UnQUUmD0HdEPhAAHUAQUsI9UAg7wJB+a4fQT6OEkFF4R1BeEUeQaBSEEEbdgdBW/UyQbqnEEFF6PtAlEwNQf/zCUGorAhB/CENQZT7CkG1fAVBfoQJQd1MBUH1T0ZBIaEYQS1aGUEfOylB5wkWQQuFJEG7lBRBfbUcQRa7FEHliQVBI7UaQW5UBEEpCv5AD3QAQfbfNkHEUiRBmDsWQZE0AUEyVQZBdukMQV/SJkF0HTVBY8IDQXdx+EDFHRJBhnsZQYYJBkHVEkRBKwAGQXJBD0GkAA9Bl/7tQCLQD0HeTQxBzWELQdyRMkFA3ShAbHcHQdl4GEHiRQZBrv0HQYTx3kD24v5ASPwBQSPKAkFOlQ9BcuMeQSpBD0HccRdBc0EDQYg5LUE0Fx1BHSERQSjR+0AuGiNBD1sSQedNJkGRxzdBKfk0QZQ++EB51gxBKuwVQQ6aKUGFoPtA8jMDQVvlDEELThBBc/oIQch4EEGjqAJBpwP9QP4XIkEQdiA/jTMSQTD1FUEqahhB9GIXQe/FNUEr2BxBdrwDQTW1IkHRxvhA7QANQRx1JkGEHQZBiuIVQedyF0FnSxNBvfL4QH20CkErKexAFM3xQAipAkFRkBVBqWsJQfOYFUEMU/9AdmAUQVuLJUErERZBVUUEQZDqEUEdeiJBObcKQYzwCEGqvBFBfDIYQYmaAkGmECNBAoYPQXIkFkFbmRpBRGEfQUedC0Hy6eBAu44kQTvlEEGQ8RVBU3gVQa+cBkEWuwJB9MMjQe7iEEF2awJB1BUKQZnZBkGu8Q9Bqp0EQZqBMkFunBxBh8gNQVPCB0GdRA5BQCUNQT47KUFUaQRBVJy/QGohC0HtyhxBIwkiQWi3CUFCDgJBN1sLQQ==",
          "dtype": "f4"
         },
         "yaxis": "y"
        },
        {
         "hovertemplate": "cell_type=stem cell<br>UMAP1=%{x}<br>UMAP2=%{y}<extra></extra>",
         "legendgroup": "stem cell",
         "marker": {
          "color": "#FF97FF",
          "opacity": 0.7,
          "symbol": "circle"
         },
         "mode": "markers",
         "name": "stem cell",
         "showlegend": true,
         "type": "scattergl",
         "x": {
          "bdata": "UccqQSD8k76chQxBRDUoQWoeJEHAesBAmJELQQ2IDEGOmCtB5MsmQT8IFEHtK7dACE8fQWhxrkCHeolA7EyxQGmaZkGSqSdBf2xjQbDSF0Gq+Q5B0ucSQSFnK0EkfQ5BfrkRQS12K0FW9xVBCDkmQTWTF0HZOjJBP2YkQbmGmL2A2RxBmeUQQTPpKEFOYxJBz5gWQRJ8IEE+yxlBU4piQec8KEGwfV9BiqRmQQoJykAt9CZB4GYrQaKbLEGfxR9B4volQTbrJkGNsrBAVSQaQamjEEEh/ylBlXoMQQ9tFUETfClBPRo7QZZNHEHj+ShBZkcvQU+kKUG+mgtBM2EjQTvBC0GrLCpBLdcOQT6xJ0F70odAfYMrQaF0KUFwzc5AeyaIQBfsKEGbfGhB0N6xQBVKY0Hmig1B5IwtQbKdHkGTHQpB4owwQSY8I0HpUGBBxukMQTZTGEFVArNANQYpQeul9b7dEhlBPAvrQJT4CkFq5bBA0IwoQR6cDEGleQ9B++gSQWgpKUF88htBNO8pQTuHIkFUdyhBO96+QGLYDUGCSR1BJMceQZraJ0H2tF5BdKsjQXHGKEHIdBVB89NdQYuciEAu611B4f9dQar4D0FlHh5BVwULQQ==",
          "dtype": "f4"
         },
         "xaxis": "x",
         "y": {
          "bdata": "XsDzQJPgD0H94ANB/LXuQKSpA0E921lBA+oFQf0j+EARQOpAA1kqQQb36ECnWFVBN9stQb56S0Gf0UtBLvtLQWrrK0GUiO5AqpcfQYNFD0FSiO9AWMXlQOFE6UBByk9BD1LzQMHr6UBxVgZBLFLzQIivAUGxZ+FAKPHzQCEHEkGcyi1Bw0j7QK7w60CHre1AvzIFQcS1LkGYmgZBdr0eQeO560B+qiVBBJgqQdqyV0HdbfFAGpQkQc+F6UAHEANBi6XvQNRK8kAs7UtBeh8FQTeA/UDo/CZBxTH8QJSXH0EEcO1AgB/kQAfBKkH/Ge9Ae0ToQJG0JEF6CABBZ8spQVt69UCO/u5AtE4CQbfe70CD8ktByc7qQP1nKEGUL1lBAptLQdqJKEHlvClBr75NQVFhKEHiwP5A6mPoQEipJUHvwQlBEr/bQGM48EDw8SJBiOAAQZsOA0GyXExBjmYoQcJkEUFUzQRBEmZWQZ2m/0CV90tBWBDwQLR7AUFLYuxA8RHoQHTmJ0FrSgRBB/HpQDx9IUHE0vhAuatYQTq/+UCYpShBAnErQfmhKUG5KSpBPyftQJZwKEEGAAFBu/0yQascS0EgnNtANHIlQfN7AkEe4ChBAHUHQQ==",
          "dtype": "f4"
         },
         "yaxis": "y"
        },
        {
         "hovertemplate": "cell_type=innate lymphoid cell<br>UMAP1=%{x}<br>UMAP2=%{y}<extra></extra>",
         "legendgroup": "innate lymphoid cell",
         "marker": {
          "color": "#FECB52",
          "opacity": 0.7,
          "symbol": "circle"
         },
         "mode": "markers",
         "name": "innate lymphoid cell",
         "showlegend": true,
         "type": "scattergl",
         "x": {
          "bdata": "YANDvnS6Xz4hXp0+FFzbv7tp5r/kQhs/+/+0PnxmHj/ps64+6VvlPi1xbb9yl7O/OAPcPpxgKz910d8/YIZGQDSPAz/2ios+jozxP0Mc+j4iXJc+nQa9O8AsqL8fOtc+T67cv/enRT96NXg+7LkKwBlgfr7R18w9oHiMvRAVsT6TTqA/4NP7Pt2xzb+UGWG/hrJBP0HrQj82dp0/0rnbP38SYD4JM9K/ZmEMvtIMcz+Wa+E+omAFP7FLuD71dco++q4SP1oN7z+fSN0/tFEEPxejPT5vVJo+K3XhvECubz8dDzxA",
          "dtype": "f4"
         },
         "xaxis": "x",
         "y": {
          "bdata": "9XkCQZnZ/UA18P5AVrDvQHoW8kARbgtBKVoHQWCVCUGx3AFBizEBQaMGAkFlrvZAuwsPQRJsBUHUrjRBdsCJQFFaBEHsN/1A+n82QYRfBUErQg5BRJ/4QJsp90BMbBNB/NnvQB4+I0GndgtBU/bfQJN5EUHRUPpAf44HQVGw+kAi8y5BfVYTQctx8UBdFQJBuiUPQWxvEEFzVS5BUSM0QTFo9kDtI/NAbiL9QKMfGEExCBJB19ECQft5AUGkgQFBj5MIQVvjNUEAQjRBscAVQVBuCUEvJAFBTHcAQTzTFEEvxE9A",
          "dtype": "f4"
         },
         "yaxis": "y"
        },
        {
         "hovertemplate": "cell_type=fat cell<br>UMAP1=%{x}<br>UMAP2=%{y}<extra></extra>",
         "legendgroup": "fat cell",
         "marker": {
          "color": "#636efa",
          "opacity": 0.7,
          "symbol": "circle"
         },
         "mode": "markers",
         "name": "fat cell",
         "showlegend": true,
         "type": "scattergl",
         "x": {
          "bdata": "rZVXQQ==",
          "dtype": "f4"
         },
         "xaxis": "x",
         "y": {
          "bdata": "J6gUQQ==",
          "dtype": "f4"
         },
         "yaxis": "y"
        },
        {
         "hovertemplate": "cell_type=hematopoietic cell<br>UMAP1=%{x}<br>UMAP2=%{y}<extra></extra>",
         "legendgroup": "hematopoietic cell",
         "marker": {
          "color": "#EF553B",
          "opacity": 0.7,
          "symbol": "circle"
         },
         "mode": "markers",
         "name": "hematopoietic cell",
         "showlegend": true,
         "type": "scattergl",
         "x": {
          "bdata": "N8GBQCQlxT8ViHxAw7B+QMKKWEGUNShBVlgpv3ClO0A=",
          "dtype": "f4"
         },
         "xaxis": "x",
         "y": {
          "bdata": "kFTSPyt0LkHL5Ok/ipw0QFgN30D3zr1AiiwGQX/8L0A=",
          "dtype": "f4"
         },
         "yaxis": "y"
        },
        {
         "hovertemplate": "cell_type=contractile cell<br>UMAP1=%{x}<br>UMAP2=%{y}<extra></extra>",
         "legendgroup": "contractile cell",
         "marker": {
          "color": "#00cc96",
          "opacity": 0.7,
          "symbol": "circle"
         },
         "mode": "markers",
         "name": "contractile cell",
         "showlegend": true,
         "type": "scattergl",
         "x": {
          "bdata": "SsPLQEUNE0HZVBtB7PwwQRIpCkESjxJBNVPHQIFoJEFz5hJBHCMNQV4xv0CY8hdBIFhMQWbOGkFcAhZBDvsaQaapIUEDnw5BRWIYQR0rEUG05xNBDQfGQEHKy0Bw7x9BHWXKQIfBLkFsWB5B5EwvQTb4FkFRvyFBkU8aQSqbwkDr1idBCY0ZQVIOG0EPVcBAV8kTQUJWJUEcjL5AlN8ZQYzjJkGpzcRALDK7QBpoDUFGgMhAcn2+QBzYyUAdXDdBTqHHQIYrHUGDQbxAzYAnQY/yu0A/H8JA9gfIQNxZFEHmirxAwSnHQDhGukBQmMJAfwZNQaxXvEAM07tAow0JQWADFUH/jhtB3zAuQYRZF0EnvMZAImoZQdqYIkFxLxtBJj4bQXkstkCAjg9BE0W/QDNZxEArj8xA1N4lQbCyGkF0Hw5BvdUXQRFON0ENKL1AGbXKQHPVF0FzMMdAwjA0Qc22F0FCsw1BQaglQfaJNUFXwMFARoG9QHAgHEFRNbtAL2EZQa8sGUHD5jRB8HnFQEsFCUHfVMtAEjEgQab2HEE+0d9A0Q8JQeoqJUH5WxxBuIUcQRh6ykAsKsNAuGHAQPcazECCYSFBubMXQV8IFkHyU75A6lo1QcRfFUGWir5Autm6QBUotkCJthRBPpgbQTdIH0EUURZBxhXpQCacCUFBTBxB5usdQTuqJ0FYNxpByOjFQAqvG0EDERVB2bAYQbBcGkECtrpAR1bHQI/AI0FvfBdBI2olQcTyyUAAyBZBbdgPQRSTGUE9r7hAfEsbQa+mF0EsbxJBb04fQRDlGkHGOhpBAJjHQN60HUE=",
          "dtype": "f4"
         },
         "xaxis": "x",
         "y": {
          "bdata": "JFslQbf25UDDQyZBeYrBQJAM/UCDSj5Bl90pQdaqF0FG0gdBwmI/QanQMEFl/Q1Box4CQaaZH0Gt9Q5Bsz4pQZfOD0F9vPxAPk8PQTltyUAmFwhBJ4wpQTXrJEFjPQhBEA4mQZmz7UCFVxhB1efGQGprH0H3jxVBwf8cQVgRLUF27utAW80nQV4lHkFQ7y1BnlkMQfX+FUFtjDBBIB0YQTvJ7EDm1CpBoXA2QcLPO0GhCCdB2wQwQbGQJ0Gx8dVALfcoQXQ7I0GkEjRBGEgQQayTNEGyei1BuygpQfCNBUEb8zJBEWcpQei2O0EYzixB/a3WQJeBMkFTMjRBcaNLQZ5aCkHG5ydBjwQdQXwKH0HHoilBXMgkQZ7gFEGIkiNBPnskQbqEUEEeCDpBZ9svQfHWK0H3DSVBNv8VQa86G0HkXTpBh7cRQfv71kBPXDJBhigmQRvNCEFa9yhBj1bXQHWVDUEOwjtB5ngWQdS33UD2Vi1BttwxQRhqJEELXDZBkaAbQfCwH0Fjq9pAbd8qQcm/SEHhiSVBR7EXQWNVJ0FxbVVBaIVFQYPDFkGXkBVB8IkZQRcCJkFAWCxBDgEvQXQiJUGWhxdBf6cQQUPlFEHoTzBBRv3cQJVzCUGXry1Bo2Y3QeQcS0Gz4QxBbasrQW1kF0GsdwRBAPJVQc+/Q0GLbiFBBW4YQYYd8EALuyJBzV0qQWmcJEHk9fBAiMgdQVGQJEH4LDhB0p8pQbwA50B/7w9BnbIWQSIPKUHkWBNB4jVBQYkJIUGNFEpBY8YqQRJUG0FKUQlB3uAYQcRRBkFbVgxB6K8nQaX0GEE=",
          "dtype": "f4"
         },
         "yaxis": "y"
        },
        {
         "hovertemplate": "cell_type=glandular epithelial cell<br>UMAP1=%{x}<br>UMAP2=%{y}<extra></extra>",
         "legendgroup": "glandular epithelial cell",
         "marker": {
          "color": "#ab63fa",
          "opacity": 0.7,
          "symbol": "circle"
         },
         "mode": "markers",
         "name": "glandular epithelial cell",
         "showlegend": true,
         "type": "scattergl",
         "x": {
          "bdata": "Ct13QLQhNkF9XnNA8iYWQderikDR0XdAsIxoQWlGd0DGxzlBJwgSQYyTd0CUz1xBrM5sQY2PZkE2v3pAdwyFQHWaaEG672BBJsZ8QKJYW0FTIjBBaZZ3QPN2y0Dam4tACfKMQC3tdUAY1zpBEsWAQHZ8GUGyyltB5BJ5QGEtfUCohX5A5Zt7QA9CukABM4tA9t1eQe7qdUA=",
          "dtype": "f4"
         },
         "xaxis": "x",
         "y": {
          "bdata": "IngJQS4S6EBbtApBdIICQcZyBUGtcAlBM7gVQY7bCUGjuuxAxf86QfObCUHrN95A2bolQb6DDkGLuAhBaZIGQaGgF0HJIBFB81EIQfQh3UB9EB1BeocJQfFSV0FiKwVBBcQFQTz6CUEhyvBArYwHQRVr9kAV6gJByTQJQQcbCEF37wdBM48IQS1HU0FsLgVBwMAsQTbpCUE=",
          "dtype": "f4"
         },
         "yaxis": "y"
        },
        {
         "hovertemplate": "cell_type=endothelial cell<br>UMAP1=%{x}<br>UMAP2=%{y}<extra></extra>",
         "legendgroup": "endothelial cell",
         "marker": {
          "color": "#FFA15A",
          "opacity": 0.7,
          "symbol": "circle"
         },
         "mode": "markers",
         "name": "endothelial cell",
         "showlegend": true,
         "type": "scattergl",
         "x": {
          "bdata": "9fETQVvYHkEwNhpBadQzQa1PH0HdKjlByQcYQY37MEF/XjVB10YwQRGWMkEoljJBB4QmQV/nHEFtYiFBBWsRQetTHkF/dg9BSH8HQbCfL0GwTCVBX1EVQe8VNkHTfBxBH5gfQS0zG0HvaDNB11gaQV/NGkHBVDFBD+seQRyKGEG24CJB0cweQUc2OUHWcRRBMFjKQAVuIkHXcxlBczAXQY+kHEGjPyFBLMEbQTQRxkDEZyRB8IccQeeBIUGNzB9BTDMwQaMQMUHcFR9Bv/AuQUqWNUHa20RBh2gUQfhfHkEWASFB7dsSQZDGzT+ADgFB7hw1Qbz4F0FPLjRBqHMaQYqIHUH5HEFBHtM8QTfbQkFIpSBBbnsZQaGgFEEsbzhBWh8lQY8LF0FsGBxBGIYsQfe0GEGHBkhBC7gvQY69HUGjaxdBUejKQNsuHUEwYxlBLqcvQY0gNEG6URpBxTgnQRiWG0GlMBdBGt0QQWaUFUHxVRFB1oAkQde8G0Hu3BhBy0kYQTsINkFHGypBt8ctQdF7P0EsIDJBrIkmQe6IA0FIOClB6mweQVNwOUHlFCVBWW4uQZKNGUE6WhtB",
          "dtype": "f4"
         },
         "xaxis": "x",
         "y": {
          "bdata": "qifOQGXMt0AAKMtAEhnCQF4BykCw88VA0Zm9QOfdykCvIcNAXmIaQW8gyEC6YMJAZ0PBQE01uEAx0r9AYOzHQAhvuEBJlMlAmTRFQY3oyUBdfcRAUpnPQAptxkCg0LZAqeyyQIknyUAmNM1AqW/OQK8exkC/CMpAYvW4QCCdy0BBBsJAx4+2QLsQyUAayMVAQOVXQfQGw0BAkrtA+KLMQN5lw0AzjcVAKoHNQIjzVkGL3cJALSLMQGOhv0CnJstAuGq/QKXEykBVnctAbkfKQAS8xECEUdNACIzNQNLqtkADbMdAxsjFQNwKK0EJCVNBfQvHQC9axkDfqsZACsW5QE5WxEBrPdJAdGPZQGUQ00BN08JAlGu8QIfwzUCJ3dBAuxHDQJvUw0A787pApvnGQLONvkD59NZAdkW/QH+MuECu1MBAq2BXQQ3LtkCcWMlAdufgQCqZwUAYNcJAEcHFQIYIv0DeU7xApsHKQDpFCEFfNMtAtcG9QN9RukCMC7xAIKnNQMx1xEBrOcNAI3PJQMfr0kA0tclAinsiQd9wRUGaocpA2/TIQKZfykCk3MBA+4TGQFHWu0AMyQVB",
          "dtype": "f4"
         },
         "yaxis": "y"
        },
        {
         "hovertemplate": "cell_type=myeloid leukocyte<br>UMAP1=%{x}<br>UMAP2=%{y}<extra></extra>",
         "legendgroup": "myeloid leukocyte",
         "marker": {
          "color": "#19d3f3",
          "opacity": 0.7,
          "symbol": "circle"
         },
         "mode": "markers",
         "name": "myeloid leukocyte",
         "showlegend": true,
         "type": "scattergl",
         "x": {
          "bdata": "8exQQGvnJkA1u1ZAwSRqQGFCRkCqJWNAbNRJQCoHSUBS90tA9KFMQDD9PEB2gFJAXZNWQBAfd0CfBWVABOBTQC/KRkBYdY1A/3ouQNfDR0AWcBG/2AM+QBx7NUC6mk5AK3hFQD17P0CeqD5AIEtyQE+EOkCFXUpA77BRQM9UVUDldTpALYxYQPq+MkAU+ylBtPpRQIEcUkBYw25Av64vQJ8NLkDuv0BA2L1fQLZEOkC6HjFBiPQ5QLjyJD913S9AMldJQL0QbkAgRUhAPtdIQMeVd0BBei5A1hhtQANbNkAr3UxAZ9CmQPS1a0BVaz1ADuvNPjgEuz87J1tA5mN4QGWackCKJHVACrJlQBJEQ0AcAFlATiIsQIp6DMBHr25AHTw1QPzbKkA5NkFACDVGQENWO0CWZmNAxKUvQIn8UEGDbVxAg3JtQBZMMEA4GW9A8AqNQF/gsEBBhlBAFnQ2QKsZeEDz8GdA3Js7QDzJL0B+v1ZAOFs6QGqLRECMXGJAa+IsQGUxQkBCi5xAbcYtQMNtdkDYSzhA/41GQIyAM0C72AhB3mVCQF8YbkDIra5AIoJ7QPWYIUG/DH5Ava1YQbTDeUDp/kRAKPM2QDU+NkAkMClAl0FYQFdlPEDqj0dAzrBWQX8WakDoQWJAbGZbQMsbbUC7ZkRAG55CQBgwQUBqyVJARiJgQPkZL0DKZDtAfRdRQC/6KECobFRAwTgpQffSnUCYOmNA7qxJQN7rR0BONlZAexwrQHCIaEBqEDhAqX1GQC3nN0C2S01AueMvQN97aEDZpWlANVI8QJ/8LUAVkHBANYEyQPmYU0BwNVxAYd0tQKoSVECuxThAnNtQQFkJREB73yxAmTxYQbtaeUBixmVAV5pdQMBHRkDN+FdB6e+XQLGBMkAMa1pApR5bQFg5WEAJiENASSBGQPKpQUDywkpAmyhWQB9sP0AzjXRARVJYQJAyYEDk1nVAAJBLQNrnPEDxW0NApzUwQFDfSkBFFDBAxU4qQD6GQ0A=",
          "dtype": "f4"
         },
         "xaxis": "x",
         "y": {
          "bdata": "dc1vQOOYNUAKtAVAD/RbQJ8XR0CP5/Q/gKJUQEBJckAqloRAOyMLQIBiUUCdaE5A3ClTQDyyMUBaXU9AdHeQQFmgiECNJ6g+a25/QB9VeEApOwlBOhqIQCe0V0DXgU9A8Wd1QFUtQ0D5lYdACag5QPTMU0CXAY5Ami9AQFkHgEC2SodAJOYSQIT+ekCAu8FAmjSIQHdtBEDBJDdAdG5QQCLnNEDR7xRAqfMOQFUqfkCb3dFArEItQIZgBkGBJCdAUFiEQFZQTECQfYdA8oqBQCDzN0BtXSlAXV1BQJWCgEBOtBNAReD/PgPCREA3M2xACAQGQft0LUFBfnpAT/UyQDcGQ0AJPChAR0EsQO9iRUA5eARAkWEpQBLu30CzMVBA+kodQCN7NUB6XiVAEucPQC+XhkAdwj1ASwhNQEGw7UBq5HlAImc/QG+5SUBneztAe3kuPpkUNT/u8ZBA/5kfQBkrOEBdWj1Alp6AQMvOgECx2k5AIDZzQMsaTkDsoWJAlMI0QLsmQ0BsIk4/qR4nQJISOEDvJXdAWHt6QPotHkAzLAlBk8srQLpEU0DSfCs/q+0uQI+dH0EGmzFAhUbdQBuoL0CGYn1AFw8zQM3rdUDKEjFADvIRQNaOhUBlHotAetkCQVVxU0BMSmJAlAZzQK2DWkAuxYBAgYCEQMl/h0D7kWxAms0GQF0QIkDsAWdARcZzQBYAK0BIgQhAY/zCQOVWBz9Hs1NACYobQH/xQkD+GnlAuW9KQMzgPEC1+nJAmMF2QOIOhUA0/ItARulGQDXkTUAosVlAfL55QI7nQkAw8TxAEaQ2QHPtCEBPOAJAINUhQARvFUDt8ohAwZMFQEvkGUATloFAJzfgQJNxN0AxJFZAGQeAQNSciUDwMeBAhXqMPimhcEAFGAZAhy4DQMa8fUAgQzVAWhsZQC0qgUB3/QxAfloEQHxphkD9E0dAuMkCQK9IakC9WzRAs4eKQMuCQ0A7eydAjacjQLbSS0BHSCZAID09QJ0SGkA=",
          "dtype": "f4"
         },
         "yaxis": "y"
        },
        {
         "hovertemplate": "cell_type=epithelial cell of lung<br>UMAP1=%{x}<br>UMAP2=%{y}<extra></extra>",
         "legendgroup": "epithelial cell of lung",
         "marker": {
          "color": "#FF6692",
          "opacity": 0.7,
          "symbol": "circle"
         },
         "mode": "markers",
         "name": "epithelial cell of lung",
         "showlegend": true,
         "type": "scattergl",
         "x": {
          "bdata": "46ZtQZabbkGeK71Ahph4QbxSVkHD4mpBCEdwQRDzbEE=",
          "dtype": "f4"
         },
         "xaxis": "x",
         "y": {
          "bdata": "77EjQZZkI0EE+EpBtMIUQdj7DkG97CdBF5ghQS2jJUE=",
          "dtype": "f4"
         },
         "yaxis": "y"
        },
        {
         "hovertemplate": "cell_type=adventitial cell<br>UMAP1=%{x}<br>UMAP2=%{y}<extra></extra>",
         "legendgroup": "adventitial cell",
         "marker": {
          "color": "#B6E880",
          "opacity": 0.7,
          "symbol": "circle"
         },
         "mode": "markers",
         "name": "adventitial cell",
         "showlegend": true,
         "type": "scattergl",
         "x": {
          "bdata": "eiITQSFmD0GWhBFBX8gUQaEqEkGF1glBC2MRQQZAEUHDx7lAVSkLQQ==",
          "dtype": "f4"
         },
         "xaxis": "x",
         "y": {
          "bdata": "oSToQLST7EBsK+pA0jcDQYGg6EC/7P1AtPLsQOmz6ED5+VNBiCjyQA==",
          "dtype": "f4"
         },
         "yaxis": "y"
        },
        {
         "hovertemplate": "cell_type=erythroid lineage cell<br>UMAP1=%{x}<br>UMAP2=%{y}<extra></extra>",
         "legendgroup": "erythroid lineage cell",
         "marker": {
          "color": "#FF97FF",
          "opacity": 0.7,
          "symbol": "circle"
         },
         "mode": "markers",
         "name": "erythroid lineage cell",
         "showlegend": true,
         "type": "scattergl",
         "x": {
          "bdata": "wrpjQTgS0ECbv3NA/BHNQFDpiUCPWstAcVRwQKxozkA=",
          "dtype": "f4"
         },
         "xaxis": "x",
         "y": {
          "bdata": "udAoQVQbU0F6dTRAcmFTQStWSkEUelJBujIlQMwsU0E=",
          "dtype": "f4"
         },
         "yaxis": "y"
        },
        {
         "hovertemplate": "cell_type=endo-epithelial cell<br>UMAP1=%{x}<br>UMAP2=%{y}<extra></extra>",
         "legendgroup": "endo-epithelial cell",
         "marker": {
          "color": "#FECB52",
          "opacity": 0.7,
          "symbol": "circle"
         },
         "mode": "markers",
         "name": "endo-epithelial cell",
         "showlegend": true,
         "type": "scattergl",
         "x": {
          "bdata": "ilZsQQhEa0HeHWdBrNYmQV1oWEHAcWhBNgFbQXSfa0GO7LhAulxbQQNgzEA=",
          "dtype": "f4"
         },
         "xaxis": "x",
         "y": {
          "bdata": "X0EnQWq1J0FYPCxB0b8ZQTll30B6VipBRs0LQUHAJ0FmUlFBEODZQIUtJUE=",
          "dtype": "f4"
         },
         "yaxis": "y"
        },
        {
         "hovertemplate": "cell_type=duct epithelial cell<br>UMAP1=%{x}<br>UMAP2=%{y}<extra></extra>",
         "legendgroup": "duct epithelial cell",
         "marker": {
          "color": "#636efa",
          "opacity": 0.7,
          "symbol": "circle"
         },
         "mode": "markers",
         "name": "duct epithelial cell",
         "showlegend": true,
         "type": "scattergl",
         "x": {
          "bdata": "QKWLQKdVEEEmHFtBDhlcQfeUvEAtRVtBHlNdQVpKX0G6A1tB3kFtQQ==",
          "dtype": "f4"
         },
         "xaxis": "x",
         "y": {
          "bdata": "hzkFQRQ8+kDjMghB6TkLQaJbT0GWZhFBHxYZQcskI0FpcQtBEAckQQ==",
          "dtype": "f4"
         },
         "yaxis": "y"
        },
        {
         "hovertemplate": "cell_type=epithelial cell<br>UMAP1=%{x}<br>UMAP2=%{y}<extra></extra>",
         "legendgroup": "epithelial cell",
         "marker": {
          "color": "#EF553B",
          "opacity": 0.7,
          "symbol": "circle"
         },
         "mode": "markers",
         "name": "epithelial cell",
         "showlegend": true,
         "type": "scattergl",
         "x": {
          "bdata": "FvZeQQVxYUEfZLZAYSdgQYqO3kDNG7lAAKFdQZB2s0DMh2BBUE+1QEK6XEGdueZAl1BMQSqfXEFxPWFA3FZdQRU8Z0DnWGBBbUdjQaHiYUE+9QhBcYRfQU2hG0HLU1lASqzeQMb93UC1ymBB9vBhQeu+X0FmOOBAsHm2QGDFr0ByO2JBoQauQP8p30Co9VtB5P+9QG7wLUBAciFBW6RgQZVcYkHvGipB",
          "dtype": "f4"
         },
         "xaxis": "x",
         "y": {
          "bdata": "y9sxQXRiK0Fud05Bj0slQfaIRkFygFFBRw3aQKCxUUF6Ci9BkftTQZ5cM0EH30lB8RjWQM2R2kDCunhAyM7aQD/cZEDA1C9Bmp0uQfj2K0F/H0ZBcv4wQR9IMkEcH31A5tZFQdTrREF9XyZB9+gpQeiOJEHd70VBF21RQWgzU0GG0C1BDU1TQVS5TEHqrw5BbCRLQYu2HECRujBBNNowQcxXLUE6eydB",
          "dtype": "f4"
         },
         "yaxis": "y"
        },
        {
         "hovertemplate": "cell_type=dendritic cell<br>UMAP1=%{x}<br>UMAP2=%{y}<extra></extra>",
         "legendgroup": "dendritic cell",
         "marker": {
          "color": "#00cc96",
          "opacity": 0.7,
          "symbol": "circle"
         },
         "mode": "markers",
         "name": "dendritic cell",
         "showlegend": true,
         "type": "scattergl",
         "x": {
          "bdata": "9MxHQN7HRUCCusQ+/69HQEn7UEAhkXVAMTyRQA==",
          "dtype": "f4"
         },
         "xaxis": "x",
         "y": {
          "bdata": "HYGJQMlAhEAH/RVBCc6EQAN7EkD21j1AAZkyPw==",
          "dtype": "f4"
         },
         "yaxis": "y"
        },
        {
         "hovertemplate": "cell_type=meso-epithelial cell<br>UMAP1=%{x}<br>UMAP2=%{y}<extra></extra>",
         "legendgroup": "meso-epithelial cell",
         "marker": {
          "color": "#ab63fa",
          "opacity": 0.7,
          "symbol": "circle"
         },
         "mode": "markers",
         "name": "meso-epithelial cell",
         "showlegend": true,
         "type": "scattergl",
         "x": {
          "bdata": "GtCCQMLNA0E=",
          "dtype": "f4"
         },
         "xaxis": "x",
         "y": {
          "bdata": "NoJMQX6UQ0E=",
          "dtype": "f4"
         },
         "yaxis": "y"
        },
        {
         "hovertemplate": "cell_type=ciliated epithelial cell<br>UMAP1=%{x}<br>UMAP2=%{y}<extra></extra>",
         "legendgroup": "ciliated epithelial cell",
         "marker": {
          "color": "#FFA15A",
          "opacity": 0.7,
          "symbol": "circle"
         },
         "mode": "markers",
         "name": "ciliated epithelial cell",
         "showlegend": true,
         "type": "scattergl",
         "x": {
          "bdata": "VCtcQY0xXEHd+llBi+hZQU69WEFoYb9Ahl5eQZjyV0GvQVlB",
          "dtype": "f4"
         },
         "xaxis": "x",
         "y": {
          "bdata": "/JLpQDn/FkHzGONAa6PfQDqRFkFdQjFBvjkfQTG6F0HqDeBA",
          "dtype": "f4"
         },
         "yaxis": "y"
        },
        {
         "hovertemplate": "cell_type=secretory cell<br>UMAP1=%{x}<br>UMAP2=%{y}<extra></extra>",
         "legendgroup": "secretory cell",
         "marker": {
          "color": "#19d3f3",
          "opacity": 0.7,
          "symbol": "circle"
         },
         "mode": "markers",
         "name": "secretory cell",
         "showlegend": true,
         "type": "scattergl",
         "x": {
          "bdata": "lohfQa+54UDQVF5BY81bQUJxXEEo21xBskNdQSSYX0GDP15ByBLFQP7CXkE=",
          "dtype": "f4"
         },
         "xaxis": "x",
         "y": {
          "bdata": "7+ffQB+zTUFbE+BA0uIqQSQW3UBiftlAnHDcQK0B4EDmSN1AUctKQaGb3UA=",
          "dtype": "f4"
         },
         "yaxis": "y"
        },
        {
         "hovertemplate": "cell_type=glial cell<br>UMAP1=%{x}<br>UMAP2=%{y}<extra></extra>",
         "legendgroup": "glial cell",
         "marker": {
          "color": "#FF6692",
          "opacity": 0.7,
          "symbol": "circle"
         },
         "mode": "markers",
         "name": "glial cell",
         "showlegend": true,
         "type": "scattergl",
         "x": {
          "bdata": "NRTOQCrZAkE=",
          "dtype": "f4"
         },
         "xaxis": "x",
         "y": {
          "bdata": "bEErQSjLSUE=",
          "dtype": "f4"
         },
         "yaxis": "y"
        },
        {
         "hovertemplate": "cell_type=melanocyte<br>UMAP1=%{x}<br>UMAP2=%{y}<extra></extra>",
         "legendgroup": "melanocyte",
         "marker": {
          "color": "#B6E880",
          "opacity": 0.7,
          "symbol": "circle"
         },
         "mode": "markers",
         "name": "melanocyte",
         "showlegend": true,
         "type": "scattergl",
         "x": {
          "bdata": "N9HEQA==",
          "dtype": "f4"
         },
         "xaxis": "x",
         "y": {
          "bdata": "QCRbQQ==",
          "dtype": "f4"
         },
         "yaxis": "y"
        },
        {
         "hovertemplate": "cell_type=kidney epithelial cell<br>UMAP1=%{x}<br>UMAP2=%{y}<extra></extra>",
         "legendgroup": "kidney epithelial cell",
         "marker": {
          "color": "#FF97FF",
          "opacity": 0.7,
          "symbol": "circle"
         },
         "mode": "markers",
         "name": "kidney epithelial cell",
         "showlegend": true,
         "type": "scattergl",
         "x": {
          "bdata": "rgloQQ==",
          "dtype": "f4"
         },
         "xaxis": "x",
         "y": {
          "bdata": "Cp0sQQ==",
          "dtype": "f4"
         },
         "yaxis": "y"
        }
       ],
       "layout": {
        "legend": {
         "title": {
          "text": "cell_type"
         },
         "tracegroupgap": 0
        },
        "template": {
         "data": {
          "bar": [
           {
            "error_x": {
             "color": "#2a3f5f"
            },
            "error_y": {
             "color": "#2a3f5f"
            },
            "marker": {
             "line": {
              "color": "#E5ECF6",
              "width": 0.5
             },
             "pattern": {
              "fillmode": "overlay",
              "size": 10,
              "solidity": 0.2
             }
            },
            "type": "bar"
           }
          ],
          "barpolar": [
           {
            "marker": {
             "line": {
              "color": "#E5ECF6",
              "width": 0.5
             },
             "pattern": {
              "fillmode": "overlay",
              "size": 10,
              "solidity": 0.2
             }
            },
            "type": "barpolar"
           }
          ],
          "carpet": [
           {
            "aaxis": {
             "endlinecolor": "#2a3f5f",
             "gridcolor": "white",
             "linecolor": "white",
             "minorgridcolor": "white",
             "startlinecolor": "#2a3f5f"
            },
            "baxis": {
             "endlinecolor": "#2a3f5f",
             "gridcolor": "white",
             "linecolor": "white",
             "minorgridcolor": "white",
             "startlinecolor": "#2a3f5f"
            },
            "type": "carpet"
           }
          ],
          "choropleth": [
           {
            "colorbar": {
             "outlinewidth": 0,
             "ticks": ""
            },
            "type": "choropleth"
           }
          ],
          "contour": [
           {
            "colorbar": {
             "outlinewidth": 0,
             "ticks": ""
            },
            "colorscale": [
             [
              0,
              "#0d0887"
             ],
             [
              0.1111111111111111,
              "#46039f"
             ],
             [
              0.2222222222222222,
              "#7201a8"
             ],
             [
              0.3333333333333333,
              "#9c179e"
             ],
             [
              0.4444444444444444,
              "#bd3786"
             ],
             [
              0.5555555555555556,
              "#d8576b"
             ],
             [
              0.6666666666666666,
              "#ed7953"
             ],
             [
              0.7777777777777778,
              "#fb9f3a"
             ],
             [
              0.8888888888888888,
              "#fdca26"
             ],
             [
              1,
              "#f0f921"
             ]
            ],
            "type": "contour"
           }
          ],
          "contourcarpet": [
           {
            "colorbar": {
             "outlinewidth": 0,
             "ticks": ""
            },
            "type": "contourcarpet"
           }
          ],
          "heatmap": [
           {
            "colorbar": {
             "outlinewidth": 0,
             "ticks": ""
            },
            "colorscale": [
             [
              0,
              "#0d0887"
             ],
             [
              0.1111111111111111,
              "#46039f"
             ],
             [
              0.2222222222222222,
              "#7201a8"
             ],
             [
              0.3333333333333333,
              "#9c179e"
             ],
             [
              0.4444444444444444,
              "#bd3786"
             ],
             [
              0.5555555555555556,
              "#d8576b"
             ],
             [
              0.6666666666666666,
              "#ed7953"
             ],
             [
              0.7777777777777778,
              "#fb9f3a"
             ],
             [
              0.8888888888888888,
              "#fdca26"
             ],
             [
              1,
              "#f0f921"
             ]
            ],
            "type": "heatmap"
           }
          ],
          "histogram": [
           {
            "marker": {
             "pattern": {
              "fillmode": "overlay",
              "size": 10,
              "solidity": 0.2
             }
            },
            "type": "histogram"
           }
          ],
          "histogram2d": [
           {
            "colorbar": {
             "outlinewidth": 0,
             "ticks": ""
            },
            "colorscale": [
             [
              0,
              "#0d0887"
             ],
             [
              0.1111111111111111,
              "#46039f"
             ],
             [
              0.2222222222222222,
              "#7201a8"
             ],
             [
              0.3333333333333333,
              "#9c179e"
             ],
             [
              0.4444444444444444,
              "#bd3786"
             ],
             [
              0.5555555555555556,
              "#d8576b"
             ],
             [
              0.6666666666666666,
              "#ed7953"
             ],
             [
              0.7777777777777778,
              "#fb9f3a"
             ],
             [
              0.8888888888888888,
              "#fdca26"
             ],
             [
              1,
              "#f0f921"
             ]
            ],
            "type": "histogram2d"
           }
          ],
          "histogram2dcontour": [
           {
            "colorbar": {
             "outlinewidth": 0,
             "ticks": ""
            },
            "colorscale": [
             [
              0,
              "#0d0887"
             ],
             [
              0.1111111111111111,
              "#46039f"
             ],
             [
              0.2222222222222222,
              "#7201a8"
             ],
             [
              0.3333333333333333,
              "#9c179e"
             ],
             [
              0.4444444444444444,
              "#bd3786"
             ],
             [
              0.5555555555555556,
              "#d8576b"
             ],
             [
              0.6666666666666666,
              "#ed7953"
             ],
             [
              0.7777777777777778,
              "#fb9f3a"
             ],
             [
              0.8888888888888888,
              "#fdca26"
             ],
             [
              1,
              "#f0f921"
             ]
            ],
            "type": "histogram2dcontour"
           }
          ],
          "mesh3d": [
           {
            "colorbar": {
             "outlinewidth": 0,
             "ticks": ""
            },
            "type": "mesh3d"
           }
          ],
          "parcoords": [
           {
            "line": {
             "colorbar": {
              "outlinewidth": 0,
              "ticks": ""
             }
            },
            "type": "parcoords"
           }
          ],
          "pie": [
           {
            "automargin": true,
            "type": "pie"
           }
          ],
          "scatter": [
           {
            "fillpattern": {
             "fillmode": "overlay",
             "size": 10,
             "solidity": 0.2
            },
            "type": "scatter"
           }
          ],
          "scatter3d": [
           {
            "line": {
             "colorbar": {
              "outlinewidth": 0,
              "ticks": ""
             }
            },
            "marker": {
             "colorbar": {
              "outlinewidth": 0,
              "ticks": ""
             }
            },
            "type": "scatter3d"
           }
          ],
          "scattercarpet": [
           {
            "marker": {
             "colorbar": {
              "outlinewidth": 0,
              "ticks": ""
             }
            },
            "type": "scattercarpet"
           }
          ],
          "scattergeo": [
           {
            "marker": {
             "colorbar": {
              "outlinewidth": 0,
              "ticks": ""
             }
            },
            "type": "scattergeo"
           }
          ],
          "scattergl": [
           {
            "marker": {
             "colorbar": {
              "outlinewidth": 0,
              "ticks": ""
             }
            },
            "type": "scattergl"
           }
          ],
          "scattermap": [
           {
            "marker": {
             "colorbar": {
              "outlinewidth": 0,
              "ticks": ""
             }
            },
            "type": "scattermap"
           }
          ],
          "scattermapbox": [
           {
            "marker": {
             "colorbar": {
              "outlinewidth": 0,
              "ticks": ""
             }
            },
            "type": "scattermapbox"
           }
          ],
          "scatterpolar": [
           {
            "marker": {
             "colorbar": {
              "outlinewidth": 0,
              "ticks": ""
             }
            },
            "type": "scatterpolar"
           }
          ],
          "scatterpolargl": [
           {
            "marker": {
             "colorbar": {
              "outlinewidth": 0,
              "ticks": ""
             }
            },
            "type": "scatterpolargl"
           }
          ],
          "scatterternary": [
           {
            "marker": {
             "colorbar": {
              "outlinewidth": 0,
              "ticks": ""
             }
            },
            "type": "scatterternary"
           }
          ],
          "surface": [
           {
            "colorbar": {
             "outlinewidth": 0,
             "ticks": ""
            },
            "colorscale": [
             [
              0,
              "#0d0887"
             ],
             [
              0.1111111111111111,
              "#46039f"
             ],
             [
              0.2222222222222222,
              "#7201a8"
             ],
             [
              0.3333333333333333,
              "#9c179e"
             ],
             [
              0.4444444444444444,
              "#bd3786"
             ],
             [
              0.5555555555555556,
              "#d8576b"
             ],
             [
              0.6666666666666666,
              "#ed7953"
             ],
             [
              0.7777777777777778,
              "#fb9f3a"
             ],
             [
              0.8888888888888888,
              "#fdca26"
             ],
             [
              1,
              "#f0f921"
             ]
            ],
            "type": "surface"
           }
          ],
          "table": [
           {
            "cells": {
             "fill": {
              "color": "#EBF0F8"
             },
             "line": {
              "color": "white"
             }
            },
            "header": {
             "fill": {
              "color": "#C8D4E3"
             },
             "line": {
              "color": "white"
             }
            },
            "type": "table"
           }
          ]
         },
         "layout": {
          "annotationdefaults": {
           "arrowcolor": "#2a3f5f",
           "arrowhead": 0,
           "arrowwidth": 1
          },
          "autotypenumbers": "strict",
          "coloraxis": {
           "colorbar": {
            "outlinewidth": 0,
            "ticks": ""
           }
          },
          "colorscale": {
           "diverging": [
            [
             0,
             "#8e0152"
            ],
            [
             0.1,
             "#c51b7d"
            ],
            [
             0.2,
             "#de77ae"
            ],
            [
             0.3,
             "#f1b6da"
            ],
            [
             0.4,
             "#fde0ef"
            ],
            [
             0.5,
             "#f7f7f7"
            ],
            [
             0.6,
             "#e6f5d0"
            ],
            [
             0.7,
             "#b8e186"
            ],
            [
             0.8,
             "#7fbc41"
            ],
            [
             0.9,
             "#4d9221"
            ],
            [
             1,
             "#276419"
            ]
           ],
           "sequential": [
            [
             0,
             "#0d0887"
            ],
            [
             0.1111111111111111,
             "#46039f"
            ],
            [
             0.2222222222222222,
             "#7201a8"
            ],
            [
             0.3333333333333333,
             "#9c179e"
            ],
            [
             0.4444444444444444,
             "#bd3786"
            ],
            [
             0.5555555555555556,
             "#d8576b"
            ],
            [
             0.6666666666666666,
             "#ed7953"
            ],
            [
             0.7777777777777778,
             "#fb9f3a"
            ],
            [
             0.8888888888888888,
             "#fdca26"
            ],
            [
             1,
             "#f0f921"
            ]
           ],
           "sequentialminus": [
            [
             0,
             "#0d0887"
            ],
            [
             0.1111111111111111,
             "#46039f"
            ],
            [
             0.2222222222222222,
             "#7201a8"
            ],
            [
             0.3333333333333333,
             "#9c179e"
            ],
            [
             0.4444444444444444,
             "#bd3786"
            ],
            [
             0.5555555555555556,
             "#d8576b"
            ],
            [
             0.6666666666666666,
             "#ed7953"
            ],
            [
             0.7777777777777778,
             "#fb9f3a"
            ],
            [
             0.8888888888888888,
             "#fdca26"
            ],
            [
             1,
             "#f0f921"
            ]
           ]
          },
          "colorway": [
           "#636efa",
           "#EF553B",
           "#00cc96",
           "#ab63fa",
           "#FFA15A",
           "#19d3f3",
           "#FF6692",
           "#B6E880",
           "#FF97FF",
           "#FECB52"
          ],
          "font": {
           "color": "#2a3f5f"
          },
          "geo": {
           "bgcolor": "white",
           "lakecolor": "white",
           "landcolor": "#E5ECF6",
           "showlakes": true,
           "showland": true,
           "subunitcolor": "white"
          },
          "hoverlabel": {
           "align": "left"
          },
          "hovermode": "closest",
          "mapbox": {
           "style": "light"
          },
          "paper_bgcolor": "white",
          "plot_bgcolor": "#E5ECF6",
          "polar": {
           "angularaxis": {
            "gridcolor": "white",
            "linecolor": "white",
            "ticks": ""
           },
           "bgcolor": "#E5ECF6",
           "radialaxis": {
            "gridcolor": "white",
            "linecolor": "white",
            "ticks": ""
           }
          },
          "scene": {
           "xaxis": {
            "backgroundcolor": "#E5ECF6",
            "gridcolor": "white",
            "gridwidth": 2,
            "linecolor": "white",
            "showbackground": true,
            "ticks": "",
            "zerolinecolor": "white"
           },
           "yaxis": {
            "backgroundcolor": "#E5ECF6",
            "gridcolor": "white",
            "gridwidth": 2,
            "linecolor": "white",
            "showbackground": true,
            "ticks": "",
            "zerolinecolor": "white"
           },
           "zaxis": {
            "backgroundcolor": "#E5ECF6",
            "gridcolor": "white",
            "gridwidth": 2,
            "linecolor": "white",
            "showbackground": true,
            "ticks": "",
            "zerolinecolor": "white"
           }
          },
          "shapedefaults": {
           "line": {
            "color": "#2a3f5f"
           }
          },
          "ternary": {
           "aaxis": {
            "gridcolor": "white",
            "linecolor": "white",
            "ticks": ""
           },
           "baxis": {
            "gridcolor": "white",
            "linecolor": "white",
            "ticks": ""
           },
           "bgcolor": "#E5ECF6",
           "caxis": {
            "gridcolor": "white",
            "linecolor": "white",
            "ticks": ""
           }
          },
          "title": {
           "x": 0.05
          },
          "xaxis": {
           "automargin": true,
           "gridcolor": "white",
           "linecolor": "white",
           "ticks": "",
           "title": {
            "standoff": 15
           },
           "zerolinecolor": "white",
           "zerolinewidth": 2
          },
          "yaxis": {
           "automargin": true,
           "gridcolor": "white",
           "linecolor": "white",
           "ticks": "",
           "title": {
            "standoff": 15
           },
           "zerolinecolor": "white",
           "zerolinewidth": 2
          }
         }
        },
        "title": {
         "text": "UMAP Visualization of Gene Expression Embeddings",
         "x": 0.5,
         "xanchor": "center",
         "y": 0.95,
         "yanchor": "top"
        },
        "xaxis": {
         "anchor": "y",
         "domain": [
          0,
          1
         ],
         "title": {
          "text": "UMAP1"
         }
        },
        "yaxis": {
         "anchor": "x",
         "domain": [
          0,
          1
         ],
         "title": {
          "text": "UMAP2"
         }
        }
       }
      }
     },
     "metadata": {},
     "output_type": "display_data"
    }
   ],
   "source": [
    "from sklearn.decomposition import PCA\n",
    "import umap\n",
    "import matplotlib.pyplot as plt\n",
    "import plotly.express as px\n",
    "\n",
    "# Convert all column names to strings before applying PCA\n",
    "# features_24_weeks_df.columns = features_24_weeks_df.columns.astype(str)\n",
    "\n",
    "# Now run PCA\n",
    "# pca = PCA(n_components=50)\n",
    "# pca_embeddings = pca.fit_transform(features_24_weeks_df.drop(columns=['drug dose', 'external_id', 'ifn status', \"subject sex\", \"subject age\", \"subject_id\"]))\n",
    "# Then apply UMAP to the PCA results\n",
    "reducer = umap.UMAP(random_state=42)\n",
    "umap_sample_pdf = cell_embeddings_pdf.sample(2000)\n",
    "umap_embeddings = reducer.fit_transform(\n",
    "    umap_sample_pdf.drop(columns=[\"cell_type\", \"donor_id\"])\n",
    ")\n",
    "\n",
    "# Create a DataFrame with the UMAP coordinates using the original DataFrame's index\n",
    "umap_df = pd.DataFrame(\n",
    "    umap_embeddings, columns=[\"UMAP1\", \"UMAP2\"], index=umap_sample_pdf.index\n",
    ")  # Use the original DataFrame's index\n",
    "\n",
    "# Merge with sample attributes to get metadata for coloring\n",
    "umap_df = umap_df.merge(\n",
    "    umap_sample_pdf[[\"cell_type\", \"donor_id\"]], left_index=True, right_index=True\n",
    ")\n",
    "# Create the plot\n",
    "fig = px.scatter(\n",
    "    umap_df,\n",
    "    x=\"UMAP1\",\n",
    "    y=\"UMAP2\",\n",
    "    color=\"cell_type\",\n",
    "    opacity=0.7,\n",
    "    title=\"UMAP Visualization of Gene Expression Embeddings\",\n",
    ")\n",
    "\n",
    "# Update layout\n",
    "fig.update_layout(title={\"y\": 0.95, \"x\": 0.5, \"xanchor\": \"center\", \"yanchor\": \"top\"})\n",
    "\n",
    "fig.show()"
   ]
  }
 ],
 "metadata": {
  "kernelspec": {
   "display_name": "venv",
   "language": "python",
   "name": "python3"
  },
  "language_info": {
   "codemirror_mode": {
    "name": "ipython",
    "version": 3
   },
   "file_extension": ".py",
   "mimetype": "text/x-python",
   "name": "python",
   "nbconvert_exporter": "python",
   "pygments_lexer": "ipython3",
   "version": "3.10.16"
  }
 },
 "nbformat": 4,
 "nbformat_minor": 2
}
