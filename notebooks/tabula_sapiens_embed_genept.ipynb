{
 "cells": [
  {
   "cell_type": "markdown",
   "metadata": {},
   "source": [
    "# GenePT cell classification performance on the Tabula Sapiens data set\n",
    "\n",
    "This notebook downloads (if necessary) the Tabula Sapiens data set (https://cellxgene.cziscience.com/collections/e5f58829-1a66-40b5-a624-9046778e74f5)\n",
    "uses a GenePT-style embedding to embed the cells and then tests classification performance.  This is a benchmark dataset, but we are using it for\n",
    "both training and testing. We are doing this to \"benchmark\" our GenePT embeddings on a large dataset with a high number of cell types.\n"
   ]
  },
  {
   "cell_type": "code",
   "execution_count": 1,
   "metadata": {},
   "outputs": [
    {
     "name": "stdout",
     "output_type": "stream",
     "text": [
      "autoreload enabled\n",
      "repo_dir set to /Users/rj/personal/GenePT-tools\n",
      "File already exists at /Users/rj/personal/GenePT-tools/data/GenePT_emebdding_v2.zip\n",
      "Extracting files...\n",
      "Extracting GenePT_emebdding_v2/\n",
      "Skipping GenePT_emebdding_v2/NCBI_UniProt_summary_of_genes.json - already exists with same size\n",
      "Skipping GenePT_emebdding_v2/GenePT_gene_embedding_ada_text.pickle - already exists with same size\n",
      "Skipping GenePT_emebdding_v2/GenePT_gene_protein_embedding_model_3_text.pickle. - already exists with same size\n",
      "Skipping GenePT_emebdding_v2/NCBI_summary_of_genes.json - already exists with same size\n",
      "Extraction complete!\n",
      "Skipping embedding_original_ada_text.parquet - already exists\n",
      "Skipping embedding_original_large_3.parquet - already exists\n",
      "Skipping embedding_associations_age_cell_type_drugs_pathways_openai_large.parquet - already exists\n",
      "Skipping embedding_associations_age_drugs_pathways_openai_large.parquet - already exists\n",
      "Skipping embedding_associations_cell_type_openai_large.parquet - already exists\n",
      "Setup finished!\n",
      "data_dir set to /Users/rj/personal/GenePT-tools/data\n"
     ]
    }
   ],
   "source": [
    "%run notebook_setup.ipynb"
   ]
  },
  {
   "cell_type": "markdown",
   "metadata": {},
   "source": [
    "## Download the Tabula Sapiens data set\n",
    "\n",
    "We use the name `1m_cells.h5ad` for this dataset, which is not the best name."
   ]
  },
  {
   "cell_type": "code",
   "execution_count": 2,
   "metadata": {},
   "outputs": [],
   "source": [
    "import requests\n",
    "\n",
    "dataset = \"https://datasets.cellxgene.cziscience.com/10df7690-6d10-4029-a47e-0f071bb2df83.h5ad\"\n",
    "# dataset_id = \"10df7690-6d10-4029-a47e-0f071bb2df83\"\n",
    "\n",
    "file_path = data_dir / \"1m_cells.h5ad\"  # adjust this path as needed\n",
    "\n",
    "if not file_path.exists():\n",
    "    response = requests.get(dataset, stream=True)\n",
    "    with open(file_path, \"wb\") as file:\n",
    "        for chunk in response.iter_content(chunk_size=8192):\n",
    "            if chunk:  # filter out keep-alive chunks\n",
    "                file.write(chunk)"
   ]
  },
  {
   "cell_type": "code",
   "execution_count": 3,
   "metadata": {},
   "outputs": [
    {
     "name": "stdout",
     "output_type": "stream",
     "text": [
      "Contents of X group: ['data', 'indices', 'indptr']\n",
      "\n",
      "Contents of obs group: ['10X_run', '_index', '_scvi_batch', '_scvi_labels', 'ambient_removal', 'anatomical_position', 'assay', 'assay_ontology_term_id', 'broad_cell_class', 'cdna_plate', 'cdna_well', 'cell_type', 'cell_type_ontology_term_id', 'compartment', 'development_stage', 'development_stage_ontology_term_id', 'disease', 'disease_ontology_term_id', 'donor_assay', 'donor_id', 'donor_method', 'donor_tissue', 'donor_tissue_assay', 'ethnicity_original', 'free_annotation', 'is_primary_data', 'library_plate', 'manually_annotated', 'method', 'n_genes_by_counts', 'notes', 'observation_joinid', 'organism', 'organism_ontology_term_id', 'pct_counts_ercc', 'pct_counts_mt', 'published_2022', 'replicate', 'sample_id', 'sample_number', 'scvi_leiden_donorassay_full', 'self_reported_ethnicity', 'self_reported_ethnicity_ontology_term_id', 'sex', 'sex_ontology_term_id', 'suspension_type', 'tissue', 'tissue_in_publication', 'tissue_ontology_term_id', 'tissue_type', 'total_counts', 'total_counts_ercc', 'total_counts_mt']\n",
      "Contents of var group: ['ensembl_id', 'ensg', 'ercc', 'feature_biotype', 'feature_is_filtered', 'feature_length', 'feature_name', 'feature_reference', 'feature_type', 'genome', 'mean', 'mean_counts', 'mt', 'n_cells_by_counts', 'pct_dropout_by_counts', 'std', 'total_counts']\n",
      "\n",
      "Shape of X/data: (3537524007,)\n",
      "Shape of X/indices: (3537524007,)\n",
      "Shape of X/indptr: (1136219,)\n"
     ]
    }
   ],
   "source": [
    "import h5py\n",
    "\n",
    "with h5py.File(file_path, \"r\") as f:\n",
    "    # Look at the structure of the X group\n",
    "    print(\"Contents of X group:\", list(f[\"X\"].keys()))\n",
    "\n",
    "    # Look at obs and var to get dimensions\n",
    "    print(\"\\nContents of obs group:\", list(f[\"obs\"].keys()))\n",
    "    print(\"Contents of var group:\", list(f[\"var\"].keys()))\n",
    "\n",
    "    # If X contains a sparse matrix, it likely has 'data', 'indices', and 'indptr'\n",
    "    if \"data\" in f[\"X\"]:\n",
    "        print(\"\\nShape of X/data:\", f[\"X\"][\"data\"].shape)\n",
    "        print(\"Shape of X/indices:\", f[\"X\"][\"indices\"].shape)\n",
    "        print(\"Shape of X/indptr:\", f[\"X\"][\"indptr\"].shape)"
   ]
  },
  {
   "cell_type": "code",
   "execution_count": 4,
   "metadata": {},
   "outputs": [
    {
     "name": "stdout",
     "output_type": "stream",
     "text": [
      "\n",
      "Contents of obs['broad_cell_class'] group: 180\n"
     ]
    }
   ],
   "source": [
    "with h5py.File(file_path, \"r\") as f:\n",
    "    # Look at obs and var to get dimensions\n",
    "    print(\"\\nContents of obs['broad_cell_class'] group:\", len(f[\"obs\"][\"cell_type\"][\"categories\"]))"
   ]
  },
  {
   "cell_type": "markdown",
   "metadata": {},
   "source": [
    "## Load 100K cells \n",
    "\n",
    "We load a large subset of the data to make sure that we have enough cells in the smaller classes to train on.  We can use the whole dataset\n",
    "to select cells of each type from."
   ]
  },
  {
   "cell_type": "code",
   "execution_count": 5,
   "metadata": {},
   "outputs": [
    {
     "name": "stdout",
     "output_type": "stream",
     "text": [
      "AnnData shape: (100000, 61759)\n",
      "Feature metadata columns: Index(['ensembl_id', 'ensg', 'ercc', 'feature_biotype', 'feature_is_filtered',\n",
      "       'feature_length', 'feature_name', 'feature_reference', 'feature_type',\n",
      "       'genome', 'mean', 'mean_counts', 'mt', 'n_cells_by_counts',\n",
      "       'pct_dropout_by_counts', 'std', 'total_counts'],\n",
      "      dtype='object')\n",
      "Selected Observation metadata columns: Index(['cell_type', 'broad_cell_class', 'donor_id'], dtype='object')\n",
      "Matrix density: 0.045159779789180524\n"
     ]
    },
    {
     "name": "stderr",
     "output_type": "stream",
     "text": [
      "/Users/rj/personal/GenePT-tools/venv3.10/lib/python3.10/site-packages/anndata/_core/aligned_df.py:68: ImplicitModificationWarning: Transforming to str index.\n",
      "  warnings.warn(\"Transforming to str index.\", ImplicitModificationWarning)\n"
     ]
    }
   ],
   "source": [
    "import h5py\n",
    "import anndata as ad\n",
    "from scipy import sparse\n",
    "import pandas as pd\n",
    "from src.utils import load_subset_anndata\n",
    "\n",
    "# Load with specific obs metadata columns\n",
    "adata_filtered = load_subset_anndata(\n",
    "    file_path,\n",
    "    start_row=0,\n",
    "    n_rows=100000,\n",
    "    obs_columns=[\"cell_type\", \"broad_cell_class\", \"donor_id\"],\n",
    ")\n",
    "\n",
    "print(\"AnnData shape:\", adata_filtered.shape)\n",
    "print(\"Feature metadata columns:\", adata_filtered.var.columns)  # Print all var metadata\n",
    "print(\n",
    "    \"Selected Observation metadata columns:\", adata_filtered.obs.columns\n",
    ")  # Print selected obs metadata\n",
    "print(\n",
    "    \"Matrix density:\",\n",
    "    adata_filtered.X.nnz / (adata_filtered.shape[0] * adata_filtered.shape[1]),\n",
    ")"
   ]
  },
  {
   "cell_type": "markdown",
   "metadata": {},
   "source": [
    "### Count the number of genes and cells in the dataset\n",
    "\n",
    "* `f['var']['feature_name']` contains the gene names\n",
    "* `f['obs']` contains metadata about the cells\n",
    "* `f['X']['indptr']` contains the indices of the cells in the sparse matrix\n",
    "* `f['X']['indices']` contains the indices of the genes in the sparse matrix rows\n",
    "* `f['X']['data']` contains the data for the matrix"
   ]
  },
  {
   "cell_type": "code",
   "execution_count": 6,
   "metadata": {},
   "outputs": [
    {
     "name": "stdout",
     "output_type": "stream",
     "text": [
      "<HDF5 dataset \"categories\": shape (61759,), type \"|O\">\n"
     ]
    }
   ],
   "source": [
    "with h5py.File(file_path, \"r\") as f:\n",
    "    print(f[\"var\"][\"feature_name\"][\"categories\"])\n",
    "    # print(f['X']['indices'][:10])"
   ]
  },
  {
   "cell_type": "code",
   "execution_count": 7,
   "metadata": {},
   "outputs": [],
   "source": [
    "gene_names = adata_filtered.var.feature_name\n",
    "ensembl_ids = adata_filtered.var.ensembl_id\n",
    "major_ensembl_ids = pd.Series(ensembl_id.split(\".\")[0] for ensembl_id in ensembl_ids)"
   ]
  },
  {
   "cell_type": "markdown",
   "metadata": {},
   "source": [
    "## Load the GenePT embedding data\n",
    "These embeddings were loaded from huggingface in the setup above."
   ]
  },
  {
   "cell_type": "code",
   "execution_count": 8,
   "metadata": {},
   "outputs": [
    {
     "name": "stderr",
     "output_type": "stream",
     "text": [
      "/Users/rj/personal/GenePT-tools/venv3.10/lib/python3.10/site-packages/tqdm/auto.py:21: TqdmWarning: IProgress not found. Please update jupyter and ipywidgets. See https://ipywidgets.readthedocs.io/en/stable/user_install.html\n",
      "  from .autonotebook import tqdm as notebook_tqdm\n",
      "Using the latest cached version of the dataset since honicky/genept-composable-embeddings-source-data couldn't be found on the Hugging Face Hub\n",
      "Found the latest cached dataset configuration 'gene_info' at /Users/rj/.cache/huggingface/datasets/honicky___genept-composable-embeddings-source-data/gene_info/0.0.0/5a0eee4f5ea012c2de528b150376dc0d4b3c9e45 (last modified on Tue Jan 14 05:59:50 2025).\n"
     ]
    },
    {
     "data": {
      "text/html": [
       "<div>\n",
       "<style scoped>\n",
       "    .dataframe tbody tr th:only-of-type {\n",
       "        vertical-align: middle;\n",
       "    }\n",
       "\n",
       "    .dataframe tbody tr th {\n",
       "        vertical-align: top;\n",
       "    }\n",
       "\n",
       "    .dataframe thead th {\n",
       "        text-align: right;\n",
       "    }\n",
       "</style>\n",
       "<table border=\"1\" class=\"dataframe\">\n",
       "  <thead>\n",
       "    <tr style=\"text-align: right;\">\n",
       "      <th></th>\n",
       "      <th>gene_name</th>\n",
       "      <th>ensembl_id</th>\n",
       "      <th>gene_type</th>\n",
       "    </tr>\n",
       "  </thead>\n",
       "  <tbody>\n",
       "    <tr>\n",
       "      <th>0</th>\n",
       "      <td>TSPAN6</td>\n",
       "      <td>ENSG00000000003</td>\n",
       "      <td>protein_coding</td>\n",
       "    </tr>\n",
       "    <tr>\n",
       "      <th>1</th>\n",
       "      <td>TNMD</td>\n",
       "      <td>ENSG00000000005</td>\n",
       "      <td>protein_coding</td>\n",
       "    </tr>\n",
       "    <tr>\n",
       "      <th>2</th>\n",
       "      <td>DPM1</td>\n",
       "      <td>ENSG00000000419</td>\n",
       "      <td>protein_coding</td>\n",
       "    </tr>\n",
       "    <tr>\n",
       "      <th>3</th>\n",
       "      <td>SCYL3</td>\n",
       "      <td>ENSG00000000457</td>\n",
       "      <td>protein_coding</td>\n",
       "    </tr>\n",
       "    <tr>\n",
       "      <th>4</th>\n",
       "      <td>C1orf112</td>\n",
       "      <td>ENSG00000000460</td>\n",
       "      <td>protein_coding</td>\n",
       "    </tr>\n",
       "  </tbody>\n",
       "</table>\n",
       "</div>"
      ],
      "text/plain": [
       "  gene_name       ensembl_id       gene_type\n",
       "0    TSPAN6  ENSG00000000003  protein_coding\n",
       "1      TNMD  ENSG00000000005  protein_coding\n",
       "2      DPM1  ENSG00000000419  protein_coding\n",
       "3     SCYL3  ENSG00000000457  protein_coding\n",
       "4  C1orf112  ENSG00000000460  protein_coding"
      ]
     },
     "execution_count": 8,
     "metadata": {},
     "output_type": "execute_result"
    }
   ],
   "source": [
    "from datasets import load_dataset\n",
    "\n",
    "gene_info_table_dataset = load_dataset(\n",
    "    \"honicky/genept-composable-embeddings-source-data\", \"gene_info\"\n",
    ")\n",
    "gene_info_table = gene_info_table_dataset[\"train\"].to_pandas()\n",
    "gene_info_table.head()"
   ]
  },
  {
   "cell_type": "code",
   "execution_count": 9,
   "metadata": {},
   "outputs": [],
   "source": [
    "huggingface_model_dir = data_dir / \"huggingface_model\"\n",
    "gene_embedding = pd.read_parquet(\n",
    "    huggingface_model_dir\n",
    "    / \"embedding_associations_cell_type_tissue_drug_pathway_openai_large.parquet\"\n",
    ")"
   ]
  },
  {
   "cell_type": "markdown",
   "metadata": {},
   "source": [
    "# Embed using the mean for duplicate Ensembl IDs\n",
    "\n",
    "Some of the embeddings have duplicate Ensembl IDs (but separate gene names). Take the mean of the duplicates as a rough heuristic."
   ]
  },
  {
   "cell_type": "code",
   "execution_count": 10,
   "metadata": {},
   "outputs": [],
   "source": [
    "gene_embeddings_with_ensembl_id = gene_embedding.merge(\n",
    "    gene_info_table, left_index=True, right_on=\"gene_name\"\n",
    ")"
   ]
  },
  {
   "cell_type": "code",
   "execution_count": 11,
   "metadata": {},
   "outputs": [
    {
     "data": {
      "text/html": [
       "<div>\n",
       "<style scoped>\n",
       "    .dataframe tbody tr th:only-of-type {\n",
       "        vertical-align: middle;\n",
       "    }\n",
       "\n",
       "    .dataframe tbody tr th {\n",
       "        vertical-align: top;\n",
       "    }\n",
       "\n",
       "    .dataframe thead th {\n",
       "        text-align: right;\n",
       "    }\n",
       "</style>\n",
       "<table border=\"1\" class=\"dataframe\">\n",
       "  <thead>\n",
       "    <tr style=\"text-align: right;\">\n",
       "      <th></th>\n",
       "      <th>0</th>\n",
       "      <th>1</th>\n",
       "      <th>2</th>\n",
       "      <th>3</th>\n",
       "      <th>4</th>\n",
       "      <th>5</th>\n",
       "      <th>6</th>\n",
       "      <th>7</th>\n",
       "      <th>8</th>\n",
       "      <th>9</th>\n",
       "      <th>...</th>\n",
       "      <th>3065</th>\n",
       "      <th>3066</th>\n",
       "      <th>3067</th>\n",
       "      <th>3068</th>\n",
       "      <th>3069</th>\n",
       "      <th>3070</th>\n",
       "      <th>3071</th>\n",
       "      <th>gene_name</th>\n",
       "      <th>ensembl_id</th>\n",
       "      <th>gene_type</th>\n",
       "    </tr>\n",
       "  </thead>\n",
       "  <tbody>\n",
       "    <tr>\n",
       "      <th>83316</th>\n",
       "      <td>-0.008708</td>\n",
       "      <td>0.019564</td>\n",
       "      <td>-0.004104</td>\n",
       "      <td>0.007363</td>\n",
       "      <td>0.001401</td>\n",
       "      <td>-0.015853</td>\n",
       "      <td>0.031096</td>\n",
       "      <td>-0.013775</td>\n",
       "      <td>0.029875</td>\n",
       "      <td>0.012154</td>\n",
       "      <td>...</td>\n",
       "      <td>-0.027197</td>\n",
       "      <td>-0.001720</td>\n",
       "      <td>-0.017885</td>\n",
       "      <td>0.026281</td>\n",
       "      <td>-0.014139</td>\n",
       "      <td>-0.013329</td>\n",
       "      <td>-0.027221</td>\n",
       "      <td>LINC01118</td>\n",
       "      <td>ENSG00000222005</td>\n",
       "      <td>None</td>\n",
       "    </tr>\n",
       "    <tr>\n",
       "      <th>83105</th>\n",
       "      <td>-0.018096</td>\n",
       "      <td>0.014083</td>\n",
       "      <td>-0.011138</td>\n",
       "      <td>-0.001666</td>\n",
       "      <td>0.012291</td>\n",
       "      <td>-0.000067</td>\n",
       "      <td>0.038749</td>\n",
       "      <td>-0.007913</td>\n",
       "      <td>0.007358</td>\n",
       "      <td>0.008200</td>\n",
       "      <td>...</td>\n",
       "      <td>-0.016436</td>\n",
       "      <td>-0.012757</td>\n",
       "      <td>-0.025251</td>\n",
       "      <td>0.022767</td>\n",
       "      <td>-0.019888</td>\n",
       "      <td>-0.012172</td>\n",
       "      <td>-0.025777</td>\n",
       "      <td>LINC01119</td>\n",
       "      <td>ENSG00000222005</td>\n",
       "      <td>None</td>\n",
       "    </tr>\n",
       "  </tbody>\n",
       "</table>\n",
       "<p>2 rows × 3075 columns</p>\n",
       "</div>"
      ],
      "text/plain": [
       "              0         1         2         3         4         5         6  \\\n",
       "83316 -0.008708  0.019564 -0.004104  0.007363  0.001401 -0.015853  0.031096   \n",
       "83105 -0.018096  0.014083 -0.011138 -0.001666  0.012291 -0.000067  0.038749   \n",
       "\n",
       "              7         8         9  ...      3065      3066      3067  \\\n",
       "83316 -0.013775  0.029875  0.012154  ... -0.027197 -0.001720 -0.017885   \n",
       "83105 -0.007913  0.007358  0.008200  ... -0.016436 -0.012757 -0.025251   \n",
       "\n",
       "           3068      3069      3070      3071  gene_name       ensembl_id  \\\n",
       "83316  0.026281 -0.014139 -0.013329 -0.027221  LINC01118  ENSG00000222005   \n",
       "83105  0.022767 -0.019888 -0.012172 -0.025777  LINC01119  ENSG00000222005   \n",
       "\n",
       "       gene_type  \n",
       "83316       None  \n",
       "83105       None  \n",
       "\n",
       "[2 rows x 3075 columns]"
      ]
     },
     "execution_count": 11,
     "metadata": {},
     "output_type": "execute_result"
    }
   ],
   "source": [
    "gene_embeddings_with_ensembl_id[\n",
    "    gene_embeddings_with_ensembl_id.ensembl_id == \"ENSG00000222005\"\n",
    "]"
   ]
  },
  {
   "cell_type": "code",
   "execution_count": 12,
   "metadata": {},
   "outputs": [
    {
     "data": {
      "text/plain": [
       "ensembl_id\n",
       "ENSG00000000003    2\n",
       "ENSG00000243485    2\n",
       "ENSG00000222005    2\n",
       "ENSG00000264405    2\n",
       "ENSG00000204792    2\n",
       "ENSG00000201388    2\n",
       "ENSG00000222345    2\n",
       "ENSG00000276234    2\n",
       "ENSG00000187838    2\n",
       "ENSG00000202377    2\n",
       "ENSG00000226364    2\n",
       "ENSG00000269433    2\n",
       "ENSG00000183598    2\n",
       "ENSG00000267151    2\n",
       "ENSG00000236790    2\n",
       "ENSG00000264073    2\n",
       "ENSG00000265134    2\n",
       "ENSG00000238936    2\n",
       "ENSG00000270722    2\n",
       "ENSG00000226444    2\n",
       "ENSG00000269099    2\n",
       "ENSG00000204397    2\n",
       "ENSG00000249532    2\n",
       "ENSG00000206603    2\n",
       "ENSG00000284917    2\n",
       "ENSG00000268942    2\n",
       "ENSG00000206903    2\n",
       "ENSG00000063587    2\n",
       "ENSG00000274020    2\n",
       "ENSG00000255154    2\n",
       "ENSG00000090857    2\n",
       "ENSG00000254508    2\n",
       "ENSG00000206897    2\n",
       "ENSG00000251866    2\n",
       "ENSG00000226419    2\n",
       "ENSG00000264448    2\n",
       "ENSG00000206785    2\n",
       "ENSG00000197927    2\n",
       "ENSG00000245080    2\n",
       "ENSG00000269586    2\n",
       "ENSG00000227518    2\n",
       "ENSG00000145491    2\n",
       "ENSG00000221164    2\n",
       "ENSG00000250331    2\n",
       "ENSG00000223770    2\n",
       "ENSG00000269955    2\n",
       "ENSG00000207187    2\n",
       "ENSG00000270011    2\n",
       "ENSG00000212295    2\n",
       "ENSG00000260458    2\n",
       "ENSG00000198064    2\n",
       "ENSG00000236975    2\n",
       "ENSG00000266780    2\n",
       "ENSG00000196696    2\n",
       "ENSG00000208308    2\n",
       "ENSG00000212309    2\n",
       "ENSG00000271907    2\n",
       "ENSG00000265014    2\n",
       "ENSG00000088298    2\n",
       "ENSG00000212264    2\n",
       "ENSG00000212214    2\n",
       "ENSG00000121933    2\n",
       "ENSG00000284505    2\n",
       "ENSG00000264105    2\n",
       "ENSG00000178734    2\n",
       "ENSG00000211563    2\n",
       "ENSG00000253828    2\n",
       "ENSG00000274290    2\n",
       "ENSG00000264346    2\n",
       "ENSG00000252830    2\n",
       "ENSG00000202189    2\n",
       "ENSG00000265075    2\n",
       "ENSG00000266038    2\n",
       "ENSG00000231646    2\n",
       "ENSG00000231767    2\n",
       "ENSG00000251209    2\n",
       "ENSG00000283569    2\n",
       "ENSG00000263572    2\n",
       "ENSG00000221750    2\n",
       "ENSG00000076554    2\n",
       "ENSG00000206947    2\n",
       "ENSG00000207516    2\n",
       "ENSG00000264717    2\n",
       "ENSG00000259324    2\n",
       "ENSG00000268471    2\n",
       "ENSG00000225327    2\n",
       "ENSG00000275379    2\n",
       "ENSG00000254119    2\n",
       "ENSG00000252284    2\n",
       "ENSG00000120341    2\n",
       "ENSG00000286061    2\n",
       "ENSG00000276903    2\n",
       "ENSG00000253051    2\n",
       "ENSG00000109927    2\n",
       "ENSG00000267532    2\n",
       "ENSG00000273331    2\n",
       "ENSG00000276966    2\n",
       "ENSG00000201142    2\n",
       "ENSG00000266354    2\n",
       "ENSG00000212587    2\n",
       "ENSG00000182974    2\n",
       "ENSG00000252699    2\n",
       "ENSG00000188660    2\n",
       "ENSG00000000005    2\n",
       "ENSG00000118804    2\n",
       "ENSG00000283340    2\n",
       "ENSG00000187600    2\n",
       "ENSG00000277075    2\n",
       "ENSG00000288859    2\n",
       "ENSG00000266206    2\n",
       "ENSG00000257114    2\n",
       "ENSG00000085231    2\n",
       "ENSG00000199405    2\n",
       "ENSG00000255267    2\n",
       "ENSG00000216195    2\n",
       "ENSG00000207344    2\n",
       "ENSG00000252135    2\n",
       "ENSG00000132670    2\n",
       "ENSG00000207778    2\n",
       "ENSG00000241098    2\n",
       "ENSG00000222489    2\n",
       "ENSG00000207062    2\n",
       "ENSG00000128534    2\n",
       "ENSG00000263468    2\n",
       "Name: count, dtype: int64"
      ]
     },
     "execution_count": 12,
     "metadata": {},
     "output_type": "execute_result"
    }
   ],
   "source": [
    "import numpy as np\n",
    "\n",
    "matching_ensembl_ids = pd.DataFrame(major_ensembl_ids, columns=[\"ensembl_id\"]).merge(\n",
    "    gene_embeddings_with_ensembl_id, left_on=\"ensembl_id\", right_on=\"ensembl_id\"\n",
    ")[[\"gene_name\", \"ensembl_id\"]]\n",
    "ensembl_id_counts = matching_ensembl_ids.ensembl_id.value_counts()\n",
    "ensembl_id_counts[ensembl_id_counts > 1]"
   ]
  },
  {
   "cell_type": "code",
   "execution_count": 13,
   "metadata": {},
   "outputs": [
    {
     "name": "stdout",
     "output_type": "stream",
     "text": [
      "Original shape: (37220, 3075)\n",
      "After merging duplicates: (36573, 3073)\n",
      "\n",
      "Number of remaining duplicates: 0\n"
     ]
    }
   ],
   "source": [
    "import numpy as np\n",
    "\n",
    "# Get embeddings without metadata columns\n",
    "embedding_cols = [\n",
    "    col\n",
    "    for col in gene_embeddings_with_ensembl_id.columns\n",
    "    if col not in [\"gene_name\", \"ensembl_id\", \"gene_type\"]\n",
    "]\n",
    "\n",
    "# Group by ensembl_id and take mean of embeddings\n",
    "merged_embeddings = (\n",
    "    gene_embeddings_with_ensembl_id.groupby(\"ensembl_id\")[embedding_cols]\n",
    "    .mean()\n",
    "    .reset_index()\n",
    ")\n",
    "\n",
    "# Renormalize the embeddings\n",
    "embedding_values = merged_embeddings[embedding_cols].values\n",
    "norms = np.linalg.norm(embedding_values, axis=1, keepdims=True)\n",
    "merged_embeddings[embedding_cols] = embedding_values / norms\n",
    "\n",
    "# Verify the results\n",
    "print(f\"Original shape: {gene_embeddings_with_ensembl_id.shape}\")\n",
    "print(f\"After merging duplicates: {merged_embeddings.shape}\")\n",
    "\n",
    "# Verify all duplicates are resolved\n",
    "duplicate_check = merged_embeddings.ensembl_id.value_counts()\n",
    "print(\"\\nNumber of remaining duplicates:\", (duplicate_check > 1).sum())"
   ]
  },
  {
   "cell_type": "code",
   "execution_count": 14,
   "metadata": {},
   "outputs": [
    {
     "data": {
      "text/plain": [
       "0        ENSG00000000003\n",
       "1        ENSG00000000005\n",
       "2        ENSG00000000419\n",
       "3        ENSG00000000457\n",
       "4        ENSG00000000460\n",
       "              ...       \n",
       "36568    ENSGR0000230542\n",
       "36569    ENSGR0000234958\n",
       "36570    ENSGR0000236871\n",
       "36571    ENSGR0000237040\n",
       "36572    ENSGR0000265658\n",
       "Name: ensembl_id, Length: 36573, dtype: object"
      ]
     },
     "execution_count": 14,
     "metadata": {},
     "output_type": "execute_result"
    }
   ],
   "source": [
    "merged_embeddings.ensembl_id"
   ]
  },
  {
   "cell_type": "code",
   "execution_count": 15,
   "metadata": {},
   "outputs": [],
   "source": [
    "# # Get the embedding values without the metadata columns\n",
    "# embedding_cols = [col for col in merged_embeddings.columns\n",
    "#                  if col not in ['ensembl_id']]\n",
    "\n",
    "# # Create a mapping from major_ensembl_ids to column indices in cell_gene_matrix\n",
    "# gene_idx_map = {gene_id: idx for idx, gene_id in enumerate(major_ensembl_ids)}\n",
    "\n",
    "# # Find which embeddings correspond to genes in our expression matrix\n",
    "# # and get their indices in the correct order\n",
    "# valid_indices = []\n",
    "# embedding_indices = []\n",
    "# for i, ensembl_id in enumerate(merged_embeddings.ensembl_id):\n",
    "#     if ensembl_id in gene_idx_map:\n",
    "#         valid_indices.append(gene_idx_map[ensembl_id])\n",
    "#         embedding_indices.append(i)\n",
    "\n",
    "# # Create the reordered embedding matrix\n",
    "# embedding_matrix = merged_embeddings[embedding_cols].iloc[embedding_indices].values.T"
   ]
  },
  {
   "cell_type": "code",
   "execution_count": 16,
   "metadata": {},
   "outputs": [],
   "source": [
    "# def create_embedding_matrix(merged_embeddings, major_ensembl_ids):\n",
    "#     \"\"\"\n",
    "#     Create a reordered embedding matrix that aligns gene embeddings with expression matrix columns.\n",
    "\n",
    "#     Args:\n",
    "#         merged_embeddings (pd.DataFrame): DataFrame containing gene embeddings with 'ensembl_id' column\n",
    "#         major_ensembl_ids (pd.Series): Series of Ensembl IDs in the order they appear in expression matrix\n",
    "\n",
    "#     Returns:\n",
    "#         tuple: (embedding_matrix, valid_indices)\n",
    "#             - embedding_matrix: numpy array of shape (n_embedding_dims, n_valid_genes)\n",
    "#             - valid_indices: list of indices mapping to original expression matrix columns\n",
    "#     \"\"\"\n",
    "#     # Get the embedding values without the metadata columns\n",
    "#     embedding_cols = [\n",
    "#         col for col in merged_embeddings.columns if col not in [\"ensembl_id\"]\n",
    "#     ]\n",
    "\n",
    "#     # Create a mapping from major_ensembl_ids to column indices in cell_gene_matrix\n",
    "#     gene_idx_map = {gene_id: idx for idx, gene_id in enumerate(major_ensembl_ids)}\n",
    "\n",
    "#     # Find which embeddings correspond to genes in our expression matrix\n",
    "#     # and get their indices in the correct order\n",
    "#     valid_indices = []\n",
    "#     embedding_indices = []\n",
    "#     for i, ensembl_id in enumerate(merged_embeddings.ensembl_id):\n",
    "#         if ensembl_id in gene_idx_map:\n",
    "#             valid_indices.append(gene_idx_map[ensembl_id])\n",
    "#             embedding_indices.append(i)\n",
    "\n",
    "#     # Create the reordered embedding matrix\n",
    "#     embedding_matrix = (\n",
    "#         merged_embeddings[embedding_cols].iloc[embedding_indices].values.T\n",
    "#     )\n",
    "\n",
    "#     return embedding_matrix, valid_indices"
   ]
  },
  {
   "cell_type": "code",
   "execution_count": 17,
   "metadata": {},
   "outputs": [],
   "source": [
    "# def create_cell_embeddings(expression_matrix, embedding_matrix, valid_indices):\n",
    "#     \"\"\"\n",
    "#     Create normalized cell embeddings from gene expression data and gene embeddings.\n",
    "\n",
    "#     Args:\n",
    "#         expression_matrix: scipy.sparse.csr_matrix or numpy array of shape (n_cells, n_genes)\n",
    "#         embedding_matrix: numpy array of shape (n_embedding_dims, n_valid_genes)\n",
    "#         valid_indices: list of indices to select genes that have embeddings\n",
    "\n",
    "#     Returns:\n",
    "#         numpy array of shape (n_cells, n_embedding_dims) containing normalized cell embeddings\n",
    "#     \"\"\"\n",
    "#     # Select only the columns from expression matrix that have corresponding embeddings\n",
    "#     filtered_expression = expression_matrix[:, valid_indices]\n",
    "\n",
    "#     # Perform the matrix multiplication (n_cells x n_embedding_dimensions)\n",
    "#     cell_embeddings = filtered_expression @ embedding_matrix.T\n",
    "\n",
    "#     # Normalize the cell embeddings\n",
    "#     norms = np.linalg.norm(cell_embeddings, axis=1, keepdims=True)\n",
    "#     cell_embeddings = cell_embeddings / norms\n",
    "\n",
    "#     return cell_embeddings"
   ]
  },
  {
   "cell_type": "code",
   "execution_count": 18,
   "metadata": {},
   "outputs": [],
   "source": [
    "import src.inference as inference\n",
    "\n",
    "embedding_matrix, valid_indices = inference.create_embedding_matrix(\n",
    "    merged_embeddings, major_ensembl_ids\n",
    ")"
   ]
  },
  {
   "cell_type": "code",
   "execution_count": 19,
   "metadata": {},
   "outputs": [
    {
     "name": "stdout",
     "output_type": "stream",
     "text": [
      "Shape of cell embeddings: (100000, 3072)\n",
      "Number of genes used: 33258 out of 61759 total genes\n",
      "Total time: 246.57 seconds\n",
      "Processing speed: 405.6 cells/second\n"
     ]
    }
   ],
   "source": [
    "import time\n",
    "import numpy as np\n",
    "\n",
    "# Time the embedding creation\n",
    "start_time = time.time()\n",
    "cell_embeddings = inference.create_cell_embeddings(\n",
    "    adata_filtered.X, embedding_matrix, valid_indices\n",
    ")\n",
    "end_time = time.time()\n",
    "\n",
    "# Calculate metrics\n",
    "total_time = end_time - start_time\n",
    "cells_per_second = cell_embeddings.shape[0] / total_time\n",
    "\n",
    "print(f\"Shape of cell embeddings: {cell_embeddings.shape}\")\n",
    "print(f\"Number of genes used: {len(valid_indices)} out of {len(major_ensembl_ids)} total genes\")\n",
    "print(f\"Total time: {total_time:.2f} seconds\")\n",
    "print(f\"Processing speed: {cells_per_second:.1f} cells/second\")"
   ]
  },
  {
   "cell_type": "code",
   "execution_count": 38,
   "metadata": {},
   "outputs": [],
   "source": [
    "# # Select only the columns from cell_gene_matrix that have corresponding embeddings\n",
    "# filtered_expression = cell_gene_matrix[:, valid_indices]\n",
    "\n",
    "# # Perform the matrix multiplication\n",
    "# # This will give us (n_cells x n_embedding_dimensions)\n",
    "# cell_embeddings = filtered_expression @ embedding_matrix.T\n",
    "# # Normalize the cell embeddings\n",
    "# norms = np.linalg.norm(cell_embeddings, axis=1, keepdims=True)\n",
    "# cell_embeddings = cell_embeddings / norms\n",
    "\n",
    "\n",
    "# print(f\"Shape of cell embeddings: {cell_embeddings.shape}\")\n",
    "# print(f\"Number of genes used: {len(valid_indices)} out of {len(major_ensembl_ids)} total genes\")"
   ]
  },
  {
   "cell_type": "code",
   "execution_count": 20,
   "metadata": {},
   "outputs": [
    {
     "data": {
      "text/html": [
       "<div>\n",
       "<style scoped>\n",
       "    .dataframe tbody tr th:only-of-type {\n",
       "        vertical-align: middle;\n",
       "    }\n",
       "\n",
       "    .dataframe tbody tr th {\n",
       "        vertical-align: top;\n",
       "    }\n",
       "\n",
       "    .dataframe thead th {\n",
       "        text-align: right;\n",
       "    }\n",
       "</style>\n",
       "<table border=\"1\" class=\"dataframe\">\n",
       "  <thead>\n",
       "    <tr style=\"text-align: right;\">\n",
       "      <th></th>\n",
       "      <th>cell_type</th>\n",
       "      <th>broad_cell_class</th>\n",
       "      <th>donor_id</th>\n",
       "    </tr>\n",
       "  </thead>\n",
       "  <tbody>\n",
       "    <tr>\n",
       "      <th>0</th>\n",
       "      <td>naive thymus-derived CD4-positive, alpha-beta ...</td>\n",
       "      <td>t cell</td>\n",
       "      <td>TSP2</td>\n",
       "    </tr>\n",
       "    <tr>\n",
       "      <th>1</th>\n",
       "      <td>B cell</td>\n",
       "      <td>lymphocyte of b lineage</td>\n",
       "      <td>TSP2</td>\n",
       "    </tr>\n",
       "    <tr>\n",
       "      <th>2</th>\n",
       "      <td>B cell</td>\n",
       "      <td>lymphocyte of b lineage</td>\n",
       "      <td>TSP2</td>\n",
       "    </tr>\n",
       "    <tr>\n",
       "      <th>3</th>\n",
       "      <td>B cell</td>\n",
       "      <td>lymphocyte of b lineage</td>\n",
       "      <td>TSP2</td>\n",
       "    </tr>\n",
       "    <tr>\n",
       "      <th>4</th>\n",
       "      <td>CD8-positive, alpha-beta T cell</td>\n",
       "      <td>t cell</td>\n",
       "      <td>TSP2</td>\n",
       "    </tr>\n",
       "    <tr>\n",
       "      <th>...</th>\n",
       "      <td>...</td>\n",
       "      <td>...</td>\n",
       "      <td>...</td>\n",
       "    </tr>\n",
       "    <tr>\n",
       "      <th>99995</th>\n",
       "      <td>endothelial cell of artery</td>\n",
       "      <td>endothelial cell</td>\n",
       "      <td>TSP2</td>\n",
       "    </tr>\n",
       "    <tr>\n",
       "      <th>99996</th>\n",
       "      <td>mesenchymal stem cell</td>\n",
       "      <td>stem cell</td>\n",
       "      <td>TSP2</td>\n",
       "    </tr>\n",
       "    <tr>\n",
       "      <th>99997</th>\n",
       "      <td>pericyte</td>\n",
       "      <td>contractile cell</td>\n",
       "      <td>TSP2</td>\n",
       "    </tr>\n",
       "    <tr>\n",
       "      <th>99998</th>\n",
       "      <td>skeletal muscle satellite stem cell</td>\n",
       "      <td>stem cell</td>\n",
       "      <td>TSP2</td>\n",
       "    </tr>\n",
       "    <tr>\n",
       "      <th>99999</th>\n",
       "      <td>skeletal muscle satellite stem cell</td>\n",
       "      <td>stem cell</td>\n",
       "      <td>TSP2</td>\n",
       "    </tr>\n",
       "  </tbody>\n",
       "</table>\n",
       "<p>100000 rows × 3 columns</p>\n",
       "</div>"
      ],
      "text/plain": [
       "                                               cell_type  \\\n",
       "0      naive thymus-derived CD4-positive, alpha-beta ...   \n",
       "1                                                 B cell   \n",
       "2                                                 B cell   \n",
       "3                                                 B cell   \n",
       "4                        CD8-positive, alpha-beta T cell   \n",
       "...                                                  ...   \n",
       "99995                         endothelial cell of artery   \n",
       "99996                              mesenchymal stem cell   \n",
       "99997                                           pericyte   \n",
       "99998                skeletal muscle satellite stem cell   \n",
       "99999                skeletal muscle satellite stem cell   \n",
       "\n",
       "              broad_cell_class donor_id  \n",
       "0                       t cell     TSP2  \n",
       "1      lymphocyte of b lineage     TSP2  \n",
       "2      lymphocyte of b lineage     TSP2  \n",
       "3      lymphocyte of b lineage     TSP2  \n",
       "4                       t cell     TSP2  \n",
       "...                        ...      ...  \n",
       "99995         endothelial cell     TSP2  \n",
       "99996                stem cell     TSP2  \n",
       "99997         contractile cell     TSP2  \n",
       "99998                stem cell     TSP2  \n",
       "99999                stem cell     TSP2  \n",
       "\n",
       "[100000 rows x 3 columns]"
      ]
     },
     "execution_count": 20,
     "metadata": {},
     "output_type": "execute_result"
    }
   ],
   "source": [
    "adata_filtered.obs"
   ]
  },
  {
   "cell_type": "code",
   "execution_count": 21,
   "metadata": {},
   "outputs": [
    {
     "name": "stdout",
     "output_type": "stream",
     "text": [
      "Loaded metadata keys: ['cell_type', 'broad_cell_class', 'donor_id']\n",
      "\n",
      "First 5 values of cell_type:\n",
      "0    naive thymus-derived CD4-positive, alpha-beta ...\n",
      "1                                               B cell\n",
      "2                                               B cell\n",
      "3                                               B cell\n",
      "4                      CD8-positive, alpha-beta T cell\n",
      "Name: cell_type, dtype: category\n",
      "Categories (180, object): ['male germ cell', 'spermatocyte', 'spermatid', 'spermatogonium', ..., 'alveolar adventitial fibroblast', 'BEST4+ intestinal epithelial cell, human', 'enteroglial cell', 'unknown']\n",
      "\n",
      "First 5 values of broad_cell_class:\n",
      "0                     t cell\n",
      "1    lymphocyte of b lineage\n",
      "2    lymphocyte of b lineage\n",
      "3    lymphocyte of b lineage\n",
      "4                     t cell\n",
      "Name: broad_cell_class, dtype: category\n",
      "Categories (40, object): ['adventitial cell', 'cardiac endothelial cell', 'ciliated epithelial cell', 'conjunctival epithelial cell', ..., 'stromal cell', 't cell', 'transitional epithelial cell', 'vestibular dark cell']\n",
      "\n",
      "First 5 values of donor_id:\n",
      "0    TSP2\n",
      "1    TSP2\n",
      "2    TSP2\n",
      "3    TSP2\n",
      "4    TSP2\n",
      "Name: donor_id, dtype: category\n",
      "Categories (24, object): ['TSP1', 'TSP2', 'TSP3', 'TSP4', ..., 'TSP26', 'TSP27', 'TSP28', 'TSP30']\n"
     ]
    }
   ],
   "source": [
    "# def load_cell_metadata(file_path, start_row=0, n_rows=1000, columns=None):\n",
    "#     \"\"\"\n",
    "#     Load metadata for specific cells.\n",
    "\n",
    "#     Args:\n",
    "#         file_path: Path to h5ad file\n",
    "#         start_row: Starting row index\n",
    "#         n_rows: Number of rows to load\n",
    "#         columns: List of metadata columns to load (if None, load all)\n",
    "\n",
    "#     Returns:\n",
    "#         Dictionary of metadata arrays\n",
    "#     \"\"\"\n",
    "#     with h5py.File(file_path, 'r') as f:\n",
    "#         metadata = {}\n",
    "#         obs_keys = list(f['obs'].keys()) if columns is None else columns\n",
    "#         for key in obs_keys:\n",
    "#             if key in f['obs']:\n",
    "#                 column_group = f['obs'][key]\n",
    "#                 if isinstance(column_group, h5py.Dataset):\n",
    "#                     metadata[key] = column_group[start_row:start_row + n_rows]\n",
    "#                 else:\n",
    "#                     if 'categories' in column_group and 'codes' in column_group:\n",
    "#                         # Get categories and decode from bytes to strings\n",
    "#                         categories = [cat.decode('utf-8') for cat in column_group['categories'][:]]\n",
    "#                         codes = column_group['codes'][start_row:start_row + n_rows]\n",
    "#                         metadata[key] = np.array([categories[code] for code in codes])\n",
    "#     return metadata\n",
    "\n",
    "# # Example usage:\n",
    "# metadata = load_cell_metadata(file_path, start_row=0, n_rows=1136219,\n",
    "#                             columns=['cell_type', 'total_counts', 'broad_cell_class', 'donor_id'])\n",
    "metadata = adata_filtered.obs\n",
    "\n",
    "print(\"Loaded metadata keys:\", list(metadata.keys()))\n",
    "\n",
    "# Print first few values of each column\n",
    "for key in metadata:\n",
    "    print(f\"\\nFirst 5 values of {key}:\")\n",
    "    print(metadata[key][:5])"
   ]
  },
  {
   "cell_type": "code",
   "execution_count": 22,
   "metadata": {},
   "outputs": [
    {
     "data": {
      "text/html": [
       "<div>\n",
       "<style scoped>\n",
       "    .dataframe tbody tr th:only-of-type {\n",
       "        vertical-align: middle;\n",
       "    }\n",
       "\n",
       "    .dataframe tbody tr th {\n",
       "        vertical-align: top;\n",
       "    }\n",
       "\n",
       "    .dataframe thead th {\n",
       "        text-align: right;\n",
       "    }\n",
       "</style>\n",
       "<table border=\"1\" class=\"dataframe\">\n",
       "  <thead>\n",
       "    <tr style=\"text-align: right;\">\n",
       "      <th></th>\n",
       "      <th>0</th>\n",
       "      <th>1</th>\n",
       "      <th>2</th>\n",
       "      <th>3</th>\n",
       "      <th>4</th>\n",
       "      <th>5</th>\n",
       "      <th>6</th>\n",
       "      <th>7</th>\n",
       "      <th>8</th>\n",
       "      <th>9</th>\n",
       "      <th>...</th>\n",
       "      <th>3065</th>\n",
       "      <th>3066</th>\n",
       "      <th>3067</th>\n",
       "      <th>3068</th>\n",
       "      <th>3069</th>\n",
       "      <th>3070</th>\n",
       "      <th>3071</th>\n",
       "      <th>cell_type</th>\n",
       "      <th>broad_cell_class</th>\n",
       "      <th>donor_id</th>\n",
       "    </tr>\n",
       "  </thead>\n",
       "  <tbody>\n",
       "    <tr>\n",
       "      <th>0</th>\n",
       "      <td>-0.007720</td>\n",
       "      <td>0.013851</td>\n",
       "      <td>-0.005736</td>\n",
       "      <td>0.010341</td>\n",
       "      <td>0.000320</td>\n",
       "      <td>-0.023683</td>\n",
       "      <td>0.041729</td>\n",
       "      <td>-0.033866</td>\n",
       "      <td>0.035611</td>\n",
       "      <td>0.005238</td>\n",
       "      <td>...</td>\n",
       "      <td>-0.015777</td>\n",
       "      <td>-0.000016</td>\n",
       "      <td>-0.017384</td>\n",
       "      <td>0.023981</td>\n",
       "      <td>-0.007408</td>\n",
       "      <td>-0.003723</td>\n",
       "      <td>-0.018266</td>\n",
       "      <td>naive thymus-derived CD4-positive, alpha-beta ...</td>\n",
       "      <td>t cell</td>\n",
       "      <td>TSP2</td>\n",
       "    </tr>\n",
       "    <tr>\n",
       "      <th>1</th>\n",
       "      <td>-0.005579</td>\n",
       "      <td>0.015617</td>\n",
       "      <td>-0.005555</td>\n",
       "      <td>0.009382</td>\n",
       "      <td>0.001121</td>\n",
       "      <td>-0.022421</td>\n",
       "      <td>0.040697</td>\n",
       "      <td>-0.034355</td>\n",
       "      <td>0.035864</td>\n",
       "      <td>0.004520</td>\n",
       "      <td>...</td>\n",
       "      <td>-0.014589</td>\n",
       "      <td>0.000164</td>\n",
       "      <td>-0.017984</td>\n",
       "      <td>0.023778</td>\n",
       "      <td>-0.007307</td>\n",
       "      <td>-0.004185</td>\n",
       "      <td>-0.018247</td>\n",
       "      <td>B cell</td>\n",
       "      <td>lymphocyte of b lineage</td>\n",
       "      <td>TSP2</td>\n",
       "    </tr>\n",
       "    <tr>\n",
       "      <th>2</th>\n",
       "      <td>-0.007412</td>\n",
       "      <td>0.014734</td>\n",
       "      <td>-0.005714</td>\n",
       "      <td>0.010164</td>\n",
       "      <td>0.001523</td>\n",
       "      <td>-0.023222</td>\n",
       "      <td>0.042165</td>\n",
       "      <td>-0.034563</td>\n",
       "      <td>0.036910</td>\n",
       "      <td>0.005400</td>\n",
       "      <td>...</td>\n",
       "      <td>-0.014859</td>\n",
       "      <td>0.000339</td>\n",
       "      <td>-0.017272</td>\n",
       "      <td>0.024080</td>\n",
       "      <td>-0.006957</td>\n",
       "      <td>-0.004390</td>\n",
       "      <td>-0.017801</td>\n",
       "      <td>B cell</td>\n",
       "      <td>lymphocyte of b lineage</td>\n",
       "      <td>TSP2</td>\n",
       "    </tr>\n",
       "    <tr>\n",
       "      <th>3</th>\n",
       "      <td>-0.008063</td>\n",
       "      <td>0.014125</td>\n",
       "      <td>-0.005429</td>\n",
       "      <td>0.010397</td>\n",
       "      <td>-0.000308</td>\n",
       "      <td>-0.023580</td>\n",
       "      <td>0.041392</td>\n",
       "      <td>-0.034021</td>\n",
       "      <td>0.035953</td>\n",
       "      <td>0.005418</td>\n",
       "      <td>...</td>\n",
       "      <td>-0.015378</td>\n",
       "      <td>-0.000165</td>\n",
       "      <td>-0.017942</td>\n",
       "      <td>0.023627</td>\n",
       "      <td>-0.007249</td>\n",
       "      <td>-0.003548</td>\n",
       "      <td>-0.018380</td>\n",
       "      <td>B cell</td>\n",
       "      <td>lymphocyte of b lineage</td>\n",
       "      <td>TSP2</td>\n",
       "    </tr>\n",
       "    <tr>\n",
       "      <th>4</th>\n",
       "      <td>-0.006627</td>\n",
       "      <td>0.014602</td>\n",
       "      <td>-0.005593</td>\n",
       "      <td>0.009993</td>\n",
       "      <td>0.002419</td>\n",
       "      <td>-0.021874</td>\n",
       "      <td>0.041174</td>\n",
       "      <td>-0.034943</td>\n",
       "      <td>0.036720</td>\n",
       "      <td>0.005483</td>\n",
       "      <td>...</td>\n",
       "      <td>-0.015101</td>\n",
       "      <td>0.000418</td>\n",
       "      <td>-0.018152</td>\n",
       "      <td>0.023877</td>\n",
       "      <td>-0.006763</td>\n",
       "      <td>-0.004058</td>\n",
       "      <td>-0.017972</td>\n",
       "      <td>CD8-positive, alpha-beta T cell</td>\n",
       "      <td>t cell</td>\n",
       "      <td>TSP2</td>\n",
       "    </tr>\n",
       "    <tr>\n",
       "      <th>...</th>\n",
       "      <td>...</td>\n",
       "      <td>...</td>\n",
       "      <td>...</td>\n",
       "      <td>...</td>\n",
       "      <td>...</td>\n",
       "      <td>...</td>\n",
       "      <td>...</td>\n",
       "      <td>...</td>\n",
       "      <td>...</td>\n",
       "      <td>...</td>\n",
       "      <td>...</td>\n",
       "      <td>...</td>\n",
       "      <td>...</td>\n",
       "      <td>...</td>\n",
       "      <td>...</td>\n",
       "      <td>...</td>\n",
       "      <td>...</td>\n",
       "      <td>...</td>\n",
       "      <td>...</td>\n",
       "      <td>...</td>\n",
       "      <td>...</td>\n",
       "    </tr>\n",
       "    <tr>\n",
       "      <th>99995</th>\n",
       "      <td>-0.006644</td>\n",
       "      <td>0.016508</td>\n",
       "      <td>-0.005705</td>\n",
       "      <td>0.007553</td>\n",
       "      <td>0.003714</td>\n",
       "      <td>-0.020780</td>\n",
       "      <td>0.041159</td>\n",
       "      <td>-0.035570</td>\n",
       "      <td>0.034712</td>\n",
       "      <td>0.004084</td>\n",
       "      <td>...</td>\n",
       "      <td>-0.014371</td>\n",
       "      <td>0.000565</td>\n",
       "      <td>-0.016427</td>\n",
       "      <td>0.023029</td>\n",
       "      <td>-0.006838</td>\n",
       "      <td>-0.005125</td>\n",
       "      <td>-0.018476</td>\n",
       "      <td>endothelial cell of artery</td>\n",
       "      <td>endothelial cell</td>\n",
       "      <td>TSP2</td>\n",
       "    </tr>\n",
       "    <tr>\n",
       "      <th>99996</th>\n",
       "      <td>-0.006253</td>\n",
       "      <td>0.017183</td>\n",
       "      <td>-0.005748</td>\n",
       "      <td>0.008020</td>\n",
       "      <td>0.003911</td>\n",
       "      <td>-0.021312</td>\n",
       "      <td>0.042195</td>\n",
       "      <td>-0.035562</td>\n",
       "      <td>0.034941</td>\n",
       "      <td>0.004608</td>\n",
       "      <td>...</td>\n",
       "      <td>-0.014135</td>\n",
       "      <td>0.000487</td>\n",
       "      <td>-0.016491</td>\n",
       "      <td>0.023043</td>\n",
       "      <td>-0.006724</td>\n",
       "      <td>-0.005049</td>\n",
       "      <td>-0.018681</td>\n",
       "      <td>mesenchymal stem cell</td>\n",
       "      <td>stem cell</td>\n",
       "      <td>TSP2</td>\n",
       "    </tr>\n",
       "    <tr>\n",
       "      <th>99997</th>\n",
       "      <td>-0.006700</td>\n",
       "      <td>0.016229</td>\n",
       "      <td>-0.005678</td>\n",
       "      <td>0.009247</td>\n",
       "      <td>0.003257</td>\n",
       "      <td>-0.021733</td>\n",
       "      <td>0.041717</td>\n",
       "      <td>-0.035562</td>\n",
       "      <td>0.035392</td>\n",
       "      <td>0.005058</td>\n",
       "      <td>...</td>\n",
       "      <td>-0.014526</td>\n",
       "      <td>0.001264</td>\n",
       "      <td>-0.016985</td>\n",
       "      <td>0.023072</td>\n",
       "      <td>-0.006645</td>\n",
       "      <td>-0.005376</td>\n",
       "      <td>-0.017690</td>\n",
       "      <td>pericyte</td>\n",
       "      <td>contractile cell</td>\n",
       "      <td>TSP2</td>\n",
       "    </tr>\n",
       "    <tr>\n",
       "      <th>99998</th>\n",
       "      <td>-0.006115</td>\n",
       "      <td>0.016010</td>\n",
       "      <td>-0.005867</td>\n",
       "      <td>0.007888</td>\n",
       "      <td>0.001904</td>\n",
       "      <td>-0.021571</td>\n",
       "      <td>0.041173</td>\n",
       "      <td>-0.034858</td>\n",
       "      <td>0.034616</td>\n",
       "      <td>0.004558</td>\n",
       "      <td>...</td>\n",
       "      <td>-0.014814</td>\n",
       "      <td>0.000545</td>\n",
       "      <td>-0.016843</td>\n",
       "      <td>0.023437</td>\n",
       "      <td>-0.006314</td>\n",
       "      <td>-0.004606</td>\n",
       "      <td>-0.018471</td>\n",
       "      <td>skeletal muscle satellite stem cell</td>\n",
       "      <td>stem cell</td>\n",
       "      <td>TSP2</td>\n",
       "    </tr>\n",
       "    <tr>\n",
       "      <th>99999</th>\n",
       "      <td>-0.006901</td>\n",
       "      <td>0.016135</td>\n",
       "      <td>-0.005756</td>\n",
       "      <td>0.008819</td>\n",
       "      <td>0.001193</td>\n",
       "      <td>-0.022186</td>\n",
       "      <td>0.041675</td>\n",
       "      <td>-0.035187</td>\n",
       "      <td>0.036175</td>\n",
       "      <td>0.005526</td>\n",
       "      <td>...</td>\n",
       "      <td>-0.014688</td>\n",
       "      <td>0.001047</td>\n",
       "      <td>-0.016855</td>\n",
       "      <td>0.023539</td>\n",
       "      <td>-0.006566</td>\n",
       "      <td>-0.005063</td>\n",
       "      <td>-0.018147</td>\n",
       "      <td>skeletal muscle satellite stem cell</td>\n",
       "      <td>stem cell</td>\n",
       "      <td>TSP2</td>\n",
       "    </tr>\n",
       "  </tbody>\n",
       "</table>\n",
       "<p>100000 rows × 3075 columns</p>\n",
       "</div>"
      ],
      "text/plain": [
       "              0         1         2         3         4         5         6  \\\n",
       "0     -0.007720  0.013851 -0.005736  0.010341  0.000320 -0.023683  0.041729   \n",
       "1     -0.005579  0.015617 -0.005555  0.009382  0.001121 -0.022421  0.040697   \n",
       "2     -0.007412  0.014734 -0.005714  0.010164  0.001523 -0.023222  0.042165   \n",
       "3     -0.008063  0.014125 -0.005429  0.010397 -0.000308 -0.023580  0.041392   \n",
       "4     -0.006627  0.014602 -0.005593  0.009993  0.002419 -0.021874  0.041174   \n",
       "...         ...       ...       ...       ...       ...       ...       ...   \n",
       "99995 -0.006644  0.016508 -0.005705  0.007553  0.003714 -0.020780  0.041159   \n",
       "99996 -0.006253  0.017183 -0.005748  0.008020  0.003911 -0.021312  0.042195   \n",
       "99997 -0.006700  0.016229 -0.005678  0.009247  0.003257 -0.021733  0.041717   \n",
       "99998 -0.006115  0.016010 -0.005867  0.007888  0.001904 -0.021571  0.041173   \n",
       "99999 -0.006901  0.016135 -0.005756  0.008819  0.001193 -0.022186  0.041675   \n",
       "\n",
       "              7         8         9  ...      3065      3066      3067  \\\n",
       "0     -0.033866  0.035611  0.005238  ... -0.015777 -0.000016 -0.017384   \n",
       "1     -0.034355  0.035864  0.004520  ... -0.014589  0.000164 -0.017984   \n",
       "2     -0.034563  0.036910  0.005400  ... -0.014859  0.000339 -0.017272   \n",
       "3     -0.034021  0.035953  0.005418  ... -0.015378 -0.000165 -0.017942   \n",
       "4     -0.034943  0.036720  0.005483  ... -0.015101  0.000418 -0.018152   \n",
       "...         ...       ...       ...  ...       ...       ...       ...   \n",
       "99995 -0.035570  0.034712  0.004084  ... -0.014371  0.000565 -0.016427   \n",
       "99996 -0.035562  0.034941  0.004608  ... -0.014135  0.000487 -0.016491   \n",
       "99997 -0.035562  0.035392  0.005058  ... -0.014526  0.001264 -0.016985   \n",
       "99998 -0.034858  0.034616  0.004558  ... -0.014814  0.000545 -0.016843   \n",
       "99999 -0.035187  0.036175  0.005526  ... -0.014688  0.001047 -0.016855   \n",
       "\n",
       "           3068      3069      3070      3071  \\\n",
       "0      0.023981 -0.007408 -0.003723 -0.018266   \n",
       "1      0.023778 -0.007307 -0.004185 -0.018247   \n",
       "2      0.024080 -0.006957 -0.004390 -0.017801   \n",
       "3      0.023627 -0.007249 -0.003548 -0.018380   \n",
       "4      0.023877 -0.006763 -0.004058 -0.017972   \n",
       "...         ...       ...       ...       ...   \n",
       "99995  0.023029 -0.006838 -0.005125 -0.018476   \n",
       "99996  0.023043 -0.006724 -0.005049 -0.018681   \n",
       "99997  0.023072 -0.006645 -0.005376 -0.017690   \n",
       "99998  0.023437 -0.006314 -0.004606 -0.018471   \n",
       "99999  0.023539 -0.006566 -0.005063 -0.018147   \n",
       "\n",
       "                                               cell_type  \\\n",
       "0      naive thymus-derived CD4-positive, alpha-beta ...   \n",
       "1                                                 B cell   \n",
       "2                                                 B cell   \n",
       "3                                                 B cell   \n",
       "4                        CD8-positive, alpha-beta T cell   \n",
       "...                                                  ...   \n",
       "99995                         endothelial cell of artery   \n",
       "99996                              mesenchymal stem cell   \n",
       "99997                                           pericyte   \n",
       "99998                skeletal muscle satellite stem cell   \n",
       "99999                skeletal muscle satellite stem cell   \n",
       "\n",
       "              broad_cell_class  donor_id  \n",
       "0                       t cell      TSP2  \n",
       "1      lymphocyte of b lineage      TSP2  \n",
       "2      lymphocyte of b lineage      TSP2  \n",
       "3      lymphocyte of b lineage      TSP2  \n",
       "4                       t cell      TSP2  \n",
       "...                        ...       ...  \n",
       "99995         endothelial cell      TSP2  \n",
       "99996                stem cell      TSP2  \n",
       "99997         contractile cell      TSP2  \n",
       "99998                stem cell      TSP2  \n",
       "99999                stem cell      TSP2  \n",
       "\n",
       "[100000 rows x 3075 columns]"
      ]
     },
     "execution_count": 22,
     "metadata": {},
     "output_type": "execute_result"
    }
   ],
   "source": [
    "embed_genept_pdf = pd.DataFrame(cell_embeddings, index=metadata.index).merge(\n",
    "    metadata, left_index=True, right_index=True\n",
    ")\n",
    "embed_genept_pdf.columns = [str(col) for col in embed_genept_pdf.columns]\n",
    "embed_genept_pdf"
   ]
  },
  {
   "cell_type": "code",
   "execution_count": 23,
   "metadata": {},
   "outputs": [],
   "source": [
    "embed_genept_pdf.to_parquet(data_dir / \"tabula_sapiens_100k_genept_embedding_cell_type_tissue_drug_pathway_openai_large.parquet\")"
   ]
  },
  {
   "cell_type": "code",
   "execution_count": 24,
   "metadata": {},
   "outputs": [
    {
     "data": {
      "text/plain": [
       "['t cell', 'lymphocyte of b lineage', 'lymphocyte of b lineage', 'lymphocyte of b lineage', 't cell', ..., 'endothelial cell', 'stem cell', 'contractile cell', 'stem cell', 'stem cell']\n",
       "Length: 100000\n",
       "Categories (40, object): ['adventitial cell', 'cardiac endothelial cell', 'ciliated epithelial cell', 'conjunctival epithelial cell', ..., 'stromal cell', 't cell', 'transitional epithelial cell', 'vestibular dark cell']"
      ]
     },
     "execution_count": 24,
     "metadata": {},
     "output_type": "execute_result"
    }
   ],
   "source": [
    "cell_type_labels = pd.Categorical(\n",
    "    pd.Series(metadata[\"broad_cell_class\"])[: len(cell_embeddings)]\n",
    ")\n",
    "cell_type_labels"
   ]
  },
  {
   "cell_type": "code",
   "execution_count": 25,
   "metadata": {},
   "outputs": [
    {
     "data": {
      "text/plain": [
       "broad_cell_class\n",
       "t cell                             14053\n",
       "stromal cell                       13013\n",
       "myeloid leukocyte                   8565\n",
       "lymphocyte of b lineage             8499\n",
       "contractile cell                    7916\n",
       "fibroblast                          6995\n",
       "endothelial cell                    6019\n",
       "stem cell                           5937\n",
       "granulocyte                         5797\n",
       "intestinal epithelial cell          5764\n",
       "transitional epithelial cell        5384\n",
       "innate lymphoid cell                2507\n",
       "glandular epithelial cell           1988\n",
       "epithelial cell                     1810\n",
       "cardiac endothelial cell            1088\n",
       "epithelial cell of lung              819\n",
       "endo-epithelial cell                 666\n",
       "duct epithelial cell                 592\n",
       "adventitial cell                     450\n",
       "ciliated epithelial cell             415\n",
       "hematopoietic cell                   375\n",
       "erythroid lineage cell               313\n",
       "secretory cell                       276\n",
       "dendritic cell                       227\n",
       "kidney epithelial cell               152\n",
       "glial cell                            86\n",
       "stratified epithelial cell            72\n",
       "neuron                                46\n",
       "fat cell                              39\n",
       "meso-epithelial cell                  37\n",
       "melanocyte                            29\n",
       "conjunctival epithelial cell          23\n",
       "hepatocyte                            14\n",
       "female germ cell                      12\n",
       "ecto-epithelial cell                  10\n",
       "follicle                               9\n",
       "retinal pigment epithelial cell        3\n",
       "male germ cell                         0\n",
       "connective tissue cell                 0\n",
       "vestibular dark cell                   0\n",
       "Name: count, dtype: int64"
      ]
     },
     "execution_count": 25,
     "metadata": {},
     "output_type": "execute_result"
    }
   ],
   "source": [
    "metadata[\"broad_cell_class\"].value_counts()"
   ]
  },
  {
   "cell_type": "code",
   "execution_count": 26,
   "metadata": {},
   "outputs": [
    {
     "data": {
      "text/plain": [
       "['TSP2', 'TSP2', 'TSP2', 'TSP2', 'TSP2', ..., 'TSP2', 'TSP2', 'TSP2', 'TSP2', 'TSP2']\n",
       "Length: 100000\n",
       "Categories (24, object): ['TSP1', 'TSP2', 'TSP3', 'TSP4', ..., 'TSP26', 'TSP27', 'TSP28', 'TSP30']"
      ]
     },
     "execution_count": 26,
     "metadata": {},
     "output_type": "execute_result"
    }
   ],
   "source": [
    "donor_ids = pd.Categorical(metadata[\"donor_id\"][: len(cell_embeddings)])\n",
    "donor_ids"
   ]
  },
  {
   "cell_type": "code",
   "execution_count": 27,
   "metadata": {},
   "outputs": [],
   "source": [
    "cell_embeddings_pdf = pd.DataFrame(\n",
    "    cell_embeddings, columns=list(range(cell_embeddings.shape[1]))\n",
    ")\n",
    "cell_embeddings_pdf[\"cell_type\"] = cell_type_labels\n",
    "cell_embeddings_pdf[\"donor_id\"] = donor_ids"
   ]
  },
  {
   "cell_type": "code",
   "execution_count": 28,
   "metadata": {},
   "outputs": [
    {
     "data": {
      "text/plain": [
       "(100000, 3074)"
      ]
     },
     "execution_count": 28,
     "metadata": {},
     "output_type": "execute_result"
    }
   ],
   "source": [
    "cell_embeddings_pdf.shape"
   ]
  },
  {
   "cell_type": "code",
   "execution_count": 29,
   "metadata": {},
   "outputs": [
    {
     "name": "stderr",
     "output_type": "stream",
     "text": [
      "/Users/rj/personal/GenePT-tools/venv3.10/lib/python3.10/site-packages/sklearn/utils/deprecation.py:151: FutureWarning: 'force_all_finite' was renamed to 'ensure_all_finite' in 1.6 and will be removed in 1.8.\n",
      "  warnings.warn(\n",
      "/Users/rj/personal/GenePT-tools/venv3.10/lib/python3.10/site-packages/umap/umap_.py:1952: UserWarning: n_jobs value 1 overridden to 1 by setting random_state. Use no seed for parallelism.\n",
      "  warn(\n"
     ]
    },
    {
     "data": {
      "application/vnd.plotly.v1+json": {
       "config": {
        "plotlyServerURL": "https://plot.ly"
       },
       "data": [
        {
         "hovertemplate": "cell_type=fibroblast<br>UMAP1=%{x}<br>UMAP2=%{y}<extra></extra>",
         "legendgroup": "fibroblast",
         "marker": {
          "color": "#636efa",
          "opacity": 0.7,
          "symbol": "circle"
         },
         "mode": "markers",
         "name": "fibroblast",
         "showlegend": true,
         "type": "scattergl",
         "x": {
          "bdata": "y8+sv2QMJsDN8ri/EOgzvzlHqr/Mt4K/ptEbwM5SZb/qhse/jLuDvwZ3d7/n3ru/qVeEvwmIt7+XuqW/Tib3v16s+r/Pnq++q8kkwGkuJ79aHKm//xW/v+mez78Altm/R6oVwJLx5b92O6W/XgPZvzS+QD43k1e/2uQGv93+Pj/iamm/9CqbPzb4sr+s0MO/xId5v0wYH8BsRbK/LfH7viAymb90nCPAtg4bwDu1k7+tsB/ASeQpP1YAl79PqsO/LhHCvlkFD7/sBQXAWJVhv+/zrr8w4EE+FH4ewDmVaj/7jbS/O+utPoKok76L1HW/XafYv5fInL9NsMs+Zz8GvzcrJMDphQnAPA0dv3OIE8BoNva+YmAlwIX1xr4DRU0/XG1PP4EdQz/N2+2/0j5gv64obr8ysxC/x20iwLYTbr7LeFy/JjogwGXQvr8UZAA/iZeFv0s0cr89yT6/j58lwL75b78ew/y/eodPvwO61r+U4STAJD1sPuCgp7/GlcO/SiqtPnecxL+cygk/+CUTwGlPhr/qrhe/2l8pvmlPRr9Po7W+C6wUwMq0Ir9rjxs/BDZlv/h3hr+6Acm/0OXpvzZ+s78RRLi/d1Pkvwn2nL/SnxHAETOJv4VNsr+ZrWy/toYewA==",
          "dtype": "f4"
         },
         "xaxis": "x",
         "y": {
          "bdata": "3T4LQRu6C0Fl1QBBzzIcQfuAB0FPRxhB00oKQeYPIEHupANBqrDpQBoB6kDZiQNBXVUPQTw5BUHuIQpBIxwJQTM5BUF9ax9BBpELQQv2I0Guh/RA3EAHQQNe80AFMAVBhyIPQQoZC0FWLgpBolnwQCCyQEDw9w5BRkIhQWwoOEG+RxdBJT6CQNOxB0GMhQRBa1kgQZ9qC0EXBRJBDJQeQd6GEUF3nwpBRWIIQUpwD0GWjAdBpao3QVvNF0GK4QtBEQEeQfj6HEGpuQpBrkIcQQGP+UDguA5BxVwKQdA/OEGpMwBBQcIxQGMUH0FDwRhBXSkLQTz8FEHw/TFBcV0cQfGDCkFwkApBQsQgQTonC0H7SiNBwiMJQXMOIkENFjhBZe37QFJQOEE9aBNBckwXQcK3EEGwrRxBH28OQRbMIkFFfxxB7cgMQZpgAEGpE5FASvAXQcT2IEGtUh5BnYsJQTmuFEEkAgRBIxQYQZD/70CfzAlB+Ms0QUwuCUFM7f5A8bkhQIWtAkF6ODZBOTwMQQsoEUHSSiNBB3klQXZvHEG15CJB6EgJQduTHUFupgNA+WAaQSWFEEHxOgtBp3b7QFkiCUFZPAdB79ECQdnYE0Gp5gdBEZoQQZdNBkHsfR9BvzYKQQ==",
          "dtype": "f4"
         },
         "yaxis": "y"
        },
        {
         "hovertemplate": "cell_type=intestinal epithelial cell<br>UMAP1=%{x}<br>UMAP2=%{y}<extra></extra>",
         "legendgroup": "intestinal epithelial cell",
         "marker": {
          "color": "#EF553B",
          "opacity": 0.7,
          "symbol": "circle"
         },
         "mode": "markers",
         "name": "intestinal epithelial cell",
         "showlegend": true,
         "type": "scattergl",
         "x": {
          "bdata": "a9IkQOTHbEAA5DxAvzxDQD6ta0A83xVAvchDQK9uWEAxG2hAgShMQDpUV0AdxkRA/adCQBipHEBrzrI/2iNVQPY9VEA6UlxAw55DQEIKcEDutzxARg5dQOb6tz/B5z9AX9VBQJuYTUBCA1hA8X1IQLHCRUD8ABlA2Y1EQF7/FkBgDSRASd9PQNHOT0Bc3bM/IgdpQOXBwz9A8E1ANmBMQBpON0DXl09Auf9JQObtHkC9qUVAeopnQJHcGEASq0RAkQSkPzuBS0ATMkxA1+9fQFkjGUDJ4WVAZj1vQBPeZ0C8tmZAn5QjQDe/ZUDDR2BAXlFXQH2reEB+XUlAbGsaQOd1M0CiWT9AJK9PQIDQRkAloEdAw2gcQPUHO0CIf0xA5rpiQC+FdUBaOOw/pH89QGw3mD9irlBAESlTQFQpMUCUhz1AX0dJQJNBSUDl7SBA3UcsPh8lWED+TwBAC2NEQFA/VUDmJFBA4ZE9QN8YYUDXJFxAhYo5QOaQTkAUjU9AXsUFQGVISUBHB1hAWDjBPyYJUUBnWkBAqHA7QC4SckBheF9AXPJhQBevO0CrBWFAZuEjQOLxVED+rmNAEdVUQNv8yj/SS0RAur5FQKWzf0BSoWlAJYFMQHbOY0BmYTxAJjVYQAKfS0Ag9wVA4Hl3QKWGYUA=",
          "dtype": "f4"
         },
         "xaxis": "x",
         "y": {
          "bdata": "BUBAQbqMSkGdpElBvHj9QH6bSkH2BzpBErtCQQSDTEFRTUtBWNr5QOZhBUEgeUNB71lDQZCAPkGuFXxAxOn3QNYxTEHmIkxBSVNKQbogSkFtZUJBbvYRQXInTUHrW0NBsBdDQeGWAkFp0xxBSghMQQV8QkFYwDxBFkEEQaunOkEFYT9BphBMQQoIAEGzdkxB+T9LQaH+fUCBmkxBRLFEQd1wQUGxQPtAB85LQUF9P0Gkz0tBYboeQdmvPkH75kJBhdhrQDDjS0FWxkhB/5r1QAWJPEFXl/RA+gJKQcMbS0F01UtBrMI/QeLlSEEQn/RA/jcCQYZTFEEYZEpBH6k+QX37IUELw0pBXxjxQGf+QkE/40dBmU0yQZ5BSUH4CUxBbDsGQbrcSEHxUT1BvatJQbNeYUAaAxxBQ9j+QNK2QUFCu/hAbL5FQc8mS0FRjz5Bix9/QADDG0FUWztBXdBCQRzQ/UA3/EtBhxNCQce+S0EkiBBBzKVCQQQCTEGhaktBeVA+QRuCS0GHUBFBiRl8QODo+kC4f0JB5TpCQY1qSUEiLBxBgeJLQXpqQEEtSPJAv1U+QejFS0EEaxxBHHX2QHdQg0CCJUNB7S1MQW31EUFCXEpBNdxLQWywH0G0EkpBr1tJQTYVTEF1ND5BXwoWQbMx80A=",
          "dtype": "f4"
         },
         "yaxis": "y"
        },
        {
         "hovertemplate": "cell_type=granulocyte<br>UMAP1=%{x}<br>UMAP2=%{y}<extra></extra>",
         "legendgroup": "granulocyte",
         "marker": {
          "color": "#00cc96",
          "opacity": 0.7,
          "symbol": "circle"
         },
         "mode": "markers",
         "name": "granulocyte",
         "showlegend": true,
         "type": "scattergl",
         "x": {
          "bdata": "gPNkwHrTM8DiCti/9XkjwALE1b+KOqI/xh4kwLpvH8By2DTA8NIZwJkLJsAvHCzANRGqwIWRL8AmxB3Aw8+CwMvEocBmeZbA7D+3P7C9IsCkozDAJYDiv0jn1L9hJxbAV/nXv6aAz78mxRvApTWHPakDLMBYSZTAvzc3PyL12r89mrI/X17KvyPFd8Bmgy/AHiBDQHeytT+5chLA0yI0wL5AkcBAu9y/97cwQPksHcAMm9m/lD4OwPE1IsArqWPA60EwwPNlyr8dL6LAsoonwDhP278X3DHA8tMZwDvFnsAJixrAqzviv2x0gMCCOavAvV3Lv21rz79nkanAl3L0vw/GGMCGiiXAav8hwL2ZpD+4XMu/1bzRv9bN07+g9c2/XfvTvwpPNMAj7jDAQ6UdwOyq1b8NJBvAlwCawMnsNMCGHR/AHKOEwA7HJcBlUQLANaLjvwuMJ8CAtM+/8fYxwBnsB8CRqzXA9gPOv+IsOsBYYEpAv6myP6pWoz+Gccq/UAYmwAGE+b/83tq/MG2jwKRUQMAPUCHAItjVv0j94b/LhyjA1Fs2wFSOHsCFA9W/t7DRv9MRqcC/Lh7AKQUxwCSR0b8=",
          "dtype": "f4"
         },
         "xaxis": "x",
         "y": {
          "bdata": "qoWgv762lkHOFZRBuQmVQZz5k0EPVktBSoGVQSNElUFM6JZBvriUQaITlUE+/pVBYW3rvr81lkE+L5VBuHANwDrUVb5UvUy/aBFNQYtelUHkapZBuHiUQY0KlEHVTZVBwT6UQYNSlEFDcpRBCLA/QCbSlUGl1C+/93BKQZcHlEGvsUxBruuTQXwqBb99GZZBvu3zQF4NTUHxI5RBWRGWQQH/Jr+aB5RB0TH9QD8yE8ARQpRBcBiVQd3glEHC9pm//1qWQZS/k0FHrEW+jmGVQSWFlEGVXJZBAdWUQc8v1r7FI5RBuDmUQQ5RFcAUOWW+R4qTQXhClEGr/By/PYeUQQaOlEECNz/AqYKUQS9hS0E/r5NBND+TQa7Hk0Haz5NBvyqUQbO7lkGqPpZBMd2UQRYgk0Gev5RBA01wv3DklkFU45RBsIoJwLHJlEHmzJRB7I2UQVg0lUENzZNBUSaXQYMWcr8O9ZZB7CmUQbCfScAl7xlBm8dMQVCpTEGHiJNBFUGVQRjXk0F6fJNBNb70vm1pSsDuWJVBvAyUQRyNlEG7IpVBDgiXQW+slEHI05NBOEuUQaBydL4Be5RB7EiWQevZk0E=",
          "dtype": "f4"
         },
         "yaxis": "y"
        },
        {
         "hovertemplate": "cell_type=transitional epithelial cell<br>UMAP1=%{x}<br>UMAP2=%{y}<extra></extra>",
         "legendgroup": "transitional epithelial cell",
         "marker": {
          "color": "#ab63fa",
          "opacity": 0.7,
          "symbol": "circle"
         },
         "mode": "markers",
         "name": "transitional epithelial cell",
         "showlegend": true,
         "type": "scattergl",
         "x": {
          "bdata": "+H9jQLAUeEBXY2pAiTq7P+/qbD9On2VAu7pgQDlsakAic2lANQiAQBXbZkBXauY/H5lWQIX4XkDHuIZAj0lhQJweYkCPNbk/iZVwQJnmd0B2BmNAHzZfQCejhUAda25AOVCFQC1ZYEDddIBAFuNfQEtyX0Bx1WFA7g+wP4Q0aUAR92RAykJpQAiDYkAISIJAoUOEQHF1YkATtVdABd5aQAC+W0DltVpAKs6yP3FZaEDkAmVA4GdrQPB8Gj8xVnFA4KRnQFCRfkAqm+0/H/5lQKS4dkARZmJAQtxoQIRUdEAxu7I/0228Px8agECkXXZAJqgJQJ14WUAKhWVA3axkQO2bFECt71tAdraAQN3rcUDwgGhAXlF+QK3IaEAdLFVAczNZQBSHR0BnMoZAqzFnQDB7YED4+H1A6KBoQCbMZkA0DIFASY9bQP6gU0Ad1so/+e99QLoyaUBZIWVA98jLP1ylhkDpPGNAS19rQN9BgEBrTGRACAlkQJ1fZ0CwjGBAeHdlQA==",
          "dtype": "f4"
         },
         "xaxis": "x",
         "y": {
          "bdata": "dWogQQt0EUEJOxxBmm04QacWSEBeWghBHiYhQfy0HUEKORNB/WsUQWGGCUEOwDVBlhQkQVjVBEGfXgJBx8UfQedDIEF8DzhBbBcdQVkuD0ESHh9BUosXQU/QAUFodhxBLMABQcnhGEEiWhdBMlIFQeOZBUHHJx9BIFZ0QL6XEEEYORpB5mYYQfQnE0GM1wNBCc8BQUaFB0EnJB5B8u8iQf2mA0ER4QZBgFs5QXTZFEHKjR5BixEeQaP0CUGMBx1BJDoaQdUSGEFXuTVBZmIcQVGBEEEu0AZBBr0ZQZnuBkGbbzpBo9M3QcGqEUEdfghBXY0yQcs0AUFTMBRBufkeQcL9MkHJIhZBrIMYQVDUEUEXrwNBpbISQSC/EEGxrxhBSmkjQb1P90Bx6wFBBPEQQVEEGEHF+RhBAKIeQQGFF0FjPBdBsYAJQahmAEHQnTdBW/AQQTx9BkGDLAVBuYA3QXSbAkGXBBRBhRUVQT1gF0E70hFB+ksYQUsZGUGWaCBBXQAaQQ==",
          "dtype": "f4"
         },
         "yaxis": "y"
        },
        {
         "hovertemplate": "cell_type=endothelial cell<br>UMAP1=%{x}<br>UMAP2=%{y}<extra></extra>",
         "legendgroup": "endothelial cell",
         "marker": {
          "color": "#FFA15A",
          "opacity": 0.7,
          "symbol": "circle"
         },
         "mode": "markers",
         "name": "endothelial cell",
         "showlegend": true,
         "type": "scattergl",
         "x": {
          "bdata": "UyUHwNgfLb+eWoi/XKALwBwbT7+nx9W/FnCqv4IhsL7QcNS/U5sWwNvn07/7Hee/RTUGP4jbFcCbkBjAtP4IwJ0zuL9M3mI+5KELwM/t6r9CQhzAZrjzv5bf2r+Y6VC/CqocwI8t87+YJvC/Q+EZwC+L4L8R2h/AGtsBwPcSiz3e+r2/qFBIvwiD17/mPtu/9b6+v9ekwb/QtwrAYcHsvzOmH8DwSgvAAZamv5L5IMBOmCTAkBCYPnAMEsAmE+q/2JwLvxdd+b9Zo4++KUofwKFctD89BR7AYAerwCm9A8B3qdm/lXm4v+FY1L+2MAvA4EL/v05z+r81bBrAYoT/v48ZQ79YwxS96X8ZwMfYBsCcwtu9L1cAwBQHBsBTohTAm6A8v7EhOT9+BCi/ag7Nv47jf7860RfAwt4IwIUJvL+cqlK9nJUTwEQzAcB2lhbAYpurv2A087+sw+e/fXFHv8JaIsB2jsS/1csUwJjrG8BQ5OK+DPkdwJBA27+0zhLA0+YDwFYgE8COrLS/eL6cvBlyNL/0wuu/Qdj8PtqREcBwigs//mECwIQBe780DMa/gSDBv7YFBsCwjB3A/6udPkh/HcBdXMe/Fd+Ev7wkIMA6Dl++ANMDwDGRAsBydxrATpUDwBnmbb8WwNC//ZobwOOBGMCR1+K/Up/bv2iOyb+ZK8K/dzQDwA==",
          "dtype": "f4"
         },
         "xaxis": "x",
         "y": {
          "bdata": "B6YvQSyvNUHGRjNBtaIpQV6qNEE2ly5BVWQ3QTAqNkGCfi1BXOQmQRlsLkH6LSlBghd2QJ/UK0HFYStBt3kxQSIBOEHPYn5AGoYyQdTtOEEuwitB4UE4QU88OUFDIzVBPywjQQbFKkEHxThB+mcnQUBLLEGedCJB/RsgQXz2N0HO8TdBCz01QcyOM0HV1DlBHRM2QSWhM0GFljBB4B4zQbS8J0FS1zRBLkc5QTlCJUF2lCFBLLeCQBpELkECmC1B63Y1QTYSK0F4bzdBV9IgQSnmTEEewCZBbCYdvxCTNkHjPi1BBOYuQW7VM0H5WjFBU80rQWLQN0H4jSVBuG0rQf+Z5EAEzDRBQdImQRGALUFzwjZBanM0QaDwNkG+8yNB1IQ2QYt5dUCPBDVBaXA3QTYVM0HNNihBqnExQYo3OEHftTRB5uwlQQx+NkFxHyxBTWgvQQfaOEEs4DpBY801QYztJUFz+y1BhrIuQSr0LEHRrDZBfgMgQQ5lLEF04yVB2BcqQfuWJEG4kjdBeyU4QcdVNEEDZjZBdN/rP/caL0FgdydA4bgpQagdNEGyuzdBaig5QehIM0HKQydBY4I2QcioJUETpjhBa9Y4QT6jJEG+7TVBY3U2QR57J0Hs+iJBeiM2QZz5MkHVZjJBlPsoQcfFKEGJJTlBA1A6Qb6POkHimjlBccgpQQ==",
          "dtype": "f4"
         },
         "yaxis": "y"
        },
        {
         "hovertemplate": "cell_type=myeloid leukocyte<br>UMAP1=%{x}<br>UMAP2=%{y}<extra></extra>",
         "legendgroup": "myeloid leukocyte",
         "marker": {
          "color": "#19d3f3",
          "opacity": 0.7,
          "symbol": "circle"
         },
         "mode": "markers",
         "name": "myeloid leukocyte",
         "showlegend": true,
         "type": "scattergl",
         "x": {
          "bdata": "ui+cwFG7hsCZFJTAIxE2v8YcosAFJ6LAGSiiwHjYjMDpq6rASuutwGdgn8AdTJjA6VOVwHlxkMBui5LAVuWiwMFprMBU4pbA2UWrwI/3ncDWuKHAqpKowLc3ncAgx6rAc8eUwJzwsMCFPpPAo2OhwBTco8DgQKXAfzuQwIQJKMATBpPAizOTwHdSnsCo4JzA1gySwBq1M8CDQpPAtX87wKu4o8DxHZrA7ciuwNPKisDlpZbA55eowNlDisD/Oa7Ak62IwINplMBWVKbAqK+mwLQepcAG6Y/AsF3LvWf1mMDM26HAl3WMwDeoqcABF57A0vShwEaJrcDyR5rAKIKfwCOpq8DXNq3ApBuwwPusqsCPND3AzVkYwHnhpcC1gJLAX5eHwMA3qMDpMpvA/6aNwJUslsD0c6LAVkOHwBM2nsAe6ZPAymiiwPCPLMDXg7Y/qluVwD5qr8C8GZTAaRKCwIBGm8CCoaHATDmwP2pPjsC8XbM/LEeQwJgcr8B3rpXATEKSwCyPkMCfE6HA7CjHv/LjqcAJbNy/X7OPwFFHaMBuOpXAKaurwPiPmMCXUpzAt7eiwFmTicCBubc/6wSTwBdTlcAzBa/A7QiVwL7nhsD/9o7AlR6TwCcricA0p63APS6KwNo7ncBDbpDAfwOuwCxapMAswIjAcQWOwG48mMAX9ZTAjBuLwIskrsCRIhQ/33+twNqPmsCXjYrAOT6dwI5rl8Co9a/AzpiRwO63n8AhWqXADrGMwLONq8C4xJTA9sOXwNyHMMAsyZvAV2CwwDOOjcBA+4jArxCvwDErmsByi5fAul+RwNh2qcDQJKXA+EWgwNsSp8BDEZLAApqdwPe8m8Ag6ZzAL5aXwAH+p8Dyw4jAhEijwLeykcA=",
          "dtype": "f4"
         },
         "xaxis": "x",
         "y": {
          "bdata": "LJt4v/rhEz+3vzG+5/Q2QQQD7D4iceI+79voPghhWD+O55M+lFBNvtE2hr9V4lO/RABFvw7Bhr27RdW+VOlmvyw0kD4+yxU/o18OvkSR/z75SsI+uODkvv9Q0b4rC+S9RSVFvWVFAz51FBC/SHeHvzyBML4+Sss+ZgT6Pt30P8B5mjy+VJLgvgwDmL7VCgY/5QeFvru/lkGx83S+gV/nv9m1nL7zQwM/dvuKPYLgzz4MOku/TX8nv5BaXz9yYXa+BhjqPmIVZr6zTO8+pLb1vWq92j4lM7U9gW02QQV1s73rkd++OpoUPuy6374qWPm+mVaLvhQCgr5LfA++Na6kvlQPJr1XzUm+Fk61vQdE9L7EWqe/p2uUQTfm0z71qiW/lM8CP0ToVr7Wh2+/c8lLPwgTM7/ETMQ+HkfqPk6EjL+SrrS+9eqXPHwplkHhK01BeugMv8xi3r1ihgi+YvwHP9FPYb9EEoi9B7lNQTpLWT/gcUxBFOraPaHbXD1+M/C+RA79PjrxcL1yKI6/0dmTQf+V6r4YXPBA2KEEv8+pFsC7X0w8y8KfPnKKPLyrpXS/9R+cvfRV/j5pFk1BOysKvx4bxTsQiMG+vqMivzmzBj/PJSS9SE73vuGR7j7GQPu+7Q3HPVwUgb9/hd09XqquvlidCL8zhwY/aLpNP9IRBb/MOJy9H8XLPswCgb2Y+eA/az9hPove8L2YjdQ+xB5+v9RiVL+kx2e9BhC2vaNoVjwntM0+742wulUcmzygX/C9fPBav4xEZsA4aGO+0MvePebvTz8Ep6Y+dyONPlNcgb+fGiu/54HPPVSIMr7KKVu+tuuvvsgEBD1O8Bi9MNv5vrak7b4CvZC/50wCP3e1ir26Yfc+V+JTPfoUuT0=",
          "dtype": "f4"
         },
         "yaxis": "y"
        },
        {
         "hovertemplate": "cell_type=stromal cell<br>UMAP1=%{x}<br>UMAP2=%{y}<extra></extra>",
         "legendgroup": "stromal cell",
         "marker": {
          "color": "#FF6692",
          "opacity": 0.7,
          "symbol": "circle"
         },
         "mode": "markers",
         "name": "stromal cell",
         "showlegend": true,
         "type": "scattergl",
         "x": {
          "bdata": "l22fvlKL9j2lT7C+mo1VvXjw7j56Sf49X48LP+ZwzL7nmzE+crSZPtJFxb7V+KS+IXSZvjYvn75666W+UpoUv3rh3766G5q+u0scv32OfL2s0GM8pU+VPYRnh775E/++f7sePy9dxL5xxqW+9IGqPJGJ777P6KS+9SBTv2I3E7/BDGm8SSKoPj5EFT/vW/G+6XHYvBzyzT49Gws/eAXOvjlOhD33MZa9e7N+PUd01z1Mwg4+fmrPPiBMsr7iE8o+ZBEwP1PxuL4miaC+ZoQyvyGwuzrvaJ8+nhbJPvujJz4mAvI9baELv/GbbL6/afc+ldkjv6XUFb4Usqu+VuNJvsju8T43rpw+hTyAvvGqpL7zgJ2+pSXmPKn9mb71hOe+Qwp+v/EV/L60P5C+p3cSPvktJz8Fd7m++ukXvyUD375ULK0+WRP/vQjTMr0FibY+zlQ/vEz9Ab9EyNw9B4gOP7TNc77fb3a95u8SPkIW0r4hkRS/wOUgPvsHML9i1tu+SpEJP4Ke1r6cm8I+Hl8Ev4xcgz7ADN++oEjkvmNHeT7WdBO/CZE5v07s9L6w2QG/Us/AvsN8Br9GXjs9ZaIfvxsNhL57bbe+W7eLvef05L037rg+zBO8vt6VmTwaB5c+/Ii+PWIbxT2m6De+0zZeO2Myyr4Fu4y+dQlFv0A1175ifYY9sCgkPoPn+L4YMhy+q4DHPoSy7T6gv2a+XvBnPl09sj6g/3I++/vRPSY1qr6/fpU+/h+NvEa9LL9G99++fkTbvqxs+b0tEQc9wNI2PirQJj1JAp2++mW8vrBRNb2EIOo8R7ghPyhiBr60RIo+WO9pPCwvG78iPLk+SOWVPVlIfr86ptQ+iLEUvhi1Hz5wz6s+JqL/vmTUlL/1+fu+y7ubvQ7ZHb/UaY67yci4Pc04k7/pwI+92R+iviTxq74RUXe/latzvXCLXz1CCdY8pWuAPhz7ID5m02E+I8aVPrx79L7b2JM+kmqIPkMXgD5nZk297Xr/vge9OT5sg9U9P/gwv8FcBz+J+Nw+35vwviZdHTxAYgK+I0C1PoYZAr+QpAe/zZdtvq9EbLzJNne8IRQqP3jxkL7a7dG+mZMNPt7t/T039EC+rYcRP8kqGL7Lao27zGWXvbyLTLyoGbc+FCL9vvOm6r7rt/M+uuzUPD+k6L5XOOK+7XDivrYd8T62RQg//XvcvoQjXb6zaAU+LhY6vZhYNr3wYoA8fSTSPjDtKD6nxYi9tVn1PdVWsL2jgm48nt0ov2uW2z5aWKM+FB7/vVS2xz6/PBU+X3aBPjxkkr5SrsS+VRO8PJc28b4zVhu/KYqcvhvDnr6k87a+CdTSPtl7975LSJS+A4fJPiuJ3r0X85c9A+ucuqsqEj8=",
          "dtype": "f4"
         },
         "xaxis": "x",
         "y": {
          "bdata": "XAajQDB61UBl3a1AspDEQHQR8kByBZxAqePwP2/qoEB19EtAzfZFQEVEjEB9GghBpmsHQf9+h0CZBYtAlYKeQHnplEDm+dVA9KebQJGigUBY9IBATZaiQCxan0AQTsdAIQE+QKMojUCEgaJAb4FUQANxpEATLghBLu/eQDzT1UAu/pxATl5GQBhd/j/VLpdA4lGEQMqJKkCaBCxABz3EQKHf0EC88axAngXKQLYZ00C7YmdAXKMfQNxFhkBgXxhBP7s3Qc8OCkFlMAlB5G3fQNGDykCtYuVAkXMkQBk5QEDtXVJAEBieQIVgyUB9nxFArDLUQDfa7UBdcrJA/3R5QLGGLUEBC0RAHLzVQITpBUFNywhBISbJQE4rtUAXaJFA4T8KQe1DpED6EglB+cSLQF+iNkGz96BAFUnXQJoRoEB+sDVAKAmoQN7g7kDryodAlLUFQaXsuECv2lNAsH9HQLsetEDrRAZBrkDTQBHxlUCDwQpBumBIQNzE3kBpx8tAUAwMQDiTlEBGQiFAzKijQKzYSkD5NY1AB9WlQAX2mkB0mM1AXSfcQGJpxEClYqNAZQSJQK74pUC7N0hAKIrYQH0XhUAZQoxAcSwHQaJnzEB7tX9ACeKMQAycykALmYVApMQ/QJntzUDnp85A86vKQIo8jkBeFotA0hXbQBEMp0D/1tJAf3DQQPUxmkAcl6JA3dssQCsChUDBWphAiINPQN4uNEA88UJAt1WWQEuhoUCrG1lA3WLNQFzS1UCFMI5AQ5WmQNYXf0CHUcNAKN3PQEONeECKlKJAcKIIQQ4fw0D9qMFARTaHQLPkgkC9u5BAVONbQDkunECspPZAF60zQUaT6ECicw5A93rMQMQDkEDObCZAlwWkQAnU9EAslaNA40iHQCTE2UAmbMVAxfbrQO3K8kAk0cVAZNgIQTh5lkC/lgpBGEzGQChkzkC3PsdAR5GFQI0o1UBO7zBA0rknQPSTo0BX2y9A4TdMQPtvQ0AbNoRAzq2jQFaROECOT4lAtu7YQMxdA0CseIBAFqXJQHFAQEDT5stAXTxWQGNJl0DkDuVADeWeQCze10DxDqVAsZlOQOKIoEBszK5AZu6dQGu8ZEDXrL5AFuIQQCDpykBQGspA6pGEQD3d4kAUMCtA0zCmQLlKpUDvHDRB8W+gQM54x0CoEqFAs9WUQIsSLkGtZQFATpXIQBQkCEGxQNFAO7uEQH6HqUAS1MlAdjc5QAlwS0A6rcFAw8lFQAgXiEA9I8VAY6DUQKhGLkAD3TxAdsJpQLJvL0D2rs9AvoPeQBeHi0AxL59AeyTFQOato0B2btVAOeuHQMJPhEBcv6dAx9YTQIYXmUB5q4hA/0yCQOvty0DdMNBADytuQGi3OUA=",
          "dtype": "f4"
         },
         "yaxis": "y"
        },
        {
         "hovertemplate": "cell_type=innate lymphoid cell<br>UMAP1=%{x}<br>UMAP2=%{y}<extra></extra>",
         "legendgroup": "innate lymphoid cell",
         "marker": {
          "color": "#B6E880",
          "opacity": 0.7,
          "symbol": "circle"
         },
         "mode": "markers",
         "name": "innate lymphoid cell",
         "showlegend": true,
         "type": "scattergl",
         "x": {
          "bdata": "FBAowH34wL+h8mk+d1PRv+6UUsBfOz3AoTSMv/ikUMC1skXAPYGOwOYgNsBQGJS+Rg5WwJvMHsBw0yLA5U8zwFdCdb8YUUTAdAo8vzA7S8BWSio/c0JCwIsuOsB8eMy/lhbvv23KEMAkf1XAqVGQwHPhM8C3ZDrA7/pKwJB5IMCbSQnAbD5UwNNzTMByTzPAuSlmPlteQMAbXRnAm7EPwC1dCsDYKlDAUHalPjbGMsANnz7A+3wivgdrQsCJykHAy/S5v/J/QMA=",
          "dtype": "f4"
         },
         "xaxis": "x",
         "y": {
          "bdata": "U6v4vwMpEr9vg9Y/zEhivzxgMsCXZxzA+gWwv4SoMsCptbu/8nN6wN4tqb8grEY/O0o3wP5moL8ihra/V0Gfv7dJOr/S28G/nI6zvo6ZJcAQcMo/UAcAwEl/oL9M84W/kQUhwHbonr8tizDAGmV+wG3Qpb+LuKG/rO+sv5EItr+qiUy/ExVJwA4nLMBT1Z6/aQfIP4ToqL8uQ5m/vubcvyBQoL8PA0XAgfnMP2JTrb/ttKe/gORCv5Hrx78crJy/vWezv0blq78=",
          "dtype": "f4"
         },
         "yaxis": "y"
        },
        {
         "hovertemplate": "cell_type=t cell<br>UMAP1=%{x}<br>UMAP2=%{y}<extra></extra>",
         "legendgroup": "t cell",
         "marker": {
          "color": "#FF97FF",
          "opacity": 0.7,
          "symbol": "circle"
         },
         "mode": "markers",
         "name": "t cell",
         "showlegend": true,
         "type": "scattergl",
         "x": {
          "bdata": "M8uFv4Dtxr+ExzbA8WElwB44NcB+/Y/A71/cv9EJs7+6Z+u/BNsXwDgp5b1mIC3AYHadvwWBpb+/iyDASShxv9zH+L/HnJDA97vfvxv9LsAqUx3AgfWKvzx0KsB3TbW/RdqAPupPjb9lJ0zAa3Cxv6XJBMDXtCPAp4MFwF0gtz9SfwbAG/SUv/oYGMAN8o/AUCAswPSmJMAbtO2/6LSxv4vZOz6r/z3AQWMfwFbyGr/cEC3AfJn2PrKMRcD9ZYa9yVOHvwdqBMC3t+y/JTY3wJO3o7+ltLu/C0HlvxD79r+7GDnA3MK2vyioFcBcnDo/Bgk1wJ69tb97p0TAsWBzv4iNjb8q9+y/bCSHv9+OIsBRHr6/fjsIwJWMu78cpjzAgt8TPneirL+v/zc/Iy7mv+Ew1r/fae2/ZnPFv6bfib9wiua/hRkLwAQfUL4Ts82//KJVv4idP8A9qrC/0/kFwGNxVMAHcY/AmZYlwG+T9z6tScy/ba4RwKjesb9cwSa/x5UhwBKVI8DlLxzAVSPlvwTcQcCRvII+YyIdwJdzNMDNMKK/EgARwAUcA8D/erS+IMOAv7UQ1r9AgPG/qv41wPQunb/S41y/n3rfvzhUXMCJ6yzAOi8VwL7KJ8BFu6e/fbaWvz8Lmr+u+AvAuEAnwElqIMAmMaa/ZMwpwBBe8L/HixbAbt/uv0Casr+B48G/X0X5v72vjD2iY8C/c83gvYMAOMBrf7G/uco5wIRXAsALSuU/s0Chv04v1b9pZeq/2y/9vweaNMBgayLAxfPHv5CkKcAeUyXAFyLvvz85Qb/LJde/72pNwM1LL8Cv1g3AkZHbv4yQqL9koQbAZpuQwFxzUsDG9uW/Awj1v2OAAsDhJtu/0mB/wBKiHcCJ6rK/j/P0v8w3z7/Rct6/UG7iv5YU97+6Crm/Fue1v9LP0r8SjQjA4dKlv9MtGcArZbu/KyQ4wFdQVr92QQDAxE3uv15qNj4VmdC/j/Kevw+jor+nL5y/04MGwMWf8L8g7fm/SmopwDxP/r96nMC/rEH7v8Kpv7+hSUlAUVufv/Cozb/qRyvA3uk3wOwTCsAwXoO/jlVbv0Bydb88ku6/ATv4v5wytr/M7EHAuJO8v1UZ/b/3FZHAm7eNwMlCI8B1kyvACPn0v/hPzb90CRy/QrQ3wHosNMANaK/A6FEJwCFU8b8wu0rAkPL5v0mP17+bq/y/weI2wOZ427+vfSfA1p6LwHWE6r+lfqW/kVTbv5adpL+4bynA8pzpv3+bj7+phpDAx9fav64lN8AVCSDAHuIfwHK3dL8Zr5e/qCuVvZykK8DnxGi/EZbqPh7t6r+cfBw+trOHv7pofL8wmIM+2fTWv4jnxb8GwUjASHcswC+Wjr+sfMy/4bLCv8si6r+FvMO/alz/vxC6GsAoZFy/qAwPwFq0OsD9lkTA0G34vwDewL+7LTHAZv0mwI0xB8DkSw7AnU47wJuXF8C7eiDA064HwIQvyb9sKULAu+r/v6uGPcA6nAXApECbv0X+qb//pPC/JIrYP7ct979Rm6W/M9NNwD212L/lK9e/IPX/v5vqD8AhiTnAnHAfwKNQub8=",
          "dtype": "f4"
         },
         "xaxis": "x",
         "y": {
          "bdata": "ZunivqPK37+TzyTACGSlv0r2v79uan3AAxFxvytSwb8z5kvA2ISev8yZfj9DLmnAEoyKv7hNQL+WCR/AukOcvlbRXcDHk37AlboVwHrJZMB1vCfAZZg6QUchqr/fpBm/TQvMP6sNJ78vSEfAWYofv2sRsb9/pcq/BatNv/SoTEGm0uW/hUOPv0w8asCNdX3A0y60v1NkHcBo8FrASYkqwPtd0T/xKlXAulpswJoH9T3cjCPAVbnnP9Ijqr9xxxC/vtgkvwnwYMANh1zAr5ffv/+GLb/rNYC/FDGzv/BCk7+82CXAX1cPwPIZl7/sK8Q//5QzwJeLOMDRF7K/b21Kv5ULpb+0bRvAIBBUv675I8CNmyHAN1EEwDJfEb+t22vAVHL0P4r6F8BAZcU/HM1bwHTyUsC14K6/RI5KwM1J3r8srFPA+lmRv6PaTz8Brqq/dov3vjPhvr8o6RzAE9rLvygIKcA6mXzAcxtewDTC0j9UVDW/ELlnwETmH78OzqA8ONpnwGJkasCQ1AXAEAChv8pUKcCyI+q5AtYLwBcPVcCnzJW/dMYTwK62EcCNjh4/SxaFvpKetL+U87a/36/1v67dob9x5im/Id5FwEkrNMA9eWLAQQRnwEVtIMDnJge/1Yvov2bV+7/s+BHA3aMbwOUcx7+T9g6/BD6nv/r2V8D76WjAtaHbv55JOr/nESy/UWpfwCqlSz4tviq/5TXovq2mYMB0m7m/oacpwHiK3r9kcFxAKTaav9fYcL/idZi/OEq3v3OMub9aEyLAxqDGv8MqAsDnKGvAh4BXwPpl0r0ctw7AfHFFwJLlaMAAprm/N3lYwG/hE78Psh7ASI5+wB1XQ8B0NxPApFC4v4r6YcD/kGC/zqoXwFS6acCYWaC/sBafv19+Lb8fxYu/PtRPwG9GO8BgCQvAZ60GwB9tVr+1Zq6/Fw0dwErM+7/WABS/H4lJwH8FKr4MdZ+/YZkCwGJhrD8/orC/Vt4hwBihi78FjAW/SvFmwNsSnb/+siHAmIsmwDUbyb9QILq/3WNZwGY1xr/XTAtBoVO9v0Blv7/is+a/CoGjvwsga8DTVgy/xC4Pv9n2Kb8ZZ82/s1GevxBPNb8zyVvAz/VMvwRVV8Dxin/AwIR7wDG3oL/GvznAv4Wfvxlimb8c1ws+WydpwCuaasBldkm+1ypowNooP8DNjkPAt4zsvwheVL/TuvS/AfC1v0hvoL+7QyfAp8EXv1sbQsD12dy/CgsHwCM4xr/3tGfAkh+lv4yDkr/9fH7AYZtWwOHI0b8spxvAbcCPv5jIkb+JmjG/0zjOvn6bLcDBySG/YMDLP6TRW8BBnR1A06B6v5HNNb+nP7k/KewIwLBsz78pjTDAWrctwAXfcr4ANVa//hswv95KHL9OCxPA21EJwMr7lr8OWE6/x5Wmv99wXsAzHLe/OAlgwD3BCL+hTqq/FCtbwBLpqL/4eGrACjAuwE26C8CejyPASO9nwILdQb8QZTLA97xiwCpGacBEL7S/LCghvyewlb8VmU/Adn1jQP3NXcCoLda/bL43wLtzL8C7Eaa/21rov7Pqa8BQbmvAgRL9vxIUn78=",
          "dtype": "f4"
         },
         "yaxis": "y"
        },
        {
         "hovertemplate": "cell_type=contractile cell<br>UMAP1=%{x}<br>UMAP2=%{y}<extra></extra>",
         "legendgroup": "contractile cell",
         "marker": {
          "color": "#FECB52",
          "opacity": 0.7,
          "symbol": "circle"
         },
         "mode": "markers",
         "name": "contractile cell",
         "showlegend": true,
         "type": "scattergl",
         "x": {
          "bdata": "jInrP+HU4j2I7gFASWwGQM1poD7keAFAmLgyvyBmGj557IE+iW+qPj0dsj5GJJg+F8sFv8Mr7D+CWPE/IasHwKkhjb9i8+4/Cfq+Puyszz38BX4+l9KKPuiSPD7Huqg+8GDhP79Kpz6habM+0qGzPnph7j9mOAK/MACnPdmukT6O04o+QjbEviz4Gr/sOSA/dxFEPii6CEAXnGk+C60owDDq4T0gaoU+EXIGQMQA6r7CaQFAc6cMwFhugj4jlu+9FXuEPo8OeT6gsLK8J7CDPjyq5T8VlwVA+rqAv2RXr7+uL9Q+RGLwP1yz27+BQPI//88HQEc2Hb8gtiLAkNaBPirdrz5cOy+/Hfj/Pzh1jb++xO49impzvWIzmz2vHo8+juLzP1h7CkB/p/E9II+6PvCuMD7dR509jroIQLnBRD5U+f0/gznuP/NV5T2+p4M+Ah+zPrDg9j9sCug/PE9pv7D7uT6/i6g98XR1PgF9iz6YDlo+sTjdPRf/Db8zkdo/v+qYPkehkD3obJE+jVTdP5K34T/hm42/lSChPiGeqT6PDu493bQDQN061D93JX0+FyXqP/sBJj4dYCY+H0URPsX0HMDMJl4+8xVNPmQLcz6RoaG/LWumvXjfhjs6TaE9IqgYv9VFqj4MURnAc8L8P7q7h79FrbS+zs/vP6hbQz5JvgNAVctAQCAGIMBGqAZA8tjoPwFslj4c+5Y+BcSkPggbtz4WuuM/aKgHQIVRzT6VXJa/IY1xPmnSwj7j3Bi/8/gGQM6YAkDNBANAeeYEQPx+iT6QqQdA",
          "dtype": "f4"
         },
         "xaxis": "x",
         "y": {
          "bdata": "vA0TQTBu6UAs/QtBGj0IQdfaEUHT6QtBLZYXQajv6kDxGhRBwv+YQEdp7UCb2exAkx4kQYSwE0H5JRJB+mg0QSbOEkGrUBJBXZUPQbUDGUEut6dA/HzxQNKDFkFeghNB94URQecQEkFDxvBA3VftQGTGE0HyfhFB4MUQQYp5FEHP5+tAx/EhQdcXFkH+VUpAU2vtQHB0BkFLTu5ApwwOQax98UBefBtBZBkJQfWjG0EsOwtBOiQqQfSNGUEcCg1BlPTsQJM12kCiZjFB3ojwQHobC0FyYQpBrIoTQV9K/ECpUzFBTH4RQd5CO0F6KxJB2wUHQbPlFkFqNg1B5DoXQa2u+kA3shZBOW0MQdLkCUERGiBB/OnmQF6U5kAIEvBASOcRQfLZBUGmqhxBgjYRQYgbGEG5T+lAt4cGQetjFkGakw1BIekSQaAFHUGdfdtAd3GXQDAcEEEJMhRBpLsfQUlyE0HSvBBB8h+gQD+2EUEpCxJB5rnjQAAuJkH+1GNAF4nwQIutEkG/Q+5AzwwWQcJrFUEg9DRB93zvQJsNFUFhEhxBxp4KQQiBD0GeMe5A0JETQdI98EC7PfJAsEsQQb5OJUEBshFBZBQbQQcb8UADRhtBx3sOQReBD0HRVu5Aam8WQcTaEEFQTw5B5hUQQYLuBUFSRRlBZXsSQRmV7kBjswlBvULzQPKkH0E77QpB97YVQdMPFEHg4RRBXWHvQNUDEUEBhxdB99UGQcRH+EDKghBBOzgbQWceKUAQBxFBveYGQdriC0EaegtB7pULQTn9FEHlcAZB",
          "dtype": "f4"
         },
         "yaxis": "y"
        },
        {
         "hovertemplate": "cell_type=stem cell<br>UMAP1=%{x}<br>UMAP2=%{y}<extra></extra>",
         "legendgroup": "stem cell",
         "marker": {
          "color": "#636efa",
          "opacity": 0.7,
          "symbol": "circle"
         },
         "mode": "markers",
         "name": "stem cell",
         "showlegend": true,
         "type": "scattergl",
         "x": {
          "bdata": "ww2XPm0Zzr3XHYG/WB1QPqxR7b5V4ey/YfgCwGGcyL8gY32/maQDwHSqCcBbh2q/HJ83v0qkBUAuF1Q/gMaPv2CG7r+k5jS/aB3av5Rpbr/oWCHArOlpv/K9PD+hVHy/djK6Prj96L46Beu/GP6vv4X+x7tqG1ZAWNFVv5W5DEC+N6O/BRjmv8KRWUB4EOy/9B16v5Xo/j5BlGm/MmL1v5iEVb+w/qY+SVZyv3iJHMA/77w/JCFiv/1TX7+MGlA/tdAlwIXmwj/OTsq+lXGqPxt8ML+CdLg+t4rDvnYQG8D5cV2/R2hNQC+W6rxHJH2//9aNvwW9aj3EI2BAnydGP3GjgUC4Jlm/b95Wv7kS4r1cpT6/CC+TPuNbwT925eG//tfAvwRuWz9PNji/siphQDsxJ79VNVE/GvN0v3pICT+r54Y+1iKsv8yg3L+zJfU+0rIPQP+2dr+BzSq/gZHfPkPvXr+OZWe/0s7OvybjYj/axFxA/cSLvzkXnT462su/S/5qv97mOUCABqM9dH87P8GmUD96Iaw+iuAZwOhjW0Cgq1S/BJpPPgcIWr9si5y9i/niv1yeXUAvGCfAhF8uv261478IOMo+5JetvwEDI8CF0J+/Vmt0vx/WHsAgxwtAcTL2PitVzr/Cd1Y/6CvZv1KreL+NGHC/",
          "dtype": "f4"
         },
         "xaxis": "x",
         "y": {
          "bdata": "swqQQISx+L4Z+hFBqWZYQEAl60AD7AFB7LcHQY7A7kAHWh9Ba9EFQbRSEkGmnRFB/9QXQVkGNEHD7PpAEy4VQRUtBkE2DhRBZ9L/QGABF0ESOAxBJVYTQa+YQUC/fxVB45hBQKe56EDjv/5A3XwIQSMSZkBpm/xA9dkhQR+BMkHY3hRBjpv8QP1t/0AfqP5AbLsRQYqUi0B+rRJBZzIEQa8rGEGK4xi+Xy4dQUg/DEGia3tAFEoVQYFLEkH7EPxAyjoMQdf0SkE5afNAy2VvQHfiGUHvUClAsCgUQY+CDEGMrR9BDjv+QIkAvL5eAxJBVY0VQQ091UBBz/ZAWqv5QFedEUGwYRtBrSUhQXieHUHmVhtBaWGhQNLUS0Eqo/xA+fzrQOwL/ECpYSFBHhf6QDAyGUFXO/pA2xMRQU5u2z8QNpdAFVYOQSKCMsBO2H1AX5oxQdhpEEFJaiFBGIAWQB80GEG3YRNBPpkBQc5O/UCG6vRABRkUQRspAUCsDwJB/y4WQe1dQkFRSh5BHsCJQBHZ+kBP2+e9+iELQRDgFUE82R5BGmS3vjfW50CiucpArX38QIO690BD2AxBHpkcQV2g/EDBWzRAlmfrQOa+CkEsyOpAJosEQXZiDUEQWRtBOveJQAg47UC66vpAjIv7QIDlHUGhExFB",
          "dtype": "f4"
         },
         "yaxis": "y"
        },
        {
         "hovertemplate": "cell_type=endo-epithelial cell<br>UMAP1=%{x}<br>UMAP2=%{y}<extra></extra>",
         "legendgroup": "endo-epithelial cell",
         "marker": {
          "color": "#EF553B",
          "opacity": 0.7,
          "symbol": "circle"
         },
         "mode": "markers",
         "name": "endo-epithelial cell",
         "showlegend": true,
         "type": "scattergl",
         "x": {
          "bdata": "/YBjQAH7tj8ftec/3iqnPiRm2D8E7rU/v3NuQCiY0z+8ln9APLyFQM9idEDHo2RA8Ha7P/QTSUA59sK/",
          "dtype": "f4"
         },
         "xaxis": "x",
         "y": {
          "bdata": "Ni32QO0ATUH4+TpBPtExviqMPUHL60xB7YD2QHixN0Eqbf9A2RAAQQ3T+UBKr/JATFAYQX+Y+0CpghVB",
          "dtype": "f4"
         },
         "yaxis": "y"
        },
        {
         "hovertemplate": "cell_type=lymphocyte of b lineage<br>UMAP1=%{x}<br>UMAP2=%{y}<extra></extra>",
         "legendgroup": "lymphocyte of b lineage",
         "marker": {
          "color": "#00cc96",
          "opacity": 0.7,
          "symbol": "circle"
         },
         "mode": "markers",
         "name": "lymphocyte of b lineage",
         "showlegend": true,
         "type": "scattergl",
         "x": {
          "bdata": "sJDSv8xj579sJxXA5sm1Pk0u2b+WzgfAGZ8QwBSB1b+c+a+/NoQXPw9MCsApFMm/QsO7PX9Jw7+0eNm/R0GevzNwhz8NOEM/ztDbv9WyxT7lPZDAInUqwAspgz/fMjHASiatPc0KGMB8SF+/gvvxv58Gyb9h/24/6oVpP2svuT5XCPS/6OfJv8Eltb+alHG83bS8v90KgcDz6fa/Ekywv2b6eD/ikGc+X6QOwPy/4L+0/u+/EGFBPi6WXr8hWiQ/5y6uvwTbc7+7Jcs+0oIKPr3jRj9wYgA/F442wPo1879Giyo/O6i5v2O3A8D/n5LAhgovPzBmQj6c5V4/VgDLvxyErD5vuVo/WuHuv2u/0b82ALq/7Dc8P0bekz73b+6/W5G7vycBtr9mNsK/D/FkP5g00j7sBWS/1k2ev1Mti79BLps+nzpIwJl2p78Ge08/xVCZv7zSkcD2KyA/Fu3vvwJPC8B854E/2K8nv1va0z3KBVa/1C1AwOosfj9ML60+vfkdP7dR97+1q2g+ifANPz0NXMDtP5y/6uMzwCH/bj9xbk0/6erzv9zbkMAIPGy/EYx5v6S1hz8wFGU/uZ/Xv8MKCsAUGIW/ZAISwGxWAcA6g4S/rN8PP7GQ87+3z+k+ZI7vv8i8Wj5L8fw+C44dwI+WEz+W94m/zkyQwFp6k8CnoAjArbYZP9ZEmb/cOsK/q8EGP2lKlb/kNue/aSPcPpb6AMCwEJO/xvCfv2TZ6j2EfGk+c1WoPj9P479jN7G/TraFv6ZdZ79D39+/p/cTPwIukMC5z4Y/pZa6Pihw3L/Y0pG/5BEzP/4nkcActQ/AQxOnv9occz92uzE/TROLP/aQvL8pS/I+IfDDv3bkPT4Sx2M/PtOQwKiGKT+BcMe/LEysvwQjWj837UA/",
          "dtype": "f4"
         },
         "xaxis": "x",
         "y": {
          "bdata": "KV8ywJTcM8COdU/AkmJnvulw3b9gs03AzGdHwCxSNsBV/mq/oSJav8NUScD93e2//yWvPyJgK8DWa8S/Na1Xvw0BPr/0q/O+NbEkwL1TJr6H9H3Amj42wOUKPr8Nn1zA3+UEvxOKU8DvcqO/exExwOLamb/U2ke/QAsuv+fBv73G4lu/pnghwObDxr+PL/e+y2QewD5D/T66YE3Av86av85ALb+/+iC/CLxLwGaG+b/SHErAJ77HP1Lvs78uySa/fswbwPrRx7+FojC/owZNv/789r6NIYm+p+5nwDNc6L9Ox8S+RnEWwC44JsCgIoHAaOZTv49iwT8+CRm/fUfYv9N2Ir4vES+//Mw0wMJC9L9LntG/uX+Ivhp7CkDltj7AulMlwH3GGMC0JBjAiwhVvzWyjL5Be5C/8XfWvxrR079yZyG/wKAwwHPre7+0bEa/JxoNwN1RgMCfXMg/jUdIwNdNTsC/NDa/l2AAv3MitD/To5m/ZqNgwMqxKr/zmc4/3v7IvpVePsCbPia/QgvLPykASMCKqDu/yi5owBDuHb/XOAa/vCNAwGYAf8AOxMa+RcMuvyJ4Pb/WHk6/dlgowM0cTcBWv72/YyFLwLA0QMDYDj2/yeTOP0jQB8Ah+3W+lXQCwFzWuj9Rnjm/O6dWwJaZ4r5tzS2/phx+wNzIYb3Nt0DAsGnhvqcKhb8QmxnAPBDPvvGmSL/ZYDjAXVWQvuUuO78N7b+/PFU4v0WbAb9WQjK/1D1mviqD97/rC7m/bvqcv483Gb/ikei/cl8Vv61ffsAgMkC/Ten7vsSGNMB0VRK/mFduv4XXf8AgTk3AC8GvvzFjTb9aIBC/oRA+vyn5F8D8fM0/VIgpwNzByD1IX1e/U/B+wA4tl75stRzAIq8EwHj0CL/QE8E/",
          "dtype": "f4"
         },
         "yaxis": "y"
        },
        {
         "hovertemplate": "cell_type=glandular epithelial cell<br>UMAP1=%{x}<br>UMAP2=%{y}<extra></extra>",
         "legendgroup": "glandular epithelial cell",
         "marker": {
          "color": "#ab63fa",
          "opacity": 0.7,
          "symbol": "circle"
         },
         "mode": "markers",
         "name": "glandular epithelial cell",
         "showlegend": true,
         "type": "scattergl",
         "x": {
          "bdata": "syV8QKYKnkA+lhhAwQAgQRYeIEG2X98/muHoP/3pB8C4dB9Bzp0fQVpJfEDGf5tAX0ogQYdrnkAJMyBBcd0fQU/cn0C9FSBBVXivv7C9nEBjXCBB9BeeQB2SH0EyWCBBInObQPHwH0FSkR9BvrkfQSZTH0E1cCBBS9gfQWD3H0Egqp9ABbYfQaNq9j/Ey51AwBcGQL+5hEAuNH9Acc4fQQ==",
          "dtype": "f4"
         },
         "xaxis": "x",
         "y": {
          "bdata": "vo0MQVBKEkGhxS1B/k7tQFgM7EAXXTxB3AM9QQ6dDUGJVexAlg7tQKi++0BfZBNBEXfsQMpsEkHoHOxACZPsQDGoEUFAOuxAuNgxQeflEkEIlutA9YASQVH+7EA7aO1AiN0SQRea7EDJD+1At+XsQDCm7UCVi+tAGsfsQCaI7EB+9BFB/CztQIScPEGMnxJB2J07QbkxBUGPiPtAN7HsQA==",
          "dtype": "f4"
         },
         "yaxis": "y"
        },
        {
         "hovertemplate": "cell_type=ciliated epithelial cell<br>UMAP1=%{x}<br>UMAP2=%{y}<extra></extra>",
         "legendgroup": "ciliated epithelial cell",
         "marker": {
          "color": "#FFA15A",
          "opacity": 0.7,
          "symbol": "circle"
         },
         "mode": "markers",
         "name": "ciliated epithelial cell",
         "showlegend": true,
         "type": "scattergl",
         "x": {
          "bdata": "9qccQBoLFUBUSABAmbLFP0MFyz6TuMI/LFLEP2VB8z8=",
          "dtype": "f4"
         },
         "xaxis": "x",
         "y": {
          "bdata": "4RcnQZkqIUFKrBRBIC4/QVZ7C0FIJEBBBtM/QRHkEkE=",
          "dtype": "f4"
         },
         "yaxis": "y"
        },
        {
         "hovertemplate": "cell_type=hematopoietic cell<br>UMAP1=%{x}<br>UMAP2=%{y}<extra></extra>",
         "legendgroup": "hematopoietic cell",
         "marker": {
          "color": "#19d3f3",
          "opacity": 0.7,
          "symbol": "circle"
         },
         "mode": "markers",
         "name": "hematopoietic cell",
         "showlegend": true,
         "type": "scattergl",
         "x": {
          "bdata": "5sJfve3xAcA16TXAYQcvwENhFUDUKYY+HCeywKNaO8BaTIjAHWmswJYOrMATMZI+",
          "dtype": "f4"
         },
         "xaxis": "x",
         "y": {
          "bdata": "RX2MPwyEOkHFl1HAsXaTQSBAOkFCvZJA6NZnvekQob/RbBY/n1mkvj2THb7WXsM/",
          "dtype": "f4"
         },
         "yaxis": "y"
        },
        {
         "hovertemplate": "cell_type=duct epithelial cell<br>UMAP1=%{x}<br>UMAP2=%{y}<extra></extra>",
         "legendgroup": "duct epithelial cell",
         "marker": {
          "color": "#FF6692",
          "opacity": 0.7,
          "symbol": "circle"
         },
         "mode": "markers",
         "name": "duct epithelial cell",
         "showlegend": true,
         "type": "scattergl",
         "x": {
          "bdata": "3p1cPj7nGECVnZxA7YlXP0/XYUCew5hA6yIaQOM4FEDQBRBA+eDNvrMUg0DU8YPA",
          "dtype": "f4"
         },
         "xaxis": "x",
         "y": {
          "bdata": "Ze+AQDtNKkFBuRJBmG37QNjpBUFQHRRB2uEqQci8K0HW2S5BePDoQGA4/kBS2FY/",
          "dtype": "f4"
         },
         "yaxis": "y"
        },
        {
         "hovertemplate": "cell_type=epithelial cell of lung<br>UMAP1=%{x}<br>UMAP2=%{y}<extra></extra>",
         "legendgroup": "epithelial cell of lung",
         "marker": {
          "color": "#B6E880",
          "opacity": 0.7,
          "symbol": "circle"
         },
         "mode": "markers",
         "name": "epithelial cell of lung",
         "showlegend": true,
         "type": "scattergl",
         "x": {
          "bdata": "Qot4QB/EgkDX9IRAmRmDQJvpgUBYWsU/BU3gPko+gkC5K6s/",
          "dtype": "f4"
         },
         "xaxis": "x",
         "y": {
          "bdata": "9fD5QEU//UAwHABBzAr+QL6P/UARGYFAzMcOQIsG/kB+Rm5A",
          "dtype": "f4"
         },
         "yaxis": "y"
        },
        {
         "hovertemplate": "cell_type=cardiac endothelial cell<br>UMAP1=%{x}<br>UMAP2=%{y}<extra></extra>",
         "legendgroup": "cardiac endothelial cell",
         "marker": {
          "color": "#FF97FF",
          "opacity": 0.7,
          "symbol": "circle"
         },
         "mode": "markers",
         "name": "cardiac endothelial cell",
         "showlegend": true,
         "type": "scattergl",
         "x": {
          "bdata": "xusSwPInJMAPlKG/wJgQwIdpRL9zIQjAvSLsvxctvD/8jC6/NWjjv/jrHcCQHYK/NobVv2hvAMAI93G/xKY5v98m9T5JCf6/",
          "dtype": "f4"
         },
         "xaxis": "x",
         "y": {
          "bdata": "BmkqQVIwIkF8FzNBxPAoQZ4pNkEmeClBymguQeW3AEHXwTZB5lQ3QS0aJ0FKDDZBG7otQQhNNkGH/TFBEi43QckO80CktDZB",
          "dtype": "f4"
         },
         "yaxis": "y"
        },
        {
         "hovertemplate": "cell_type=epithelial cell<br>UMAP1=%{x}<br>UMAP2=%{y}<extra></extra>",
         "legendgroup": "epithelial cell",
         "marker": {
          "color": "#FECB52",
          "opacity": 0.7,
          "symbol": "circle"
         },
         "mode": "markers",
         "name": "epithelial cell",
         "showlegend": true,
         "type": "scattergl",
         "x": {
          "bdata": "8KCcP2qUWUDzy2FAAkWnP4jgvD9jAKY/VYjEPyhFUsA2jL0/iZx6P8BTKz+wEN8/IpSKP2xhnj+4EWRAXUPGvwqcxj9aLMI/m2ZfQJpHmj+5K9w/+1hwQDTziD9OCTQ/CSKiP/sD5D8nDcE/s6ukP7dTZECMzKI/E2ybP18vvT+RU/+9qDW3P7u5vT9LPL4/KWK3P4Pfxz9BG21A1JDbP1oLuT8t8b2/",
          "dtype": "f4"
         },
         "xaxis": "x",
         "y": {
          "bdata": "/F05QT+aAUHq0gVBl+I4QaIHeECn+ExA06ZpQNLgNb9anGxAeFN1QI62yD/+JF9AHBA8QBpTOUGJSQZBTk04QXiogEDGPWtAQDgPQTMWQUCe22NARfX8QEjKOED2Hco/Fz85QXpgXUCjGm9Ap3Q5QdYsAUGXqjlBzDhlQHSdbkCXPspAQiVyQKfQYUDjnnBAHpZwQLTBUkBi5gJB41NhQG0gc0BLzy5B",
          "dtype": "f4"
         },
         "yaxis": "y"
        },
        {
         "hovertemplate": "cell_type=adventitial cell<br>UMAP1=%{x}<br>UMAP2=%{y}<extra></extra>",
         "legendgroup": "adventitial cell",
         "marker": {
          "color": "#636efa",
          "opacity": 0.7,
          "symbol": "circle"
         },
         "mode": "markers",
         "name": "adventitial cell",
         "showlegend": true,
         "type": "scattergl",
         "x": {
          "bdata": "3MYmwGWy1r8ohSDAyA4lwJ28IMBWpRTA2hoawA==",
          "dtype": "f4"
         },
         "xaxis": "x",
         "y": {
          "bdata": "CaQMQdfX8EBNDAlBJOkKQbwoC0Hl9wVBG2cMQQ==",
          "dtype": "f4"
         },
         "yaxis": "y"
        },
        {
         "hovertemplate": "cell_type=erythroid lineage cell<br>UMAP1=%{x}<br>UMAP2=%{y}<extra></extra>",
         "legendgroup": "erythroid lineage cell",
         "marker": {
          "color": "#EF553B",
          "opacity": 0.7,
          "symbol": "circle"
         },
         "mode": "markers",
         "name": "erythroid lineage cell",
         "showlegend": true,
         "type": "scattergl",
         "x": {
          "bdata": "QXmbwCGymMCdn6HAeBSvP3slgj8Lib49KWVMP1EIgD+XTCLA",
          "dtype": "f4"
         },
         "xaxis": "x",
         "y": {
          "bdata": "dpQVPm8+6j3nOMU80D9MQT6NYEDThga/OEVCQHJBVUAEt5VB",
          "dtype": "f4"
         },
         "yaxis": "y"
        },
        {
         "hovertemplate": "cell_type=stratified epithelial cell<br>UMAP1=%{x}<br>UMAP2=%{y}<extra></extra>",
         "legendgroup": "stratified epithelial cell",
         "marker": {
          "color": "#00cc96",
          "opacity": 0.7,
          "symbol": "circle"
         },
         "mode": "markers",
         "name": "stratified epithelial cell",
         "showlegend": true,
         "type": "scattergl",
         "x": {
          "bdata": "kol3QF695D8=",
          "dtype": "f4"
         },
         "xaxis": "x",
         "y": {
          "bdata": "n7H5QLhUXUA=",
          "dtype": "f4"
         },
         "yaxis": "y"
        },
        {
         "hovertemplate": "cell_type=kidney epithelial cell<br>UMAP1=%{x}<br>UMAP2=%{y}<extra></extra>",
         "legendgroup": "kidney epithelial cell",
         "marker": {
          "color": "#ab63fa",
          "opacity": 0.7,
          "symbol": "circle"
         },
         "mode": "markers",
         "name": "kidney epithelial cell",
         "showlegend": true,
         "type": "scattergl",
         "x": {
          "bdata": "HYlXQCaGXUB2y19ATvRcQA==",
          "dtype": "f4"
         },
         "xaxis": "x",
         "y": {
          "bdata": "HDXtQMJ18UDMCfJAIBjyQA==",
          "dtype": "f4"
         },
         "yaxis": "y"
        },
        {
         "hovertemplate": "cell_type=melanocyte<br>UMAP1=%{x}<br>UMAP2=%{y}<extra></extra>",
         "legendgroup": "melanocyte",
         "marker": {
          "color": "#FFA15A",
          "opacity": 0.7,
          "symbol": "circle"
         },
         "mode": "markers",
         "name": "melanocyte",
         "showlegend": true,
         "type": "scattergl",
         "x": {
          "bdata": "Arqkv0jM8b8=",
          "dtype": "f4"
         },
         "xaxis": "x",
         "y": {
          "bdata": "HZ4IQQJUJ0E=",
          "dtype": "f4"
         },
         "yaxis": "y"
        },
        {
         "hovertemplate": "cell_type=dendritic cell<br>UMAP1=%{x}<br>UMAP2=%{y}<extra></extra>",
         "legendgroup": "dendritic cell",
         "marker": {
          "color": "#19d3f3",
          "opacity": 0.7,
          "symbol": "circle"
         },
         "mode": "markers",
         "name": "dendritic cell",
         "showlegend": true,
         "type": "scattergl",
         "x": {
          "bdata": "BOSEwMaufMDc4Hk+9+qVwDG/kcA=",
          "dtype": "f4"
         },
         "xaxis": "x",
         "y": {
          "bdata": "Y3aLPptbA7+VBMg/AxrpPl8u4j4=",
          "dtype": "f4"
         },
         "yaxis": "y"
        },
        {
         "hovertemplate": "cell_type=meso-epithelial cell<br>UMAP1=%{x}<br>UMAP2=%{y}<extra></extra>",
         "legendgroup": "meso-epithelial cell",
         "marker": {
          "color": "#FF6692",
          "opacity": 0.7,
          "symbol": "circle"
         },
         "mode": "markers",
         "name": "meso-epithelial cell",
         "showlegend": true,
         "type": "scattergl",
         "x": {
          "bdata": "i7nMPK/2xT4=",
          "dtype": "f4"
         },
         "xaxis": "x",
         "y": {
          "bdata": "RS30QOwG70A=",
          "dtype": "f4"
         },
         "yaxis": "y"
        },
        {
         "hovertemplate": "cell_type=conjunctival epithelial cell<br>UMAP1=%{x}<br>UMAP2=%{y}<extra></extra>",
         "legendgroup": "conjunctival epithelial cell",
         "marker": {
          "color": "#B6E880",
          "opacity": 0.7,
          "symbol": "circle"
         },
         "mode": "markers",
         "name": "conjunctival epithelial cell",
         "showlegend": true,
         "type": "scattergl",
         "x": {
          "bdata": "q7JeQO568D4=",
          "dtype": "f4"
         },
         "xaxis": "x",
         "y": {
          "bdata": "NeQDQaLwDUA=",
          "dtype": "f4"
         },
         "yaxis": "y"
        },
        {
         "hovertemplate": "cell_type=neuron<br>UMAP1=%{x}<br>UMAP2=%{y}<extra></extra>",
         "legendgroup": "neuron",
         "marker": {
          "color": "#FF97FF",
          "opacity": 0.7,
          "symbol": "circle"
         },
         "mode": "markers",
         "name": "neuron",
         "showlegend": true,
         "type": "scattergl",
         "x": {
          "bdata": "W7NEQA==",
          "dtype": "f4"
         },
         "xaxis": "x",
         "y": {
          "bdata": "aekDQQ==",
          "dtype": "f4"
         },
         "yaxis": "y"
        },
        {
         "hovertemplate": "cell_type=secretory cell<br>UMAP1=%{x}<br>UMAP2=%{y}<extra></extra>",
         "legendgroup": "secretory cell",
         "marker": {
          "color": "#FECB52",
          "opacity": 0.7,
          "symbol": "circle"
         },
         "mode": "markers",
         "name": "secretory cell",
         "showlegend": true,
         "type": "scattergl",
         "x": {
          "bdata": "RMm7Pw==",
          "dtype": "f4"
         },
         "xaxis": "x",
         "y": {
          "bdata": "miY8QQ==",
          "dtype": "f4"
         },
         "yaxis": "y"
        }
       ],
       "layout": {
        "legend": {
         "title": {
          "text": "cell_type"
         },
         "tracegroupgap": 0
        },
        "template": {
         "data": {
          "bar": [
           {
            "error_x": {
             "color": "#2a3f5f"
            },
            "error_y": {
             "color": "#2a3f5f"
            },
            "marker": {
             "line": {
              "color": "#E5ECF6",
              "width": 0.5
             },
             "pattern": {
              "fillmode": "overlay",
              "size": 10,
              "solidity": 0.2
             }
            },
            "type": "bar"
           }
          ],
          "barpolar": [
           {
            "marker": {
             "line": {
              "color": "#E5ECF6",
              "width": 0.5
             },
             "pattern": {
              "fillmode": "overlay",
              "size": 10,
              "solidity": 0.2
             }
            },
            "type": "barpolar"
           }
          ],
          "carpet": [
           {
            "aaxis": {
             "endlinecolor": "#2a3f5f",
             "gridcolor": "white",
             "linecolor": "white",
             "minorgridcolor": "white",
             "startlinecolor": "#2a3f5f"
            },
            "baxis": {
             "endlinecolor": "#2a3f5f",
             "gridcolor": "white",
             "linecolor": "white",
             "minorgridcolor": "white",
             "startlinecolor": "#2a3f5f"
            },
            "type": "carpet"
           }
          ],
          "choropleth": [
           {
            "colorbar": {
             "outlinewidth": 0,
             "ticks": ""
            },
            "type": "choropleth"
           }
          ],
          "contour": [
           {
            "colorbar": {
             "outlinewidth": 0,
             "ticks": ""
            },
            "colorscale": [
             [
              0,
              "#0d0887"
             ],
             [
              0.1111111111111111,
              "#46039f"
             ],
             [
              0.2222222222222222,
              "#7201a8"
             ],
             [
              0.3333333333333333,
              "#9c179e"
             ],
             [
              0.4444444444444444,
              "#bd3786"
             ],
             [
              0.5555555555555556,
              "#d8576b"
             ],
             [
              0.6666666666666666,
              "#ed7953"
             ],
             [
              0.7777777777777778,
              "#fb9f3a"
             ],
             [
              0.8888888888888888,
              "#fdca26"
             ],
             [
              1,
              "#f0f921"
             ]
            ],
            "type": "contour"
           }
          ],
          "contourcarpet": [
           {
            "colorbar": {
             "outlinewidth": 0,
             "ticks": ""
            },
            "type": "contourcarpet"
           }
          ],
          "heatmap": [
           {
            "colorbar": {
             "outlinewidth": 0,
             "ticks": ""
            },
            "colorscale": [
             [
              0,
              "#0d0887"
             ],
             [
              0.1111111111111111,
              "#46039f"
             ],
             [
              0.2222222222222222,
              "#7201a8"
             ],
             [
              0.3333333333333333,
              "#9c179e"
             ],
             [
              0.4444444444444444,
              "#bd3786"
             ],
             [
              0.5555555555555556,
              "#d8576b"
             ],
             [
              0.6666666666666666,
              "#ed7953"
             ],
             [
              0.7777777777777778,
              "#fb9f3a"
             ],
             [
              0.8888888888888888,
              "#fdca26"
             ],
             [
              1,
              "#f0f921"
             ]
            ],
            "type": "heatmap"
           }
          ],
          "histogram": [
           {
            "marker": {
             "pattern": {
              "fillmode": "overlay",
              "size": 10,
              "solidity": 0.2
             }
            },
            "type": "histogram"
           }
          ],
          "histogram2d": [
           {
            "colorbar": {
             "outlinewidth": 0,
             "ticks": ""
            },
            "colorscale": [
             [
              0,
              "#0d0887"
             ],
             [
              0.1111111111111111,
              "#46039f"
             ],
             [
              0.2222222222222222,
              "#7201a8"
             ],
             [
              0.3333333333333333,
              "#9c179e"
             ],
             [
              0.4444444444444444,
              "#bd3786"
             ],
             [
              0.5555555555555556,
              "#d8576b"
             ],
             [
              0.6666666666666666,
              "#ed7953"
             ],
             [
              0.7777777777777778,
              "#fb9f3a"
             ],
             [
              0.8888888888888888,
              "#fdca26"
             ],
             [
              1,
              "#f0f921"
             ]
            ],
            "type": "histogram2d"
           }
          ],
          "histogram2dcontour": [
           {
            "colorbar": {
             "outlinewidth": 0,
             "ticks": ""
            },
            "colorscale": [
             [
              0,
              "#0d0887"
             ],
             [
              0.1111111111111111,
              "#46039f"
             ],
             [
              0.2222222222222222,
              "#7201a8"
             ],
             [
              0.3333333333333333,
              "#9c179e"
             ],
             [
              0.4444444444444444,
              "#bd3786"
             ],
             [
              0.5555555555555556,
              "#d8576b"
             ],
             [
              0.6666666666666666,
              "#ed7953"
             ],
             [
              0.7777777777777778,
              "#fb9f3a"
             ],
             [
              0.8888888888888888,
              "#fdca26"
             ],
             [
              1,
              "#f0f921"
             ]
            ],
            "type": "histogram2dcontour"
           }
          ],
          "mesh3d": [
           {
            "colorbar": {
             "outlinewidth": 0,
             "ticks": ""
            },
            "type": "mesh3d"
           }
          ],
          "parcoords": [
           {
            "line": {
             "colorbar": {
              "outlinewidth": 0,
              "ticks": ""
             }
            },
            "type": "parcoords"
           }
          ],
          "pie": [
           {
            "automargin": true,
            "type": "pie"
           }
          ],
          "scatter": [
           {
            "fillpattern": {
             "fillmode": "overlay",
             "size": 10,
             "solidity": 0.2
            },
            "type": "scatter"
           }
          ],
          "scatter3d": [
           {
            "line": {
             "colorbar": {
              "outlinewidth": 0,
              "ticks": ""
             }
            },
            "marker": {
             "colorbar": {
              "outlinewidth": 0,
              "ticks": ""
             }
            },
            "type": "scatter3d"
           }
          ],
          "scattercarpet": [
           {
            "marker": {
             "colorbar": {
              "outlinewidth": 0,
              "ticks": ""
             }
            },
            "type": "scattercarpet"
           }
          ],
          "scattergeo": [
           {
            "marker": {
             "colorbar": {
              "outlinewidth": 0,
              "ticks": ""
             }
            },
            "type": "scattergeo"
           }
          ],
          "scattergl": [
           {
            "marker": {
             "colorbar": {
              "outlinewidth": 0,
              "ticks": ""
             }
            },
            "type": "scattergl"
           }
          ],
          "scattermap": [
           {
            "marker": {
             "colorbar": {
              "outlinewidth": 0,
              "ticks": ""
             }
            },
            "type": "scattermap"
           }
          ],
          "scattermapbox": [
           {
            "marker": {
             "colorbar": {
              "outlinewidth": 0,
              "ticks": ""
             }
            },
            "type": "scattermapbox"
           }
          ],
          "scatterpolar": [
           {
            "marker": {
             "colorbar": {
              "outlinewidth": 0,
              "ticks": ""
             }
            },
            "type": "scatterpolar"
           }
          ],
          "scatterpolargl": [
           {
            "marker": {
             "colorbar": {
              "outlinewidth": 0,
              "ticks": ""
             }
            },
            "type": "scatterpolargl"
           }
          ],
          "scatterternary": [
           {
            "marker": {
             "colorbar": {
              "outlinewidth": 0,
              "ticks": ""
             }
            },
            "type": "scatterternary"
           }
          ],
          "surface": [
           {
            "colorbar": {
             "outlinewidth": 0,
             "ticks": ""
            },
            "colorscale": [
             [
              0,
              "#0d0887"
             ],
             [
              0.1111111111111111,
              "#46039f"
             ],
             [
              0.2222222222222222,
              "#7201a8"
             ],
             [
              0.3333333333333333,
              "#9c179e"
             ],
             [
              0.4444444444444444,
              "#bd3786"
             ],
             [
              0.5555555555555556,
              "#d8576b"
             ],
             [
              0.6666666666666666,
              "#ed7953"
             ],
             [
              0.7777777777777778,
              "#fb9f3a"
             ],
             [
              0.8888888888888888,
              "#fdca26"
             ],
             [
              1,
              "#f0f921"
             ]
            ],
            "type": "surface"
           }
          ],
          "table": [
           {
            "cells": {
             "fill": {
              "color": "#EBF0F8"
             },
             "line": {
              "color": "white"
             }
            },
            "header": {
             "fill": {
              "color": "#C8D4E3"
             },
             "line": {
              "color": "white"
             }
            },
            "type": "table"
           }
          ]
         },
         "layout": {
          "annotationdefaults": {
           "arrowcolor": "#2a3f5f",
           "arrowhead": 0,
           "arrowwidth": 1
          },
          "autotypenumbers": "strict",
          "coloraxis": {
           "colorbar": {
            "outlinewidth": 0,
            "ticks": ""
           }
          },
          "colorscale": {
           "diverging": [
            [
             0,
             "#8e0152"
            ],
            [
             0.1,
             "#c51b7d"
            ],
            [
             0.2,
             "#de77ae"
            ],
            [
             0.3,
             "#f1b6da"
            ],
            [
             0.4,
             "#fde0ef"
            ],
            [
             0.5,
             "#f7f7f7"
            ],
            [
             0.6,
             "#e6f5d0"
            ],
            [
             0.7,
             "#b8e186"
            ],
            [
             0.8,
             "#7fbc41"
            ],
            [
             0.9,
             "#4d9221"
            ],
            [
             1,
             "#276419"
            ]
           ],
           "sequential": [
            [
             0,
             "#0d0887"
            ],
            [
             0.1111111111111111,
             "#46039f"
            ],
            [
             0.2222222222222222,
             "#7201a8"
            ],
            [
             0.3333333333333333,
             "#9c179e"
            ],
            [
             0.4444444444444444,
             "#bd3786"
            ],
            [
             0.5555555555555556,
             "#d8576b"
            ],
            [
             0.6666666666666666,
             "#ed7953"
            ],
            [
             0.7777777777777778,
             "#fb9f3a"
            ],
            [
             0.8888888888888888,
             "#fdca26"
            ],
            [
             1,
             "#f0f921"
            ]
           ],
           "sequentialminus": [
            [
             0,
             "#0d0887"
            ],
            [
             0.1111111111111111,
             "#46039f"
            ],
            [
             0.2222222222222222,
             "#7201a8"
            ],
            [
             0.3333333333333333,
             "#9c179e"
            ],
            [
             0.4444444444444444,
             "#bd3786"
            ],
            [
             0.5555555555555556,
             "#d8576b"
            ],
            [
             0.6666666666666666,
             "#ed7953"
            ],
            [
             0.7777777777777778,
             "#fb9f3a"
            ],
            [
             0.8888888888888888,
             "#fdca26"
            ],
            [
             1,
             "#f0f921"
            ]
           ]
          },
          "colorway": [
           "#636efa",
           "#EF553B",
           "#00cc96",
           "#ab63fa",
           "#FFA15A",
           "#19d3f3",
           "#FF6692",
           "#B6E880",
           "#FF97FF",
           "#FECB52"
          ],
          "font": {
           "color": "#2a3f5f"
          },
          "geo": {
           "bgcolor": "white",
           "lakecolor": "white",
           "landcolor": "#E5ECF6",
           "showlakes": true,
           "showland": true,
           "subunitcolor": "white"
          },
          "hoverlabel": {
           "align": "left"
          },
          "hovermode": "closest",
          "mapbox": {
           "style": "light"
          },
          "paper_bgcolor": "white",
          "plot_bgcolor": "#E5ECF6",
          "polar": {
           "angularaxis": {
            "gridcolor": "white",
            "linecolor": "white",
            "ticks": ""
           },
           "bgcolor": "#E5ECF6",
           "radialaxis": {
            "gridcolor": "white",
            "linecolor": "white",
            "ticks": ""
           }
          },
          "scene": {
           "xaxis": {
            "backgroundcolor": "#E5ECF6",
            "gridcolor": "white",
            "gridwidth": 2,
            "linecolor": "white",
            "showbackground": true,
            "ticks": "",
            "zerolinecolor": "white"
           },
           "yaxis": {
            "backgroundcolor": "#E5ECF6",
            "gridcolor": "white",
            "gridwidth": 2,
            "linecolor": "white",
            "showbackground": true,
            "ticks": "",
            "zerolinecolor": "white"
           },
           "zaxis": {
            "backgroundcolor": "#E5ECF6",
            "gridcolor": "white",
            "gridwidth": 2,
            "linecolor": "white",
            "showbackground": true,
            "ticks": "",
            "zerolinecolor": "white"
           }
          },
          "shapedefaults": {
           "line": {
            "color": "#2a3f5f"
           }
          },
          "ternary": {
           "aaxis": {
            "gridcolor": "white",
            "linecolor": "white",
            "ticks": ""
           },
           "baxis": {
            "gridcolor": "white",
            "linecolor": "white",
            "ticks": ""
           },
           "bgcolor": "#E5ECF6",
           "caxis": {
            "gridcolor": "white",
            "linecolor": "white",
            "ticks": ""
           }
          },
          "title": {
           "x": 0.05
          },
          "xaxis": {
           "automargin": true,
           "gridcolor": "white",
           "linecolor": "white",
           "ticks": "",
           "title": {
            "standoff": 15
           },
           "zerolinecolor": "white",
           "zerolinewidth": 2
          },
          "yaxis": {
           "automargin": true,
           "gridcolor": "white",
           "linecolor": "white",
           "ticks": "",
           "title": {
            "standoff": 15
           },
           "zerolinecolor": "white",
           "zerolinewidth": 2
          }
         }
        },
        "title": {
         "text": "UMAP Visualization of Gene Expression Embeddings",
         "x": 0.5,
         "xanchor": "center",
         "y": 0.95,
         "yanchor": "top"
        },
        "xaxis": {
         "anchor": "y",
         "domain": [
          0,
          1
         ],
         "title": {
          "text": "UMAP1"
         }
        },
        "yaxis": {
         "anchor": "x",
         "domain": [
          0,
          1
         ],
         "title": {
          "text": "UMAP2"
         }
        }
       }
      }
     },
     "metadata": {},
     "output_type": "display_data"
    }
   ],
   "source": [
    "from sklearn.decomposition import PCA\n",
    "import umap\n",
    "import matplotlib.pyplot as plt\n",
    "import plotly.express as px\n",
    "\n",
    "# Convert all column names to strings before applying PCA\n",
    "# features_24_weeks_df.columns = features_24_weeks_df.columns.astype(str)\n",
    "\n",
    "# Now run PCA\n",
    "# pca = PCA(n_components=50)\n",
    "# pca_embeddings = pca.fit_transform(features_24_weeks_df.drop(columns=['drug dose', 'external_id', 'ifn status', \"subject sex\", \"subject age\", \"subject_id\"]))\n",
    "# Then apply UMAP to the PCA results\n",
    "reducer = umap.UMAP(random_state=42)\n",
    "umap_sample_pdf = cell_embeddings_pdf.sample(2000)\n",
    "umap_embeddings = reducer.fit_transform(\n",
    "    umap_sample_pdf.drop(columns=[\"cell_type\", \"donor_id\"])\n",
    ")\n",
    "\n",
    "# Create a DataFrame with the UMAP coordinates using the original DataFrame's index\n",
    "umap_df = pd.DataFrame(\n",
    "    umap_embeddings, columns=[\"UMAP1\", \"UMAP2\"], index=umap_sample_pdf.index\n",
    ")  # Use the original DataFrame's index\n",
    "\n",
    "# Merge with sample attributes to get metadata for coloring\n",
    "umap_df = umap_df.merge(\n",
    "    umap_sample_pdf[[\"cell_type\", \"donor_id\"]], left_index=True, right_index=True\n",
    ")\n",
    "# Create the plot\n",
    "fig = px.scatter(\n",
    "    umap_df,\n",
    "    x=\"UMAP1\",\n",
    "    y=\"UMAP2\",\n",
    "    color=\"cell_type\",\n",
    "    opacity=0.7,\n",
    "    title=\"UMAP Visualization of Gene Expression Embeddings\",\n",
    ")\n",
    "\n",
    "# Update layout\n",
    "fig.update_layout(title={\"y\": 0.95, \"x\": 0.5, \"xanchor\": \"center\", \"yanchor\": \"top\"})\n",
    "\n",
    "fig.show()"
   ]
  },
  {
   "cell_type": "code",
   "execution_count": null,
   "metadata": {},
   "outputs": [],
   "source": []
  }
 ],
 "metadata": {
  "kernelspec": {
   "display_name": "venv",
   "language": "python",
   "name": "python3"
  },
  "language_info": {
   "codemirror_mode": {
    "name": "ipython",
    "version": 3
   },
   "file_extension": ".py",
   "mimetype": "text/x-python",
   "name": "python",
   "nbconvert_exporter": "python",
   "pygments_lexer": "ipython3",
   "version": "3.10.16"
  }
 },
 "nbformat": 4,
 "nbformat_minor": 2
}
