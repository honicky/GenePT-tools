{
 "cells": [
  {
   "cell_type": "markdown",
   "metadata": {},
   "source": [
    "## Setup\n",
    "\n",
    "Source this notebook using `%run notebook_setup.ipynb`\n",
    "\n",
    "It:\n",
    "  * turns on autoreload so that we can develop pure python code without restarting the kernel\n",
    "  * sets up the data directory\n",
    "  * defines the `repo_dir` and `data_dir` variables"
   ]
  },
  {
   "cell_type": "code",
   "execution_count": null,
   "metadata": {},
   "outputs": [],
   "source": [
    "# autoreload allows us to develop pure python code without restarting the kernel\n",
    "# This way, we can update files in the src directory and see the changes immediately\n",
    "\n",
    "%load_ext autoreload\n",
    "%autoreload 2\n",
    "\n",
    "print(\"autoreload enabled\")"
   ]
  },
  {
   "cell_type": "code",
   "execution_count": null,
   "metadata": {},
   "outputs": [],
   "source": [
    "import pandas as pd\n",
    "\n",
    "pd.set_option(\"display.max_rows\", 1000)\n",
    "import sys\n",
    "from pathlib import Path\n",
    "\n",
    "repo_dir = Path.cwd().parent.absolute()\n",
    "sys.path.append(str(repo_dir))\n",
    "\n",
    "print(\"repo_dir set to\", repo_dir)"
   ]
  },
  {
   "cell_type": "code",
   "execution_count": null,
   "metadata": {},
   "outputs": [],
   "source": [
    "from pathlib import Path\n",
    "\n",
    "from src.utils import setup_data_dir\n",
    "\n",
    "setup_data_dir()\n",
    "data_dir = repo_dir / \"data\"\n",
    "\n",
    "print(\"data_dir set to\", data_dir)"
   ]
  }
 ],
 "metadata": {
  "language_info": {
   "name": "python"
  }
 },
 "nbformat": 4,
 "nbformat_minor": 2
}
