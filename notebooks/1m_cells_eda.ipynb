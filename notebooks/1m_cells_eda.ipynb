{
 "cells": [
  {
   "cell_type": "code",
   "execution_count": 25,
   "metadata": {},
   "outputs": [
    {
     "name": "stdout",
     "output_type": "stream",
     "text": [
      "The autoreload extension is already loaded. To reload it, use:\n",
      "  %reload_ext autoreload\n"
     ]
    }
   ],
   "source": [
    "%load_ext autoreload\n",
    "%autoreload 2\n"
   ]
  },
  {
   "cell_type": "code",
   "execution_count": 29,
   "metadata": {},
   "outputs": [],
   "source": [
    "import pandas as pd\n",
    "pd.set_option('display.max_rows', 1000)\n",
    "import sys\n",
    "from pathlib import Path\n",
    "\n",
    "repo_dir = Path.cwd().parent.absolute()\n",
    "sys.path.append(str(repo_dir))\n",
    "\n"
   ]
  },
  {
   "cell_type": "code",
   "execution_count": 30,
   "metadata": {},
   "outputs": [
    {
     "name": "stdout",
     "output_type": "stream",
     "text": [
      "File already exists at /Users/rj/personal/GenePT-tools/data/GenePT_emebdding_v2.zip\n",
      "Extracting files...\n",
      "Extracting GenePT_emebdding_v2/\n",
      "Skipping GenePT_emebdding_v2/NCBI_UniProt_summary_of_genes.json - already exists with same size\n",
      "Skipping GenePT_emebdding_v2/GenePT_gene_embedding_ada_text.pickle - already exists with same size\n",
      "Skipping GenePT_emebdding_v2/GenePT_gene_protein_embedding_model_3_text.pickle. - already exists with same size\n",
      "Skipping GenePT_emebdding_v2/NCBI_summary_of_genes.json - already exists with same size\n",
      "Extraction complete!\n",
      "Setup finished!\n"
     ]
    }
   ],
   "source": [
    "from src.utils import setup_data_dir\n",
    "from pathlib import Path\n",
    "setup_data_dir()\n",
    "data_dir = repo_dir / \"data\""
   ]
  },
  {
   "cell_type": "code",
   "execution_count": 31,
   "metadata": {},
   "outputs": [],
   "source": [
    "import requests\n",
    "\n",
    "dataset = \"https://datasets.cellxgene.cziscience.com/10df7690-6d10-4029-a47e-0f071bb2df83.h5ad\"\n",
    "# dataset_id = \"10df7690-6d10-4029-a47e-0f071bb2df83\"\n",
    "\n",
    "file_path = data_dir / \"1m_cells.h5ad\"  # adjust this path as needed\n",
    "\n",
    "\n"
   ]
  },
  {
   "cell_type": "code",
   "execution_count": 32,
   "metadata": {},
   "outputs": [],
   "source": [
    "\n",
    "if not file_path.exists():\n",
    "    response = requests.get(dataset, stream=True)\n",
    "    with open(file_path, 'wb') as file:\n",
    "        for chunk in response.iter_content(chunk_size=8192):\n",
    "            if chunk:  # filter out keep-alive chunks\n",
    "                file.write(chunk)\n"
   ]
  },
  {
   "cell_type": "code",
   "execution_count": 33,
   "metadata": {},
   "outputs": [],
   "source": [
    "# import anndata as ad\n",
    "\n",
    "# # Read the h5ad file in backed mode (memory-mapped, read-only)\n",
    "# adata = ad.read_h5ad(file_path, backed='r')"
   ]
  },
  {
   "cell_type": "code",
   "execution_count": 38,
   "metadata": {},
   "outputs": [
    {
     "name": "stdout",
     "output_type": "stream",
     "text": [
      "Contents of X group: ['data', 'indices', 'indptr']\n",
      "\n",
      "Contents of obs group: ['10X_run', '_index', '_scvi_batch', '_scvi_labels', 'ambient_removal', 'anatomical_position', 'assay', 'assay_ontology_term_id', 'broad_cell_class', 'cdna_plate', 'cdna_well', 'cell_type', 'cell_type_ontology_term_id', 'compartment', 'development_stage', 'development_stage_ontology_term_id', 'disease', 'disease_ontology_term_id', 'donor_assay', 'donor_id', 'donor_method', 'donor_tissue', 'donor_tissue_assay', 'ethnicity_original', 'free_annotation', 'is_primary_data', 'library_plate', 'manually_annotated', 'method', 'n_genes_by_counts', 'notes', 'observation_joinid', 'organism', 'organism_ontology_term_id', 'pct_counts_ercc', 'pct_counts_mt', 'published_2022', 'replicate', 'sample_id', 'sample_number', 'scvi_leiden_donorassay_full', 'self_reported_ethnicity', 'self_reported_ethnicity_ontology_term_id', 'sex', 'sex_ontology_term_id', 'suspension_type', 'tissue', 'tissue_in_publication', 'tissue_ontology_term_id', 'tissue_type', 'total_counts', 'total_counts_ercc', 'total_counts_mt']\n",
      "Contents of var group: ['ensembl_id', 'ensg', 'ercc', 'feature_biotype', 'feature_is_filtered', 'feature_length', 'feature_name', 'feature_reference', 'feature_type', 'genome', 'mean', 'mean_counts', 'mt', 'n_cells_by_counts', 'pct_dropout_by_counts', 'std', 'total_counts']\n",
      "\n",
      "Shape of X/data: (3537524007,)\n",
      "Shape of X/indices: (3537524007,)\n",
      "Shape of X/indptr: (1136219,)\n"
     ]
    }
   ],
   "source": [
    "import h5py\n",
    "\n",
    "with h5py.File(file_path, 'r') as f:\n",
    "    # Look at the structure of the X group\n",
    "    print(\"Contents of X group:\", list(f['X'].keys()))\n",
    "    \n",
    "    # Look at obs and var to get dimensions\n",
    "    print(\"\\nContents of obs group:\", list(f['obs'].keys()))\n",
    "    print(\"Contents of var group:\", list(f['var'].keys()))\n",
    "    \n",
    "    # If X contains a sparse matrix, it likely has 'data', 'indices', and 'indptr'\n",
    "    if 'data' in f['X']:\n",
    "        print(\"\\nShape of X/data:\", f['X']['data'].shape)\n",
    "        print(\"Shape of X/indices:\", f['X']['indices'].shape)\n",
    "        print(\"Shape of X/indptr:\", f['X']['indptr'].shape)"
   ]
  },
  {
   "cell_type": "code",
   "execution_count": null,
   "metadata": {},
   "outputs": [],
   "source": []
  },
  {
   "cell_type": "code",
   "execution_count": 50,
   "metadata": {},
   "outputs": [
    {
     "name": "stdout",
     "output_type": "stream",
     "text": [
      "Subset shape: (1000, 61759)\n",
      "Subset density: 0.030184685632863226\n"
     ]
    }
   ],
   "source": [
    "import numpy as np\n",
    "from scipy import sparse\n",
    "\n",
    "def load_subset_sparse(file_path, start_row=0, n_rows=1000):\n",
    "    \"\"\"\n",
    "    Load a subset of rows from the sparse matrix.\n",
    "    \n",
    "    Args:\n",
    "        file_path: Path to h5ad file\n",
    "        start_row: Starting row index\n",
    "        n_rows: Number of rows to load\n",
    "    \n",
    "    Returns:\n",
    "        scipy.sparse.csr_matrix with the requested rows\n",
    "    \"\"\"\n",
    "    with h5py.File(file_path, 'r') as f:\n",
    "        # Get the indptr for the rows we want\n",
    "        indptr = f['X']['indptr'][start_row:start_row + n_rows + 1]\n",
    "        # Find the indices in data array for our rows\n",
    "        start_idx = indptr[0]\n",
    "        end_idx = indptr[-1]\n",
    "        \n",
    "        # Load the relevant parts of the data and indices\n",
    "        data = f['X']['data'][start_idx:end_idx]\n",
    "        indices = f['X']['indices'][start_idx:end_idx]\n",
    "        \n",
    "        # Adjust indptr to start at 0\n",
    "        indptr = indptr - start_idx\n",
    "        \n",
    "        # Get the total number of columns from the var group\n",
    "        n_cols = len(f['var']['feature_name']['categories'])\n",
    "        \n",
    "        # Create the sparse matrix\n",
    "        return sparse.csr_matrix((data, indices, indptr), shape=(n_rows, n_cols))\n",
    "\n",
    "# Example usage:\n",
    "# Load first 1000 cells\n",
    "matrix_subset = load_subset_sparse(file_path, start_row=0, n_rows=1000)\n",
    "print(\"Subset shape:\", matrix_subset.shape)\n",
    "print(\"Subset density:\", matrix_subset.nnz / (matrix_subset.shape[0] * matrix_subset.shape[1]))"
   ]
  },
  {
   "cell_type": "code",
   "execution_count": null,
   "metadata": {},
   "outputs": [],
   "source": []
  },
  {
   "cell_type": "code",
   "execution_count": 49,
   "metadata": {},
   "outputs": [
    {
     "name": "stdout",
     "output_type": "stream",
     "text": [
      "<HDF5 dataset \"categories\": shape (61759,), type \"|O\">\n"
     ]
    }
   ],
   "source": [
    "with h5py.File(file_path, 'r') as f:\n",
    "    print(f['var']['feature_name'][\"categories\"])\n",
    "    # print(f['X']['indices'][:10])"
   ]
  },
  {
   "cell_type": "code",
   "execution_count": 40,
   "metadata": {},
   "outputs": [
    {
     "data": {
      "text/plain": [
       "<Compressed Sparse Row sparse matrix of dtype 'float32'\n",
       "\twith 1864176 stored elements and shape (1000, 2)>"
      ]
     },
     "execution_count": 40,
     "metadata": {},
     "output_type": "execute_result"
    }
   ],
   "source": [
    "matrix_subset"
   ]
  },
  {
   "cell_type": "code",
   "execution_count": 36,
   "metadata": {},
   "outputs": [
    {
     "name": "stdout",
     "output_type": "stream",
     "text": [
      "[b'ENSG00000000003.15' b'ENSG00000000005.6' b'ENSG00000000419.14'\n",
      " b'ENSG00000000457.14' b'ENSG00000000460.17' b'ENSG00000000938.13'\n",
      " b'ENSG00000000971.17' b'ENSG00000001036.14' b'ENSG00000001084.13'\n",
      " b'ENSG00000001167.15']\n",
      "[b'5S_rRNA_ENSG00000276861' b'5S_rRNA_ENSG00000277411'\n",
      " b'5S_rRNA_ENSG00000277488' b'5S_rRNA_ENSG00000285609'\n",
      " b'5S_rRNA_ENSG00000285626' b'5S_rRNA_ENSG00000285674'\n",
      " b'5S_rRNA_ENSG00000285776' b'5S_rRNA_ENSG00000285912'\n",
      " b'5S_rRNA_ENSG00000288601' b'5_8S_rRNA_ENSG00000275877']\n",
      "[58098 57279  6814 52787  2922 28568  4406 28967 29310 41479]\n"
     ]
    }
   ],
   "source": [
    "with h5py.File(file_path, 'r') as f:\n",
    "    # Get the indptr for the rows we want\n",
    "    ensembl_ids = f['var']['ensembl_id']\n",
    "    gene_names = f['var']['feature_name']\n",
    "    print(ensembl_ids[0:10])\n",
    "    print(gene_names['categories'][:10])\n",
    "    print(gene_names['codes'][:10])\n"
   ]
  },
  {
   "cell_type": "code",
   "execution_count": 10,
   "metadata": {},
   "outputs": [],
   "source": [
    "with h5py.File(file_path, 'r') as f:\n",
    "    # Get the indptr for the rows we want\n",
    "    gene_names = f['var']['feature_name']\n",
    "    ensembl_ids = f['var']['ensembl_id']\n",
    "    major_ensembl_ids = pd.Series(\n",
    "        ensembl_id.decode('utf-8').split('.')[0]\n",
    "        for ensembl_id in ensembl_ids\n",
    "    )\n",
    "    "
   ]
  },
  {
   "cell_type": "code",
   "execution_count": 37,
   "metadata": {},
   "outputs": [
    {
     "ename": "ValueError",
     "evalue": "Invalid location identifier (invalid location identifier)",
     "output_type": "error",
     "traceback": [
      "\u001b[0;31m---------------------------------------------------------------------------\u001b[0m",
      "\u001b[0;31mValueError\u001b[0m                                Traceback (most recent call last)",
      "Cell \u001b[0;32mIn[37], line 1\u001b[0m\n\u001b[0;32m----> 1\u001b[0m n_cols \u001b[38;5;241m=\u001b[39m \u001b[38;5;28mlen\u001b[39m(\u001b[43mf\u001b[49m\u001b[43m[\u001b[49m\u001b[38;5;124;43m'\u001b[39;49m\u001b[38;5;124;43mvar\u001b[39;49m\u001b[38;5;124;43m'\u001b[39;49m\u001b[43m]\u001b[49m[\u001b[38;5;124m'\u001b[39m\u001b[38;5;124mfeature_name\u001b[39m\u001b[38;5;124m'\u001b[39m])  \u001b[38;5;66;03m# Total number of possible genes\u001b[39;00m\n\u001b[1;32m      2\u001b[0m \u001b[38;5;28;01mreturn\u001b[39;00m sparse\u001b[38;5;241m.\u001b[39mcsr_matrix((data, indices, indptr), shape\u001b[38;5;241m=\u001b[39m(n_rows, n_cols))\n",
      "File \u001b[0;32mh5py/_objects.pyx:54\u001b[0m, in \u001b[0;36mh5py._objects.with_phil.wrapper\u001b[0;34m()\u001b[0m\n",
      "File \u001b[0;32mh5py/_objects.pyx:55\u001b[0m, in \u001b[0;36mh5py._objects.with_phil.wrapper\u001b[0;34m()\u001b[0m\n",
      "File \u001b[0;32m~/personal/GenePT-tools/venv/lib/python3.12/site-packages/h5py/_hl/group.py:357\u001b[0m, in \u001b[0;36mGroup.__getitem__\u001b[0;34m(self, name)\u001b[0m\n\u001b[1;32m    355\u001b[0m         \u001b[38;5;28;01mraise\u001b[39;00m \u001b[38;5;167;01mValueError\u001b[39;00m(\u001b[38;5;124m\"\u001b[39m\u001b[38;5;124mInvalid HDF5 object reference\u001b[39m\u001b[38;5;124m\"\u001b[39m)\n\u001b[1;32m    356\u001b[0m \u001b[38;5;28;01melif\u001b[39;00m \u001b[38;5;28misinstance\u001b[39m(name, (\u001b[38;5;28mbytes\u001b[39m, \u001b[38;5;28mstr\u001b[39m)):\n\u001b[0;32m--> 357\u001b[0m     oid \u001b[38;5;241m=\u001b[39m \u001b[43mh5o\u001b[49m\u001b[38;5;241;43m.\u001b[39;49m\u001b[43mopen\u001b[49m\u001b[43m(\u001b[49m\u001b[38;5;28;43mself\u001b[39;49m\u001b[38;5;241;43m.\u001b[39;49m\u001b[43mid\u001b[49m\u001b[43m,\u001b[49m\u001b[43m \u001b[49m\u001b[38;5;28;43mself\u001b[39;49m\u001b[38;5;241;43m.\u001b[39;49m\u001b[43m_e\u001b[49m\u001b[43m(\u001b[49m\u001b[43mname\u001b[49m\u001b[43m)\u001b[49m\u001b[43m,\u001b[49m\u001b[43m \u001b[49m\u001b[43mlapl\u001b[49m\u001b[38;5;241;43m=\u001b[39;49m\u001b[38;5;28;43mself\u001b[39;49m\u001b[38;5;241;43m.\u001b[39;49m\u001b[43m_lapl\u001b[49m\u001b[43m)\u001b[49m\n\u001b[1;32m    358\u001b[0m \u001b[38;5;28;01melse\u001b[39;00m:\n\u001b[1;32m    359\u001b[0m     \u001b[38;5;28;01mraise\u001b[39;00m \u001b[38;5;167;01mTypeError\u001b[39;00m(\u001b[38;5;124m\"\u001b[39m\u001b[38;5;124mAccessing a group is done with bytes or str, \u001b[39m\u001b[38;5;124m\"\u001b[39m\n\u001b[1;32m    360\u001b[0m                     \u001b[38;5;124m\"\u001b[39m\u001b[38;5;124mnot \u001b[39m\u001b[38;5;132;01m{}\u001b[39;00m\u001b[38;5;124m\"\u001b[39m\u001b[38;5;241m.\u001b[39mformat(\u001b[38;5;28mtype\u001b[39m(name)))\n",
      "File \u001b[0;32mh5py/_objects.pyx:54\u001b[0m, in \u001b[0;36mh5py._objects.with_phil.wrapper\u001b[0;34m()\u001b[0m\n",
      "File \u001b[0;32mh5py/_objects.pyx:55\u001b[0m, in \u001b[0;36mh5py._objects.with_phil.wrapper\u001b[0;34m()\u001b[0m\n",
      "File \u001b[0;32mh5py/h5o.pyx:257\u001b[0m, in \u001b[0;36mh5py.h5o.open\u001b[0;34m()\u001b[0m\n",
      "\u001b[0;31mValueError\u001b[0m: Invalid location identifier (invalid location identifier)"
     ]
    }
   ],
   "source": [
    "n_cols = len(f['var']['feature_name'])  # Total number of possible genes\n",
    "return sparse.csr_matrix((data, indices, indptr), shape=(n_rows, n_cols))"
   ]
  },
  {
   "cell_type": "code",
   "execution_count": 11,
   "metadata": {},
   "outputs": [
    {
     "name": "stdout",
     "output_type": "stream",
     "text": [
      "Type of obs group: <class 'h5py._hl.group.Group'>\n",
      "Keys in obs group: ['10X_run', '_index', '_scvi_batch', '_scvi_labels', 'ambient_removal', 'anatomical_position', 'assay', 'assay_ontology_term_id', 'broad_cell_class', 'cdna_plate', 'cdna_well', 'cell_type', 'cell_type_ontology_term_id', 'compartment', 'development_stage', 'development_stage_ontology_term_id', 'disease', 'disease_ontology_term_id', 'donor_assay', 'donor_id', 'donor_method', 'donor_tissue', 'donor_tissue_assay', 'ethnicity_original', 'free_annotation', 'is_primary_data', 'library_plate', 'manually_annotated', 'method', 'n_genes_by_counts', 'notes', 'observation_joinid', 'organism', 'organism_ontology_term_id', 'pct_counts_ercc', 'pct_counts_mt', 'published_2022', 'replicate', 'sample_id', 'sample_number', 'scvi_leiden_donorassay_full', 'self_reported_ethnicity', 'self_reported_ethnicity_ontology_term_id', 'sex', 'sex_ontology_term_id', 'suspension_type', 'tissue', 'tissue_in_publication', 'tissue_ontology_term_id', 'tissue_type', 'total_counts', 'total_counts_ercc', 'total_counts_mt']\n",
      "\n",
      "Type of cell_type data: <class 'h5py._hl.group.Group'>\n"
     ]
    }
   ],
   "source": [
    "import h5py\n",
    "\n",
    "with h5py.File(file_path, 'r') as f:\n",
    "    # Look at the structure of obs group in detail\n",
    "    obs_group = f['obs']\n",
    "    print(\"Type of obs group:\", type(obs_group))\n",
    "    print(\"Keys in obs group:\", list(obs_group.keys()))\n",
    "    \n",
    "    # Let's look at one specific column to understand its structure\n",
    "    cell_type_data = obs_group['cell_type']\n",
    "    print(\"\\nType of cell_type data:\", type(cell_type_data))\n",
    "    if hasattr(cell_type_data, 'shape'):\n",
    "        print(\"Shape of cell_type data:\", cell_type_data.shape)"
   ]
  },
  {
   "cell_type": "code",
   "execution_count": 12,
   "metadata": {},
   "outputs": [
    {
     "name": "stderr",
     "output_type": "stream",
     "text": [
      "/Users/rj/personal/GenePT-tools/venv/lib/python3.12/site-packages/tqdm/auto.py:21: TqdmWarning: IProgress not found. Please update jupyter and ipywidgets. See https://ipywidgets.readthedocs.io/en/stable/user_install.html\n",
      "  from .autonotebook import tqdm as notebook_tqdm\n"
     ]
    },
    {
     "data": {
      "text/html": [
       "<div>\n",
       "<style scoped>\n",
       "    .dataframe tbody tr th:only-of-type {\n",
       "        vertical-align: middle;\n",
       "    }\n",
       "\n",
       "    .dataframe tbody tr th {\n",
       "        vertical-align: top;\n",
       "    }\n",
       "\n",
       "    .dataframe thead th {\n",
       "        text-align: right;\n",
       "    }\n",
       "</style>\n",
       "<table border=\"1\" class=\"dataframe\">\n",
       "  <thead>\n",
       "    <tr style=\"text-align: right;\">\n",
       "      <th></th>\n",
       "      <th>gene_name</th>\n",
       "      <th>ensembl_id</th>\n",
       "      <th>gene_type</th>\n",
       "    </tr>\n",
       "  </thead>\n",
       "  <tbody>\n",
       "    <tr>\n",
       "      <th>0</th>\n",
       "      <td>TSPAN6</td>\n",
       "      <td>ENSG00000000003</td>\n",
       "      <td>protein_coding</td>\n",
       "    </tr>\n",
       "    <tr>\n",
       "      <th>1</th>\n",
       "      <td>TNMD</td>\n",
       "      <td>ENSG00000000005</td>\n",
       "      <td>protein_coding</td>\n",
       "    </tr>\n",
       "    <tr>\n",
       "      <th>2</th>\n",
       "      <td>DPM1</td>\n",
       "      <td>ENSG00000000419</td>\n",
       "      <td>protein_coding</td>\n",
       "    </tr>\n",
       "    <tr>\n",
       "      <th>3</th>\n",
       "      <td>SCYL3</td>\n",
       "      <td>ENSG00000000457</td>\n",
       "      <td>protein_coding</td>\n",
       "    </tr>\n",
       "    <tr>\n",
       "      <th>4</th>\n",
       "      <td>C1orf112</td>\n",
       "      <td>ENSG00000000460</td>\n",
       "      <td>protein_coding</td>\n",
       "    </tr>\n",
       "  </tbody>\n",
       "</table>\n",
       "</div>"
      ],
      "text/plain": [
       "  gene_name       ensembl_id       gene_type\n",
       "0    TSPAN6  ENSG00000000003  protein_coding\n",
       "1      TNMD  ENSG00000000005  protein_coding\n",
       "2      DPM1  ENSG00000000419  protein_coding\n",
       "3     SCYL3  ENSG00000000457  protein_coding\n",
       "4  C1orf112  ENSG00000000460  protein_coding"
      ]
     },
     "execution_count": 12,
     "metadata": {},
     "output_type": "execute_result"
    }
   ],
   "source": [
    "from datasets import load_dataset\n",
    "\n",
    "gene_info_table_dataset = load_dataset(\"honicky/genept-composable-embeddings-source-data\", \"gene_info\")\n",
    "gene_info_table = gene_info_table_dataset['train'].to_pandas()\n",
    "gene_info_table.head()\n"
   ]
  },
  {
   "cell_type": "code",
   "execution_count": 13,
   "metadata": {},
   "outputs": [],
   "source": [
    "gene_embedding = pd.read_parquet(data_dir / \"generated/embeddings/embedding_associations_age_drugs_pathways_openai_large.parquet\")\n"
   ]
  },
  {
   "cell_type": "markdown",
   "metadata": {},
   "source": [
    "# embed using the mean for duplicates\n"
   ]
  },
  {
   "cell_type": "code",
   "execution_count": 15,
   "metadata": {},
   "outputs": [],
   "source": [
    "gene_embeddings_with_ensembl_id = gene_embedding.merge(gene_info_table, left_index=True, right_on='gene_name')\n",
    "\n"
   ]
  },
  {
   "cell_type": "code",
   "execution_count": 16,
   "metadata": {},
   "outputs": [
    {
     "data": {
      "text/html": [
       "<div>\n",
       "<style scoped>\n",
       "    .dataframe tbody tr th:only-of-type {\n",
       "        vertical-align: middle;\n",
       "    }\n",
       "\n",
       "    .dataframe tbody tr th {\n",
       "        vertical-align: top;\n",
       "    }\n",
       "\n",
       "    .dataframe thead th {\n",
       "        text-align: right;\n",
       "    }\n",
       "</style>\n",
       "<table border=\"1\" class=\"dataframe\">\n",
       "  <thead>\n",
       "    <tr style=\"text-align: right;\">\n",
       "      <th></th>\n",
       "      <th>0</th>\n",
       "      <th>1</th>\n",
       "      <th>2</th>\n",
       "      <th>3</th>\n",
       "      <th>4</th>\n",
       "      <th>5</th>\n",
       "      <th>6</th>\n",
       "      <th>7</th>\n",
       "      <th>8</th>\n",
       "      <th>9</th>\n",
       "      <th>...</th>\n",
       "      <th>3065</th>\n",
       "      <th>3066</th>\n",
       "      <th>3067</th>\n",
       "      <th>3068</th>\n",
       "      <th>3069</th>\n",
       "      <th>3070</th>\n",
       "      <th>3071</th>\n",
       "      <th>gene_name</th>\n",
       "      <th>ensembl_id</th>\n",
       "      <th>gene_type</th>\n",
       "    </tr>\n",
       "  </thead>\n",
       "  <tbody>\n",
       "    <tr>\n",
       "      <th>83316</th>\n",
       "      <td>-0.017322</td>\n",
       "      <td>0.015861</td>\n",
       "      <td>-0.009243</td>\n",
       "      <td>0.002859</td>\n",
       "      <td>0.002974</td>\n",
       "      <td>-0.015873</td>\n",
       "      <td>0.029082</td>\n",
       "      <td>-0.009793</td>\n",
       "      <td>0.026003</td>\n",
       "      <td>0.014036</td>\n",
       "      <td>...</td>\n",
       "      <td>-0.027633</td>\n",
       "      <td>0.008933</td>\n",
       "      <td>-0.018642</td>\n",
       "      <td>0.021656</td>\n",
       "      <td>-0.008706</td>\n",
       "      <td>-0.005382</td>\n",
       "      <td>-0.021889</td>\n",
       "      <td>LINC01118</td>\n",
       "      <td>ENSG00000222005</td>\n",
       "      <td>None</td>\n",
       "    </tr>\n",
       "    <tr>\n",
       "      <th>83105</th>\n",
       "      <td>-0.028728</td>\n",
       "      <td>0.013531</td>\n",
       "      <td>-0.013050</td>\n",
       "      <td>-0.003901</td>\n",
       "      <td>0.019633</td>\n",
       "      <td>-0.024284</td>\n",
       "      <td>0.029168</td>\n",
       "      <td>0.003008</td>\n",
       "      <td>0.012114</td>\n",
       "      <td>0.019853</td>\n",
       "      <td>...</td>\n",
       "      <td>-0.017858</td>\n",
       "      <td>-0.001864</td>\n",
       "      <td>-0.021449</td>\n",
       "      <td>0.018120</td>\n",
       "      <td>-0.018822</td>\n",
       "      <td>-0.017803</td>\n",
       "      <td>-0.023334</td>\n",
       "      <td>LINC01119</td>\n",
       "      <td>ENSG00000222005</td>\n",
       "      <td>None</td>\n",
       "    </tr>\n",
       "  </tbody>\n",
       "</table>\n",
       "<p>2 rows × 3075 columns</p>\n",
       "</div>"
      ],
      "text/plain": [
       "              0         1         2         3         4         5         6  \\\n",
       "83316 -0.017322  0.015861 -0.009243  0.002859  0.002974 -0.015873  0.029082   \n",
       "83105 -0.028728  0.013531 -0.013050 -0.003901  0.019633 -0.024284  0.029168   \n",
       "\n",
       "              7         8         9  ...      3065      3066      3067  \\\n",
       "83316 -0.009793  0.026003  0.014036  ... -0.027633  0.008933 -0.018642   \n",
       "83105  0.003008  0.012114  0.019853  ... -0.017858 -0.001864 -0.021449   \n",
       "\n",
       "           3068      3069      3070      3071  gene_name       ensembl_id  \\\n",
       "83316  0.021656 -0.008706 -0.005382 -0.021889  LINC01118  ENSG00000222005   \n",
       "83105  0.018120 -0.018822 -0.017803 -0.023334  LINC01119  ENSG00000222005   \n",
       "\n",
       "       gene_type  \n",
       "83316       None  \n",
       "83105       None  \n",
       "\n",
       "[2 rows x 3075 columns]"
      ]
     },
     "execution_count": 16,
     "metadata": {},
     "output_type": "execute_result"
    }
   ],
   "source": [
    "gene_embeddings_with_ensembl_id[gene_embeddings_with_ensembl_id.ensembl_id == 'ENSG00000222005']"
   ]
  },
  {
   "cell_type": "code",
   "execution_count": 17,
   "metadata": {},
   "outputs": [
    {
     "data": {
      "text/plain": [
       "ensembl_id\n",
       "ENSG00000000003    2\n",
       "ENSG00000243485    2\n",
       "ENSG00000222005    2\n",
       "ENSG00000264405    2\n",
       "ENSG00000204792    2\n",
       "ENSG00000201388    2\n",
       "ENSG00000222345    2\n",
       "ENSG00000276234    2\n",
       "ENSG00000187838    2\n",
       "ENSG00000202377    2\n",
       "ENSG00000226364    2\n",
       "ENSG00000269433    2\n",
       "ENSG00000183598    2\n",
       "ENSG00000267151    2\n",
       "ENSG00000236790    2\n",
       "ENSG00000264073    2\n",
       "ENSG00000265134    2\n",
       "ENSG00000238936    2\n",
       "ENSG00000270722    2\n",
       "ENSG00000226444    2\n",
       "ENSG00000269099    2\n",
       "ENSG00000204397    2\n",
       "ENSG00000249532    2\n",
       "ENSG00000206603    2\n",
       "ENSG00000284917    2\n",
       "ENSG00000268942    2\n",
       "ENSG00000206903    2\n",
       "ENSG00000063587    2\n",
       "ENSG00000274020    2\n",
       "ENSG00000255154    2\n",
       "ENSG00000090857    2\n",
       "ENSG00000254508    2\n",
       "ENSG00000206897    2\n",
       "ENSG00000251866    2\n",
       "ENSG00000226419    2\n",
       "ENSG00000264448    2\n",
       "ENSG00000206785    2\n",
       "ENSG00000197927    2\n",
       "ENSG00000245080    2\n",
       "ENSG00000269586    2\n",
       "ENSG00000227518    2\n",
       "ENSG00000145491    2\n",
       "ENSG00000221164    2\n",
       "ENSG00000250331    2\n",
       "ENSG00000223770    2\n",
       "ENSG00000269955    2\n",
       "ENSG00000207187    2\n",
       "ENSG00000270011    2\n",
       "ENSG00000212295    2\n",
       "ENSG00000260458    2\n",
       "ENSG00000198064    2\n",
       "ENSG00000236975    2\n",
       "ENSG00000266780    2\n",
       "ENSG00000196696    2\n",
       "ENSG00000208308    2\n",
       "ENSG00000212309    2\n",
       "ENSG00000271907    2\n",
       "ENSG00000265014    2\n",
       "ENSG00000088298    2\n",
       "ENSG00000212264    2\n",
       "ENSG00000212214    2\n",
       "ENSG00000121933    2\n",
       "ENSG00000284505    2\n",
       "ENSG00000264105    2\n",
       "ENSG00000178734    2\n",
       "ENSG00000211563    2\n",
       "ENSG00000253828    2\n",
       "ENSG00000274290    2\n",
       "ENSG00000264346    2\n",
       "ENSG00000252830    2\n",
       "ENSG00000202189    2\n",
       "ENSG00000265075    2\n",
       "ENSG00000266038    2\n",
       "ENSG00000231646    2\n",
       "ENSG00000231767    2\n",
       "ENSG00000251209    2\n",
       "ENSG00000283569    2\n",
       "ENSG00000263572    2\n",
       "ENSG00000221750    2\n",
       "ENSG00000076554    2\n",
       "ENSG00000206947    2\n",
       "ENSG00000207516    2\n",
       "ENSG00000264717    2\n",
       "ENSG00000259324    2\n",
       "ENSG00000268471    2\n",
       "ENSG00000225327    2\n",
       "ENSG00000275379    2\n",
       "ENSG00000254119    2\n",
       "ENSG00000252284    2\n",
       "ENSG00000120341    2\n",
       "ENSG00000286061    2\n",
       "ENSG00000276903    2\n",
       "ENSG00000253051    2\n",
       "ENSG00000109927    2\n",
       "ENSG00000267532    2\n",
       "ENSG00000273331    2\n",
       "ENSG00000276966    2\n",
       "ENSG00000201142    2\n",
       "ENSG00000266354    2\n",
       "ENSG00000212587    2\n",
       "ENSG00000182974    2\n",
       "ENSG00000252699    2\n",
       "ENSG00000188660    2\n",
       "ENSG00000000005    2\n",
       "ENSG00000118804    2\n",
       "ENSG00000283340    2\n",
       "ENSG00000187600    2\n",
       "ENSG00000277075    2\n",
       "ENSG00000288859    2\n",
       "ENSG00000266206    2\n",
       "ENSG00000257114    2\n",
       "ENSG00000085231    2\n",
       "ENSG00000199405    2\n",
       "ENSG00000255267    2\n",
       "ENSG00000216195    2\n",
       "ENSG00000207344    2\n",
       "ENSG00000252135    2\n",
       "ENSG00000132670    2\n",
       "ENSG00000207778    2\n",
       "ENSG00000241098    2\n",
       "ENSG00000222489    2\n",
       "ENSG00000207062    2\n",
       "ENSG00000128534    2\n",
       "ENSG00000263468    2\n",
       "Name: count, dtype: int64"
      ]
     },
     "execution_count": 17,
     "metadata": {},
     "output_type": "execute_result"
    }
   ],
   "source": [
    "import numpy as np\n",
    "\n",
    "matching_ensembl_ids = pd.DataFrame(major_ensembl_ids, columns=['ensembl_id']).merge(gene_embeddings_with_ensembl_id, left_on='ensembl_id', right_on='ensembl_id')[['gene_name', 'ensembl_id']]\n",
    "ensembl_id_counts = matching_ensembl_ids.ensembl_id.value_counts()\n",
    "ensembl_id_counts[ensembl_id_counts > 1]\n"
   ]
  },
  {
   "cell_type": "code",
   "execution_count": 18,
   "metadata": {},
   "outputs": [
    {
     "name": "stdout",
     "output_type": "stream",
     "text": [
      "Original shape: (37220, 3075)\n",
      "After merging duplicates: (36573, 3073)\n",
      "\n",
      "Number of remaining duplicates: 0\n"
     ]
    }
   ],
   "source": [
    "# Get embeddings without metadata columns\n",
    "embedding_cols = [col for col in gene_embeddings_with_ensembl_id.columns \n",
    "                 if col not in ['gene_name', 'ensembl_id', 'gene_type']]\n",
    "\n",
    "# Group by ensembl_id and take mean of embeddings\n",
    "merged_embeddings = (gene_embeddings_with_ensembl_id\n",
    "    .groupby('ensembl_id')[embedding_cols]\n",
    "    .mean()\n",
    "    .reset_index())\n",
    "\n",
    "# Renormalize the embeddings\n",
    "embedding_values = merged_embeddings[embedding_cols].values\n",
    "norms = np.linalg.norm(embedding_values, axis=1, keepdims=True)\n",
    "merged_embeddings[embedding_cols] = embedding_values / norms\n",
    "\n",
    "# Verify the results\n",
    "print(f\"Original shape: {gene_embeddings_with_ensembl_id.shape}\")\n",
    "print(f\"After merging duplicates: {merged_embeddings.shape}\")\n",
    "\n",
    "# Verify all duplicates are resolved\n",
    "duplicate_check = merged_embeddings.ensembl_id.value_counts()\n",
    "print(\"\\nNumber of remaining duplicates:\", (duplicate_check > 1).sum())"
   ]
  },
  {
   "cell_type": "code",
   "execution_count": 19,
   "metadata": {},
   "outputs": [
    {
     "data": {
      "text/plain": [
       "Index(['ensembl_id', '0', '1', '2', '3', '4', '5', '6', '7', '8',\n",
       "       ...\n",
       "       '3062', '3063', '3064', '3065', '3066', '3067', '3068', '3069', '3070',\n",
       "       '3071'],\n",
       "      dtype='object', length=3073)"
      ]
     },
     "execution_count": 19,
     "metadata": {},
     "output_type": "execute_result"
    }
   ],
   "source": [
    "merged_embeddings.columns"
   ]
  },
  {
   "cell_type": "code",
   "execution_count": 20,
   "metadata": {},
   "outputs": [
    {
     "name": "stdout",
     "output_type": "stream",
     "text": [
      "Loaded metadata keys: ['cell_type', 'total_counts', 'broad_cell_class']\n",
      "\n",
      "First 5 values of cell_type:\n",
      "['naive thymus-derived CD4-positive, alpha-beta T cell' 'B cell' 'B cell'\n",
      " 'B cell' 'CD8-positive, alpha-beta T cell']\n",
      "\n",
      "First 5 values of total_counts:\n",
      "[648388. 404690. 579976. 496511. 453314.]\n",
      "\n",
      "First 5 values of broad_cell_class:\n",
      "['t cell' 'lymphocyte of b lineage' 'lymphocyte of b lineage'\n",
      " 'lymphocyte of b lineage' 't cell']\n"
     ]
    }
   ],
   "source": [
    "def load_cell_metadata(file_path, start_row=0, n_rows=1000, columns=None):\n",
    "    \"\"\"\n",
    "    Load metadata for specific cells.\n",
    "    \n",
    "    Args:\n",
    "        file_path: Path to h5ad file\n",
    "        start_row: Starting row index\n",
    "        n_rows: Number of rows to load\n",
    "        columns: List of metadata columns to load (if None, load all)\n",
    "    \n",
    "    Returns:\n",
    "        Dictionary of metadata arrays\n",
    "    \"\"\"\n",
    "    with h5py.File(file_path, 'r') as f:\n",
    "        metadata = {}\n",
    "        obs_keys = list(f['obs'].keys()) if columns is None else columns\n",
    "        for key in obs_keys:\n",
    "            if key in f['obs']:\n",
    "                column_group = f['obs'][key]\n",
    "                if isinstance(column_group, h5py.Dataset):\n",
    "                    metadata[key] = column_group[start_row:start_row + n_rows]\n",
    "                else:\n",
    "                    if 'categories' in column_group and 'codes' in column_group:\n",
    "                        # Get categories and decode from bytes to strings\n",
    "                        categories = [cat.decode('utf-8') for cat in column_group['categories'][:]]\n",
    "                        codes = column_group['codes'][start_row:start_row + n_rows]\n",
    "                        metadata[key] = np.array([categories[code] for code in codes])\n",
    "    return metadata\n",
    "\n",
    "# Example usage:\n",
    "metadata = load_cell_metadata(file_path, start_row=0, n_rows=1136219, \n",
    "                            columns=['cell_type', 'total_counts', 'broad_cell_class'])\n",
    "print(\"Loaded metadata keys:\", list(metadata.keys()))\n",
    "\n",
    "# Print first few values of each column\n",
    "for key in metadata:\n",
    "    print(f\"\\nFirst 5 values of {key}:\")\n",
    "    print(metadata[key][:5])"
   ]
  },
  {
   "cell_type": "code",
   "execution_count": 21,
   "metadata": {},
   "outputs": [
    {
     "data": {
      "text/plain": [
       "B cell                                                  114495\n",
       "CD4-positive, alpha-beta T cell                          97130\n",
       "fibroblast                                               83338\n",
       "CD8-positive, alpha-beta T cell                          76277\n",
       "neutrophil                                               69539\n",
       "macrophage                                               69072\n",
       "stromal cell of ovary                                    35003\n",
       "endothelial cell                                         33703\n",
       "basal cell                                               33526\n",
       "plasma cell                                              27349\n",
       "bladder urothelial cell                                  27241\n",
       "monocyte                                                 25753\n",
       "mesenchymal stem cell                                    23499\n",
       "smooth muscle cell                                       18425\n",
       "classical monocyte                                       18200\n",
       "luminal epithelial cell of mammary gland                 15432\n",
       "capillary endothelial cell                               15298\n",
       "erythrocyte                                              14611\n",
       "natural killer cell                                      14231\n",
       "enterocyte of epithelium proper of duodenum              13495\n",
       "stratified squamous epithelial cell                      12323\n",
       "acinar cell of salivary gland                            12237\n",
       "pulmonary alveolar type 2 cell                           11594\n",
       "conjunctival epithelial cell                             11087\n",
       "pericyte                                                 10888\n",
       "luminal cell of prostate epithelium                      10652\n",
       "cardiac endothelial cell                                 10092\n",
       "naive thymus-derived CD4-positive, alpha-beta T cell      9827\n",
       "kidney epithelial cell                                    9278\n",
       "hepatocyte                                                7414\n",
       "blood vessel smooth muscle cell                           6642\n",
       "enterocyte of epithelium proper of ileum                  6477\n",
       "T cell                                                    6290\n",
       "mast cell                                                 6222\n",
       "skeletal muscle satellite stem cell                       6170\n",
       "regular atrial cardiac myocyte                            5816\n",
       "pancreatic acinar cell                                    5482\n",
       "intermediate monocyte                                     5478\n",
       "mature NK T cell                                          5394\n",
       "mononuclear phagocyte                                     5336\n",
       "fibroblast of breast                                      5270\n",
       "vascular associated smooth muscle cell                    5019\n",
       "vein endothelial cell                                     4698\n",
       "CD4-positive, alpha-beta thymocyte                        4685\n",
       "enterocyte of epithelium of large intestine               4567\n",
       "myofibroblast cell                                        4436\n",
       "thymic fibroblast type 2                                  4205\n",
       "corneal epithelial cell                                   4187\n",
       "spermatid                                                 4009\n",
       "duct epithelial cell                                      3889\n",
       "mesenchymal stem cell of adipose tissue                   3777\n",
       "basal cell of prostate epithelium                         3495\n",
       "endothelial cell of artery                                3471\n",
       "stromal cell                                              3458\n",
       "thymic fibroblast type 1                                  3270\n",
       "pulmonary alveolar type 1 cell                            3116\n",
       "spermatocyte                                              3070\n",
       "pancreatic ductal cell                                    2721\n",
       "regulatory T cell                                         2649\n",
       "ventricular cardiac muscle cell                           2599\n",
       "endothelial cell of lymphatic vessel                      2438\n",
       "hematopoietic precursor cell                              2140\n",
       "retinal blood vessel endothelial cell                     2091\n",
       "small intestine goblet cell                               2044\n",
       "gamma-delta T cell                                        1977\n",
       "BEST4+ intestinal epithelial cell, human                  1970\n",
       "fibroblast of cardiac tissue                              1947\n",
       "paneth cell of epithelium of small intestine              1853\n",
       "club cell                                                 1747\n",
       "intestinal crypt stem cell of colon                       1732\n",
       "progenitor cell of mammary luminal epithelium             1694\n",
       "epithelial cell                                           1675\n",
       "basophil                                                  1669\n",
       "large intestine goblet cell                               1557\n",
       "eye photoreceptor cell                                    1536\n",
       "epithelial cell of uterus                                 1417\n",
       "enterocyte of epithelium proper of small intestine        1415\n",
       "tissue-resident macrophage                                1355\n",
       "acinar cell                                               1345\n",
       "non-classical monocyte                                    1284\n",
       "lung ciliated cell                                        1209\n",
       "activated CD8-positive, alpha-beta T cell                 1147\n",
       "alveolar adventitial fibroblast                           1113\n",
       "naive thymus-derived CD8-positive, alpha-beta T cell      1056\n",
       "adventitial cell                                          1045\n",
       "respiratory goblet cell                                   1040\n",
       "theca cell                                                1038\n",
       "myeloid leukocyte                                         1002\n",
       "keratocyte                                                1001\n",
       "enteroglial cell                                           990\n",
       "innate lymphoid cell                                       971\n",
       "erythroid progenitor cell                                  971\n",
       "myometrial cell                                            917\n",
       "endothelial cell of vascular tree                          875\n",
       "hematopoietic stem cell                                    858\n",
       "salivary gland cell                                        850\n",
       "granulocyte                                                769\n",
       "CD8-positive, alpha-beta thymocyte                         731\n",
       "ciliated columnar cell of tracheobronchial tree            713\n",
       "intrahepatic cholangiocyte                                 665\n",
       "mural cell                                                 618\n",
       "intestinal crypt stem cell of small intestine              587\n",
       "activated CD4-positive, alpha-beta T cell                  572\n",
       "myeloid dendritic cell                                     571\n",
       "Mueller cell                                               506\n",
       "fast muscle cell                                           495\n",
       "platelet                                                   494\n",
       "myoepithelial cell                                         486\n",
       "common myeloid progenitor                                  456\n",
       "thymocyte                                                  455\n",
       "intestinal tuft cell                                       448\n",
       "pancreatic stellate cell                                   438\n",
       "tendon cell                                                420\n",
       "microglial cell                                            410\n",
       "muscle cell                                                406\n",
       "enterocyte of epithelium proper of jejunum                 405\n",
       "mesothelial cell                                           350\n",
       "colon endothelial cell                                     348\n",
       "colon macrophage                                           328\n",
       "serous cell of epithelium of trachea                       326\n",
       "ciliated epithelial cell                                   320\n",
       "Schwann cell                                               318\n",
       "mucus secreting cell                                       270\n",
       "supporting cell of vestibular epithelium                   270\n",
       "enteroendocrine cell of small intestine                    264\n",
       "ovarian surface epithelial cell                            241\n",
       "transit amplifying cell of colon                           237\n",
       "glandular epithelial cell                                  235\n",
       "melanocyte                                                 234\n",
       "tracheal goblet cell                                       232\n",
       "hepatic stellate cell                                      223\n",
       "bronchial smooth muscle cell                               220\n",
       "paneth cell of colon                                       217\n",
       "tongue muscle cell                                         202\n",
       "leukocyte                                                  201\n",
       "tuft cell of colon                                         178\n",
       "slow muscle cell                                           174\n",
       "ionocyte                                                   160\n",
       "connective tissue cell                                     152\n",
       "neuro-medullary thymic epithelial cell                     135\n",
       "sebum secreting cell                                       135\n",
       "endothelial cell of arteriole                              132\n",
       "male germ cell                                             116\n",
       "type B pancreatic cell                                     102\n",
       "hematopoietic cell                                         100\n",
       "plasmacytoid dendritic cell                                 99\n",
       "neuron                                                      82\n",
       "myeloid cell                                                81\n",
       "myo-medullary thymic epithelial cell                        77\n",
       "Langerhans cell                                             76\n",
       "interstitial cell of Cajal                                  71\n",
       "peritubular myoid cell                                      67\n",
       "retinal pigment epithelial cell                             67\n",
       "spermatogonium                                              64\n",
       "retinal bipolar neuron                                      61\n",
       "endothelial cell of venule                                  52\n",
       "vestibular dark cell                                        49\n",
       "pancreatic A cell                                           48\n",
       "type L enteroendocrine cell                                 44\n",
       "medullary thymic epithelial cell                            43\n",
       "adipocyte                                                   39\n",
       "transit amplifying cell of small intestine                  34\n",
       "taste receptor cell                                         32\n",
       "enterochromaffin-like cell                                  27\n",
       "enteroendocrine cell                                        25\n",
       "pulmonary ionocyte                                          25\n",
       "glial cell                                                  20\n",
       "oocyte                                                      18\n",
       "serous cell of epithelium of bronchus                       15\n",
       "radial glial cell                                           13\n",
       "Leydig cell                                                 10\n",
       "pancreatic D cell                                            9\n",
       "unknown                                                      9\n",
       "T follicular helper cell                                     6\n",
       "retina horizontal cell                                       5\n",
       "pancreatic PP cell                                           2\n",
       "mesenchymal cell                                             2\n",
       "erythroid lineage cell                                       2\n",
       "epithelial fate stem cell                                    2\n",
       "retinal ganglion cell                                        1\n",
       "Name: count, dtype: int64"
      ]
     },
     "execution_count": 21,
     "metadata": {},
     "output_type": "execute_result"
    }
   ],
   "source": [
    "import pandas as pd\n",
    "pd.Series(metadata['cell_type']).value_counts()"
   ]
  },
  {
   "cell_type": "code",
   "execution_count": 22,
   "metadata": {},
   "outputs": [
    {
     "data": {
      "text/plain": [
       "t cell                             208196\n",
       "lymphocyte of b lineage            141844\n",
       "myeloid leukocyte                  128294\n",
       "fibroblast                         100791\n",
       "granulocyte                         78199\n",
       "endothelial cell                    63106\n",
       "contractile cell                    56202\n",
       "stem cell                           43527\n",
       "stromal cell                        39919\n",
       "epithelial cell                     35641\n",
       "intestinal epithelial cell          34178\n",
       "transitional epithelial cell        27241\n",
       "duct epithelial cell                22707\n",
       "glandular epithelial cell           21942\n",
       "innate lymphoid cell                15202\n",
       "epithelial cell of lung             14710\n",
       "erythroid lineage cell              14613\n",
       "endo-epithelial cell                14519\n",
       "stratified epithelial cell          12323\n",
       "conjunctival epithelial cell        11087\n",
       "cardiac endothelial cell            10092\n",
       "kidney epithelial cell               9278\n",
       "hepatocyte                           7414\n",
       "male germ cell                       7259\n",
       "ecto-epithelial cell                 4560\n",
       "hematopoietic cell                   3016\n",
       "ciliated epithelial cell             2242\n",
       "glial cell                           1834\n",
       "neuron                               1685\n",
       "meso-epithelial cell                 1558\n",
       "adventitial cell                     1045\n",
       "secretory cell                        756\n",
       "dendritic cell                        670\n",
       "melanocyte                            234\n",
       "connective tissue cell                152\n",
       "retinal pigment epithelial cell        67\n",
       "vestibular dark cell                   49\n",
       "fat cell                               39\n",
       "female germ cell                       18\n",
       "follicle                                9\n",
       "Name: count, dtype: int64"
      ]
     },
     "execution_count": 22,
     "metadata": {},
     "output_type": "execute_result"
    }
   ],
   "source": [
    "pd.Series(metadata['broad_cell_class']).value_counts()"
   ]
  },
  {
   "cell_type": "code",
   "execution_count": 23,
   "metadata": {},
   "outputs": [
    {
     "name": "stdout",
     "output_type": "stream",
     "text": [
      "\n",
      "Unique cell types in subset: ['B cell' 'CD4-positive, alpha-beta T cell'\n",
      " 'CD8-positive, alpha-beta T cell' 'CD8-positive, alpha-beta thymocyte'\n",
      " 'T cell' 'basal cell' 'capillary endothelial cell'\n",
      " 'cardiac endothelial cell' 'classical monocyte' 'endothelial cell'\n",
      " 'endothelial cell of artery' 'erythrocyte' 'innate lymphoid cell'\n",
      " 'intrahepatic cholangiocyte' 'macrophage' 'mature NK T cell'\n",
      " 'mesenchymal stem cell' 'mesothelial cell' 'myeloid cell'\n",
      " 'myeloid dendritic cell'\n",
      " 'naive thymus-derived CD4-positive, alpha-beta T cell'\n",
      " 'natural killer cell' 'neutrophil' 'non-classical monocyte' 'pericyte'\n",
      " 'plasma cell' 'pulmonary alveolar type 2 cell'\n",
      " 'regular atrial cardiac myocyte' 'regulatory T cell'\n",
      " 'respiratory goblet cell' 'skeletal muscle satellite stem cell'\n",
      " 'smooth muscle cell' 'tendon cell'\n",
      " 'vascular associated smooth muscle cell' 'vein endothelial cell']\n",
      "\n",
      "Average number of expressed genes in B cell: 0\n",
      "\n",
      "Average number of expressed genes in CD4-positive, alpha-beta T cell: 1\n",
      "\n",
      "Average number of expressed genes in CD8-positive, alpha-beta T cell: 0\n"
     ]
    },
    {
     "ename": "",
     "evalue": "",
     "output_type": "error",
     "traceback": [
      "\u001b[1;31mThe Kernel crashed while executing code in the current cell or a previous cell. \n",
      "\u001b[1;31mPlease review the code in the cell(s) to identify a possible cause of the failure. \n",
      "\u001b[1;31mClick <a href='https://aka.ms/vscodeJupyterKernelCrash'>here</a> for more info. \n",
      "\u001b[1;31mView Jupyter <a href='command:jupyter.viewOutput'>log</a> for further details."
     ]
    }
   ],
   "source": [
    "# # Load both expression data and metadata for 1000 cells\n",
    "# matrix = load_subset_sparse(file_path, start_row=0, n_rows=1000)\n",
    "# metadata = load_cell_metadata(file_path, start_row=0, n_rows=1000, \n",
    "#                             columns=['cell_type', 'total_counts'])\n",
    "\n",
    "# # Get unique cell types in this subset\n",
    "# unique_cell_types = np.unique(metadata['cell_type'])\n",
    "# print(\"\\nUnique cell types in subset:\", unique_cell_types)\n",
    "\n",
    "# # Calculate average expression for each cell type\n",
    "# for cell_type in unique_cell_types[:3]:  # Show first 3 cell types\n",
    "#     mask = metadata['cell_type'] == cell_type\n",
    "#     avg_expression = matrix[mask].mean(axis=0)\n",
    "#     print(f\"\\nAverage number of expressed genes in {cell_type}:\", \n",
    "#           (avg_expression > 0).sum())"
   ]
  },
  {
   "cell_type": "code",
   "execution_count": 51,
   "metadata": {},
   "outputs": [
    {
     "data": {
      "text/plain": [
       "(1136218,)"
      ]
     },
     "execution_count": 51,
     "metadata": {},
     "output_type": "execute_result"
    }
   ],
   "source": [
    "embedding_c"
   ]
  },
  {
   "cell_type": "code",
   "execution_count": 23,
   "metadata": {},
   "outputs": [
    {
     "name": "stdout",
     "output_type": "stream",
     "text": [
      "Cell (obs) metadata columns:\n",
      "- 10X_run\n",
      "- _index\n",
      "- _scvi_batch\n",
      "- _scvi_labels\n",
      "- ambient_removal\n",
      "- anatomical_position\n",
      "- assay\n",
      "- assay_ontology_term_id\n",
      "- broad_cell_class\n",
      "- cdna_plate\n",
      "- cdna_well\n",
      "- cell_type\n",
      "- cell_type_ontology_term_id\n",
      "- compartment\n",
      "- development_stage\n",
      "- development_stage_ontology_term_id\n",
      "- disease\n",
      "- disease_ontology_term_id\n",
      "- donor_assay\n",
      "- donor_id\n",
      "- donor_method\n",
      "- donor_tissue\n",
      "- donor_tissue_assay\n",
      "- ethnicity_original\n",
      "- free_annotation\n",
      "- is_primary_data\n",
      "- library_plate\n",
      "- manually_annotated\n",
      "- method\n",
      "- n_genes_by_counts\n",
      "- notes\n",
      "- observation_joinid\n",
      "- organism\n",
      "- organism_ontology_term_id\n",
      "- pct_counts_ercc\n",
      "- pct_counts_mt\n",
      "- published_2022\n",
      "- replicate\n",
      "- sample_id\n",
      "- sample_number\n",
      "- scvi_leiden_donorassay_full\n",
      "- self_reported_ethnicity\n",
      "- self_reported_ethnicity_ontology_term_id\n",
      "- sex\n",
      "- sex_ontology_term_id\n",
      "- suspension_type\n",
      "- tissue\n",
      "- tissue_in_publication\n",
      "- tissue_ontology_term_id\n",
      "- tissue_type\n",
      "- total_counts\n",
      "- total_counts_ercc\n",
      "- total_counts_mt\n",
      "\n",
      "Gene (var) metadata columns:\n",
      "- ensembl_id\n",
      "- ensg\n",
      "- ercc\n",
      "- feature_biotype\n",
      "- feature_is_filtered\n",
      "- feature_length\n",
      "- feature_name\n",
      "- feature_reference\n",
      "- feature_type\n",
      "- genome\n",
      "- mean\n",
      "- mean_counts\n",
      "- mt\n",
      "- n_cells_by_counts\n",
      "- pct_dropout_by_counts\n",
      "- std\n",
      "- total_counts\n"
     ]
    }
   ],
   "source": [
    "with h5py.File(file_path, 'r') as f:\n",
    "    print(\"Cell (obs) metadata columns:\")\n",
    "    print(\"\\n\".join(f\"- {key}\" for key in f['obs'].keys()))\n",
    "    \n",
    "    print(\"\\nGene (var) metadata columns:\")\n",
    "    print(\"\\n\".join(f\"- {key}\" for key in f['var'].keys()))"
   ]
  },
  {
   "cell_type": "code",
   "execution_count": 24,
   "metadata": {},
   "outputs": [
    {
     "ename": "NameError",
     "evalue": "name 'matrix' is not defined",
     "output_type": "error",
     "traceback": [
      "\u001b[0;31m---------------------------------------------------------------------------\u001b[0m",
      "\u001b[0;31mNameError\u001b[0m                                 Traceback (most recent call last)",
      "Cell \u001b[0;32mIn[24], line 1\u001b[0m\n\u001b[0;32m----> 1\u001b[0m \u001b[43mmatrix\u001b[49m\n",
      "\u001b[0;31mNameError\u001b[0m: name 'matrix' is not defined"
     ]
    }
   ],
   "source": [
    "matrix"
   ]
  },
  {
   "cell_type": "code",
   "execution_count": null,
   "metadata": {},
   "outputs": [],
   "source": []
  }
 ],
 "metadata": {
  "kernelspec": {
   "display_name": "venv",
   "language": "python",
   "name": "python3"
  },
  "language_info": {
   "codemirror_mode": {
    "name": "ipython",
    "version": 3
   },
   "file_extension": ".py",
   "mimetype": "text/x-python",
   "name": "python",
   "nbconvert_exporter": "python",
   "pygments_lexer": "ipython3",
   "version": "3.12.7"
  }
 },
 "nbformat": 4,
 "nbformat_minor": 2
}
