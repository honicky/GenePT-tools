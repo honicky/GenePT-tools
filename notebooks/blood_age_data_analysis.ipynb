{
 "cells": [
  {
   "cell_type": "code",
   "execution_count": 1,
   "metadata": {},
   "outputs": [],
   "source": [
    "%load_ext autoreload\n",
    "%autoreload 2\n"
   ]
  },
  {
   "cell_type": "code",
   "execution_count": 2,
   "metadata": {},
   "outputs": [],
   "source": [
    "import pandas as pd\n",
    "pd.set_option('display.max_rows', 1000)\n",
    "import sys\n",
    "from pathlib import Path\n",
    "\n",
    "repo_dir = Path.cwd().parent.absolute()\n",
    "sys.path.append(str(repo_dir))\n",
    "\n"
   ]
  },
  {
   "cell_type": "code",
   "execution_count": 3,
   "metadata": {},
   "outputs": [
    {
     "name": "stdout",
     "output_type": "stream",
     "text": [
      "File already exists at /Users/rj/personal/GenePT-tools/data/GenePT_emebdding_v2.zip\n",
      "Extracting files...\n",
      "Extracting GenePT_emebdding_v2/\n",
      "Skipping GenePT_emebdding_v2/NCBI_UniProt_summary_of_genes.json - already exists with same size\n",
      "Skipping GenePT_emebdding_v2/GenePT_gene_embedding_ada_text.pickle - already exists with same size\n",
      "Skipping GenePT_emebdding_v2/GenePT_gene_protein_embedding_model_3_text.pickle. - already exists with same size\n",
      "Skipping GenePT_emebdding_v2/NCBI_summary_of_genes.json - already exists with same size\n",
      "Extraction complete!\n",
      "Setup finished!\n",
      "embedding_dir exists: True\n",
      "ada_embedding_path exists: True\n",
      "large_embedding_path exists: True\n"
     ]
    }
   ],
   "source": [
    "from src.utils import setup_data_dir\n",
    "from pathlib import Path\n",
    "setup_data_dir()\n",
    "data_dir = repo_dir / \"data\"\n",
    "\n",
    "embedding_dir = data_dir / \"GenePT_emebdding_v2\"\n",
    "ada_embedding_path = embedding_dir / \"GenePT_gene_embedding_ada_text.pickle\"\n",
    "large_embedding_path = embedding_dir / \"GenePT_gene_protein_embedding_model_3_text.pickle.\"\n",
    "\n",
    "print(\"embedding_dir exists:\", embedding_dir.exists())\n",
    "print(\"ada_embedding_path exists:\", ada_embedding_path.exists())\n",
    "print(\"large_embedding_path exists:\", large_embedding_path.exists())\n"
   ]
  },
  {
   "cell_type": "code",
   "execution_count": 4,
   "metadata": {},
   "outputs": [],
   "source": [
    "from src.utils import get_gene_embeddings\n",
    "# gene_embedding = get_gene_embeddings(\"text-embedding-ada-002\")\n",
    "# gene_embedding = get_gene_embeddings(\"text-embedding-3-large\")\n",
    "gene_embedding = pd.read_parquet(data_dir / \"generated/embeddings/embedding_associations_age_drugs_pathways_openai_large.parquet\")\n"
   ]
  },
  {
   "cell_type": "code",
   "execution_count": 5,
   "metadata": {},
   "outputs": [
    {
     "name": "stdout",
     "output_type": "stream",
     "text": [
      "File already exists at /Users/rj/personal/GenePT-tools/data/sra.gene_sums.SRP174638.G026.gz\n",
      "Skipping sra.gene_sums.SRP174638.G026.gz - already exists with same size\n"
     ]
    },
    {
     "data": {
      "text/html": [
       "<div>\n",
       "<style scoped>\n",
       "    .dataframe tbody tr th:only-of-type {\n",
       "        vertical-align: middle;\n",
       "    }\n",
       "\n",
       "    .dataframe tbody tr th {\n",
       "        vertical-align: top;\n",
       "    }\n",
       "\n",
       "    .dataframe thead th {\n",
       "        text-align: right;\n",
       "    }\n",
       "</style>\n",
       "<table border=\"1\" class=\"dataframe\">\n",
       "  <thead>\n",
       "    <tr style=\"text-align: right;\">\n",
       "      <th></th>\n",
       "      <th>gene_id</th>\n",
       "      <th>SRR8376900</th>\n",
       "      <th>SRR8377100</th>\n",
       "      <th>SRR8376800</th>\n",
       "      <th>SRR8376700</th>\n",
       "      <th>SRR8377000</th>\n",
       "      <th>SRR8377101</th>\n",
       "      <th>SRR8376901</th>\n",
       "      <th>SRR8377001</th>\n",
       "      <th>SRR8376701</th>\n",
       "      <th>...</th>\n",
       "      <th>SRR8376798</th>\n",
       "      <th>SRR8376998</th>\n",
       "      <th>SRR8377098</th>\n",
       "      <th>SRR8376898</th>\n",
       "      <th>SRR8377099</th>\n",
       "      <th>SRR8376699</th>\n",
       "      <th>SRR8376999</th>\n",
       "      <th>SRR8376899</th>\n",
       "      <th>SRR8376799</th>\n",
       "      <th>gene_id_short</th>\n",
       "    </tr>\n",
       "  </thead>\n",
       "  <tbody>\n",
       "    <tr>\n",
       "      <th>0</th>\n",
       "      <td>ENSG00000278704.1</td>\n",
       "      <td>0</td>\n",
       "      <td>0</td>\n",
       "      <td>0</td>\n",
       "      <td>0</td>\n",
       "      <td>0</td>\n",
       "      <td>0</td>\n",
       "      <td>0</td>\n",
       "      <td>0</td>\n",
       "      <td>0</td>\n",
       "      <td>...</td>\n",
       "      <td>0</td>\n",
       "      <td>0</td>\n",
       "      <td>0</td>\n",
       "      <td>0</td>\n",
       "      <td>0</td>\n",
       "      <td>0</td>\n",
       "      <td>0</td>\n",
       "      <td>0</td>\n",
       "      <td>0</td>\n",
       "      <td>ENSG00000278704</td>\n",
       "    </tr>\n",
       "    <tr>\n",
       "      <th>1</th>\n",
       "      <td>ENSG00000277400.1</td>\n",
       "      <td>0</td>\n",
       "      <td>0</td>\n",
       "      <td>0</td>\n",
       "      <td>0</td>\n",
       "      <td>0</td>\n",
       "      <td>0</td>\n",
       "      <td>0</td>\n",
       "      <td>0</td>\n",
       "      <td>0</td>\n",
       "      <td>...</td>\n",
       "      <td>0</td>\n",
       "      <td>0</td>\n",
       "      <td>0</td>\n",
       "      <td>0</td>\n",
       "      <td>0</td>\n",
       "      <td>0</td>\n",
       "      <td>0</td>\n",
       "      <td>0</td>\n",
       "      <td>0</td>\n",
       "      <td>ENSG00000277400</td>\n",
       "    </tr>\n",
       "    <tr>\n",
       "      <th>2</th>\n",
       "      <td>ENSG00000274847.1</td>\n",
       "      <td>0</td>\n",
       "      <td>0</td>\n",
       "      <td>0</td>\n",
       "      <td>0</td>\n",
       "      <td>0</td>\n",
       "      <td>0</td>\n",
       "      <td>0</td>\n",
       "      <td>0</td>\n",
       "      <td>0</td>\n",
       "      <td>...</td>\n",
       "      <td>0</td>\n",
       "      <td>0</td>\n",
       "      <td>0</td>\n",
       "      <td>0</td>\n",
       "      <td>0</td>\n",
       "      <td>0</td>\n",
       "      <td>0</td>\n",
       "      <td>0</td>\n",
       "      <td>0</td>\n",
       "      <td>ENSG00000274847</td>\n",
       "    </tr>\n",
       "    <tr>\n",
       "      <th>3</th>\n",
       "      <td>ENSG00000277428.1</td>\n",
       "      <td>0</td>\n",
       "      <td>0</td>\n",
       "      <td>0</td>\n",
       "      <td>0</td>\n",
       "      <td>0</td>\n",
       "      <td>0</td>\n",
       "      <td>0</td>\n",
       "      <td>0</td>\n",
       "      <td>0</td>\n",
       "      <td>...</td>\n",
       "      <td>0</td>\n",
       "      <td>0</td>\n",
       "      <td>0</td>\n",
       "      <td>0</td>\n",
       "      <td>0</td>\n",
       "      <td>0</td>\n",
       "      <td>0</td>\n",
       "      <td>0</td>\n",
       "      <td>0</td>\n",
       "      <td>ENSG00000277428</td>\n",
       "    </tr>\n",
       "    <tr>\n",
       "      <th>4</th>\n",
       "      <td>ENSG00000276256.1</td>\n",
       "      <td>0</td>\n",
       "      <td>0</td>\n",
       "      <td>0</td>\n",
       "      <td>0</td>\n",
       "      <td>0</td>\n",
       "      <td>0</td>\n",
       "      <td>0</td>\n",
       "      <td>0</td>\n",
       "      <td>0</td>\n",
       "      <td>...</td>\n",
       "      <td>0</td>\n",
       "      <td>0</td>\n",
       "      <td>0</td>\n",
       "      <td>0</td>\n",
       "      <td>0</td>\n",
       "      <td>0</td>\n",
       "      <td>0</td>\n",
       "      <td>0</td>\n",
       "      <td>0</td>\n",
       "      <td>ENSG00000276256</td>\n",
       "    </tr>\n",
       "  </tbody>\n",
       "</table>\n",
       "<p>5 rows × 495 columns</p>\n",
       "</div>"
      ],
      "text/plain": [
       "             gene_id  SRR8376900  SRR8377100  SRR8376800  SRR8376700  \\\n",
       "0  ENSG00000278704.1           0           0           0           0   \n",
       "1  ENSG00000277400.1           0           0           0           0   \n",
       "2  ENSG00000274847.1           0           0           0           0   \n",
       "3  ENSG00000277428.1           0           0           0           0   \n",
       "4  ENSG00000276256.1           0           0           0           0   \n",
       "\n",
       "   SRR8377000  SRR8377101  SRR8376901  SRR8377001  SRR8376701  ...  \\\n",
       "0           0           0           0           0           0  ...   \n",
       "1           0           0           0           0           0  ...   \n",
       "2           0           0           0           0           0  ...   \n",
       "3           0           0           0           0           0  ...   \n",
       "4           0           0           0           0           0  ...   \n",
       "\n",
       "   SRR8376798  SRR8376998  SRR8377098  SRR8376898  SRR8377099  SRR8376699  \\\n",
       "0           0           0           0           0           0           0   \n",
       "1           0           0           0           0           0           0   \n",
       "2           0           0           0           0           0           0   \n",
       "3           0           0           0           0           0           0   \n",
       "4           0           0           0           0           0           0   \n",
       "\n",
       "   SRR8376999  SRR8376899  SRR8376799    gene_id_short  \n",
       "0           0           0           0  ENSG00000278704  \n",
       "1           0           0           0  ENSG00000277400  \n",
       "2           0           0           0  ENSG00000274847  \n",
       "3           0           0           0  ENSG00000277428  \n",
       "4           0           0           0  ENSG00000276256  \n",
       "\n",
       "[5 rows x 495 columns]"
      ]
     },
     "execution_count": 5,
     "metadata": {},
     "output_type": "execute_result"
    }
   ],
   "source": [
    "from src.utils import download_file, extract_gz\n",
    "import pandas as pd\n",
    "gene_sums_gz = download_file(\"https://duffel.rail.bio/recount3/human/data_sources/sra/gene_sums/38/SRP174638/sra.gene_sums.SRP174638.G026.gz\")\n",
    "gene_sums_path = extract_gz(gene_sums_gz)\n",
    "gene_sums_df = pd.read_csv(str(gene_sums_path), sep=\"\\t\", comment='#')\n",
    "gene_sums_df['gene_id_short'] = gene_sums_df.gene_id.str.split('.').str[0]\n",
    "gene_sums_df.head()"
   ]
  },
  {
   "cell_type": "code",
   "execution_count": 6,
   "metadata": {},
   "outputs": [
    {
     "name": "stderr",
     "output_type": "stream",
     "text": [
      "/Users/rj/personal/GenePT-tools/venv/lib/python3.12/site-packages/tqdm/auto.py:21: TqdmWarning: IProgress not found. Please update jupyter and ipywidgets. See https://ipywidgets.readthedocs.io/en/stable/user_install.html\n",
      "  from .autonotebook import tqdm as notebook_tqdm\n"
     ]
    },
    {
     "data": {
      "text/html": [
       "<div>\n",
       "<style scoped>\n",
       "    .dataframe tbody tr th:only-of-type {\n",
       "        vertical-align: middle;\n",
       "    }\n",
       "\n",
       "    .dataframe tbody tr th {\n",
       "        vertical-align: top;\n",
       "    }\n",
       "\n",
       "    .dataframe thead th {\n",
       "        text-align: right;\n",
       "    }\n",
       "</style>\n",
       "<table border=\"1\" class=\"dataframe\">\n",
       "  <thead>\n",
       "    <tr style=\"text-align: right;\">\n",
       "      <th></th>\n",
       "      <th>gene_name</th>\n",
       "      <th>ensembl_id</th>\n",
       "      <th>gene_type</th>\n",
       "    </tr>\n",
       "  </thead>\n",
       "  <tbody>\n",
       "    <tr>\n",
       "      <th>0</th>\n",
       "      <td>TSPAN6</td>\n",
       "      <td>ENSG00000000003</td>\n",
       "      <td>protein_coding</td>\n",
       "    </tr>\n",
       "    <tr>\n",
       "      <th>1</th>\n",
       "      <td>TNMD</td>\n",
       "      <td>ENSG00000000005</td>\n",
       "      <td>protein_coding</td>\n",
       "    </tr>\n",
       "    <tr>\n",
       "      <th>2</th>\n",
       "      <td>DPM1</td>\n",
       "      <td>ENSG00000000419</td>\n",
       "      <td>protein_coding</td>\n",
       "    </tr>\n",
       "    <tr>\n",
       "      <th>3</th>\n",
       "      <td>SCYL3</td>\n",
       "      <td>ENSG00000000457</td>\n",
       "      <td>protein_coding</td>\n",
       "    </tr>\n",
       "    <tr>\n",
       "      <th>4</th>\n",
       "      <td>C1orf112</td>\n",
       "      <td>ENSG00000000460</td>\n",
       "      <td>protein_coding</td>\n",
       "    </tr>\n",
       "  </tbody>\n",
       "</table>\n",
       "</div>"
      ],
      "text/plain": [
       "  gene_name       ensembl_id       gene_type\n",
       "0    TSPAN6  ENSG00000000003  protein_coding\n",
       "1      TNMD  ENSG00000000005  protein_coding\n",
       "2      DPM1  ENSG00000000419  protein_coding\n",
       "3     SCYL3  ENSG00000000457  protein_coding\n",
       "4  C1orf112  ENSG00000000460  protein_coding"
      ]
     },
     "execution_count": 6,
     "metadata": {},
     "output_type": "execute_result"
    }
   ],
   "source": [
    "from datasets import load_dataset\n",
    "\n",
    "gene_info_table_dataset = load_dataset(\"honicky/genept-composable-embeddings-source-data\", \"gene_info\")\n",
    "gene_info_table = gene_info_table_dataset['train'].to_pandas()\n",
    "gene_info_table.head()\n"
   ]
  },
  {
   "cell_type": "code",
   "execution_count": 7,
   "metadata": {},
   "outputs": [
    {
     "data": {
      "text/plain": [
       "(63856, 495)"
      ]
     },
     "execution_count": 7,
     "metadata": {},
     "output_type": "execute_result"
    }
   ],
   "source": [
    "gene_sums_df.shape"
   ]
  },
  {
   "cell_type": "code",
   "execution_count": 8,
   "metadata": {},
   "outputs": [
    {
     "data": {
      "text/html": [
       "<div>\n",
       "<style scoped>\n",
       "    .dataframe tbody tr th:only-of-type {\n",
       "        vertical-align: middle;\n",
       "    }\n",
       "\n",
       "    .dataframe tbody tr th {\n",
       "        vertical-align: top;\n",
       "    }\n",
       "\n",
       "    .dataframe thead th {\n",
       "        text-align: right;\n",
       "    }\n",
       "</style>\n",
       "<table border=\"1\" class=\"dataframe\">\n",
       "  <thead>\n",
       "    <tr style=\"text-align: right;\">\n",
       "      <th></th>\n",
       "      <th>gene_id</th>\n",
       "      <th>SRR8376900</th>\n",
       "      <th>SRR8377100</th>\n",
       "      <th>SRR8376800</th>\n",
       "      <th>SRR8376700</th>\n",
       "      <th>SRR8377000</th>\n",
       "      <th>SRR8377101</th>\n",
       "      <th>SRR8376901</th>\n",
       "      <th>SRR8377001</th>\n",
       "      <th>SRR8376701</th>\n",
       "      <th>...</th>\n",
       "      <th>SRR8376898</th>\n",
       "      <th>SRR8377099</th>\n",
       "      <th>SRR8376699</th>\n",
       "      <th>SRR8376999</th>\n",
       "      <th>SRR8376899</th>\n",
       "      <th>SRR8376799</th>\n",
       "      <th>gene_id_short</th>\n",
       "      <th>gene_name</th>\n",
       "      <th>ensembl_id</th>\n",
       "      <th>gene_type</th>\n",
       "    </tr>\n",
       "  </thead>\n",
       "  <tbody>\n",
       "    <tr>\n",
       "      <th>0</th>\n",
       "      <td>ENSG00000278704.1</td>\n",
       "      <td>0</td>\n",
       "      <td>0</td>\n",
       "      <td>0</td>\n",
       "      <td>0</td>\n",
       "      <td>0</td>\n",
       "      <td>0</td>\n",
       "      <td>0</td>\n",
       "      <td>0</td>\n",
       "      <td>0</td>\n",
       "      <td>...</td>\n",
       "      <td>0</td>\n",
       "      <td>0</td>\n",
       "      <td>0</td>\n",
       "      <td>0</td>\n",
       "      <td>0</td>\n",
       "      <td>0</td>\n",
       "      <td>ENSG00000278704</td>\n",
       "      <td>BX004987.1</td>\n",
       "      <td>ENSG00000278704</td>\n",
       "      <td>protein_coding</td>\n",
       "    </tr>\n",
       "    <tr>\n",
       "      <th>1</th>\n",
       "      <td>ENSG00000277400.1</td>\n",
       "      <td>0</td>\n",
       "      <td>0</td>\n",
       "      <td>0</td>\n",
       "      <td>0</td>\n",
       "      <td>0</td>\n",
       "      <td>0</td>\n",
       "      <td>0</td>\n",
       "      <td>0</td>\n",
       "      <td>0</td>\n",
       "      <td>...</td>\n",
       "      <td>0</td>\n",
       "      <td>0</td>\n",
       "      <td>0</td>\n",
       "      <td>0</td>\n",
       "      <td>0</td>\n",
       "      <td>0</td>\n",
       "      <td>ENSG00000277400</td>\n",
       "      <td>AC145212.2</td>\n",
       "      <td>ENSG00000277400</td>\n",
       "      <td>protein_coding</td>\n",
       "    </tr>\n",
       "    <tr>\n",
       "      <th>2</th>\n",
       "      <td>ENSG00000274847.1</td>\n",
       "      <td>0</td>\n",
       "      <td>0</td>\n",
       "      <td>0</td>\n",
       "      <td>0</td>\n",
       "      <td>0</td>\n",
       "      <td>0</td>\n",
       "      <td>0</td>\n",
       "      <td>0</td>\n",
       "      <td>0</td>\n",
       "      <td>...</td>\n",
       "      <td>0</td>\n",
       "      <td>0</td>\n",
       "      <td>0</td>\n",
       "      <td>0</td>\n",
       "      <td>0</td>\n",
       "      <td>0</td>\n",
       "      <td>ENSG00000274847</td>\n",
       "      <td>MAFIP</td>\n",
       "      <td>ENSG00000274847</td>\n",
       "      <td>protein_coding</td>\n",
       "    </tr>\n",
       "    <tr>\n",
       "      <th>3</th>\n",
       "      <td>ENSG00000277428.1</td>\n",
       "      <td>0</td>\n",
       "      <td>0</td>\n",
       "      <td>0</td>\n",
       "      <td>0</td>\n",
       "      <td>0</td>\n",
       "      <td>0</td>\n",
       "      <td>0</td>\n",
       "      <td>0</td>\n",
       "      <td>0</td>\n",
       "      <td>...</td>\n",
       "      <td>0</td>\n",
       "      <td>0</td>\n",
       "      <td>0</td>\n",
       "      <td>0</td>\n",
       "      <td>0</td>\n",
       "      <td>0</td>\n",
       "      <td>ENSG00000277428</td>\n",
       "      <td>Y_RNA</td>\n",
       "      <td>ENSG00000277428</td>\n",
       "      <td>misc_RNA</td>\n",
       "    </tr>\n",
       "    <tr>\n",
       "      <th>4</th>\n",
       "      <td>ENSG00000276256.1</td>\n",
       "      <td>0</td>\n",
       "      <td>0</td>\n",
       "      <td>0</td>\n",
       "      <td>0</td>\n",
       "      <td>0</td>\n",
       "      <td>0</td>\n",
       "      <td>0</td>\n",
       "      <td>0</td>\n",
       "      <td>0</td>\n",
       "      <td>...</td>\n",
       "      <td>0</td>\n",
       "      <td>0</td>\n",
       "      <td>0</td>\n",
       "      <td>0</td>\n",
       "      <td>0</td>\n",
       "      <td>0</td>\n",
       "      <td>ENSG00000276256</td>\n",
       "      <td>LOC389831</td>\n",
       "      <td>ENSG00000276256</td>\n",
       "      <td>protein_coding</td>\n",
       "    </tr>\n",
       "    <tr>\n",
       "      <th>...</th>\n",
       "      <td>...</td>\n",
       "      <td>...</td>\n",
       "      <td>...</td>\n",
       "      <td>...</td>\n",
       "      <td>...</td>\n",
       "      <td>...</td>\n",
       "      <td>...</td>\n",
       "      <td>...</td>\n",
       "      <td>...</td>\n",
       "      <td>...</td>\n",
       "      <td>...</td>\n",
       "      <td>...</td>\n",
       "      <td>...</td>\n",
       "      <td>...</td>\n",
       "      <td>...</td>\n",
       "      <td>...</td>\n",
       "      <td>...</td>\n",
       "      <td>...</td>\n",
       "      <td>...</td>\n",
       "      <td>...</td>\n",
       "      <td>...</td>\n",
       "    </tr>\n",
       "    <tr>\n",
       "      <th>67942</th>\n",
       "      <td>ENSG00000124334.17_PAR_Y</td>\n",
       "      <td>0</td>\n",
       "      <td>0</td>\n",
       "      <td>0</td>\n",
       "      <td>0</td>\n",
       "      <td>0</td>\n",
       "      <td>0</td>\n",
       "      <td>0</td>\n",
       "      <td>0</td>\n",
       "      <td>0</td>\n",
       "      <td>...</td>\n",
       "      <td>0</td>\n",
       "      <td>0</td>\n",
       "      <td>0</td>\n",
       "      <td>0</td>\n",
       "      <td>0</td>\n",
       "      <td>0</td>\n",
       "      <td>ENSG00000124334</td>\n",
       "      <td>IL9R</td>\n",
       "      <td>ENSG00000124334</td>\n",
       "      <td>protein_coding</td>\n",
       "    </tr>\n",
       "    <tr>\n",
       "      <th>67943</th>\n",
       "      <td>ENSG00000185203.12_PAR_Y</td>\n",
       "      <td>0</td>\n",
       "      <td>0</td>\n",
       "      <td>0</td>\n",
       "      <td>0</td>\n",
       "      <td>0</td>\n",
       "      <td>0</td>\n",
       "      <td>0</td>\n",
       "      <td>0</td>\n",
       "      <td>0</td>\n",
       "      <td>...</td>\n",
       "      <td>0</td>\n",
       "      <td>0</td>\n",
       "      <td>0</td>\n",
       "      <td>0</td>\n",
       "      <td>0</td>\n",
       "      <td>0</td>\n",
       "      <td>ENSG00000185203</td>\n",
       "      <td>WASIR1</td>\n",
       "      <td>ENSG00000185203</td>\n",
       "      <td>antisense</td>\n",
       "    </tr>\n",
       "    <tr>\n",
       "      <th>67944</th>\n",
       "      <td>ENSG00000270726.6_PAR_Y</td>\n",
       "      <td>0</td>\n",
       "      <td>0</td>\n",
       "      <td>0</td>\n",
       "      <td>0</td>\n",
       "      <td>0</td>\n",
       "      <td>0</td>\n",
       "      <td>0</td>\n",
       "      <td>0</td>\n",
       "      <td>0</td>\n",
       "      <td>...</td>\n",
       "      <td>0</td>\n",
       "      <td>0</td>\n",
       "      <td>0</td>\n",
       "      <td>0</td>\n",
       "      <td>0</td>\n",
       "      <td>0</td>\n",
       "      <td>ENSG00000270726</td>\n",
       "      <td>AJ271736.10</td>\n",
       "      <td>ENSG00000270726</td>\n",
       "      <td>processed_transcript</td>\n",
       "    </tr>\n",
       "    <tr>\n",
       "      <th>67945</th>\n",
       "      <td>ENSG00000182484.15_PAR_Y</td>\n",
       "      <td>0</td>\n",
       "      <td>0</td>\n",
       "      <td>0</td>\n",
       "      <td>0</td>\n",
       "      <td>0</td>\n",
       "      <td>0</td>\n",
       "      <td>0</td>\n",
       "      <td>0</td>\n",
       "      <td>0</td>\n",
       "      <td>...</td>\n",
       "      <td>0</td>\n",
       "      <td>0</td>\n",
       "      <td>0</td>\n",
       "      <td>0</td>\n",
       "      <td>0</td>\n",
       "      <td>0</td>\n",
       "      <td>ENSG00000182484</td>\n",
       "      <td>WASH6P</td>\n",
       "      <td>ENSG00000182484</td>\n",
       "      <td>pseudogene</td>\n",
       "    </tr>\n",
       "    <tr>\n",
       "      <th>67946</th>\n",
       "      <td>ENSG00000227159.8_PAR_Y</td>\n",
       "      <td>0</td>\n",
       "      <td>0</td>\n",
       "      <td>0</td>\n",
       "      <td>0</td>\n",
       "      <td>0</td>\n",
       "      <td>0</td>\n",
       "      <td>0</td>\n",
       "      <td>0</td>\n",
       "      <td>0</td>\n",
       "      <td>...</td>\n",
       "      <td>0</td>\n",
       "      <td>0</td>\n",
       "      <td>0</td>\n",
       "      <td>0</td>\n",
       "      <td>0</td>\n",
       "      <td>0</td>\n",
       "      <td>ENSG00000227159</td>\n",
       "      <td>DDX11L16</td>\n",
       "      <td>ENSG00000227159</td>\n",
       "      <td>pseudogene</td>\n",
       "    </tr>\n",
       "  </tbody>\n",
       "</table>\n",
       "<p>67947 rows × 498 columns</p>\n",
       "</div>"
      ],
      "text/plain": [
       "                        gene_id  SRR8376900  SRR8377100  SRR8376800  \\\n",
       "0             ENSG00000278704.1           0           0           0   \n",
       "1             ENSG00000277400.1           0           0           0   \n",
       "2             ENSG00000274847.1           0           0           0   \n",
       "3             ENSG00000277428.1           0           0           0   \n",
       "4             ENSG00000276256.1           0           0           0   \n",
       "...                         ...         ...         ...         ...   \n",
       "67942  ENSG00000124334.17_PAR_Y           0           0           0   \n",
       "67943  ENSG00000185203.12_PAR_Y           0           0           0   \n",
       "67944   ENSG00000270726.6_PAR_Y           0           0           0   \n",
       "67945  ENSG00000182484.15_PAR_Y           0           0           0   \n",
       "67946   ENSG00000227159.8_PAR_Y           0           0           0   \n",
       "\n",
       "       SRR8376700  SRR8377000  SRR8377101  SRR8376901  SRR8377001  SRR8376701  \\\n",
       "0               0           0           0           0           0           0   \n",
       "1               0           0           0           0           0           0   \n",
       "2               0           0           0           0           0           0   \n",
       "3               0           0           0           0           0           0   \n",
       "4               0           0           0           0           0           0   \n",
       "...           ...         ...         ...         ...         ...         ...   \n",
       "67942           0           0           0           0           0           0   \n",
       "67943           0           0           0           0           0           0   \n",
       "67944           0           0           0           0           0           0   \n",
       "67945           0           0           0           0           0           0   \n",
       "67946           0           0           0           0           0           0   \n",
       "\n",
       "       ...  SRR8376898  SRR8377099  SRR8376699  SRR8376999  SRR8376899  \\\n",
       "0      ...           0           0           0           0           0   \n",
       "1      ...           0           0           0           0           0   \n",
       "2      ...           0           0           0           0           0   \n",
       "3      ...           0           0           0           0           0   \n",
       "4      ...           0           0           0           0           0   \n",
       "...    ...         ...         ...         ...         ...         ...   \n",
       "67942  ...           0           0           0           0           0   \n",
       "67943  ...           0           0           0           0           0   \n",
       "67944  ...           0           0           0           0           0   \n",
       "67945  ...           0           0           0           0           0   \n",
       "67946  ...           0           0           0           0           0   \n",
       "\n",
       "       SRR8376799    gene_id_short    gene_name       ensembl_id  \\\n",
       "0               0  ENSG00000278704   BX004987.1  ENSG00000278704   \n",
       "1               0  ENSG00000277400   AC145212.2  ENSG00000277400   \n",
       "2               0  ENSG00000274847        MAFIP  ENSG00000274847   \n",
       "3               0  ENSG00000277428        Y_RNA  ENSG00000277428   \n",
       "4               0  ENSG00000276256    LOC389831  ENSG00000276256   \n",
       "...           ...              ...          ...              ...   \n",
       "67942           0  ENSG00000124334         IL9R  ENSG00000124334   \n",
       "67943           0  ENSG00000185203       WASIR1  ENSG00000185203   \n",
       "67944           0  ENSG00000270726  AJ271736.10  ENSG00000270726   \n",
       "67945           0  ENSG00000182484       WASH6P  ENSG00000182484   \n",
       "67946           0  ENSG00000227159     DDX11L16  ENSG00000227159   \n",
       "\n",
       "                  gene_type  \n",
       "0            protein_coding  \n",
       "1            protein_coding  \n",
       "2            protein_coding  \n",
       "3                  misc_RNA  \n",
       "4            protein_coding  \n",
       "...                     ...  \n",
       "67942        protein_coding  \n",
       "67943             antisense  \n",
       "67944  processed_transcript  \n",
       "67945            pseudogene  \n",
       "67946            pseudogene  \n",
       "\n",
       "[67947 rows x 498 columns]"
      ]
     },
     "execution_count": 8,
     "metadata": {},
     "output_type": "execute_result"
    }
   ],
   "source": [
    "gene_sums_with_names = gene_sums_df.merge(gene_info_table, left_on='gene_id_short', right_on='ensembl_id', how='left')\n",
    "gene_sums_with_names\n"
   ]
  },
  {
   "cell_type": "code",
   "execution_count": 9,
   "metadata": {},
   "outputs": [
    {
     "name": "stdout",
     "output_type": "stream",
     "text": [
      "Total genes in gene_sums_with_names: 67947\n",
      "Total distinct genes in gene_sums_with_names: 60399\n",
      "Total genes with embeddings: 34642\n",
      "total embeddings: 33703\n"
     ]
    }
   ],
   "source": [
    "print(\"Total genes in gene_sums_with_names:\", len(gene_sums_with_names))\n",
    "print(\"Total distinct genes in gene_sums_with_names:\", len(gene_sums_with_names.gene_name.unique()))\n",
    "print(\"Total genes with embeddings:\", gene_sums_with_names.gene_name.apply(lambda x: x in gene_embedding.index).sum())\n",
    "\n",
    "print(\"total embeddings:\", gene_embedding.shape[0])\n"
   ]
  },
  {
   "cell_type": "code",
   "execution_count": 10,
   "metadata": {},
   "outputs": [
    {
     "name": "stdout",
     "output_type": "stream",
     "text": [
      "File already exists at /Users/rj/personal/GenePT-tools/data/sra.sra.SRP174638.MD.gz\n",
      "Skipping sra.sra.SRP174638.MD.gz - already exists with same size\n"
     ]
    },
    {
     "data": {
      "text/plain": [
       "Index(['rail_id', 'external_id', 'study', 'sample_acc', 'experiment_acc',\n",
       "       'submission_acc', 'submission_center', 'submission_lab', 'study_title',\n",
       "       'study_abstract', 'study_description', 'experiment_title',\n",
       "       'design_description', 'sample_description', 'library_name',\n",
       "       'library_strategy', 'library_source', 'library_selection',\n",
       "       'library_layout', 'paired_nominal_length', 'paired_nominal_stdev',\n",
       "       'library_construction_protocol', 'platform_model', 'sample_attributes',\n",
       "       'experiment_attributes', 'spot_length', 'sample_name', 'sample_title',\n",
       "       'sample_bases', 'sample_spots', 'run_published', 'size',\n",
       "       'run_total_bases', 'run_total_spots', 'num_reads', 'num_spots',\n",
       "       'read_info', 'run_alias', 'run_center_name', 'run_broker_name',\n",
       "       'run_center'],\n",
       "      dtype='object')"
      ]
     },
     "execution_count": 10,
     "metadata": {},
     "output_type": "execute_result"
    }
   ],
   "source": [
    "metadata_gz = download_file(\"https://duffel.rail.bio/recount3/human/data_sources/sra/metadata/38/SRP174638/sra.sra.SRP174638.MD.gz\")\n",
    "metadata_path = extract_gz(metadata_gz)\n",
    "metadata_df = pd.read_csv(str(metadata_path), sep=\"\\t\", comment='#')\n",
    "metadata_df.columns"
   ]
  },
  {
   "cell_type": "code",
   "execution_count": 11,
   "metadata": {},
   "outputs": [
    {
     "name": "stdout",
     "output_type": "stream",
     "text": [
      "rail_id                                                                    4825260\n",
      "external_id                                                             SRR8376682\n",
      "study                                                                    SRP174638\n",
      "sample_acc                                                              SRS4193085\n",
      "experiment_acc                                                          SRX5186683\n",
      "submission_acc                                                           SRA827571\n",
      "submission_center                                                              GEO\n",
      "submission_lab                                                                 NaN\n",
      "study_title                      Cell type-specific immune phenotypes predict l...\n",
      "study_abstract                   Peripheral blood samples were collected from c...\n",
      "study_description                                                              NaN\n",
      "experiment_title                 GSM3533991: lib823 [ABATE_001010_21]; Homo sap...\n",
      "design_description                                                             NaN\n",
      "sample_description                                                             NaN\n",
      "library_name                                                                   NaN\n",
      "library_strategy                                                           RNA-Seq\n",
      "library_source                                                      TRANSCRIPTOMIC\n",
      "library_selection                                                             cDNA\n",
      "library_layout                                                              single\n",
      "paired_nominal_length                                                          NaN\n",
      "paired_nominal_stdev                                                           NaN\n",
      "library_construction_protocol    RNA was isolated from whole blood samples pres...\n",
      "platform_model                                                   Illumina HiScanSQ\n",
      "sample_attributes                age at enrollment;;14.4|ethnicity;;Not Hispani...\n",
      "experiment_attributes                                    GEO Accession;;GSM3533991\n",
      "spot_length                                                                    NaN\n",
      "sample_name                                                             GSM3533991\n",
      "sample_title                                              lib823 [ABATE_001010_21]\n",
      "sample_bases                                                             224886400\n",
      "sample_spots                                                               4497728\n",
      "run_published                                                  2019-03-02 11:52:19\n",
      "size                                                                     139092025\n",
      "run_total_bases                                                          224886400\n",
      "run_total_spots                                                            4497728\n",
      "num_reads                                                                        1\n",
      "num_spots                                                                  4497728\n",
      "read_info                                 index:0,count:4497728,average:50,stdev:0\n",
      "run_alias                                                            GSM3533991_r1\n",
      "run_center_name                                                                NaN\n",
      "run_broker_name                                                                NaN\n",
      "run_center                                                                     NaN\n",
      "Name: 0, dtype: object\n"
     ]
    }
   ],
   "source": [
    "# with pd.option_context('display.max_rows', None, 'display.max_columns', None):  # more options can be specified also\n",
    "print(metadata_df.loc[0])"
   ]
  },
  {
   "cell_type": "code",
   "execution_count": 12,
   "metadata": {},
   "outputs": [
    {
     "data": {
      "text/plain": [
       "'age at enrollment;;14.4|ethnicity;;Not Hispanic or Latino|library batch;;Fisher_BRI|race;;White|rate of c-peptide change;;-0.600512178281894|Sex;;male|source_name;;whole blood|subject;;ABATE_001010|visit day;;467'"
      ]
     },
     "execution_count": 12,
     "metadata": {},
     "output_type": "execute_result"
    }
   ],
   "source": [
    "metadata_df.sample_attributes.iloc[0]"
   ]
  },
  {
   "cell_type": "code",
   "execution_count": 13,
   "metadata": {},
   "outputs": [
    {
     "data": {
      "text/plain": [
       "Index(['SRR8376900', 'SRR8377100', 'SRR8376800', 'SRR8376700', 'SRR8377000',\n",
       "       'SRR8377101', 'SRR8376901', 'SRR8377001', 'SRR8376701', 'SRR8376801',\n",
       "       ...\n",
       "       'SRR8376698', 'SRR8376798', 'SRR8376998', 'SRR8377098', 'SRR8376898',\n",
       "       'SRR8377099', 'SRR8376699', 'SRR8376999', 'SRR8376899', 'SRR8376799'],\n",
       "      dtype='object', length=493)"
      ]
     },
     "execution_count": 13,
     "metadata": {},
     "output_type": "execute_result"
    }
   ],
   "source": [
    "experiment_ids = gene_sums_with_names.columns[gene_sums_with_names.columns.str.contains('SRR')]\n",
    "experiment_ids"
   ]
  },
  {
   "cell_type": "code",
   "execution_count": 14,
   "metadata": {},
   "outputs": [],
   "source": [
    "from src.recount3_utils import parse_attributes\n",
    "sample_attributes_df = parse_attributes(metadata_df, \"external_id\", \"sample_attributes\")\n",
    "# There is one sample with no visit day. Since its only one sample, we drop it.   \n",
    "sample_attributes_df = (\n",
    "    sample_attributes_df[~sample_attributes_df['visit day'].isna()]\n",
    "    .astype({\n",
    "        'age at enrollment': float,\n",
    "        'rate of c-peptide change': float,\n",
    "        'lymphocyte percent': float,\n",
    "        'neutrophil percent': float,\n",
    "        'visit day': int\n",
    "    })\n",
    "    .set_index('external_id')\n",
    ")\n"
   ]
  },
  {
   "cell_type": "code",
   "execution_count": 15,
   "metadata": {},
   "outputs": [
    {
     "data": {
      "text/plain": [
       "age at enrollment           float64\n",
       "ethnicity                    object\n",
       "library batch                object\n",
       "race                         object\n",
       "rate of c-peptide change    float64\n",
       "Sex                          object\n",
       "source_name                  object\n",
       "subject                      object\n",
       "visit day                     int64\n",
       "lymphocyte percent          float64\n",
       "neutrophil percent          float64\n",
       "dtype: object"
      ]
     },
     "execution_count": 15,
     "metadata": {},
     "output_type": "execute_result"
    }
   ],
   "source": [
    "sample_attributes_df.dtypes\n"
   ]
  },
  {
   "cell_type": "code",
   "execution_count": 16,
   "metadata": {},
   "outputs": [
    {
     "data": {
      "text/html": [
       "<div>\n",
       "<style scoped>\n",
       "    .dataframe tbody tr th:only-of-type {\n",
       "        vertical-align: middle;\n",
       "    }\n",
       "\n",
       "    .dataframe tbody tr th {\n",
       "        vertical-align: top;\n",
       "    }\n",
       "\n",
       "    .dataframe thead th {\n",
       "        text-align: right;\n",
       "    }\n",
       "</style>\n",
       "<table border=\"1\" class=\"dataframe\">\n",
       "  <thead>\n",
       "    <tr style=\"text-align: right;\">\n",
       "      <th></th>\n",
       "      <th>age at enrollment</th>\n",
       "      <th>ethnicity</th>\n",
       "      <th>library batch</th>\n",
       "      <th>race</th>\n",
       "      <th>rate of c-peptide change</th>\n",
       "      <th>Sex</th>\n",
       "      <th>source_name</th>\n",
       "      <th>subject</th>\n",
       "      <th>visit day</th>\n",
       "      <th>lymphocyte percent</th>\n",
       "      <th>neutrophil percent</th>\n",
       "    </tr>\n",
       "    <tr>\n",
       "      <th>external_id</th>\n",
       "      <th></th>\n",
       "      <th></th>\n",
       "      <th></th>\n",
       "      <th></th>\n",
       "      <th></th>\n",
       "      <th></th>\n",
       "      <th></th>\n",
       "      <th></th>\n",
       "      <th></th>\n",
       "      <th></th>\n",
       "      <th></th>\n",
       "    </tr>\n",
       "  </thead>\n",
       "  <tbody>\n",
       "    <tr>\n",
       "      <th>SRR8376682</th>\n",
       "      <td>14.4</td>\n",
       "      <td>Not Hispanic or Latino</td>\n",
       "      <td>Fisher_BRI</td>\n",
       "      <td>White</td>\n",
       "      <td>-0.600512</td>\n",
       "      <td>male</td>\n",
       "      <td>whole blood</td>\n",
       "      <td>ABATE_001010</td>\n",
       "      <td>467</td>\n",
       "      <td>NaN</td>\n",
       "      <td>NaN</td>\n",
       "    </tr>\n",
       "    <tr>\n",
       "      <th>SRR8376683</th>\n",
       "      <td>8.5</td>\n",
       "      <td>Not Hispanic or Latino</td>\n",
       "      <td>Fisher_BRI</td>\n",
       "      <td>White</td>\n",
       "      <td>-1.831317</td>\n",
       "      <td>male</td>\n",
       "      <td>whole blood</td>\n",
       "      <td>ABATE_002001</td>\n",
       "      <td>332</td>\n",
       "      <td>NaN</td>\n",
       "      <td>NaN</td>\n",
       "    </tr>\n",
       "    <tr>\n",
       "      <th>SRR8376684</th>\n",
       "      <td>12.1</td>\n",
       "      <td>Not Hispanic or Latino</td>\n",
       "      <td>Fisher_BRI</td>\n",
       "      <td>White</td>\n",
       "      <td>-2.430716</td>\n",
       "      <td>female</td>\n",
       "      <td>whole blood</td>\n",
       "      <td>ABATE_002004</td>\n",
       "      <td>367</td>\n",
       "      <td>NaN</td>\n",
       "      <td>NaN</td>\n",
       "    </tr>\n",
       "    <tr>\n",
       "      <th>SRR8376685</th>\n",
       "      <td>12.4</td>\n",
       "      <td>Not Hispanic or Latino</td>\n",
       "      <td>Fisher_BRI</td>\n",
       "      <td>White</td>\n",
       "      <td>-1.512915</td>\n",
       "      <td>female</td>\n",
       "      <td>whole blood</td>\n",
       "      <td>ABATE_002012</td>\n",
       "      <td>370</td>\n",
       "      <td>NaN</td>\n",
       "      <td>NaN</td>\n",
       "    </tr>\n",
       "    <tr>\n",
       "      <th>SRR8376686</th>\n",
       "      <td>13.2</td>\n",
       "      <td>Not Hispanic or Latino</td>\n",
       "      <td>Fisher_BRI</td>\n",
       "      <td>White</td>\n",
       "      <td>-0.568527</td>\n",
       "      <td>male</td>\n",
       "      <td>whole blood</td>\n",
       "      <td>ABATE_003003</td>\n",
       "      <td>368</td>\n",
       "      <td>NaN</td>\n",
       "      <td>NaN</td>\n",
       "    </tr>\n",
       "  </tbody>\n",
       "</table>\n",
       "</div>"
      ],
      "text/plain": [
       "             age at enrollment               ethnicity library batch   race  \\\n",
       "external_id                                                                   \n",
       "SRR8376682                14.4  Not Hispanic or Latino    Fisher_BRI  White   \n",
       "SRR8376683                 8.5  Not Hispanic or Latino    Fisher_BRI  White   \n",
       "SRR8376684                12.1  Not Hispanic or Latino    Fisher_BRI  White   \n",
       "SRR8376685                12.4  Not Hispanic or Latino    Fisher_BRI  White   \n",
       "SRR8376686                13.2  Not Hispanic or Latino    Fisher_BRI  White   \n",
       "\n",
       "             rate of c-peptide change     Sex  source_name       subject  \\\n",
       "external_id                                                                \n",
       "SRR8376682                  -0.600512    male  whole blood  ABATE_001010   \n",
       "SRR8376683                  -1.831317    male  whole blood  ABATE_002001   \n",
       "SRR8376684                  -2.430716  female  whole blood  ABATE_002004   \n",
       "SRR8376685                  -1.512915  female  whole blood  ABATE_002012   \n",
       "SRR8376686                  -0.568527    male  whole blood  ABATE_003003   \n",
       "\n",
       "             visit day  lymphocyte percent  neutrophil percent  \n",
       "external_id                                                     \n",
       "SRR8376682         467                 NaN                 NaN  \n",
       "SRR8376683         332                 NaN                 NaN  \n",
       "SRR8376684         367                 NaN                 NaN  \n",
       "SRR8376685         370                 NaN                 NaN  \n",
       "SRR8376686         368                 NaN                 NaN  "
      ]
     },
     "execution_count": 16,
     "metadata": {},
     "output_type": "execute_result"
    }
   ],
   "source": [
    "\n",
    "sample_attributes_df.head()"
   ]
  },
  {
   "cell_type": "code",
   "execution_count": 17,
   "metadata": {},
   "outputs": [
    {
     "name": "stdout",
     "output_type": "stream",
     "text": [
      "Unable to match 33305 out of 67947 genes in the GenePT-w embedding\n"
     ]
    }
   ],
   "source": [
    "from src.inference import create_gene_embedding_matrix\n",
    "\n",
    "lookup_embed = create_gene_embedding_matrix(\n",
    "    gene_sums_with_names.gene_name, \n",
    "    gene_embedding\n",
    ")"
   ]
  },
  {
   "cell_type": "code",
   "execution_count": 18,
   "metadata": {},
   "outputs": [
    {
     "data": {
      "text/plain": [
       "(67947, 3072)"
      ]
     },
     "execution_count": 18,
     "metadata": {},
     "output_type": "execute_result"
    }
   ],
   "source": [
    "lookup_embed.shape"
   ]
  },
  {
   "cell_type": "code",
   "execution_count": 19,
   "metadata": {},
   "outputs": [
    {
     "name": "stdout",
     "output_type": "stream",
     "text": [
      "Unable to match 33305 out of 67947 genes in the GenePT-w embedding\n"
     ]
    }
   ],
   "source": [
    "from src.inference import gene_pt_w_embedding\n",
    "genePT_w_emebed = gene_pt_w_embedding(gene_sums_with_names, experiment_ids, gene_embedding)"
   ]
  },
  {
   "cell_type": "code",
   "execution_count": 20,
   "metadata": {},
   "outputs": [
    {
     "data": {
      "text/html": [
       "<div>\n",
       "<style scoped>\n",
       "    .dataframe tbody tr th:only-of-type {\n",
       "        vertical-align: middle;\n",
       "    }\n",
       "\n",
       "    .dataframe tbody tr th {\n",
       "        vertical-align: top;\n",
       "    }\n",
       "\n",
       "    .dataframe thead th {\n",
       "        text-align: right;\n",
       "    }\n",
       "</style>\n",
       "<table border=\"1\" class=\"dataframe\">\n",
       "  <thead>\n",
       "    <tr style=\"text-align: right;\">\n",
       "      <th></th>\n",
       "      <th>age at enrollment</th>\n",
       "      <th>ethnicity</th>\n",
       "      <th>race</th>\n",
       "      <th>rate of c-peptide change</th>\n",
       "      <th>Sex</th>\n",
       "      <th>subject</th>\n",
       "      <th>visit day</th>\n",
       "      <th>lymphocyte percent</th>\n",
       "      <th>neutrophil percent</th>\n",
       "    </tr>\n",
       "    <tr>\n",
       "      <th>external_id</th>\n",
       "      <th></th>\n",
       "      <th></th>\n",
       "      <th></th>\n",
       "      <th></th>\n",
       "      <th></th>\n",
       "      <th></th>\n",
       "      <th></th>\n",
       "      <th></th>\n",
       "      <th></th>\n",
       "    </tr>\n",
       "  </thead>\n",
       "  <tbody>\n",
       "    <tr>\n",
       "      <th>SRR8376682</th>\n",
       "      <td>14.4</td>\n",
       "      <td>Not Hispanic or Latino</td>\n",
       "      <td>White</td>\n",
       "      <td>-0.600512</td>\n",
       "      <td>male</td>\n",
       "      <td>ABATE_001010</td>\n",
       "      <td>467</td>\n",
       "      <td>NaN</td>\n",
       "      <td>NaN</td>\n",
       "    </tr>\n",
       "    <tr>\n",
       "      <th>SRR8376683</th>\n",
       "      <td>8.5</td>\n",
       "      <td>Not Hispanic or Latino</td>\n",
       "      <td>White</td>\n",
       "      <td>-1.831317</td>\n",
       "      <td>male</td>\n",
       "      <td>ABATE_002001</td>\n",
       "      <td>332</td>\n",
       "      <td>NaN</td>\n",
       "      <td>NaN</td>\n",
       "    </tr>\n",
       "    <tr>\n",
       "      <th>SRR8376684</th>\n",
       "      <td>12.1</td>\n",
       "      <td>Not Hispanic or Latino</td>\n",
       "      <td>White</td>\n",
       "      <td>-2.430716</td>\n",
       "      <td>female</td>\n",
       "      <td>ABATE_002004</td>\n",
       "      <td>367</td>\n",
       "      <td>NaN</td>\n",
       "      <td>NaN</td>\n",
       "    </tr>\n",
       "    <tr>\n",
       "      <th>SRR8376685</th>\n",
       "      <td>12.4</td>\n",
       "      <td>Not Hispanic or Latino</td>\n",
       "      <td>White</td>\n",
       "      <td>-1.512915</td>\n",
       "      <td>female</td>\n",
       "      <td>ABATE_002012</td>\n",
       "      <td>370</td>\n",
       "      <td>NaN</td>\n",
       "      <td>NaN</td>\n",
       "    </tr>\n",
       "    <tr>\n",
       "      <th>SRR8376686</th>\n",
       "      <td>13.2</td>\n",
       "      <td>Not Hispanic or Latino</td>\n",
       "      <td>White</td>\n",
       "      <td>-0.568527</td>\n",
       "      <td>male</td>\n",
       "      <td>ABATE_003003</td>\n",
       "      <td>368</td>\n",
       "      <td>NaN</td>\n",
       "      <td>NaN</td>\n",
       "    </tr>\n",
       "  </tbody>\n",
       "</table>\n",
       "</div>"
      ],
      "text/plain": [
       "             age at enrollment               ethnicity   race  \\\n",
       "external_id                                                     \n",
       "SRR8376682                14.4  Not Hispanic or Latino  White   \n",
       "SRR8376683                 8.5  Not Hispanic or Latino  White   \n",
       "SRR8376684                12.1  Not Hispanic or Latino  White   \n",
       "SRR8376685                12.4  Not Hispanic or Latino  White   \n",
       "SRR8376686                13.2  Not Hispanic or Latino  White   \n",
       "\n",
       "             rate of c-peptide change     Sex       subject  visit day  \\\n",
       "external_id                                                              \n",
       "SRR8376682                  -0.600512    male  ABATE_001010        467   \n",
       "SRR8376683                  -1.831317    male  ABATE_002001        332   \n",
       "SRR8376684                  -2.430716  female  ABATE_002004        367   \n",
       "SRR8376685                  -1.512915  female  ABATE_002012        370   \n",
       "SRR8376686                  -0.568527    male  ABATE_003003        368   \n",
       "\n",
       "             lymphocyte percent  neutrophil percent  \n",
       "external_id                                          \n",
       "SRR8376682                  NaN                 NaN  \n",
       "SRR8376683                  NaN                 NaN  \n",
       "SRR8376684                  NaN                 NaN  \n",
       "SRR8376685                  NaN                 NaN  \n",
       "SRR8376686                  NaN                 NaN  "
      ]
     },
     "execution_count": 20,
     "metadata": {},
     "output_type": "execute_result"
    }
   ],
   "source": [
    "sample_attributes_df.drop(columns=['library batch', 'source_name'], inplace=True)\n",
    "sample_attributes_df.head()"
   ]
  },
  {
   "cell_type": "code",
   "execution_count": 21,
   "metadata": {},
   "outputs": [
    {
     "name": "stdout",
     "output_type": "stream",
     "text": [
      "sample_attributes_df shape: (492, 9)\n",
      "normalized_embeddings_df shape: (493, 3072)\n",
      "joined_df shape: (492, 3081)\n"
     ]
    }
   ],
   "source": [
    "\n",
    "joined_df = sample_attributes_df.merge(genePT_w_emebed, left_index=True, right_index=True, how='inner')\n",
    "print(f\"sample_attributes_df shape: {sample_attributes_df.shape}\")\n",
    "print(f\"normalized_embeddings_df shape: {genePT_w_emebed.shape}\")\n",
    "print(f\"joined_df shape: {joined_df.shape}\")\n",
    "\n"
   ]
  },
  {
   "cell_type": "code",
   "execution_count": 22,
   "metadata": {},
   "outputs": [
    {
     "data": {
      "application/vnd.plotly.v1+json": {
       "config": {
        "plotlyServerURL": "https://plot.ly"
       },
       "data": [
        {
         "alignmentgroup": "True",
         "bingroup": "x",
         "hovertemplate": "variable=age at enrollment<br>value=%{x}<br>count=%{y}<extra></extra>",
         "legendgroup": "age at enrollment",
         "marker": {
          "color": "#636efa",
          "pattern": {
           "shape": ""
          }
         },
         "name": "age at enrollment",
         "offsetgroup": "age at enrollment",
         "orientation": "v",
         "showlegend": true,
         "type": "histogram",
         "x": [
          8.5,
          8.5,
          8.5,
          8.5,
          8.5,
          8.5,
          8.7,
          8.7,
          8.7,
          8.8,
          8.8,
          9,
          9,
          9,
          9,
          9,
          9,
          9,
          9.2,
          9.2,
          9.2,
          9.3,
          9.3,
          9.3,
          9.3,
          9.4,
          9.5,
          9.5,
          9.5,
          9.5,
          9.5,
          9.7,
          9.7,
          9.7,
          9.7,
          9.8,
          9.8,
          9.8,
          9.8,
          9.9,
          9.9,
          9.9,
          10,
          10,
          10,
          10,
          10,
          10,
          10,
          10.2,
          10.2,
          10.5,
          10.5,
          10.5,
          10.5,
          10.6,
          10.6,
          10.6,
          10.6,
          10.7,
          10.7,
          10.7,
          10.7,
          10.9,
          10.9,
          11.2,
          11.2,
          11.2,
          11.2,
          11.4,
          11.4,
          11.4,
          11.4,
          11.4,
          12,
          12,
          12,
          12,
          12,
          12,
          12,
          12,
          12,
          12.1,
          12.1,
          12.1,
          12.1,
          12.1,
          12.1,
          12.1,
          12.1,
          12.1,
          12.2,
          12.2,
          12.2,
          12.2,
          12.2,
          12.2,
          12.3,
          12.3,
          12.3,
          12.3,
          12.3,
          12.3,
          12.3,
          12.3,
          12.3,
          12.4,
          12.4,
          12.4,
          12.4,
          12.5,
          12.5,
          12.7,
          12.7,
          12.7,
          12.9,
          12.9,
          12.9,
          12.9,
          12.9,
          12.9,
          12.9,
          12.9,
          12.9,
          12.9,
          12.9,
          12.9,
          12.9,
          12.9,
          12.9,
          12.9,
          13,
          13,
          13,
          13,
          13,
          13,
          13,
          13,
          13.2,
          13.2,
          13.2,
          13.3,
          13.3,
          13.3,
          13.3,
          13.3,
          13.4,
          13.4,
          13.4,
          13.4,
          13.4,
          13.5,
          13.5,
          13.5,
          13.5,
          13.5,
          13.5,
          13.5,
          13.5,
          13.5,
          13.5,
          13.6,
          13.6,
          13.6,
          13.6,
          13.6,
          13.7,
          13.7,
          13.7,
          13.7,
          13.9,
          13.9,
          13.9,
          13.9,
          13.9,
          13.9,
          13.9,
          13.9,
          13.9,
          13.9,
          13.9,
          13.9,
          14,
          14,
          14,
          14,
          14,
          14,
          14,
          14,
          14,
          14,
          14,
          14,
          14,
          14,
          14,
          14,
          14.1,
          14.1,
          14.1,
          14.1,
          14.1,
          14.3,
          14.3,
          14.3,
          14.4,
          14.4,
          14.4,
          14.4,
          14.4,
          14.4,
          14.4,
          14.4,
          14.4,
          14.4,
          14.4,
          14.4,
          14.4,
          14.5,
          14.5,
          14.5,
          14.5,
          14.5,
          14.5,
          14.9,
          14.9,
          14.9,
          14.9,
          14.9,
          15,
          15,
          15,
          15,
          15,
          15,
          15,
          15.1,
          15.1,
          15.1,
          15.1,
          15.2,
          15.2,
          15.2,
          15.2,
          15.2,
          15.3,
          15.3,
          15.3,
          15.4,
          15.4,
          15.4,
          15.4,
          15.5,
          15.5,
          15.5,
          15.5,
          15.7,
          15.7,
          15.9,
          15.9,
          15.9,
          15.9,
          16,
          16,
          16,
          16,
          16,
          16,
          16,
          16,
          16,
          16,
          16,
          16,
          16,
          16,
          16,
          16.1,
          16.1,
          16.1,
          16.4,
          16.4,
          16.4,
          16.4,
          16.5,
          16.5,
          16.5,
          16.6,
          16.6,
          16.6,
          16.6,
          17,
          17,
          17,
          17,
          17,
          17,
          17,
          17,
          17,
          17,
          17,
          17,
          17,
          17,
          17,
          17.3,
          17.3,
          17.3,
          17.3,
          17.3,
          17.3,
          17.4,
          17.4,
          17.4,
          17.4,
          17.9,
          17.9,
          17.9,
          17.9,
          17.9,
          18,
          18,
          18,
          18,
          18.8,
          18.8,
          18.8,
          18.8,
          18.8,
          18.8,
          18.8,
          18.8,
          19,
          19,
          19,
          19,
          19,
          19,
          19,
          19,
          19.5,
          19.5,
          19.5,
          19.5,
          19.5,
          20.8,
          20.8,
          20.8,
          20.8,
          20.8,
          20.8,
          20.8,
          21.4,
          21.4,
          21.4,
          21.4,
          21.4,
          21.7,
          21.7,
          21.7,
          21.7,
          21.7,
          22,
          22,
          22,
          22,
          22,
          22,
          22.7,
          22.7,
          23,
          23,
          23,
          23,
          23,
          23,
          23,
          23,
          23.7,
          23.7,
          23.7,
          23.7,
          23.7,
          23.8,
          23.8,
          23.8,
          23.8,
          23.9,
          23.9,
          23.9,
          23.9,
          24,
          25.1,
          25.1,
          25.1,
          25.1,
          25.1,
          25.2,
          25.2,
          25.2,
          25.9,
          25.9,
          25.9,
          25.9,
          25.9,
          26,
          26,
          26,
          26,
          27,
          27,
          27,
          27,
          27,
          27,
          27,
          27,
          27.6,
          27.6,
          27.6,
          27.6,
          27.6,
          28,
          28,
          28,
          28,
          28,
          28,
          28,
          28,
          28,
          28,
          28,
          28,
          29.2,
          29.2,
          29.2,
          29.2,
          29.2,
          32,
          32,
          32,
          32,
          32.2,
          32.2,
          32.2,
          32.2,
          32.2,
          32.8,
          32.8,
          32.8,
          32.8,
          33,
          33,
          33,
          33,
          34.3,
          34.3,
          34.3,
          34.7,
          34.7,
          34.7,
          34.8,
          34.8,
          34.8,
          34.8,
          38.2,
          38.6,
          38.6,
          38.6,
          38.6,
          38.6,
          40.8,
          40.8,
          40.8,
          40.8,
          43.7,
          43.7,
          43.7,
          43.7,
          44.5,
          44.5,
          44.5,
          44.5,
          46.2,
          46.2,
          46.2,
          46.2
         ],
         "xaxis": "x",
         "yaxis": "y"
        }
       ],
       "layout": {
        "barmode": "relative",
        "legend": {
         "title": {
          "text": "variable"
         },
         "tracegroupgap": 0
        },
        "margin": {
         "t": 60
        },
        "template": {
         "data": {
          "bar": [
           {
            "error_x": {
             "color": "#2a3f5f"
            },
            "error_y": {
             "color": "#2a3f5f"
            },
            "marker": {
             "line": {
              "color": "#E5ECF6",
              "width": 0.5
             },
             "pattern": {
              "fillmode": "overlay",
              "size": 10,
              "solidity": 0.2
             }
            },
            "type": "bar"
           }
          ],
          "barpolar": [
           {
            "marker": {
             "line": {
              "color": "#E5ECF6",
              "width": 0.5
             },
             "pattern": {
              "fillmode": "overlay",
              "size": 10,
              "solidity": 0.2
             }
            },
            "type": "barpolar"
           }
          ],
          "carpet": [
           {
            "aaxis": {
             "endlinecolor": "#2a3f5f",
             "gridcolor": "white",
             "linecolor": "white",
             "minorgridcolor": "white",
             "startlinecolor": "#2a3f5f"
            },
            "baxis": {
             "endlinecolor": "#2a3f5f",
             "gridcolor": "white",
             "linecolor": "white",
             "minorgridcolor": "white",
             "startlinecolor": "#2a3f5f"
            },
            "type": "carpet"
           }
          ],
          "choropleth": [
           {
            "colorbar": {
             "outlinewidth": 0,
             "ticks": ""
            },
            "type": "choropleth"
           }
          ],
          "contour": [
           {
            "colorbar": {
             "outlinewidth": 0,
             "ticks": ""
            },
            "colorscale": [
             [
              0,
              "#0d0887"
             ],
             [
              0.1111111111111111,
              "#46039f"
             ],
             [
              0.2222222222222222,
              "#7201a8"
             ],
             [
              0.3333333333333333,
              "#9c179e"
             ],
             [
              0.4444444444444444,
              "#bd3786"
             ],
             [
              0.5555555555555556,
              "#d8576b"
             ],
             [
              0.6666666666666666,
              "#ed7953"
             ],
             [
              0.7777777777777778,
              "#fb9f3a"
             ],
             [
              0.8888888888888888,
              "#fdca26"
             ],
             [
              1,
              "#f0f921"
             ]
            ],
            "type": "contour"
           }
          ],
          "contourcarpet": [
           {
            "colorbar": {
             "outlinewidth": 0,
             "ticks": ""
            },
            "type": "contourcarpet"
           }
          ],
          "heatmap": [
           {
            "colorbar": {
             "outlinewidth": 0,
             "ticks": ""
            },
            "colorscale": [
             [
              0,
              "#0d0887"
             ],
             [
              0.1111111111111111,
              "#46039f"
             ],
             [
              0.2222222222222222,
              "#7201a8"
             ],
             [
              0.3333333333333333,
              "#9c179e"
             ],
             [
              0.4444444444444444,
              "#bd3786"
             ],
             [
              0.5555555555555556,
              "#d8576b"
             ],
             [
              0.6666666666666666,
              "#ed7953"
             ],
             [
              0.7777777777777778,
              "#fb9f3a"
             ],
             [
              0.8888888888888888,
              "#fdca26"
             ],
             [
              1,
              "#f0f921"
             ]
            ],
            "type": "heatmap"
           }
          ],
          "heatmapgl": [
           {
            "colorbar": {
             "outlinewidth": 0,
             "ticks": ""
            },
            "colorscale": [
             [
              0,
              "#0d0887"
             ],
             [
              0.1111111111111111,
              "#46039f"
             ],
             [
              0.2222222222222222,
              "#7201a8"
             ],
             [
              0.3333333333333333,
              "#9c179e"
             ],
             [
              0.4444444444444444,
              "#bd3786"
             ],
             [
              0.5555555555555556,
              "#d8576b"
             ],
             [
              0.6666666666666666,
              "#ed7953"
             ],
             [
              0.7777777777777778,
              "#fb9f3a"
             ],
             [
              0.8888888888888888,
              "#fdca26"
             ],
             [
              1,
              "#f0f921"
             ]
            ],
            "type": "heatmapgl"
           }
          ],
          "histogram": [
           {
            "marker": {
             "pattern": {
              "fillmode": "overlay",
              "size": 10,
              "solidity": 0.2
             }
            },
            "type": "histogram"
           }
          ],
          "histogram2d": [
           {
            "colorbar": {
             "outlinewidth": 0,
             "ticks": ""
            },
            "colorscale": [
             [
              0,
              "#0d0887"
             ],
             [
              0.1111111111111111,
              "#46039f"
             ],
             [
              0.2222222222222222,
              "#7201a8"
             ],
             [
              0.3333333333333333,
              "#9c179e"
             ],
             [
              0.4444444444444444,
              "#bd3786"
             ],
             [
              0.5555555555555556,
              "#d8576b"
             ],
             [
              0.6666666666666666,
              "#ed7953"
             ],
             [
              0.7777777777777778,
              "#fb9f3a"
             ],
             [
              0.8888888888888888,
              "#fdca26"
             ],
             [
              1,
              "#f0f921"
             ]
            ],
            "type": "histogram2d"
           }
          ],
          "histogram2dcontour": [
           {
            "colorbar": {
             "outlinewidth": 0,
             "ticks": ""
            },
            "colorscale": [
             [
              0,
              "#0d0887"
             ],
             [
              0.1111111111111111,
              "#46039f"
             ],
             [
              0.2222222222222222,
              "#7201a8"
             ],
             [
              0.3333333333333333,
              "#9c179e"
             ],
             [
              0.4444444444444444,
              "#bd3786"
             ],
             [
              0.5555555555555556,
              "#d8576b"
             ],
             [
              0.6666666666666666,
              "#ed7953"
             ],
             [
              0.7777777777777778,
              "#fb9f3a"
             ],
             [
              0.8888888888888888,
              "#fdca26"
             ],
             [
              1,
              "#f0f921"
             ]
            ],
            "type": "histogram2dcontour"
           }
          ],
          "mesh3d": [
           {
            "colorbar": {
             "outlinewidth": 0,
             "ticks": ""
            },
            "type": "mesh3d"
           }
          ],
          "parcoords": [
           {
            "line": {
             "colorbar": {
              "outlinewidth": 0,
              "ticks": ""
             }
            },
            "type": "parcoords"
           }
          ],
          "pie": [
           {
            "automargin": true,
            "type": "pie"
           }
          ],
          "scatter": [
           {
            "fillpattern": {
             "fillmode": "overlay",
             "size": 10,
             "solidity": 0.2
            },
            "type": "scatter"
           }
          ],
          "scatter3d": [
           {
            "line": {
             "colorbar": {
              "outlinewidth": 0,
              "ticks": ""
             }
            },
            "marker": {
             "colorbar": {
              "outlinewidth": 0,
              "ticks": ""
             }
            },
            "type": "scatter3d"
           }
          ],
          "scattercarpet": [
           {
            "marker": {
             "colorbar": {
              "outlinewidth": 0,
              "ticks": ""
             }
            },
            "type": "scattercarpet"
           }
          ],
          "scattergeo": [
           {
            "marker": {
             "colorbar": {
              "outlinewidth": 0,
              "ticks": ""
             }
            },
            "type": "scattergeo"
           }
          ],
          "scattergl": [
           {
            "marker": {
             "colorbar": {
              "outlinewidth": 0,
              "ticks": ""
             }
            },
            "type": "scattergl"
           }
          ],
          "scattermapbox": [
           {
            "marker": {
             "colorbar": {
              "outlinewidth": 0,
              "ticks": ""
             }
            },
            "type": "scattermapbox"
           }
          ],
          "scatterpolar": [
           {
            "marker": {
             "colorbar": {
              "outlinewidth": 0,
              "ticks": ""
             }
            },
            "type": "scatterpolar"
           }
          ],
          "scatterpolargl": [
           {
            "marker": {
             "colorbar": {
              "outlinewidth": 0,
              "ticks": ""
             }
            },
            "type": "scatterpolargl"
           }
          ],
          "scatterternary": [
           {
            "marker": {
             "colorbar": {
              "outlinewidth": 0,
              "ticks": ""
             }
            },
            "type": "scatterternary"
           }
          ],
          "surface": [
           {
            "colorbar": {
             "outlinewidth": 0,
             "ticks": ""
            },
            "colorscale": [
             [
              0,
              "#0d0887"
             ],
             [
              0.1111111111111111,
              "#46039f"
             ],
             [
              0.2222222222222222,
              "#7201a8"
             ],
             [
              0.3333333333333333,
              "#9c179e"
             ],
             [
              0.4444444444444444,
              "#bd3786"
             ],
             [
              0.5555555555555556,
              "#d8576b"
             ],
             [
              0.6666666666666666,
              "#ed7953"
             ],
             [
              0.7777777777777778,
              "#fb9f3a"
             ],
             [
              0.8888888888888888,
              "#fdca26"
             ],
             [
              1,
              "#f0f921"
             ]
            ],
            "type": "surface"
           }
          ],
          "table": [
           {
            "cells": {
             "fill": {
              "color": "#EBF0F8"
             },
             "line": {
              "color": "white"
             }
            },
            "header": {
             "fill": {
              "color": "#C8D4E3"
             },
             "line": {
              "color": "white"
             }
            },
            "type": "table"
           }
          ]
         },
         "layout": {
          "annotationdefaults": {
           "arrowcolor": "#2a3f5f",
           "arrowhead": 0,
           "arrowwidth": 1
          },
          "autotypenumbers": "strict",
          "coloraxis": {
           "colorbar": {
            "outlinewidth": 0,
            "ticks": ""
           }
          },
          "colorscale": {
           "diverging": [
            [
             0,
             "#8e0152"
            ],
            [
             0.1,
             "#c51b7d"
            ],
            [
             0.2,
             "#de77ae"
            ],
            [
             0.3,
             "#f1b6da"
            ],
            [
             0.4,
             "#fde0ef"
            ],
            [
             0.5,
             "#f7f7f7"
            ],
            [
             0.6,
             "#e6f5d0"
            ],
            [
             0.7,
             "#b8e186"
            ],
            [
             0.8,
             "#7fbc41"
            ],
            [
             0.9,
             "#4d9221"
            ],
            [
             1,
             "#276419"
            ]
           ],
           "sequential": [
            [
             0,
             "#0d0887"
            ],
            [
             0.1111111111111111,
             "#46039f"
            ],
            [
             0.2222222222222222,
             "#7201a8"
            ],
            [
             0.3333333333333333,
             "#9c179e"
            ],
            [
             0.4444444444444444,
             "#bd3786"
            ],
            [
             0.5555555555555556,
             "#d8576b"
            ],
            [
             0.6666666666666666,
             "#ed7953"
            ],
            [
             0.7777777777777778,
             "#fb9f3a"
            ],
            [
             0.8888888888888888,
             "#fdca26"
            ],
            [
             1,
             "#f0f921"
            ]
           ],
           "sequentialminus": [
            [
             0,
             "#0d0887"
            ],
            [
             0.1111111111111111,
             "#46039f"
            ],
            [
             0.2222222222222222,
             "#7201a8"
            ],
            [
             0.3333333333333333,
             "#9c179e"
            ],
            [
             0.4444444444444444,
             "#bd3786"
            ],
            [
             0.5555555555555556,
             "#d8576b"
            ],
            [
             0.6666666666666666,
             "#ed7953"
            ],
            [
             0.7777777777777778,
             "#fb9f3a"
            ],
            [
             0.8888888888888888,
             "#fdca26"
            ],
            [
             1,
             "#f0f921"
            ]
           ]
          },
          "colorway": [
           "#636efa",
           "#EF553B",
           "#00cc96",
           "#ab63fa",
           "#FFA15A",
           "#19d3f3",
           "#FF6692",
           "#B6E880",
           "#FF97FF",
           "#FECB52"
          ],
          "font": {
           "color": "#2a3f5f"
          },
          "geo": {
           "bgcolor": "white",
           "lakecolor": "white",
           "landcolor": "#E5ECF6",
           "showlakes": true,
           "showland": true,
           "subunitcolor": "white"
          },
          "hoverlabel": {
           "align": "left"
          },
          "hovermode": "closest",
          "mapbox": {
           "style": "light"
          },
          "paper_bgcolor": "white",
          "plot_bgcolor": "#E5ECF6",
          "polar": {
           "angularaxis": {
            "gridcolor": "white",
            "linecolor": "white",
            "ticks": ""
           },
           "bgcolor": "#E5ECF6",
           "radialaxis": {
            "gridcolor": "white",
            "linecolor": "white",
            "ticks": ""
           }
          },
          "scene": {
           "xaxis": {
            "backgroundcolor": "#E5ECF6",
            "gridcolor": "white",
            "gridwidth": 2,
            "linecolor": "white",
            "showbackground": true,
            "ticks": "",
            "zerolinecolor": "white"
           },
           "yaxis": {
            "backgroundcolor": "#E5ECF6",
            "gridcolor": "white",
            "gridwidth": 2,
            "linecolor": "white",
            "showbackground": true,
            "ticks": "",
            "zerolinecolor": "white"
           },
           "zaxis": {
            "backgroundcolor": "#E5ECF6",
            "gridcolor": "white",
            "gridwidth": 2,
            "linecolor": "white",
            "showbackground": true,
            "ticks": "",
            "zerolinecolor": "white"
           }
          },
          "shapedefaults": {
           "line": {
            "color": "#2a3f5f"
           }
          },
          "ternary": {
           "aaxis": {
            "gridcolor": "white",
            "linecolor": "white",
            "ticks": ""
           },
           "baxis": {
            "gridcolor": "white",
            "linecolor": "white",
            "ticks": ""
           },
           "bgcolor": "#E5ECF6",
           "caxis": {
            "gridcolor": "white",
            "linecolor": "white",
            "ticks": ""
           }
          },
          "title": {
           "x": 0.05
          },
          "xaxis": {
           "automargin": true,
           "gridcolor": "white",
           "linecolor": "white",
           "ticks": "",
           "title": {
            "standoff": 15
           },
           "zerolinecolor": "white",
           "zerolinewidth": 2
          },
          "yaxis": {
           "automargin": true,
           "gridcolor": "white",
           "linecolor": "white",
           "ticks": "",
           "title": {
            "standoff": 15
           },
           "zerolinecolor": "white",
           "zerolinewidth": 2
          }
         }
        },
        "xaxis": {
         "anchor": "y",
         "domain": [
          0,
          1
         ],
         "title": {
          "text": "value"
         }
        },
        "yaxis": {
         "anchor": "x",
         "domain": [
          0,
          1
         ],
         "title": {
          "text": "count"
         }
        }
       }
      }
     },
     "metadata": {},
     "output_type": "display_data"
    }
   ],
   "source": [
    "import plotly.express as px\n",
    "\n",
    "px.histogram(joined_df['age at enrollment'].sort_values())"
   ]
  },
  {
   "cell_type": "code",
   "execution_count": 23,
   "metadata": {},
   "outputs": [
    {
     "data": {
      "application/vnd.plotly.v1+json": {
       "config": {
        "plotlyServerURL": "https://plot.ly"
       },
       "data": [
        {
         "alignmentgroup": "True",
         "hovertemplate": "Subject ID=%{x}<br>Number of Samples=%{y}<extra></extra>",
         "legendgroup": "",
         "marker": {
          "color": "#636efa",
          "pattern": {
           "shape": ""
          }
         },
         "name": "",
         "offsetgroup": "",
         "orientation": "v",
         "showlegend": false,
         "textposition": "auto",
         "type": "bar",
         "x": [
          "ABATE_001010",
          "ABATE_002001",
          "ABATE_002004",
          "ABATE_002008",
          "ABATE_002012",
          "ABATE_002018",
          "ABATE_003003",
          "ABATE_003005",
          "ABATE_003006",
          "ABATE_003012",
          "ABATE_004005",
          "ABATE_005001",
          "ABATE_005006",
          "ABATE_005007",
          "ABATE_006001",
          "ABATE_007004",
          "ABATE_007005",
          "ABATE_007012",
          "ABATE_007019",
          "START_001005",
          "START_002003",
          "START_002007",
          "START_002010",
          "START_002012",
          "START_002019",
          "START_003004",
          "START_008003",
          "START_008008",
          "START_010005",
          "START_013003",
          "START_013007",
          "T1DAL_00110202",
          "T1DAL_00210551",
          "T1DAL_00410087",
          "T1DAL_00610411",
          "T1DAL_00910098",
          "T1DAL_00910199",
          "T1DAL_00910529",
          "T1DAL_01010340",
          "T1DAL_01010608",
          "T1DAL_01110590",
          "T1DAL_01410379",
          "T1DAL_01510142",
          "T1DAL_01710433",
          "T1DAL_01710475",
          "T1DAL_01710726",
          "T1DAL_02010368",
          "TN02_9001542",
          "TN02_9001825",
          "TN02_9013178",
          "TN02_9015338",
          "TN02_9015755",
          "TN02_9016861",
          "TN02_9019151",
          "TN02_9019475",
          "TN02_9024813",
          "TN02_9025240",
          "TN02_9025380",
          "TN02_9028156",
          "TN02_9028256",
          "TN02_9035402",
          "TN02_9039335",
          "TN02_9040657",
          "TN02_9041386",
          "TN02_9043986",
          "TN02_9052681",
          "TN02_9053329",
          "TN02_9053642",
          "TN02_9054059",
          "TN02_9057024",
          "TN02_9058753",
          "TN02_9063227",
          "TN02_9064544",
          "TN02_9065086",
          "TN02_9065329",
          "TN02_9066885",
          "TN02_9068868",
          "TN02_9071282",
          "TN02_9075533",
          "TN02_9076280",
          "TN02_9076428",
          "TN02_9079286",
          "TN02_9081451",
          "TN02_9081777",
          "TN02_9093772",
          "TN02_9098296",
          "TN02_9098713",
          "TN05_9006024",
          "TN05_9009405",
          "TN05_9010167",
          "TN05_9014572",
          "TN05_9023796",
          "TN05_9025834",
          "TN05_9026667",
          "TN05_9031738",
          "TN05_9032923",
          "TN05_9044850",
          "TN05_9045381",
          "TN05_9066662",
          "TN05_9072116",
          "TN05_9075694",
          "TN05_9081664",
          "TN05_9089953",
          "TN05_9096837",
          "TN09_9000192",
          "TN09_9001125",
          "TN09_9003145",
          "TN09_9004933",
          "TN09_9006235",
          "TN09_9008090",
          "TN09_9009711",
          "TN09_9009983",
          "TN09_9010400",
          "TN09_9015041",
          "TN09_9021857",
          "TN09_9022468",
          "TN09_9023648",
          "TN09_9025127",
          "TN09_9025230",
          "TN09_9029938",
          "TN09_9033420",
          "TN09_9040341",
          "TN09_9043244",
          "TN09_9043569",
          "TN09_9043661",
          "TN09_9045965",
          "TN09_9053436",
          "TN09_9065335",
          "TN09_9070242",
          "TN09_9075373",
          "TN09_9081360",
          "TN09_9081868",
          "TN09_9085527",
          "TN09_9086478",
          "TN09_9088780",
          "TN09_9089197",
          "TN09_9098612",
          "TN09_9099432"
         ],
         "xaxis": "x",
         "y": [
          4,
          4,
          4,
          3,
          4,
          4,
          3,
          3,
          4,
          1,
          5,
          2,
          4,
          5,
          4,
          4,
          5,
          2,
          1,
          4,
          4,
          4,
          4,
          4,
          4,
          4,
          4,
          4,
          4,
          4,
          4,
          4,
          4,
          4,
          2,
          1,
          4,
          2,
          4,
          4,
          4,
          4,
          4,
          2,
          4,
          4,
          3,
          4,
          4,
          5,
          4,
          5,
          4,
          5,
          4,
          4,
          5,
          4,
          5,
          4,
          4,
          4,
          4,
          3,
          5,
          2,
          5,
          4,
          5,
          5,
          5,
          5,
          5,
          4,
          5,
          4,
          2,
          5,
          4,
          5,
          5,
          4,
          5,
          4,
          4,
          5,
          5,
          5,
          4,
          5,
          1,
          4,
          2,
          5,
          4,
          2,
          1,
          3,
          4,
          5,
          5,
          5,
          5,
          2,
          4,
          2,
          2,
          3,
          3,
          3,
          3,
          3,
          3,
          2,
          3,
          2,
          2,
          3,
          3,
          2,
          2,
          3,
          2,
          3,
          2,
          2,
          2,
          2,
          3,
          3,
          3,
          3,
          3,
          3,
          2,
          2,
          2,
          3
         ],
         "yaxis": "y"
        }
       ],
       "layout": {
        "barmode": "relative",
        "height": 600,
        "legend": {
         "tracegroupgap": 0
        },
        "margin": {
         "r": 50
        },
        "showlegend": false,
        "template": {
         "data": {
          "bar": [
           {
            "error_x": {
             "color": "#2a3f5f"
            },
            "error_y": {
             "color": "#2a3f5f"
            },
            "marker": {
             "line": {
              "color": "#E5ECF6",
              "width": 0.5
             },
             "pattern": {
              "fillmode": "overlay",
              "size": 10,
              "solidity": 0.2
             }
            },
            "type": "bar"
           }
          ],
          "barpolar": [
           {
            "marker": {
             "line": {
              "color": "#E5ECF6",
              "width": 0.5
             },
             "pattern": {
              "fillmode": "overlay",
              "size": 10,
              "solidity": 0.2
             }
            },
            "type": "barpolar"
           }
          ],
          "carpet": [
           {
            "aaxis": {
             "endlinecolor": "#2a3f5f",
             "gridcolor": "white",
             "linecolor": "white",
             "minorgridcolor": "white",
             "startlinecolor": "#2a3f5f"
            },
            "baxis": {
             "endlinecolor": "#2a3f5f",
             "gridcolor": "white",
             "linecolor": "white",
             "minorgridcolor": "white",
             "startlinecolor": "#2a3f5f"
            },
            "type": "carpet"
           }
          ],
          "choropleth": [
           {
            "colorbar": {
             "outlinewidth": 0,
             "ticks": ""
            },
            "type": "choropleth"
           }
          ],
          "contour": [
           {
            "colorbar": {
             "outlinewidth": 0,
             "ticks": ""
            },
            "colorscale": [
             [
              0,
              "#0d0887"
             ],
             [
              0.1111111111111111,
              "#46039f"
             ],
             [
              0.2222222222222222,
              "#7201a8"
             ],
             [
              0.3333333333333333,
              "#9c179e"
             ],
             [
              0.4444444444444444,
              "#bd3786"
             ],
             [
              0.5555555555555556,
              "#d8576b"
             ],
             [
              0.6666666666666666,
              "#ed7953"
             ],
             [
              0.7777777777777778,
              "#fb9f3a"
             ],
             [
              0.8888888888888888,
              "#fdca26"
             ],
             [
              1,
              "#f0f921"
             ]
            ],
            "type": "contour"
           }
          ],
          "contourcarpet": [
           {
            "colorbar": {
             "outlinewidth": 0,
             "ticks": ""
            },
            "type": "contourcarpet"
           }
          ],
          "heatmap": [
           {
            "colorbar": {
             "outlinewidth": 0,
             "ticks": ""
            },
            "colorscale": [
             [
              0,
              "#0d0887"
             ],
             [
              0.1111111111111111,
              "#46039f"
             ],
             [
              0.2222222222222222,
              "#7201a8"
             ],
             [
              0.3333333333333333,
              "#9c179e"
             ],
             [
              0.4444444444444444,
              "#bd3786"
             ],
             [
              0.5555555555555556,
              "#d8576b"
             ],
             [
              0.6666666666666666,
              "#ed7953"
             ],
             [
              0.7777777777777778,
              "#fb9f3a"
             ],
             [
              0.8888888888888888,
              "#fdca26"
             ],
             [
              1,
              "#f0f921"
             ]
            ],
            "type": "heatmap"
           }
          ],
          "heatmapgl": [
           {
            "colorbar": {
             "outlinewidth": 0,
             "ticks": ""
            },
            "colorscale": [
             [
              0,
              "#0d0887"
             ],
             [
              0.1111111111111111,
              "#46039f"
             ],
             [
              0.2222222222222222,
              "#7201a8"
             ],
             [
              0.3333333333333333,
              "#9c179e"
             ],
             [
              0.4444444444444444,
              "#bd3786"
             ],
             [
              0.5555555555555556,
              "#d8576b"
             ],
             [
              0.6666666666666666,
              "#ed7953"
             ],
             [
              0.7777777777777778,
              "#fb9f3a"
             ],
             [
              0.8888888888888888,
              "#fdca26"
             ],
             [
              1,
              "#f0f921"
             ]
            ],
            "type": "heatmapgl"
           }
          ],
          "histogram": [
           {
            "marker": {
             "pattern": {
              "fillmode": "overlay",
              "size": 10,
              "solidity": 0.2
             }
            },
            "type": "histogram"
           }
          ],
          "histogram2d": [
           {
            "colorbar": {
             "outlinewidth": 0,
             "ticks": ""
            },
            "colorscale": [
             [
              0,
              "#0d0887"
             ],
             [
              0.1111111111111111,
              "#46039f"
             ],
             [
              0.2222222222222222,
              "#7201a8"
             ],
             [
              0.3333333333333333,
              "#9c179e"
             ],
             [
              0.4444444444444444,
              "#bd3786"
             ],
             [
              0.5555555555555556,
              "#d8576b"
             ],
             [
              0.6666666666666666,
              "#ed7953"
             ],
             [
              0.7777777777777778,
              "#fb9f3a"
             ],
             [
              0.8888888888888888,
              "#fdca26"
             ],
             [
              1,
              "#f0f921"
             ]
            ],
            "type": "histogram2d"
           }
          ],
          "histogram2dcontour": [
           {
            "colorbar": {
             "outlinewidth": 0,
             "ticks": ""
            },
            "colorscale": [
             [
              0,
              "#0d0887"
             ],
             [
              0.1111111111111111,
              "#46039f"
             ],
             [
              0.2222222222222222,
              "#7201a8"
             ],
             [
              0.3333333333333333,
              "#9c179e"
             ],
             [
              0.4444444444444444,
              "#bd3786"
             ],
             [
              0.5555555555555556,
              "#d8576b"
             ],
             [
              0.6666666666666666,
              "#ed7953"
             ],
             [
              0.7777777777777778,
              "#fb9f3a"
             ],
             [
              0.8888888888888888,
              "#fdca26"
             ],
             [
              1,
              "#f0f921"
             ]
            ],
            "type": "histogram2dcontour"
           }
          ],
          "mesh3d": [
           {
            "colorbar": {
             "outlinewidth": 0,
             "ticks": ""
            },
            "type": "mesh3d"
           }
          ],
          "parcoords": [
           {
            "line": {
             "colorbar": {
              "outlinewidth": 0,
              "ticks": ""
             }
            },
            "type": "parcoords"
           }
          ],
          "pie": [
           {
            "automargin": true,
            "type": "pie"
           }
          ],
          "scatter": [
           {
            "fillpattern": {
             "fillmode": "overlay",
             "size": 10,
             "solidity": 0.2
            },
            "type": "scatter"
           }
          ],
          "scatter3d": [
           {
            "line": {
             "colorbar": {
              "outlinewidth": 0,
              "ticks": ""
             }
            },
            "marker": {
             "colorbar": {
              "outlinewidth": 0,
              "ticks": ""
             }
            },
            "type": "scatter3d"
           }
          ],
          "scattercarpet": [
           {
            "marker": {
             "colorbar": {
              "outlinewidth": 0,
              "ticks": ""
             }
            },
            "type": "scattercarpet"
           }
          ],
          "scattergeo": [
           {
            "marker": {
             "colorbar": {
              "outlinewidth": 0,
              "ticks": ""
             }
            },
            "type": "scattergeo"
           }
          ],
          "scattergl": [
           {
            "marker": {
             "colorbar": {
              "outlinewidth": 0,
              "ticks": ""
             }
            },
            "type": "scattergl"
           }
          ],
          "scattermapbox": [
           {
            "marker": {
             "colorbar": {
              "outlinewidth": 0,
              "ticks": ""
             }
            },
            "type": "scattermapbox"
           }
          ],
          "scatterpolar": [
           {
            "marker": {
             "colorbar": {
              "outlinewidth": 0,
              "ticks": ""
             }
            },
            "type": "scatterpolar"
           }
          ],
          "scatterpolargl": [
           {
            "marker": {
             "colorbar": {
              "outlinewidth": 0,
              "ticks": ""
             }
            },
            "type": "scatterpolargl"
           }
          ],
          "scatterternary": [
           {
            "marker": {
             "colorbar": {
              "outlinewidth": 0,
              "ticks": ""
             }
            },
            "type": "scatterternary"
           }
          ],
          "surface": [
           {
            "colorbar": {
             "outlinewidth": 0,
             "ticks": ""
            },
            "colorscale": [
             [
              0,
              "#0d0887"
             ],
             [
              0.1111111111111111,
              "#46039f"
             ],
             [
              0.2222222222222222,
              "#7201a8"
             ],
             [
              0.3333333333333333,
              "#9c179e"
             ],
             [
              0.4444444444444444,
              "#bd3786"
             ],
             [
              0.5555555555555556,
              "#d8576b"
             ],
             [
              0.6666666666666666,
              "#ed7953"
             ],
             [
              0.7777777777777778,
              "#fb9f3a"
             ],
             [
              0.8888888888888888,
              "#fdca26"
             ],
             [
              1,
              "#f0f921"
             ]
            ],
            "type": "surface"
           }
          ],
          "table": [
           {
            "cells": {
             "fill": {
              "color": "#EBF0F8"
             },
             "line": {
              "color": "white"
             }
            },
            "header": {
             "fill": {
              "color": "#C8D4E3"
             },
             "line": {
              "color": "white"
             }
            },
            "type": "table"
           }
          ]
         },
         "layout": {
          "annotationdefaults": {
           "arrowcolor": "#2a3f5f",
           "arrowhead": 0,
           "arrowwidth": 1
          },
          "autotypenumbers": "strict",
          "coloraxis": {
           "colorbar": {
            "outlinewidth": 0,
            "ticks": ""
           }
          },
          "colorscale": {
           "diverging": [
            [
             0,
             "#8e0152"
            ],
            [
             0.1,
             "#c51b7d"
            ],
            [
             0.2,
             "#de77ae"
            ],
            [
             0.3,
             "#f1b6da"
            ],
            [
             0.4,
             "#fde0ef"
            ],
            [
             0.5,
             "#f7f7f7"
            ],
            [
             0.6,
             "#e6f5d0"
            ],
            [
             0.7,
             "#b8e186"
            ],
            [
             0.8,
             "#7fbc41"
            ],
            [
             0.9,
             "#4d9221"
            ],
            [
             1,
             "#276419"
            ]
           ],
           "sequential": [
            [
             0,
             "#0d0887"
            ],
            [
             0.1111111111111111,
             "#46039f"
            ],
            [
             0.2222222222222222,
             "#7201a8"
            ],
            [
             0.3333333333333333,
             "#9c179e"
            ],
            [
             0.4444444444444444,
             "#bd3786"
            ],
            [
             0.5555555555555556,
             "#d8576b"
            ],
            [
             0.6666666666666666,
             "#ed7953"
            ],
            [
             0.7777777777777778,
             "#fb9f3a"
            ],
            [
             0.8888888888888888,
             "#fdca26"
            ],
            [
             1,
             "#f0f921"
            ]
           ],
           "sequentialminus": [
            [
             0,
             "#0d0887"
            ],
            [
             0.1111111111111111,
             "#46039f"
            ],
            [
             0.2222222222222222,
             "#7201a8"
            ],
            [
             0.3333333333333333,
             "#9c179e"
            ],
            [
             0.4444444444444444,
             "#bd3786"
            ],
            [
             0.5555555555555556,
             "#d8576b"
            ],
            [
             0.6666666666666666,
             "#ed7953"
            ],
            [
             0.7777777777777778,
             "#fb9f3a"
            ],
            [
             0.8888888888888888,
             "#fdca26"
            ],
            [
             1,
             "#f0f921"
            ]
           ]
          },
          "colorway": [
           "#636efa",
           "#EF553B",
           "#00cc96",
           "#ab63fa",
           "#FFA15A",
           "#19d3f3",
           "#FF6692",
           "#B6E880",
           "#FF97FF",
           "#FECB52"
          ],
          "font": {
           "color": "#2a3f5f"
          },
          "geo": {
           "bgcolor": "white",
           "lakecolor": "white",
           "landcolor": "#E5ECF6",
           "showlakes": true,
           "showland": true,
           "subunitcolor": "white"
          },
          "hoverlabel": {
           "align": "left"
          },
          "hovermode": "closest",
          "mapbox": {
           "style": "light"
          },
          "paper_bgcolor": "white",
          "plot_bgcolor": "#E5ECF6",
          "polar": {
           "angularaxis": {
            "gridcolor": "white",
            "linecolor": "white",
            "ticks": ""
           },
           "bgcolor": "#E5ECF6",
           "radialaxis": {
            "gridcolor": "white",
            "linecolor": "white",
            "ticks": ""
           }
          },
          "scene": {
           "xaxis": {
            "backgroundcolor": "#E5ECF6",
            "gridcolor": "white",
            "gridwidth": 2,
            "linecolor": "white",
            "showbackground": true,
            "ticks": "",
            "zerolinecolor": "white"
           },
           "yaxis": {
            "backgroundcolor": "#E5ECF6",
            "gridcolor": "white",
            "gridwidth": 2,
            "linecolor": "white",
            "showbackground": true,
            "ticks": "",
            "zerolinecolor": "white"
           },
           "zaxis": {
            "backgroundcolor": "#E5ECF6",
            "gridcolor": "white",
            "gridwidth": 2,
            "linecolor": "white",
            "showbackground": true,
            "ticks": "",
            "zerolinecolor": "white"
           }
          },
          "shapedefaults": {
           "line": {
            "color": "#2a3f5f"
           }
          },
          "ternary": {
           "aaxis": {
            "gridcolor": "white",
            "linecolor": "white",
            "ticks": ""
           },
           "baxis": {
            "gridcolor": "white",
            "linecolor": "white",
            "ticks": ""
           },
           "bgcolor": "#E5ECF6",
           "caxis": {
            "gridcolor": "white",
            "linecolor": "white",
            "ticks": ""
           }
          },
          "title": {
           "x": 0.05
          },
          "xaxis": {
           "automargin": true,
           "gridcolor": "white",
           "linecolor": "white",
           "ticks": "",
           "title": {
            "standoff": 15
           },
           "zerolinecolor": "white",
           "zerolinewidth": 2
          },
          "yaxis": {
           "automargin": true,
           "gridcolor": "white",
           "linecolor": "white",
           "ticks": "",
           "title": {
            "standoff": 15
           },
           "zerolinecolor": "white",
           "zerolinewidth": 2
          }
         }
        },
        "title": {
         "text": "Number of Samples per Subject"
        },
        "xaxis": {
         "anchor": "y",
         "domain": [
          0,
          1
         ],
         "tickangle": -45,
         "title": {
          "text": "Subject ID"
         }
        },
        "yaxis": {
         "anchor": "x",
         "domain": [
          0,
          1
         ],
         "title": {
          "text": "Number of Samples"
         }
        }
       }
      }
     },
     "metadata": {},
     "output_type": "display_data"
    }
   ],
   "source": [
    "# Create a bar chart showing sample counts per subject using plotly\n",
    "subject_counts = joined_df.groupby('subject').size().reset_index(name='count')\n",
    "\n",
    "fig = px.bar(\n",
    "    subject_counts,\n",
    "    x='subject',\n",
    "    y='count',\n",
    "    title='Number of Samples per Subject',\n",
    "    labels={\n",
    "        'count': 'Number of Samples',\n",
    "        'subject': 'Subject ID',\n",
    "    },\n",
    "    height=600\n",
    ")\n",
    "\n",
    "fig.update_layout(\n",
    "    xaxis_tickangle=-45,\n",
    "    showlegend=False,\n",
    "    margin=dict(r=50)  # Reduced right margin since we don't have a legend\n",
    ")\n",
    "\n",
    "fig.show()"
   ]
  },
  {
   "cell_type": "code",
   "execution_count": 24,
   "metadata": {},
   "outputs": [
    {
     "data": {
      "text/html": [
       "<div>\n",
       "<style scoped>\n",
       "    .dataframe tbody tr th:only-of-type {\n",
       "        vertical-align: middle;\n",
       "    }\n",
       "\n",
       "    .dataframe tbody tr th {\n",
       "        vertical-align: top;\n",
       "    }\n",
       "\n",
       "    .dataframe thead th {\n",
       "        text-align: right;\n",
       "    }\n",
       "</style>\n",
       "<table border=\"1\" class=\"dataframe\">\n",
       "  <thead>\n",
       "    <tr style=\"text-align: right;\">\n",
       "      <th></th>\n",
       "      <th>ethnicity</th>\n",
       "      <th>race</th>\n",
       "      <th>rate of c-peptide change</th>\n",
       "      <th>subject</th>\n",
       "      <th>visit day</th>\n",
       "      <th>lymphocyte percent</th>\n",
       "      <th>neutrophil percent</th>\n",
       "      <th>0</th>\n",
       "      <th>1</th>\n",
       "      <th>2</th>\n",
       "      <th>...</th>\n",
       "      <th>3064</th>\n",
       "      <th>3065</th>\n",
       "      <th>3066</th>\n",
       "      <th>3067</th>\n",
       "      <th>3068</th>\n",
       "      <th>3069</th>\n",
       "      <th>3070</th>\n",
       "      <th>3071</th>\n",
       "      <th>sex</th>\n",
       "      <th>age</th>\n",
       "    </tr>\n",
       "  </thead>\n",
       "  <tbody>\n",
       "    <tr>\n",
       "      <th>SRR8376682</th>\n",
       "      <td>1</td>\n",
       "      <td>6</td>\n",
       "      <td>-0.600512</td>\n",
       "      <td>ABATE_001010</td>\n",
       "      <td>467</td>\n",
       "      <td>NaN</td>\n",
       "      <td>NaN</td>\n",
       "      <td>-0.014561</td>\n",
       "      <td>0.007347</td>\n",
       "      <td>-0.006341</td>\n",
       "      <td>...</td>\n",
       "      <td>0.028611</td>\n",
       "      <td>-0.016203</td>\n",
       "      <td>0.007092</td>\n",
       "      <td>-0.013737</td>\n",
       "      <td>0.023785</td>\n",
       "      <td>-0.005319</td>\n",
       "      <td>-0.006966</td>\n",
       "      <td>-0.012540</td>\n",
       "      <td>1</td>\n",
       "      <td>14.4</td>\n",
       "    </tr>\n",
       "    <tr>\n",
       "      <th>SRR8376683</th>\n",
       "      <td>1</td>\n",
       "      <td>6</td>\n",
       "      <td>-1.831317</td>\n",
       "      <td>ABATE_002001</td>\n",
       "      <td>332</td>\n",
       "      <td>NaN</td>\n",
       "      <td>NaN</td>\n",
       "      <td>-0.013646</td>\n",
       "      <td>0.007889</td>\n",
       "      <td>-0.006470</td>\n",
       "      <td>...</td>\n",
       "      <td>0.028639</td>\n",
       "      <td>-0.016014</td>\n",
       "      <td>0.006566</td>\n",
       "      <td>-0.013850</td>\n",
       "      <td>0.023547</td>\n",
       "      <td>-0.005186</td>\n",
       "      <td>-0.007312</td>\n",
       "      <td>-0.013446</td>\n",
       "      <td>1</td>\n",
       "      <td>8.5</td>\n",
       "    </tr>\n",
       "    <tr>\n",
       "      <th>SRR8376684</th>\n",
       "      <td>1</td>\n",
       "      <td>6</td>\n",
       "      <td>-2.430716</td>\n",
       "      <td>ABATE_002004</td>\n",
       "      <td>367</td>\n",
       "      <td>NaN</td>\n",
       "      <td>NaN</td>\n",
       "      <td>-0.014409</td>\n",
       "      <td>0.007136</td>\n",
       "      <td>-0.006426</td>\n",
       "      <td>...</td>\n",
       "      <td>0.028415</td>\n",
       "      <td>-0.016256</td>\n",
       "      <td>0.006832</td>\n",
       "      <td>-0.013776</td>\n",
       "      <td>0.023798</td>\n",
       "      <td>-0.005355</td>\n",
       "      <td>-0.006960</td>\n",
       "      <td>-0.012720</td>\n",
       "      <td>0</td>\n",
       "      <td>12.1</td>\n",
       "    </tr>\n",
       "    <tr>\n",
       "      <th>SRR8376685</th>\n",
       "      <td>1</td>\n",
       "      <td>6</td>\n",
       "      <td>-1.512915</td>\n",
       "      <td>ABATE_002012</td>\n",
       "      <td>370</td>\n",
       "      <td>NaN</td>\n",
       "      <td>NaN</td>\n",
       "      <td>-0.013794</td>\n",
       "      <td>0.008102</td>\n",
       "      <td>-0.006457</td>\n",
       "      <td>...</td>\n",
       "      <td>0.028373</td>\n",
       "      <td>-0.015808</td>\n",
       "      <td>0.006523</td>\n",
       "      <td>-0.014134</td>\n",
       "      <td>0.023680</td>\n",
       "      <td>-0.005299</td>\n",
       "      <td>-0.007386</td>\n",
       "      <td>-0.013526</td>\n",
       "      <td>0</td>\n",
       "      <td>12.4</td>\n",
       "    </tr>\n",
       "    <tr>\n",
       "      <th>SRR8376686</th>\n",
       "      <td>1</td>\n",
       "      <td>6</td>\n",
       "      <td>-0.568527</td>\n",
       "      <td>ABATE_003003</td>\n",
       "      <td>368</td>\n",
       "      <td>NaN</td>\n",
       "      <td>NaN</td>\n",
       "      <td>-0.014449</td>\n",
       "      <td>0.007338</td>\n",
       "      <td>-0.006535</td>\n",
       "      <td>...</td>\n",
       "      <td>0.029070</td>\n",
       "      <td>-0.016389</td>\n",
       "      <td>0.006747</td>\n",
       "      <td>-0.013474</td>\n",
       "      <td>0.023740</td>\n",
       "      <td>-0.005061</td>\n",
       "      <td>-0.007116</td>\n",
       "      <td>-0.012467</td>\n",
       "      <td>1</td>\n",
       "      <td>13.2</td>\n",
       "    </tr>\n",
       "  </tbody>\n",
       "</table>\n",
       "<p>5 rows × 3081 columns</p>\n",
       "</div>"
      ],
      "text/plain": [
       "            ethnicity  race  rate of c-peptide change       subject  \\\n",
       "SRR8376682          1     6                 -0.600512  ABATE_001010   \n",
       "SRR8376683          1     6                 -1.831317  ABATE_002001   \n",
       "SRR8376684          1     6                 -2.430716  ABATE_002004   \n",
       "SRR8376685          1     6                 -1.512915  ABATE_002012   \n",
       "SRR8376686          1     6                 -0.568527  ABATE_003003   \n",
       "\n",
       "            visit day  lymphocyte percent  neutrophil percent         0  \\\n",
       "SRR8376682        467                 NaN                 NaN -0.014561   \n",
       "SRR8376683        332                 NaN                 NaN -0.013646   \n",
       "SRR8376684        367                 NaN                 NaN -0.014409   \n",
       "SRR8376685        370                 NaN                 NaN -0.013794   \n",
       "SRR8376686        368                 NaN                 NaN -0.014449   \n",
       "\n",
       "                   1         2  ...      3064      3065      3066      3067  \\\n",
       "SRR8376682  0.007347 -0.006341  ...  0.028611 -0.016203  0.007092 -0.013737   \n",
       "SRR8376683  0.007889 -0.006470  ...  0.028639 -0.016014  0.006566 -0.013850   \n",
       "SRR8376684  0.007136 -0.006426  ...  0.028415 -0.016256  0.006832 -0.013776   \n",
       "SRR8376685  0.008102 -0.006457  ...  0.028373 -0.015808  0.006523 -0.014134   \n",
       "SRR8376686  0.007338 -0.006535  ...  0.029070 -0.016389  0.006747 -0.013474   \n",
       "\n",
       "                3068      3069      3070      3071  sex   age  \n",
       "SRR8376682  0.023785 -0.005319 -0.006966 -0.012540    1  14.4  \n",
       "SRR8376683  0.023547 -0.005186 -0.007312 -0.013446    1   8.5  \n",
       "SRR8376684  0.023798 -0.005355 -0.006960 -0.012720    0  12.1  \n",
       "SRR8376685  0.023680 -0.005299 -0.007386 -0.013526    0  12.4  \n",
       "SRR8376686  0.023740 -0.005061 -0.007116 -0.012467    1  13.2  \n",
       "\n",
       "[5 rows x 3081 columns]"
      ]
     },
     "execution_count": 24,
     "metadata": {},
     "output_type": "execute_result"
    }
   ],
   "source": [
    "feature_df = joined_df.copy()\n",
    "feature_df['ethnicity'] = pd.Categorical(joined_df.ethnicity).codes\n",
    "feature_df['race'] = pd.Categorical(joined_df.race).codes\n",
    "feature_df['sex'] = pd.Categorical(joined_df.Sex).codes\n",
    "feature_df['age'] = feature_df['age at enrollment']\n",
    "feature_df.drop(columns=['age at enrollment', 'Sex'], inplace=True)\n",
    "feature_df.head()\n"
   ]
  },
  {
   "cell_type": "code",
   "execution_count": 25,
   "metadata": {},
   "outputs": [
    {
     "name": "stderr",
     "output_type": "stream",
     "text": [
      "/Users/rj/personal/GenePT-tools/venv/lib/python3.12/site-packages/sklearn/utils/deprecation.py:151: FutureWarning:\n",
      "\n",
      "'force_all_finite' was renamed to 'ensure_all_finite' in 1.6 and will be removed in 1.8.\n",
      "\n",
      "/Users/rj/personal/GenePT-tools/venv/lib/python3.12/site-packages/umap/umap_.py:1952: UserWarning:\n",
      "\n",
      "n_jobs value 1 overridden to 1 by setting random_state. Use no seed for parallelism.\n",
      "\n"
     ]
    },
    {
     "data": {
      "application/vnd.plotly.v1+json": {
       "config": {
        "plotlyServerURL": "https://plot.ly"
       },
       "data": [
        {
         "hovertemplate": "UMAP1=%{x}<br>UMAP2=%{y}<br>age=%{marker.color}<extra></extra>",
         "legendgroup": "",
         "marker": {
          "color": [
           14.4,
           8.5,
           12.1,
           12.4,
           13.2,
           17,
           11.4,
           15.7,
           17.3,
           10.5,
           12,
           8.8,
           25.9,
           17.4,
           17,
           15.5,
           14.4,
           8.5,
           12.1,
           9.9,
           12.4,
           15.5,
           17,
           17,
           9.3,
           11.4,
           17.4,
           25.9,
           17.3,
           10.5,
           12,
           12.1,
           9.9,
           12.4,
           15.5,
           13.2,
           17,
           17,
           14.4,
           8.5,
           17,
           11.4,
           25.9,
           12,
           10.5,
           12,
           17.4,
           25.9,
           17.3,
           11.4,
           14.4,
           8.5,
           12.1,
           9.9,
           12.4,
           15.5,
           13.2,
           11.4,
           15.7,
           17.4,
           25.9,
           17.3,
           10.5,
           12,
           8.8,
           9.4,
           24,
           19,
           22,
           16,
           14,
           15,
           19,
           14,
           28,
           13,
           27,
           28,
           14,
           10.2,
           15.4,
           25.2,
           25.2,
           14.5,
           10.9,
           9,
           17.9,
           12.7,
           12.7,
           9.3,
           16.5,
           18.8,
           9,
           15,
           14.3,
           14.5,
           12.9,
           12.9,
           34.3,
           17.9,
           11.2,
           15.1,
           12.2,
           17.9,
           14.5,
           8.7,
           14.5,
           17.9,
           12.2,
           12.7,
           8.7,
           14.5,
           15.3,
           15,
           9,
           11.2,
           16.5,
           16.1,
           8.5,
           20.8,
           9,
           12.9,
           16.5,
           10.9,
           16.1,
           9.3,
           13.9,
           25.2,
           14.3,
           15.3,
           23.7,
           43.7,
           10,
           32.2,
           46.2,
           15.2,
           10,
           13.9,
           16,
           17,
           17,
           10.7,
           25.1,
           11.2,
           15.9,
           20.8,
           8.7,
           9.2,
           13.9,
           15.3,
           16,
           14.9,
           15.1,
           14.4,
           32.8,
           34.3,
           9,
           13.7,
           14.5,
           13.9,
           11.2,
           12.9,
           9.5,
           9,
           18.8,
           16.1,
           15.9,
           17.3,
           12.9,
           9.2,
           15.9,
           12.9,
           15.1,
           14.3,
           9.2,
           15.9,
           22,
           19,
           27,
           32,
           23,
           23,
           16,
           14,
           13,
           13,
           28,
           15,
           14,
           13,
           14,
           27,
           19,
           15,
           28,
           23,
           16,
           23,
           32,
           14,
           13,
           16,
           14,
           16,
           16,
           23,
           23,
           32,
           32,
           13,
           13,
           13,
           23,
           15,
           23,
           16,
           27,
           16,
           14.4,
           16.6,
           13.6,
           14.4,
           38.6,
           14.1,
           14.4,
           13.6,
           14.4,
           14.1,
           16.6,
           21.4,
           38.2,
           29.2,
           13.6,
           23.8,
           16,
           21.4,
           29.2,
           29.2,
           21.4,
           16,
           14,
           14.1,
           29.2,
           34.7,
           29.2,
           34.7,
           14,
           18.8,
           38.6,
           13.4,
           23.8,
           18.8,
           16,
           27,
           38.6,
           18.8,
           14.1,
           27,
           38.6,
           23.8,
           14,
           27,
           34.7,
           21.4,
           16.6,
           14,
           13.6,
           18.8,
           38.6,
           21.4,
           14.1,
           16.6,
           12.5,
           12.5,
           27,
           14.4,
           18.8,
           13.6,
           23.8,
           13.5,
           13.5,
           22.7,
           13.5,
           22.7,
           19.5,
           25.1,
           15.2,
           12.9,
           10,
           12.3,
           9.5,
           9.8,
           10.7,
           10,
           12.9,
           13.9,
           32.8,
           12.9,
           16.4,
           9.7,
           15.4,
           14.4,
           34.8,
           19.5,
           9.8,
           14.4,
           10,
           46.2,
           12.1,
           12.3,
           10,
           10.6,
           34.8,
           34.8,
           23.7,
           23.7,
           19.5,
           13.7,
           40.8,
           12.2,
           13.9,
           13.3,
           13.3,
           13.4,
           13.5,
           20.8,
           21.7,
           13.3,
           13.5,
           20.8,
           12.2,
           20.8,
           33,
           33,
           28,
           14,
           12.1,
           12.9,
           14.4,
           44.5,
           12.3,
           32.2,
           12,
           17,
           10.7,
           10.7,
           40.8,
           32.8,
           12.3,
           12.9,
           16.4,
           10.6,
           17,
           22,
           17,
           27.6,
           12.9,
           25.1,
           43.7,
           14.9,
           19,
           13.3,
           17,
           19,
           16,
           28,
           26,
           12.2,
           21.7,
           13.4,
           27.6,
           9.5,
           28,
           22,
           17,
           16,
           28,
           28,
           14,
           27.6,
           44.5,
           21.7,
           9.5,
           40.8,
           20.8,
           12.3,
           13.5,
           13.5,
           27.6,
           10.6,
           9.7,
           23.9,
           13.9,
           13.5,
           23.7,
           9.7,
           15.4,
           16.4,
           19.5,
           12.1,
           12.1,
           15.2,
           44.5,
           25.1,
           13.5,
           32.2,
           15.2,
           9.5,
           25.1,
           23.9,
           32.2,
           13.9,
           13.9,
           12.3,
           13.7,
           12.3,
           23.9,
           40.8,
           12.3,
           12.9,
           16.4,
           43.7,
           32.8,
           43.7,
           12.1,
           13.9,
           13.4,
           13.9,
           12.2,
           23.7,
           34.8,
           13.7,
           10.6,
           26,
           17,
           26,
           18,
           20.8,
           13.9,
           21.7,
           12.9,
           14,
           28,
           19,
           14,
           28,
           9.8,
           23.9,
           46.2,
           27.6,
           12.9,
           32.2,
           46.2,
           12.3,
           44.5,
           9.7,
           14.9,
           13.5,
           14.9,
           14.9,
           10,
           8.5,
           10.2,
           17.3,
           18.8,
           18,
           18,
           33,
           33,
           19.5,
           13.3,
           21.7,
           13.4,
           22,
           15.1,
           9.3,
           15.2,
           12.9,
           17.9,
           15.4,
           34.3,
           15,
           26,
           9.8,
           28,
           18,
           9,
           22,
           19,
           12,
           12,
           12
          ],
          "coloraxis": "coloraxis",
          "opacity": 0.7,
          "symbol": "circle"
         },
         "mode": "markers",
         "name": "",
         "orientation": "v",
         "showlegend": false,
         "type": "scatter",
         "x": [
          10.086671829223633,
          4.655609130859375,
          9.712508201599121,
          3.696436882019043,
          11.242088317871094,
          8.883162498474121,
          6.460260391235352,
          3.086254119873047,
          9.142026901245117,
          9.963661193847656,
          5.877589702606201,
          8.545503616333008,
          10.399471282958984,
          5.711343765258789,
          4.880728721618652,
          11.018105506896973,
          4.612412929534912,
          4.409193515777588,
          2.5141382217407227,
          6.06845760345459,
          5.057747840881348,
          5.929367542266846,
          11.210639953613281,
          2.206829309463501,
          10.120804786682129,
          6.332083225250244,
          2.3374648094177246,
          6.479380130767822,
          2.7882211208343506,
          9.678557395935059,
          5.649569034576416,
          4.877042770385742,
          9.367240905761719,
          2.0856544971466064,
          3.3064627647399902,
          11.41434383392334,
          10.13243579864502,
          10.043128967285156,
          3.381983518600464,
          3.671903610229492,
          2.2309272289276123,
          6.16677713394165,
          6.347931861877441,
          4.8825812339782715,
          7.474172592163086,
          5.3180108070373535,
          4.975985527038574,
          9.337699890136719,
          5.030590534210205,
          9.389191627502441,
          2.3992373943328857,
          9.419622421264648,
          2.4776318073272705,
          1.8823210000991821,
          3.109813928604126,
          9.23483943939209,
          9.41754150390625,
          5.682249546051025,
          3.832990884780884,
          4.765528202056885,
          2.8805646896362305,
          8.779267311096191,
          12.027864456176758,
          9.381065368652344,
          6.013977527618408,
          10.239011764526367,
          6.218806743621826,
          2.477572202682495,
          2.9107003211975098,
          3.309335708618164,
          4.241644382476807,
          2.2233223915100098,
          2.5403425693511963,
          4.143741607666016,
          1.537794589996338,
          3.7752199172973633,
          3.3367578983306885,
          1.8520339727401733,
          2.1112799644470215,
          9.578123092651367,
          9.756827354431152,
          3.5438857078552246,
          6.202512264251709,
          11.387884140014648,
          1.7328994274139404,
          2.144909143447876,
          7.733300685882568,
          9.66475772857666,
          11.692877769470215,
          10.571793556213379,
          9.55774974822998,
          5.657571315765381,
          7.219932556152344,
          11.441391944885254,
          7.78106689453125,
          12.46764087677002,
          4.249218940734863,
          1.2250759601593018,
          1.7969560623168945,
          5.713335037231445,
          10.587489128112793,
          3.1783509254455566,
          9.856847763061523,
          2.8071117401123047,
          5.069381237030029,
          11.558302879333496,
          1.7589119672775269,
          2.0682644844055176,
          5.474234104156494,
          6.938141345977783,
          5.443811416625977,
          9.717520713806152,
          6.470098972320557,
          11.531045913696289,
          10.393930435180664,
          12.620237350463867,
          5.675899028778076,
          0.939100980758667,
          10.86777114868164,
          1.6032660007476807,
          11.220314025878906,
          9.979037284851074,
          2.3722734451293945,
          3.899872303009033,
          11.363007545471191,
          11.397587776184082,
          12.764781951904297,
          5.400988578796387,
          11.602182388305664,
          1.051781415939331,
          4.396370887756348,
          4.505863189697266,
          8.493769645690918,
          6.104457378387451,
          5.278698921203613,
          5.910061359405518,
          7.8357648849487305,
          1.4943927526474,
          2.0954761505126953,
          4.24141788482666,
          1.9213688373565674,
          8.637249946594238,
          2.053701877593994,
          11.410475730895996,
          6.968486785888672,
          9.153879165649414,
          12.023693084716797,
          5.338386058807373,
          10.91704273223877,
          7.798896789550781,
          1.8004544973373413,
          2.35457181930542,
          12.093096733093262,
          9.892781257629395,
          10.809158325195312,
          8.524211883544922,
          5.036189079284668,
          9.270814895629883,
          12.098517417907715,
          12.429686546325684,
          4.650590419769287,
          11.632256507873535,
          9.951237678527832,
          12.811148643493652,
          2.3076891899108887,
          9.871109962463379,
          12.68586254119873,
          2.771841049194336,
          11.42443561553955,
          10.90887451171875,
          12.279740333557129,
          11.714071273803711,
          10.552227020263672,
          1.474084496498108,
          4.829510688781738,
          6.579264163970947,
          5.84287691116333,
          3.056023359298706,
          4.503678321838379,
          2.6802821159362793,
          2.8858134746551514,
          3.032217502593994,
          7.577359676361084,
          3.2356202602386475,
          2.9060966968536377,
          4.22540807723999,
          2.51542067527771,
          4.282370090484619,
          3.9719324111938477,
          2.131587028503418,
          4.1675333976745605,
          4.619731426239014,
          3.1395046710968018,
          5.582376956939697,
          7.842409133911133,
          4.997982501983643,
          4.078314304351807,
          2.900883197784424,
          5.743775844573975,
          5.139154434204102,
          3.068913698196411,
          4.399385452270508,
          1.3906538486480713,
          2.6570584774017334,
          2.5397934913635254,
          1.3946205377578735,
          3.3764238357543945,
          1.7670941352844238,
          2.4781551361083984,
          2.2624711990356445,
          1.5097121000289917,
          3.528155565261841,
          2.4445977210998535,
          2.76304030418396,
          2.2053465843200684,
          2.927755355834961,
          4.333063125610352,
          9.477593421936035,
          11.673025131225586,
          9.722522735595703,
          7.308918476104736,
          10.147254943847656,
          11.98375129699707,
          11.954286575317383,
          10.816737174987793,
          8.570756912231445,
          12.154287338256836,
          12.782072067260742,
          12.61176872253418,
          9.8042573928833,
          12.606369972229004,
          11.874893188476562,
          6.438295841217041,
          11.840310096740723,
          10.99721622467041,
          11.5242919921875,
          11.611069679260254,
          10.017101287841797,
          8.878799438476562,
          11.333550453186035,
          12.548751831054688,
          12.230338096618652,
          9.92893123626709,
          11.367806434631348,
          9.881704330444336,
          11.168728828430176,
          11.441347122192383,
          11.88113021850586,
          8.879985809326172,
          11.347075462341309,
          10.829557418823242,
          11.781656265258789,
          11.281936645507812,
          11.915246963500977,
          11.772836685180664,
          10.87572193145752,
          9.091166496276855,
          9.752997398376465,
          12.453775405883789,
          12.236488342285156,
          10.294839859008789,
          11.3408203125,
          10.488079071044922,
          10.738398551940918,
          12.217934608459473,
          8.151212692260742,
          8.410957336425781,
          9.033860206604004,
          11.781988143920898,
          7.775664806365967,
          10.91884994506836,
          12.35733413696289,
          12.182767868041992,
          10.499716758728027,
          6.004461288452148,
          11.333531379699707,
          10.556421279907227,
          11.333614349365234,
          8.969475746154785,
          8.63850212097168,
          3.4033753871917725,
          1.4609044790267944,
          10.471570014953613,
          4.956072807312012,
          4.858160018920898,
          1.6801564693450928,
          5.914028644561768,
          5.055607318878174,
          5.298286437988281,
          6.3768086433410645,
          2.915902614593506,
          3.8337626457214355,
          5.219193935394287,
          9.51287841796875,
          11.882613182067871,
          9.577152252197266,
          1.8384102582931519,
          2.0915756225585938,
          5.537236213684082,
          7.873380184173584,
          3.106869697570801,
          2.2706682682037354,
          9.594077110290527,
          11.000178337097168,
          5.557145595550537,
          5.399874210357666,
          9.246467590332031,
          6.098288536071777,
          8.599652290344238,
          9.36573314666748,
          10.237997055053711,
          11.400279998779297,
          2.7140564918518066,
          4.3317084312438965,
          1.8160358667373657,
          1.9760665893554688,
          4.902137756347656,
          7.910897254943848,
          9.900419235229492,
          9.643226623535156,
          5.718260288238525,
          8.386282920837402,
          5.7346930503845215,
          5.893106460571289,
          5.749785423278809,
          3.813295602798462,
          8.3359956741333,
          5.538022994995117,
          7.710907936096191,
          1.8083789348602295,
          5.447346210479736,
          4.152004718780518,
          2.036888360977173,
          1.645922303199768,
          1.8320913314819336,
          2.5205130577087402,
          5.30073356628418,
          5.657131671905518,
          10.359477996826172,
          4.614802837371826,
          5.203029632568359,
          4.643222808837891,
          1.233140230178833,
          3.0607213973999023,
          12.288543701171875,
          4.761638641357422,
          12.546121597290039,
          9.573844909667969,
          5.441991806030273,
          4.999540328979492,
          1.8994559049606323,
          4.795323848724365,
          2.2698464393615723,
          1.6622017621994019,
          1.4487581253051758,
          7.7774810791015625,
          9.20948600769043,
          6.1934685707092285,
          2.0507009029388428,
          4.233529090881348,
          1.1976733207702637,
          4.9036688804626465,
          3.7713472843170166,
          2.3877532482147217,
          0.8507711887359619,
          2.662984609603882,
          3.608779191970825,
          9.576422691345215,
          7.596473217010498,
          2.434584617614746,
          8.931940078735352,
          9.248635292053223,
          1.640487551689148,
          1.8171650171279907,
          8.488636016845703,
          0.883661150932312,
          2.170384168624878,
          4.223189830780029,
          2.358776807785034,
          8.316398620605469,
          2.33785343170166,
          7.465840816497803,
          10.120615005493164,
          12.703655242919922,
          6.266854763031006,
          7.775359153747559,
          2.215580940246582,
          3.9917337894439697,
          2.73903489112854,
          5.3307342529296875,
          3.7938179969787598,
          3.038395404815674,
          4.397446632385254,
          9.899639129638672,
          4.457180023193359,
          6.047680854797363,
          2.0723824501037598,
          2.153733491897583,
          2.406137466430664,
          5.600322246551514,
          8.278972625732422,
          4.65896463394165,
          3.1052427291870117,
          6.905978679656982,
          7.21042537689209,
          2.8847596645355225,
          4.735951900482178,
          8.891881942749023,
          6.614189147949219,
          2.8933095932006836,
          4.038102149963379,
          5.164266586303711,
          2.128953695297241,
          8.175148010253906,
          5.547905921936035,
          7.742499828338623,
          5.903133869171143,
          5.167766571044922,
          5.418144702911377,
          1.265608549118042,
          2.084540605545044,
          3.0112504959106445,
          3.0925686359405518,
          6.594905376434326,
          10.025392532348633,
          7.825732707977295,
          5.356457710266113,
          2.284420967102051,
          5.305534839630127,
          3.022690773010254,
          10.209685325622559,
          12.119928359985352,
          5.1967387199401855,
          1.9998317956924438,
          5.282756805419922,
          1.814007043838501,
          0.8068678379058838,
          9.456530570983887,
          2.242652416229248,
          8.746756553649902,
          3.399571180343628,
          2.8317816257476807,
          1.273368239402771,
          1.0494108200073242,
          1.985339641571045,
          1.4950172901153564,
          11.379032135009766,
          5.4643073081970215,
          8.72708511352539,
          8.081767082214355,
          8.144766807556152,
          3.242497205734253,
          8.695759773254395,
          4.710292339324951,
          9.264954566955566,
          8.60837459564209,
          4.356359004974365,
          9.561893463134766,
          7.669742584228516,
          5.789632797241211,
          7.743244171142578,
          11.021383285522461,
          5.063299655914307,
          6.66265344619751,
          6.185867786407471,
          0.9383623600006104,
          0.990659236907959,
          1.7131986618041992,
          1.5616463422775269,
          4.342406272888184,
          5.21088171005249,
          2.742678165435791,
          4.760476589202881,
          1.5537753105163574,
          2.135385036468506,
          1.8242193460464478,
          2.2949838638305664,
          5.767125129699707,
          6.517206192016602,
          7.942768573760986,
          5.513575077056885,
          3.734055995941162,
          1.3757703304290771,
          7.8138813972473145,
          0.7828558683395386,
          0.8778796195983887,
          3.994717836380005,
          2.730241060256958,
          1.120795726776123,
          4.338528633117676,
          3.9053642749786377,
          4.408662796020508
         ],
         "xaxis": "x",
         "y": [
          3.6565194129943848,
          2.508899688720703,
          2.5228278636932373,
          4.529158115386963,
          1.9573488235473633,
          3.286405324935913,
          2.8143701553344727,
          5.463416576385498,
          2.3839595317840576,
          2.819200038909912,
          2.514826536178589,
          3.302034616470337,
          1.6880115270614624,
          2.558887243270874,
          2.397460699081421,
          1.8465514183044434,
          2.4870011806488037,
          2.740922212600708,
          3.1263656616210938,
          5.1586761474609375,
          1.853718876838684,
          2.5842626094818115,
          2.5086798667907715,
          5.61326789855957,
          1.5603582859039307,
          2.850851058959961,
          4.467280864715576,
          5.016317367553711,
          3.0315778255462646,
          1.5683624744415283,
          2.4895124435424805,
          1.6774705648422241,
          0.8897672295570374,
          4.172220706939697,
          1.6576831340789795,
          2.1680307388305664,
          1.683410882949829,
          2.214185953140259,
          1.5857576131820679,
          1.7319653034210205,
          5.346024036407471,
          2.833376407623291,
          4.129797458648682,
          1.5486546754837036,
          3.212024211883545,
          1.9586811065673828,
          1.4582937955856323,
          0.8173420429229736,
          1.8440746068954468,
          1.8769439458847046,
          3.5993709564208984,
          0.9485026001930237,
          3.4419548511505127,
          3.8319637775421143,
          3.2209463119506836,
          0.7412826418876648,
          0.8722742199897766,
          2.2096691131591797,
          4.59704065322876,
          2.452744722366333,
          4.41168737411499,
          4.2996439933776855,
          4.642505645751953,
          1.7292817831039429,
          2.6935296058654785,
          1.5719820261001587,
          3.4617068767547607,
          2.4828333854675293,
          2.440261125564575,
          1.6196708679199219,
          1.375551700592041,
          5.113595485687256,
          2.467316150665283,
          1.338573694229126,
          4.358693599700928,
          1.851374864578247,
          1.8892693519592285,
          3.9080138206481934,
          3.393768548965454,
          2.6281330585479736,
          1.8860810995101929,
          5.0110931396484375,
          5.077126502990723,
          2.1836493015289307,
          6.080864429473877,
          6.3625688552856445,
          5.133656024932861,
          1.8156944513320923,
          3.53763747215271,
          1.7537362575531006,
          2.829190492630005,
          3.6885573863983154,
          4.889778137207031,
          3.261875629425049,
          5.094864845275879,
          3.9486773014068604,
          4.686517238616943,
          5.604506492614746,
          5.769234657287598,
          3.315746307373047,
          1.7487993240356445,
          5.6815314292907715,
          1.677668809890747,
          5.997512340545654,
          3.318784475326538,
          3.0584540367126465,
          5.997827053070068,
          3.641005039215088,
          4.155887126922607,
          5.2958574295043945,
          3.328357219696045,
          2.4876363277435303,
          5.278679370880127,
          3.264521837234497,
          3.1937897205352783,
          4.177211284637451,
          3.210001230239868,
          5.258328437805176,
          2.105193853378296,
          6.117086887359619,
          3.2639994621276855,
          3.0313241481781006,
          4.074026584625244,
          4.961217403411865,
          2.5860188007354736,
          1.9702696800231934,
          4.321586608886719,
          4.0483784675598145,
          3.950409412384033,
          5.641584873199463,
          3.350822687149048,
          2.681461811065674,
          3.7192935943603516,
          5.362285614013672,
          4.074522495269775,
          5.28781270980835,
          3.974146604537964,
          6.20177698135376,
          3.0901145935058594,
          4.957722187042236,
          3.3302528858184814,
          3.5559263229370117,
          5.147447109222412,
          3.7896475791931152,
          4.870927810668945,
          3.459702730178833,
          3.6660518646240234,
          5.392843246459961,
          2.390160083770752,
          3.320902109146118,
          3.3991076946258545,
          2.994166612625122,
          4.52579927444458,
          2.1273372173309326,
          3.842437267303467,
          3.3027191162109375,
          2.9862160682678223,
          0.757337749004364,
          3.822195291519165,
          4.251715660095215,
          3.1759963035583496,
          2.848996162414551,
          1.6817553043365479,
          4.359283447265625,
          4.5221405029296875,
          3.2344398498535156,
          4.231550216674805,
          5.096651554107666,
          4.19509220123291,
          2.287614345550537,
          3.5881190299987793,
          3.1114838123321533,
          2.2153139114379883,
          4.331917762756348,
          1.6967518329620361,
          4.55459451675415,
          4.439213752746582,
          4.031354904174805,
          1.4539450407028198,
          5.255674839019775,
          3.982025623321533,
          3.9159045219421387,
          5.11002779006958,
          3.961239814758301,
          3.803353786468506,
          1.4885807037353516,
          4.9559760093688965,
          1.5114367008209229,
          1.476730227470398,
          6.060286998748779,
          1.4328467845916748,
          1.4055675268173218,
          4.032528877258301,
          4.483503341674805,
          4.927554130554199,
          1.3578202724456787,
          1.4190343618392944,
          4.066715717315674,
          4.386965274810791,
          2.9642341136932373,
          3.9197797775268555,
          1.4008482694625854,
          4.043890953063965,
          2.494777202606201,
          2.3852035999298096,
          4.318872928619385,
          1.6181696653366089,
          5.952474117279053,
          2.475130319595337,
          2.6511147022247314,
          3.7881548404693604,
          1.4890618324279785,
          2.527698278427124,
          5.003079414367676,
          2.645761728286743,
          2.680833339691162,
          1.3723701238632202,
          3.172376871109009,
          3.2549400329589844,
          3.366107940673828,
          4.843400001525879,
          3.765601396560669,
          3.609251022338867,
          3.4874958992004395,
          3.317946672439575,
          3.786290168762207,
          4.333176612854004,
          4.346979141235352,
          4.6481523513793945,
          3.8116750717163086,
          4.60144567489624,
          4.634281158447266,
          5.367238521575928,
          3.3693695068359375,
          3.3302674293518066,
          3.0219249725341797,
          4.281388759613037,
          3.88698148727417,
          3.9131357669830322,
          3.3814613819122314,
          4.277774333953857,
          3.5687367916107178,
          3.8837990760803223,
          3.0415844917297363,
          3.980541467666626,
          3.2984941005706787,
          2.5211315155029297,
          4.610934257507324,
          3.8107049465179443,
          3.798804759979248,
          3.335803747177124,
          4.587998867034912,
          2.2039291858673096,
          4.616947650909424,
          3.1707563400268555,
          2.1973090171813965,
          4.151729106903076,
          3.9044289588928223,
          4.484624862670898,
          4.078958988189697,
          2.2303662300109863,
          2.302241086959839,
          3.5135679244995117,
          3.3910562992095947,
          3.7361176013946533,
          3.5588200092315674,
          3.839296340942383,
          3.6103878021240234,
          4.5880255699157715,
          4.069227695465088,
          4.019961357116699,
          4.53729772567749,
          4.5788068771362305,
          3.8182754516601562,
          5.4855852127075195,
          4.22658109664917,
          3.3495006561279297,
          4.119777679443359,
          2.893993854522705,
          4.82846736907959,
          3.023799180984497,
          3.6936590671539307,
          2.295377254486084,
          1.7438892126083374,
          1.553518533706665,
          6.165344715118408,
          5.288419723510742,
          3.684086561203003,
          3.1253061294555664,
          5.390347957611084,
          2.9979774951934814,
          2.992769241333008,
          2.7144548892974854,
          2.421215057373047,
          4.639291286468506,
          3.185166120529175,
          5.606929779052734,
          5.549002647399902,
          5.1798415184021,
          3.4873788356781006,
          5.662261009216309,
          5.296995162963867,
          1.5990724563598633,
          1.8039621114730835,
          3.101909637451172,
          2.1056082248687744,
          1.885526180267334,
          5.604290962219238,
          4.8337907791137695,
          1.9438196420669556,
          1.6578238010406494,
          2.536810874938965,
          5.326901435852051,
          4.973084926605225,
          4.787325859069824,
          4.461283206939697,
          1.7453311681747437,
          3.29360294342041,
          3.795389175415039,
          3.4395751953125,
          2.287611484527588,
          3.6719117164611816,
          2.2805235385894775,
          4.803513526916504,
          5.674392223358154,
          4.910985946655273,
          4.6263813972473145,
          5.231202602386475,
          4.196497440338135,
          5.251008987426758,
          2.775318145751953,
          2.944246768951416,
          3.2536861896514893,
          3.7076165676116943,
          3.624570846557617,
          3.1171913146972656,
          3.603254795074463,
          5.012712478637695,
          1.9871251583099365,
          5.019562721252441,
          3.639234781265259,
          2.29520845413208,
          4.804640293121338,
          5.5517730712890625,
          4.663663864135742,
          2.69193696975708,
          4.6493401527404785,
          2.721219301223755,
          2.4443678855895996,
          3.2709531784057617,
          6.0678205490112305,
          5.105783462524414,
          3.7364275455474854,
          4.7516188621521,
          4.268817901611328,
          5.021007061004639,
          1.985420823097229,
          5.670098781585693,
          5.403944492340088,
          4.989415645599365,
          4.811081409454346,
          2.754890203475952,
          3.116039991378784,
          4.104274272918701,
          5.361383438110352,
          3.248838424682617,
          4.138171195983887,
          1.0926564931869507,
          4.340006351470947,
          6.026411533355713,
          2.7629714012145996,
          2.039483070373535,
          3.7146646976470947,
          4.903016090393066,
          4.942216396331787,
          5.3791279792785645,
          5.333252429962158,
          2.8386447429656982,
          3.7119436264038086,
          3.551246404647827,
          5.957221031188965,
          5.205587863922119,
          3.614896774291992,
          4.418354034423828,
          5.170254707336426,
          4.1676740646362305,
          6.223151206970215,
          3.023277997970581,
          2.877389669418335,
          4.9511237144470215,
          4.617796897888184,
          4.573365211486816,
          2.973005771636963,
          3.617002248764038,
          3.3664016723632812,
          5.468713760375977,
          6.336404800415039,
          6.296142101287842,
          4.5449604988098145,
          3.4412410259246826,
          4.603758811950684,
          4.823140621185303,
          5.357989311218262,
          5.177250385284424,
          4.996426582336426,
          5.890077114105225,
          4.543891429901123,
          4.816328048706055,
          4.980911731719971,
          5.41774845123291,
          4.846859931945801,
          2.982219934463501,
          6.248077869415283,
          4.843374252319336,
          4.920863151550293,
          4.1615166664123535,
          2.902353048324585,
          4.893431663513184,
          4.224855422973633,
          5.92805290222168,
          5.989016532897949,
          5.5237627029418945,
          4.8538432121276855,
          5.151379108428955,
          3.419168472290039,
          4.029268264770508,
          3.0649852752685547,
          4.082812786102295,
          3.285370349884033,
          5.852546691894531,
          1.5414276123046875,
          3.5754005908966064,
          2.646165132522583,
          3.3519604206085205,
          3.7362163066864014,
          3.466191291809082,
          5.35847282409668,
          0.9262060523033142,
          4.004449367523193,
          4.857247829437256,
          5.4667229652404785,
          3.04219388961792,
          4.638299942016602,
          5.726747989654541,
          4.402904510498047,
          3.952669143676758,
          1.9905461072921753,
          3.8271992206573486,
          3.02026629447937,
          3.37994122505188,
          4.706836223602295,
          5.351751804351807,
          4.416484355926514,
          2.7006540298461914,
          1.9323843717575073,
          3.4487531185150146,
          4.939525604248047,
          1.091339111328125,
          4.186888217926025,
          3.5971596240997314,
          3.708404064178467,
          2.208315134048462,
          5.186006546020508,
          3.0297672748565674,
          5.330954551696777,
          5.266102313995361,
          5.010148048400879,
          6.29872989654541,
          3.562497854232788,
          4.773137092590332,
          4.406604766845703,
          4.549682140350342,
          2.764861583709717,
          4.495230197906494,
          5.360790729522705,
          5.127495288848877,
          6.136443138122559,
          4.748437881469727,
          5.211177349090576,
          3.559457540512085,
          5.462269306182861,
          4.805805683135986,
          4.723562240600586,
          3.762293577194214,
          5.2706828117370605,
          5.4038190841674805,
          2.999690294265747,
          5.314753532409668,
          5.063802719116211,
          2.7994861602783203,
          3.3428268432617188,
          3.018746852874756
         ],
         "yaxis": "y"
        }
       ],
       "layout": {
        "coloraxis": {
         "colorbar": {
          "title": {
           "text": "age"
          }
         },
         "colorscale": [
          [
           0,
           "#0d0887"
          ],
          [
           0.1111111111111111,
           "#46039f"
          ],
          [
           0.2222222222222222,
           "#7201a8"
          ],
          [
           0.3333333333333333,
           "#9c179e"
          ],
          [
           0.4444444444444444,
           "#bd3786"
          ],
          [
           0.5555555555555556,
           "#d8576b"
          ],
          [
           0.6666666666666666,
           "#ed7953"
          ],
          [
           0.7777777777777778,
           "#fb9f3a"
          ],
          [
           0.8888888888888888,
           "#fdca26"
          ],
          [
           1,
           "#f0f921"
          ]
         ]
        },
        "legend": {
         "tracegroupgap": 0
        },
        "template": {
         "data": {
          "bar": [
           {
            "error_x": {
             "color": "#2a3f5f"
            },
            "error_y": {
             "color": "#2a3f5f"
            },
            "marker": {
             "line": {
              "color": "#E5ECF6",
              "width": 0.5
             },
             "pattern": {
              "fillmode": "overlay",
              "size": 10,
              "solidity": 0.2
             }
            },
            "type": "bar"
           }
          ],
          "barpolar": [
           {
            "marker": {
             "line": {
              "color": "#E5ECF6",
              "width": 0.5
             },
             "pattern": {
              "fillmode": "overlay",
              "size": 10,
              "solidity": 0.2
             }
            },
            "type": "barpolar"
           }
          ],
          "carpet": [
           {
            "aaxis": {
             "endlinecolor": "#2a3f5f",
             "gridcolor": "white",
             "linecolor": "white",
             "minorgridcolor": "white",
             "startlinecolor": "#2a3f5f"
            },
            "baxis": {
             "endlinecolor": "#2a3f5f",
             "gridcolor": "white",
             "linecolor": "white",
             "minorgridcolor": "white",
             "startlinecolor": "#2a3f5f"
            },
            "type": "carpet"
           }
          ],
          "choropleth": [
           {
            "colorbar": {
             "outlinewidth": 0,
             "ticks": ""
            },
            "type": "choropleth"
           }
          ],
          "contour": [
           {
            "colorbar": {
             "outlinewidth": 0,
             "ticks": ""
            },
            "colorscale": [
             [
              0,
              "#0d0887"
             ],
             [
              0.1111111111111111,
              "#46039f"
             ],
             [
              0.2222222222222222,
              "#7201a8"
             ],
             [
              0.3333333333333333,
              "#9c179e"
             ],
             [
              0.4444444444444444,
              "#bd3786"
             ],
             [
              0.5555555555555556,
              "#d8576b"
             ],
             [
              0.6666666666666666,
              "#ed7953"
             ],
             [
              0.7777777777777778,
              "#fb9f3a"
             ],
             [
              0.8888888888888888,
              "#fdca26"
             ],
             [
              1,
              "#f0f921"
             ]
            ],
            "type": "contour"
           }
          ],
          "contourcarpet": [
           {
            "colorbar": {
             "outlinewidth": 0,
             "ticks": ""
            },
            "type": "contourcarpet"
           }
          ],
          "heatmap": [
           {
            "colorbar": {
             "outlinewidth": 0,
             "ticks": ""
            },
            "colorscale": [
             [
              0,
              "#0d0887"
             ],
             [
              0.1111111111111111,
              "#46039f"
             ],
             [
              0.2222222222222222,
              "#7201a8"
             ],
             [
              0.3333333333333333,
              "#9c179e"
             ],
             [
              0.4444444444444444,
              "#bd3786"
             ],
             [
              0.5555555555555556,
              "#d8576b"
             ],
             [
              0.6666666666666666,
              "#ed7953"
             ],
             [
              0.7777777777777778,
              "#fb9f3a"
             ],
             [
              0.8888888888888888,
              "#fdca26"
             ],
             [
              1,
              "#f0f921"
             ]
            ],
            "type": "heatmap"
           }
          ],
          "heatmapgl": [
           {
            "colorbar": {
             "outlinewidth": 0,
             "ticks": ""
            },
            "colorscale": [
             [
              0,
              "#0d0887"
             ],
             [
              0.1111111111111111,
              "#46039f"
             ],
             [
              0.2222222222222222,
              "#7201a8"
             ],
             [
              0.3333333333333333,
              "#9c179e"
             ],
             [
              0.4444444444444444,
              "#bd3786"
             ],
             [
              0.5555555555555556,
              "#d8576b"
             ],
             [
              0.6666666666666666,
              "#ed7953"
             ],
             [
              0.7777777777777778,
              "#fb9f3a"
             ],
             [
              0.8888888888888888,
              "#fdca26"
             ],
             [
              1,
              "#f0f921"
             ]
            ],
            "type": "heatmapgl"
           }
          ],
          "histogram": [
           {
            "marker": {
             "pattern": {
              "fillmode": "overlay",
              "size": 10,
              "solidity": 0.2
             }
            },
            "type": "histogram"
           }
          ],
          "histogram2d": [
           {
            "colorbar": {
             "outlinewidth": 0,
             "ticks": ""
            },
            "colorscale": [
             [
              0,
              "#0d0887"
             ],
             [
              0.1111111111111111,
              "#46039f"
             ],
             [
              0.2222222222222222,
              "#7201a8"
             ],
             [
              0.3333333333333333,
              "#9c179e"
             ],
             [
              0.4444444444444444,
              "#bd3786"
             ],
             [
              0.5555555555555556,
              "#d8576b"
             ],
             [
              0.6666666666666666,
              "#ed7953"
             ],
             [
              0.7777777777777778,
              "#fb9f3a"
             ],
             [
              0.8888888888888888,
              "#fdca26"
             ],
             [
              1,
              "#f0f921"
             ]
            ],
            "type": "histogram2d"
           }
          ],
          "histogram2dcontour": [
           {
            "colorbar": {
             "outlinewidth": 0,
             "ticks": ""
            },
            "colorscale": [
             [
              0,
              "#0d0887"
             ],
             [
              0.1111111111111111,
              "#46039f"
             ],
             [
              0.2222222222222222,
              "#7201a8"
             ],
             [
              0.3333333333333333,
              "#9c179e"
             ],
             [
              0.4444444444444444,
              "#bd3786"
             ],
             [
              0.5555555555555556,
              "#d8576b"
             ],
             [
              0.6666666666666666,
              "#ed7953"
             ],
             [
              0.7777777777777778,
              "#fb9f3a"
             ],
             [
              0.8888888888888888,
              "#fdca26"
             ],
             [
              1,
              "#f0f921"
             ]
            ],
            "type": "histogram2dcontour"
           }
          ],
          "mesh3d": [
           {
            "colorbar": {
             "outlinewidth": 0,
             "ticks": ""
            },
            "type": "mesh3d"
           }
          ],
          "parcoords": [
           {
            "line": {
             "colorbar": {
              "outlinewidth": 0,
              "ticks": ""
             }
            },
            "type": "parcoords"
           }
          ],
          "pie": [
           {
            "automargin": true,
            "type": "pie"
           }
          ],
          "scatter": [
           {
            "fillpattern": {
             "fillmode": "overlay",
             "size": 10,
             "solidity": 0.2
            },
            "type": "scatter"
           }
          ],
          "scatter3d": [
           {
            "line": {
             "colorbar": {
              "outlinewidth": 0,
              "ticks": ""
             }
            },
            "marker": {
             "colorbar": {
              "outlinewidth": 0,
              "ticks": ""
             }
            },
            "type": "scatter3d"
           }
          ],
          "scattercarpet": [
           {
            "marker": {
             "colorbar": {
              "outlinewidth": 0,
              "ticks": ""
             }
            },
            "type": "scattercarpet"
           }
          ],
          "scattergeo": [
           {
            "marker": {
             "colorbar": {
              "outlinewidth": 0,
              "ticks": ""
             }
            },
            "type": "scattergeo"
           }
          ],
          "scattergl": [
           {
            "marker": {
             "colorbar": {
              "outlinewidth": 0,
              "ticks": ""
             }
            },
            "type": "scattergl"
           }
          ],
          "scattermapbox": [
           {
            "marker": {
             "colorbar": {
              "outlinewidth": 0,
              "ticks": ""
             }
            },
            "type": "scattermapbox"
           }
          ],
          "scatterpolar": [
           {
            "marker": {
             "colorbar": {
              "outlinewidth": 0,
              "ticks": ""
             }
            },
            "type": "scatterpolar"
           }
          ],
          "scatterpolargl": [
           {
            "marker": {
             "colorbar": {
              "outlinewidth": 0,
              "ticks": ""
             }
            },
            "type": "scatterpolargl"
           }
          ],
          "scatterternary": [
           {
            "marker": {
             "colorbar": {
              "outlinewidth": 0,
              "ticks": ""
             }
            },
            "type": "scatterternary"
           }
          ],
          "surface": [
           {
            "colorbar": {
             "outlinewidth": 0,
             "ticks": ""
            },
            "colorscale": [
             [
              0,
              "#0d0887"
             ],
             [
              0.1111111111111111,
              "#46039f"
             ],
             [
              0.2222222222222222,
              "#7201a8"
             ],
             [
              0.3333333333333333,
              "#9c179e"
             ],
             [
              0.4444444444444444,
              "#bd3786"
             ],
             [
              0.5555555555555556,
              "#d8576b"
             ],
             [
              0.6666666666666666,
              "#ed7953"
             ],
             [
              0.7777777777777778,
              "#fb9f3a"
             ],
             [
              0.8888888888888888,
              "#fdca26"
             ],
             [
              1,
              "#f0f921"
             ]
            ],
            "type": "surface"
           }
          ],
          "table": [
           {
            "cells": {
             "fill": {
              "color": "#EBF0F8"
             },
             "line": {
              "color": "white"
             }
            },
            "header": {
             "fill": {
              "color": "#C8D4E3"
             },
             "line": {
              "color": "white"
             }
            },
            "type": "table"
           }
          ]
         },
         "layout": {
          "annotationdefaults": {
           "arrowcolor": "#2a3f5f",
           "arrowhead": 0,
           "arrowwidth": 1
          },
          "autotypenumbers": "strict",
          "coloraxis": {
           "colorbar": {
            "outlinewidth": 0,
            "ticks": ""
           }
          },
          "colorscale": {
           "diverging": [
            [
             0,
             "#8e0152"
            ],
            [
             0.1,
             "#c51b7d"
            ],
            [
             0.2,
             "#de77ae"
            ],
            [
             0.3,
             "#f1b6da"
            ],
            [
             0.4,
             "#fde0ef"
            ],
            [
             0.5,
             "#f7f7f7"
            ],
            [
             0.6,
             "#e6f5d0"
            ],
            [
             0.7,
             "#b8e186"
            ],
            [
             0.8,
             "#7fbc41"
            ],
            [
             0.9,
             "#4d9221"
            ],
            [
             1,
             "#276419"
            ]
           ],
           "sequential": [
            [
             0,
             "#0d0887"
            ],
            [
             0.1111111111111111,
             "#46039f"
            ],
            [
             0.2222222222222222,
             "#7201a8"
            ],
            [
             0.3333333333333333,
             "#9c179e"
            ],
            [
             0.4444444444444444,
             "#bd3786"
            ],
            [
             0.5555555555555556,
             "#d8576b"
            ],
            [
             0.6666666666666666,
             "#ed7953"
            ],
            [
             0.7777777777777778,
             "#fb9f3a"
            ],
            [
             0.8888888888888888,
             "#fdca26"
            ],
            [
             1,
             "#f0f921"
            ]
           ],
           "sequentialminus": [
            [
             0,
             "#0d0887"
            ],
            [
             0.1111111111111111,
             "#46039f"
            ],
            [
             0.2222222222222222,
             "#7201a8"
            ],
            [
             0.3333333333333333,
             "#9c179e"
            ],
            [
             0.4444444444444444,
             "#bd3786"
            ],
            [
             0.5555555555555556,
             "#d8576b"
            ],
            [
             0.6666666666666666,
             "#ed7953"
            ],
            [
             0.7777777777777778,
             "#fb9f3a"
            ],
            [
             0.8888888888888888,
             "#fdca26"
            ],
            [
             1,
             "#f0f921"
            ]
           ]
          },
          "colorway": [
           "#636efa",
           "#EF553B",
           "#00cc96",
           "#ab63fa",
           "#FFA15A",
           "#19d3f3",
           "#FF6692",
           "#B6E880",
           "#FF97FF",
           "#FECB52"
          ],
          "font": {
           "color": "#2a3f5f"
          },
          "geo": {
           "bgcolor": "white",
           "lakecolor": "white",
           "landcolor": "#E5ECF6",
           "showlakes": true,
           "showland": true,
           "subunitcolor": "white"
          },
          "hoverlabel": {
           "align": "left"
          },
          "hovermode": "closest",
          "mapbox": {
           "style": "light"
          },
          "paper_bgcolor": "white",
          "plot_bgcolor": "#E5ECF6",
          "polar": {
           "angularaxis": {
            "gridcolor": "white",
            "linecolor": "white",
            "ticks": ""
           },
           "bgcolor": "#E5ECF6",
           "radialaxis": {
            "gridcolor": "white",
            "linecolor": "white",
            "ticks": ""
           }
          },
          "scene": {
           "xaxis": {
            "backgroundcolor": "#E5ECF6",
            "gridcolor": "white",
            "gridwidth": 2,
            "linecolor": "white",
            "showbackground": true,
            "ticks": "",
            "zerolinecolor": "white"
           },
           "yaxis": {
            "backgroundcolor": "#E5ECF6",
            "gridcolor": "white",
            "gridwidth": 2,
            "linecolor": "white",
            "showbackground": true,
            "ticks": "",
            "zerolinecolor": "white"
           },
           "zaxis": {
            "backgroundcolor": "#E5ECF6",
            "gridcolor": "white",
            "gridwidth": 2,
            "linecolor": "white",
            "showbackground": true,
            "ticks": "",
            "zerolinecolor": "white"
           }
          },
          "shapedefaults": {
           "line": {
            "color": "#2a3f5f"
           }
          },
          "ternary": {
           "aaxis": {
            "gridcolor": "white",
            "linecolor": "white",
            "ticks": ""
           },
           "baxis": {
            "gridcolor": "white",
            "linecolor": "white",
            "ticks": ""
           },
           "bgcolor": "#E5ECF6",
           "caxis": {
            "gridcolor": "white",
            "linecolor": "white",
            "ticks": ""
           }
          },
          "title": {
           "x": 0.05
          },
          "xaxis": {
           "automargin": true,
           "gridcolor": "white",
           "linecolor": "white",
           "ticks": "",
           "title": {
            "standoff": 15
           },
           "zerolinecolor": "white",
           "zerolinewidth": 2
          },
          "yaxis": {
           "automargin": true,
           "gridcolor": "white",
           "linecolor": "white",
           "ticks": "",
           "title": {
            "standoff": 15
           },
           "zerolinecolor": "white",
           "zerolinewidth": 2
          }
         }
        },
        "title": {
         "text": "UMAP Visualization of Gene Expression Embeddings",
         "x": 0.5,
         "xanchor": "center",
         "y": 0.95,
         "yanchor": "top"
        },
        "xaxis": {
         "anchor": "y",
         "domain": [
          0,
          1
         ],
         "title": {
          "text": "UMAP1"
         }
        },
        "yaxis": {
         "anchor": "x",
         "domain": [
          0,
          1
         ],
         "title": {
          "text": "UMAP2"
         }
        }
       }
      }
     },
     "metadata": {},
     "output_type": "display_data"
    }
   ],
   "source": [
    "from sklearn.decomposition import PCA\n",
    "import umap\n",
    "import matplotlib.pyplot as plt\n",
    "\n",
    "# Convert all column names to strings before applying PCA\n",
    "# features_24_weeks_df.columns = features_24_weeks_df.columns.astype(str)\n",
    "\n",
    "# Now run PCA\n",
    "# pca = PCA(n_components=50)\n",
    "# pca_embeddings = pca.fit_transform(features_24_weeks_df.drop(columns=['drug dose', 'external_id', 'ifn status', \"subject sex\", \"subject age\", \"subject_id\"]))\n",
    "# Then apply UMAP to the PCA results\n",
    "reducer = umap.UMAP(random_state=42)\n",
    "umap_embeddings = reducer.fit_transform(feature_df.drop(columns=['subject', 'age', 'ethnicity', 'race', 'sex', 'lymphocyte percent', 'neutrophil percent', 'visit day', 'rate of c-peptide change']))\n",
    "\n",
    "# Create a DataFrame with the UMAP coordinates using the original DataFrame's index\n",
    "umap_df = pd.DataFrame(umap_embeddings, \n",
    "                      columns=['UMAP1', 'UMAP2'], \n",
    "                      index=feature_df.index)  # Use the original DataFrame's index\n",
    "\n",
    "# Merge with sample attributes to get metadata for coloring\n",
    "umap_df = umap_df.merge(feature_df[['sex', 'age']], \n",
    "                       left_index=True, \n",
    "                       right_index=True)\n",
    "# Create the plot\n",
    "fig = px.scatter(umap_df, x='UMAP1', y='UMAP2', color='age', opacity=0.7,\n",
    "                 title='UMAP Visualization of Gene Expression Embeddings')\n",
    "\n",
    "# Update layout\n",
    "fig.update_layout(\n",
    "    title={\n",
    "        'y':0.95,\n",
    "        'x':0.5,\n",
    "        'xanchor': 'center',\n",
    "        'yanchor': 'top'\n",
    "    }\n",
    ")\n",
    "\n",
    "fig.show()"
   ]
  },
  {
   "cell_type": "code",
   "execution_count": 26,
   "metadata": {},
   "outputs": [
    {
     "name": "stdout",
     "output_type": "stream",
     "text": [
      "Shape of embedding features indicator: (3080,)\n",
      "Shape of filtered features matrix: (492, 3080)\n"
     ]
    }
   ],
   "source": [
    "X = feature_df.copy()\n",
    "X.columns = X.columns.astype(str)\n",
    "y = X['age']\n",
    "X.drop(columns=['age'], inplace=True)\n",
    "embedding_features_indicator = pd.Series([isinstance(x, int) for x in X.columns])\n",
    "\n",
    "print(\"Shape of embedding features indicator:\", embedding_features_indicator.shape)\n",
    "print(\"Shape of filtered features matrix:\", X.shape)\n"
   ]
  },
  {
   "cell_type": "code",
   "execution_count": 27,
   "metadata": {},
   "outputs": [],
   "source": [
    "def balanced_bootstrap_sample(X, y, n_per_age=None):\n",
    "    \"\"\"\n",
    "    Create a balanced bootstrap sample weighted by inverse age prevalence\n",
    "    \n",
    "    Args:\n",
    "        X: Features dataframe\n",
    "        y: Target age values\n",
    "        n_per_age: Optional number of samples per age group. If not specified,\n",
    "                  will use total samples divided by number of age groups.\n",
    "        \n",
    "    Returns:\n",
    "        X_resampled, y_resampled: Resampled features and targets with balanced age distribution\n",
    "    \"\"\"\n",
    "    # Get unique ages and their counts\n",
    "    age_counts = y.value_counts()\n",
    "    \n",
    "    # Calculate default n_per_age if not specified\n",
    "    if n_per_age is None:\n",
    "        n_per_age = age_counts.max()\n",
    "        \n",
    "    resampled_indices = []\n",
    "    \n",
    "    # Sample indices for each age group\n",
    "    for age in age_counts.index:\n",
    "        # Get indices for this age\n",
    "        age_indices = y[y == age].index\n",
    "        \n",
    "        # Sample with replacement to get n_per_age samples\n",
    "        sampled_indices = np.random.choice(age_indices, size=n_per_age, replace=True)\n",
    "        resampled_indices.extend(sampled_indices)\n",
    "    \n",
    "    # Get resampled data using indices\n",
    "    X_resampled = X.loc[resampled_indices].copy()\n",
    "    y_resampled = y.loc[resampled_indices].copy()\n",
    "    \n",
    "    return X_resampled, y_resampled\n",
    "\n",
    "# # Create balanced dataset\n",
    "# X_balanced, y_balanced = balanced_bootstrap_sample(X, y, X.SUBJID)\n",
    "\n",
    "# print(\"Original age distribution:\")\n",
    "# print(y.value_counts().sort_index())\n",
    "# print(\"\\nBalanced age distribution:\")\n",
    "# print(y_balanced.value_counts().sort_index())\n"
   ]
  },
  {
   "cell_type": "code",
   "execution_count": 30,
   "metadata": {},
   "outputs": [
    {
     "name": "stdout",
     "output_type": "stream",
     "text": [
      "[LightGBM] [Warning] Found whitespace in feature_names, replace with underlines\n",
      "[LightGBM] [Info] Auto-choosing col-wise multi-threading, the overhead of testing was 0.015334 seconds.\n",
      "You can set `force_col_wise=true` to remove the overhead.\n",
      "[LightGBM] [Info] Total Bins 405792\n",
      "[LightGBM] [Info] Number of data points in the train set: 393, number of used features: 3079\n",
      "[LightGBM] [Info] Start training from score 18.395674\n",
      "[LightGBM] [Warning] No further splits with positive gain, best gain: -inf\n",
      "[LightGBM] [Warning] No further splits with positive gain, best gain: -inf\n",
      "[LightGBM] [Warning] No further splits with positive gain, best gain: -inf\n",
      "[LightGBM] [Warning] No further splits with positive gain, best gain: -inf\n",
      "[LightGBM] [Warning] No further splits with positive gain, best gain: -inf\n",
      "[LightGBM] [Warning] No further splits with positive gain, best gain: -inf\n",
      "[LightGBM] [Warning] No further splits with positive gain, best gain: -inf\n",
      "[LightGBM] [Warning] No further splits with positive gain, best gain: -inf\n",
      "[LightGBM] [Warning] No further splits with positive gain, best gain: -inf\n",
      "[LightGBM] [Warning] No further splits with positive gain, best gain: -inf\n",
      "[LightGBM] [Warning] No further splits with positive gain, best gain: -inf\n",
      "[LightGBM] [Warning] No further splits with positive gain, best gain: -inf\n",
      "[LightGBM] [Warning] No further splits with positive gain, best gain: -inf\n",
      "[LightGBM] [Warning] No further splits with positive gain, best gain: -inf\n",
      "[LightGBM] [Warning] No further splits with positive gain, best gain: -inf\n",
      "[LightGBM] [Warning] No further splits with positive gain, best gain: -inf\n",
      "[LightGBM] [Warning] No further splits with positive gain, best gain: -inf\n",
      "[LightGBM] [Warning] No further splits with positive gain, best gain: -inf\n",
      "[LightGBM] [Warning] No further splits with positive gain, best gain: -inf\n",
      "[LightGBM] [Warning] No further splits with positive gain, best gain: -inf\n",
      "[LightGBM] [Warning] No further splits with positive gain, best gain: -inf\n",
      "[LightGBM] [Warning] No further splits with positive gain, best gain: -inf\n",
      "[LightGBM] [Warning] No further splits with positive gain, best gain: -inf\n",
      "[LightGBM] [Warning] No further splits with positive gain, best gain: -inf\n",
      "[LightGBM] [Warning] No further splits with positive gain, best gain: -inf\n",
      "[LightGBM] [Warning] No further splits with positive gain, best gain: -inf\n",
      "[LightGBM] [Warning] No further splits with positive gain, best gain: -inf\n",
      "[LightGBM] [Warning] No further splits with positive gain, best gain: -inf\n",
      "[LightGBM] [Warning] No further splits with positive gain, best gain: -inf\n",
      "[LightGBM] [Warning] No further splits with positive gain, best gain: -inf\n",
      "[LightGBM] [Warning] No further splits with positive gain, best gain: -inf\n",
      "[LightGBM] [Warning] No further splits with positive gain, best gain: -inf\n",
      "[LightGBM] [Warning] No further splits with positive gain, best gain: -inf\n",
      "[LightGBM] [Warning] No further splits with positive gain, best gain: -inf\n",
      "[LightGBM] [Warning] No further splits with positive gain, best gain: -inf\n",
      "[LightGBM] [Warning] No further splits with positive gain, best gain: -inf\n",
      "[LightGBM] [Warning] No further splits with positive gain, best gain: -inf\n",
      "[LightGBM] [Warning] No further splits with positive gain, best gain: -inf\n",
      "[LightGBM] [Warning] No further splits with positive gain, best gain: -inf\n",
      "[LightGBM] [Warning] No further splits with positive gain, best gain: -inf\n",
      "[LightGBM] [Warning] No further splits with positive gain, best gain: -inf\n",
      "[LightGBM] [Warning] No further splits with positive gain, best gain: -inf\n",
      "[LightGBM] [Warning] No further splits with positive gain, best gain: -inf\n",
      "[LightGBM] [Warning] No further splits with positive gain, best gain: -inf\n",
      "[LightGBM] [Warning] No further splits with positive gain, best gain: -inf\n",
      "[LightGBM] [Warning] No further splits with positive gain, best gain: -inf\n",
      "[LightGBM] [Warning] No further splits with positive gain, best gain: -inf\n",
      "[LightGBM] [Warning] No further splits with positive gain, best gain: -inf\n",
      "[LightGBM] [Warning] No further splits with positive gain, best gain: -inf\n",
      "[LightGBM] [Warning] No further splits with positive gain, best gain: -inf\n",
      "[LightGBM] [Warning] No further splits with positive gain, best gain: -inf\n",
      "[LightGBM] [Warning] No further splits with positive gain, best gain: -inf\n",
      "[LightGBM] [Warning] No further splits with positive gain, best gain: -inf\n",
      "[LightGBM] [Warning] No further splits with positive gain, best gain: -inf\n",
      "[LightGBM] [Warning] No further splits with positive gain, best gain: -inf\n",
      "[LightGBM] [Warning] No further splits with positive gain, best gain: -inf\n",
      "[LightGBM] [Warning] No further splits with positive gain, best gain: -inf\n",
      "[LightGBM] [Warning] No further splits with positive gain, best gain: -inf\n",
      "[LightGBM] [Warning] No further splits with positive gain, best gain: -inf\n",
      "[LightGBM] [Warning] No further splits with positive gain, best gain: -inf\n",
      "[LightGBM] [Warning] No further splits with positive gain, best gain: -inf\n",
      "[LightGBM] [Warning] No further splits with positive gain, best gain: -inf\n",
      "[LightGBM] [Warning] No further splits with positive gain, best gain: -inf\n",
      "[LightGBM] [Warning] No further splits with positive gain, best gain: -inf\n",
      "[LightGBM] [Warning] No further splits with positive gain, best gain: -inf\n",
      "[LightGBM] [Warning] No further splits with positive gain, best gain: -inf\n",
      "[LightGBM] [Warning] No further splits with positive gain, best gain: -inf\n",
      "[LightGBM] [Warning] No further splits with positive gain, best gain: -inf\n",
      "[LightGBM] [Warning] No further splits with positive gain, best gain: -inf\n",
      "[LightGBM] [Warning] No further splits with positive gain, best gain: -inf\n",
      "[LightGBM] [Warning] No further splits with positive gain, best gain: -inf\n",
      "[LightGBM] [Warning] No further splits with positive gain, best gain: -inf\n",
      "[LightGBM] [Warning] No further splits with positive gain, best gain: -inf\n",
      "[LightGBM] [Warning] No further splits with positive gain, best gain: -inf\n",
      "[LightGBM] [Warning] No further splits with positive gain, best gain: -inf\n",
      "[LightGBM] [Warning] No further splits with positive gain, best gain: -inf\n",
      "[LightGBM] [Warning] No further splits with positive gain, best gain: -inf\n",
      "[LightGBM] [Warning] No further splits with positive gain, best gain: -inf\n",
      "[LightGBM] [Warning] No further splits with positive gain, best gain: -inf\n",
      "[LightGBM] [Warning] No further splits with positive gain, best gain: -inf\n",
      "[LightGBM] [Warning] No further splits with positive gain, best gain: -inf\n",
      "[LightGBM] [Warning] No further splits with positive gain, best gain: -inf\n",
      "[LightGBM] [Warning] No further splits with positive gain, best gain: -inf\n",
      "[LightGBM] [Warning] No further splits with positive gain, best gain: -inf\n",
      "[LightGBM] [Warning] No further splits with positive gain, best gain: -inf\n",
      "[LightGBM] [Warning] No further splits with positive gain, best gain: -inf\n",
      "[LightGBM] [Warning] No further splits with positive gain, best gain: -inf\n",
      "[LightGBM] [Warning] No further splits with positive gain, best gain: -inf\n",
      "[LightGBM] [Warning] No further splits with positive gain, best gain: -inf\n",
      "[LightGBM] [Warning] No further splits with positive gain, best gain: -inf\n",
      "[LightGBM] [Warning] No further splits with positive gain, best gain: -inf\n",
      "[LightGBM] [Warning] No further splits with positive gain, best gain: -inf\n",
      "[LightGBM] [Warning] No further splits with positive gain, best gain: -inf\n",
      "[LightGBM] [Warning] No further splits with positive gain, best gain: -inf\n",
      "[LightGBM] [Warning] No further splits with positive gain, best gain: -inf\n",
      "[LightGBM] [Warning] No further splits with positive gain, best gain: -inf\n",
      "[LightGBM] [Warning] No further splits with positive gain, best gain: -inf\n",
      "[LightGBM] [Warning] No further splits with positive gain, best gain: -inf\n",
      "[LightGBM] [Warning] No further splits with positive gain, best gain: -inf\n",
      "[LightGBM] [Warning] No further splits with positive gain, best gain: -inf\n",
      "[LightGBM] [Warning] Found whitespace in feature_names, replace with underlines\n",
      "[LightGBM] [Info] Auto-choosing col-wise multi-threading, the overhead of testing was 0.015403 seconds.\n",
      "You can set `force_col_wise=true` to remove the overhead.\n",
      "[LightGBM] [Info] Total Bins 405810\n",
      "[LightGBM] [Info] Number of data points in the train set: 393, number of used features: 3079\n",
      "[LightGBM] [Info] Start training from score 17.884987\n",
      "[LightGBM] [Warning] No further splits with positive gain, best gain: -inf\n",
      "[LightGBM] [Warning] No further splits with positive gain, best gain: -inf\n",
      "[LightGBM] [Warning] No further splits with positive gain, best gain: -inf\n",
      "[LightGBM] [Warning] No further splits with positive gain, best gain: -inf\n",
      "[LightGBM] [Warning] No further splits with positive gain, best gain: -inf\n",
      "[LightGBM] [Warning] No further splits with positive gain, best gain: -inf\n",
      "[LightGBM] [Warning] No further splits with positive gain, best gain: -inf\n",
      "[LightGBM] [Warning] No further splits with positive gain, best gain: -inf\n",
      "[LightGBM] [Warning] No further splits with positive gain, best gain: -inf\n",
      "[LightGBM] [Warning] No further splits with positive gain, best gain: -inf\n",
      "[LightGBM] [Warning] No further splits with positive gain, best gain: -inf\n",
      "[LightGBM] [Warning] No further splits with positive gain, best gain: -inf\n",
      "[LightGBM] [Warning] No further splits with positive gain, best gain: -inf\n",
      "[LightGBM] [Warning] No further splits with positive gain, best gain: -inf\n",
      "[LightGBM] [Warning] No further splits with positive gain, best gain: -inf\n",
      "[LightGBM] [Warning] No further splits with positive gain, best gain: -inf\n",
      "[LightGBM] [Warning] No further splits with positive gain, best gain: -inf\n",
      "[LightGBM] [Warning] No further splits with positive gain, best gain: -inf\n",
      "[LightGBM] [Warning] No further splits with positive gain, best gain: -inf\n",
      "[LightGBM] [Warning] No further splits with positive gain, best gain: -inf\n",
      "[LightGBM] [Warning] No further splits with positive gain, best gain: -inf\n",
      "[LightGBM] [Warning] No further splits with positive gain, best gain: -inf\n",
      "[LightGBM] [Warning] No further splits with positive gain, best gain: -inf\n",
      "[LightGBM] [Warning] No further splits with positive gain, best gain: -inf\n",
      "[LightGBM] [Warning] No further splits with positive gain, best gain: -inf\n",
      "[LightGBM] [Warning] No further splits with positive gain, best gain: -inf\n",
      "[LightGBM] [Warning] No further splits with positive gain, best gain: -inf\n",
      "[LightGBM] [Warning] No further splits with positive gain, best gain: -inf\n",
      "[LightGBM] [Warning] No further splits with positive gain, best gain: -inf\n",
      "[LightGBM] [Warning] No further splits with positive gain, best gain: -inf\n",
      "[LightGBM] [Warning] No further splits with positive gain, best gain: -inf\n",
      "[LightGBM] [Warning] No further splits with positive gain, best gain: -inf\n",
      "[LightGBM] [Warning] No further splits with positive gain, best gain: -inf\n",
      "[LightGBM] [Warning] No further splits with positive gain, best gain: -inf\n",
      "[LightGBM] [Warning] No further splits with positive gain, best gain: -inf\n",
      "[LightGBM] [Warning] No further splits with positive gain, best gain: -inf\n",
      "[LightGBM] [Warning] No further splits with positive gain, best gain: -inf\n",
      "[LightGBM] [Warning] No further splits with positive gain, best gain: -inf\n",
      "[LightGBM] [Warning] No further splits with positive gain, best gain: -inf\n",
      "[LightGBM] [Warning] No further splits with positive gain, best gain: -inf\n",
      "[LightGBM] [Warning] No further splits with positive gain, best gain: -inf\n",
      "[LightGBM] [Warning] No further splits with positive gain, best gain: -inf\n",
      "[LightGBM] [Warning] No further splits with positive gain, best gain: -inf\n",
      "[LightGBM] [Warning] No further splits with positive gain, best gain: -inf\n",
      "[LightGBM] [Warning] No further splits with positive gain, best gain: -inf\n",
      "[LightGBM] [Warning] No further splits with positive gain, best gain: -inf\n",
      "[LightGBM] [Warning] No further splits with positive gain, best gain: -inf\n",
      "[LightGBM] [Warning] No further splits with positive gain, best gain: -inf\n",
      "[LightGBM] [Warning] No further splits with positive gain, best gain: -inf\n",
      "[LightGBM] [Warning] No further splits with positive gain, best gain: -inf\n",
      "[LightGBM] [Warning] No further splits with positive gain, best gain: -inf\n",
      "[LightGBM] [Warning] No further splits with positive gain, best gain: -inf\n",
      "[LightGBM] [Warning] No further splits with positive gain, best gain: -inf\n",
      "[LightGBM] [Warning] No further splits with positive gain, best gain: -inf\n",
      "[LightGBM] [Warning] No further splits with positive gain, best gain: -inf\n",
      "[LightGBM] [Warning] No further splits with positive gain, best gain: -inf\n",
      "[LightGBM] [Warning] No further splits with positive gain, best gain: -inf\n",
      "[LightGBM] [Warning] No further splits with positive gain, best gain: -inf\n",
      "[LightGBM] [Warning] No further splits with positive gain, best gain: -inf\n",
      "[LightGBM] [Warning] No further splits with positive gain, best gain: -inf\n",
      "[LightGBM] [Warning] No further splits with positive gain, best gain: -inf\n",
      "[LightGBM] [Warning] No further splits with positive gain, best gain: -inf\n",
      "[LightGBM] [Warning] No further splits with positive gain, best gain: -inf\n",
      "[LightGBM] [Warning] No further splits with positive gain, best gain: -inf\n",
      "[LightGBM] [Warning] No further splits with positive gain, best gain: -inf\n",
      "[LightGBM] [Warning] No further splits with positive gain, best gain: -inf\n",
      "[LightGBM] [Warning] No further splits with positive gain, best gain: -inf\n",
      "[LightGBM] [Warning] No further splits with positive gain, best gain: -inf\n",
      "[LightGBM] [Warning] No further splits with positive gain, best gain: -inf\n",
      "[LightGBM] [Warning] No further splits with positive gain, best gain: -inf\n",
      "[LightGBM] [Warning] No further splits with positive gain, best gain: -inf\n",
      "[LightGBM] [Warning] No further splits with positive gain, best gain: -inf\n",
      "[LightGBM] [Warning] No further splits with positive gain, best gain: -inf\n",
      "[LightGBM] [Warning] No further splits with positive gain, best gain: -inf\n",
      "[LightGBM] [Warning] No further splits with positive gain, best gain: -inf\n",
      "[LightGBM] [Warning] No further splits with positive gain, best gain: -inf\n",
      "[LightGBM] [Warning] No further splits with positive gain, best gain: -inf\n",
      "[LightGBM] [Warning] No further splits with positive gain, best gain: -inf\n",
      "[LightGBM] [Warning] No further splits with positive gain, best gain: -inf\n",
      "[LightGBM] [Warning] No further splits with positive gain, best gain: -inf\n",
      "[LightGBM] [Warning] No further splits with positive gain, best gain: -inf\n",
      "[LightGBM] [Warning] No further splits with positive gain, best gain: -inf\n",
      "[LightGBM] [Warning] No further splits with positive gain, best gain: -inf\n",
      "[LightGBM] [Warning] No further splits with positive gain, best gain: -inf\n",
      "[LightGBM] [Warning] No further splits with positive gain, best gain: -inf\n",
      "[LightGBM] [Warning] No further splits with positive gain, best gain: -inf\n",
      "[LightGBM] [Warning] No further splits with positive gain, best gain: -inf\n",
      "[LightGBM] [Warning] No further splits with positive gain, best gain: -inf\n",
      "[LightGBM] [Warning] No further splits with positive gain, best gain: -inf\n",
      "[LightGBM] [Warning] No further splits with positive gain, best gain: -inf\n",
      "[LightGBM] [Warning] No further splits with positive gain, best gain: -inf\n",
      "[LightGBM] [Warning] No further splits with positive gain, best gain: -inf\n",
      "[LightGBM] [Warning] No further splits with positive gain, best gain: -inf\n",
      "[LightGBM] [Warning] No further splits with positive gain, best gain: -inf\n",
      "[LightGBM] [Warning] No further splits with positive gain, best gain: -inf\n",
      "[LightGBM] [Warning] No further splits with positive gain, best gain: -inf\n",
      "[LightGBM] [Warning] No further splits with positive gain, best gain: -inf\n",
      "[LightGBM] [Warning] No further splits with positive gain, best gain: -inf\n",
      "[LightGBM] [Warning] No further splits with positive gain, best gain: -inf\n",
      "[LightGBM] [Warning] No further splits with positive gain, best gain: -inf\n",
      "[LightGBM] [Warning] Found whitespace in feature_names, replace with underlines\n",
      "[LightGBM] [Info] Auto-choosing col-wise multi-threading, the overhead of testing was 0.011345 seconds.\n",
      "You can set `force_col_wise=true` to remove the overhead.\n",
      "[LightGBM] [Info] Total Bins 405916\n",
      "[LightGBM] [Info] Number of data points in the train set: 394, number of used features: 3079\n",
      "[LightGBM] [Info] Start training from score 18.639086\n",
      "[LightGBM] [Warning] No further splits with positive gain, best gain: -inf\n",
      "[LightGBM] [Warning] No further splits with positive gain, best gain: -inf\n",
      "[LightGBM] [Warning] No further splits with positive gain, best gain: -inf\n",
      "[LightGBM] [Warning] No further splits with positive gain, best gain: -inf\n",
      "[LightGBM] [Warning] No further splits with positive gain, best gain: -inf\n",
      "[LightGBM] [Warning] No further splits with positive gain, best gain: -inf\n",
      "[LightGBM] [Warning] No further splits with positive gain, best gain: -inf\n",
      "[LightGBM] [Warning] No further splits with positive gain, best gain: -inf\n",
      "[LightGBM] [Warning] No further splits with positive gain, best gain: -inf\n",
      "[LightGBM] [Warning] No further splits with positive gain, best gain: -inf\n",
      "[LightGBM] [Warning] No further splits with positive gain, best gain: -inf\n",
      "[LightGBM] [Warning] No further splits with positive gain, best gain: -inf\n",
      "[LightGBM] [Warning] No further splits with positive gain, best gain: -inf\n",
      "[LightGBM] [Warning] No further splits with positive gain, best gain: -inf\n",
      "[LightGBM] [Warning] No further splits with positive gain, best gain: -inf\n",
      "[LightGBM] [Warning] No further splits with positive gain, best gain: -inf\n",
      "[LightGBM] [Warning] No further splits with positive gain, best gain: -inf\n",
      "[LightGBM] [Warning] No further splits with positive gain, best gain: -inf\n",
      "[LightGBM] [Warning] No further splits with positive gain, best gain: -inf\n",
      "[LightGBM] [Warning] No further splits with positive gain, best gain: -inf\n",
      "[LightGBM] [Warning] No further splits with positive gain, best gain: -inf\n",
      "[LightGBM] [Warning] No further splits with positive gain, best gain: -inf\n",
      "[LightGBM] [Warning] No further splits with positive gain, best gain: -inf\n",
      "[LightGBM] [Warning] No further splits with positive gain, best gain: -inf\n",
      "[LightGBM] [Warning] No further splits with positive gain, best gain: -inf\n",
      "[LightGBM] [Warning] No further splits with positive gain, best gain: -inf\n",
      "[LightGBM] [Warning] No further splits with positive gain, best gain: -inf\n",
      "[LightGBM] [Warning] No further splits with positive gain, best gain: -inf\n",
      "[LightGBM] [Warning] No further splits with positive gain, best gain: -inf\n",
      "[LightGBM] [Warning] No further splits with positive gain, best gain: -inf\n",
      "[LightGBM] [Warning] No further splits with positive gain, best gain: -inf\n",
      "[LightGBM] [Warning] No further splits with positive gain, best gain: -inf\n",
      "[LightGBM] [Warning] No further splits with positive gain, best gain: -inf\n",
      "[LightGBM] [Warning] No further splits with positive gain, best gain: -inf\n",
      "[LightGBM] [Warning] No further splits with positive gain, best gain: -inf\n",
      "[LightGBM] [Warning] No further splits with positive gain, best gain: -inf\n",
      "[LightGBM] [Warning] No further splits with positive gain, best gain: -inf\n",
      "[LightGBM] [Warning] No further splits with positive gain, best gain: -inf\n",
      "[LightGBM] [Warning] No further splits with positive gain, best gain: -inf\n",
      "[LightGBM] [Warning] No further splits with positive gain, best gain: -inf\n",
      "[LightGBM] [Warning] No further splits with positive gain, best gain: -inf\n",
      "[LightGBM] [Warning] No further splits with positive gain, best gain: -inf\n",
      "[LightGBM] [Warning] No further splits with positive gain, best gain: -inf\n",
      "[LightGBM] [Warning] No further splits with positive gain, best gain: -inf\n",
      "[LightGBM] [Warning] No further splits with positive gain, best gain: -inf\n",
      "[LightGBM] [Warning] No further splits with positive gain, best gain: -inf\n",
      "[LightGBM] [Warning] No further splits with positive gain, best gain: -inf\n",
      "[LightGBM] [Warning] No further splits with positive gain, best gain: -inf\n",
      "[LightGBM] [Warning] No further splits with positive gain, best gain: -inf\n",
      "[LightGBM] [Warning] No further splits with positive gain, best gain: -inf\n",
      "[LightGBM] [Warning] No further splits with positive gain, best gain: -inf\n",
      "[LightGBM] [Warning] No further splits with positive gain, best gain: -inf\n",
      "[LightGBM] [Warning] No further splits with positive gain, best gain: -inf\n",
      "[LightGBM] [Warning] No further splits with positive gain, best gain: -inf\n",
      "[LightGBM] [Warning] No further splits with positive gain, best gain: -inf\n",
      "[LightGBM] [Warning] No further splits with positive gain, best gain: -inf\n",
      "[LightGBM] [Warning] No further splits with positive gain, best gain: -inf\n",
      "[LightGBM] [Warning] No further splits with positive gain, best gain: -inf\n",
      "[LightGBM] [Warning] No further splits with positive gain, best gain: -inf\n",
      "[LightGBM] [Warning] No further splits with positive gain, best gain: -inf\n",
      "[LightGBM] [Warning] No further splits with positive gain, best gain: -inf\n",
      "[LightGBM] [Warning] No further splits with positive gain, best gain: -inf\n",
      "[LightGBM] [Warning] No further splits with positive gain, best gain: -inf\n",
      "[LightGBM] [Warning] No further splits with positive gain, best gain: -inf\n",
      "[LightGBM] [Warning] No further splits with positive gain, best gain: -inf\n",
      "[LightGBM] [Warning] No further splits with positive gain, best gain: -inf\n",
      "[LightGBM] [Warning] No further splits with positive gain, best gain: -inf\n",
      "[LightGBM] [Warning] No further splits with positive gain, best gain: -inf\n",
      "[LightGBM] [Warning] No further splits with positive gain, best gain: -inf\n",
      "[LightGBM] [Warning] No further splits with positive gain, best gain: -inf\n",
      "[LightGBM] [Warning] No further splits with positive gain, best gain: -inf\n",
      "[LightGBM] [Warning] No further splits with positive gain, best gain: -inf\n",
      "[LightGBM] [Warning] No further splits with positive gain, best gain: -inf\n",
      "[LightGBM] [Warning] No further splits with positive gain, best gain: -inf\n",
      "[LightGBM] [Warning] No further splits with positive gain, best gain: -inf\n",
      "[LightGBM] [Warning] No further splits with positive gain, best gain: -inf\n",
      "[LightGBM] [Warning] No further splits with positive gain, best gain: -inf\n",
      "[LightGBM] [Warning] No further splits with positive gain, best gain: -inf\n",
      "[LightGBM] [Warning] No further splits with positive gain, best gain: -inf\n",
      "[LightGBM] [Warning] No further splits with positive gain, best gain: -inf\n",
      "[LightGBM] [Warning] No further splits with positive gain, best gain: -inf\n",
      "[LightGBM] [Warning] No further splits with positive gain, best gain: -inf\n",
      "[LightGBM] [Warning] No further splits with positive gain, best gain: -inf\n",
      "[LightGBM] [Warning] No further splits with positive gain, best gain: -inf\n",
      "[LightGBM] [Warning] No further splits with positive gain, best gain: -inf\n",
      "[LightGBM] [Warning] No further splits with positive gain, best gain: -inf\n",
      "[LightGBM] [Warning] No further splits with positive gain, best gain: -inf\n",
      "[LightGBM] [Warning] No further splits with positive gain, best gain: -inf\n",
      "[LightGBM] [Warning] No further splits with positive gain, best gain: -inf\n",
      "[LightGBM] [Warning] No further splits with positive gain, best gain: -inf\n",
      "[LightGBM] [Warning] No further splits with positive gain, best gain: -inf\n",
      "[LightGBM] [Warning] No further splits with positive gain, best gain: -inf\n",
      "[LightGBM] [Warning] No further splits with positive gain, best gain: -inf\n",
      "[LightGBM] [Warning] No further splits with positive gain, best gain: -inf\n",
      "[LightGBM] [Warning] No further splits with positive gain, best gain: -inf\n",
      "[LightGBM] [Warning] No further splits with positive gain, best gain: -inf\n",
      "[LightGBM] [Warning] No further splits with positive gain, best gain: -inf\n",
      "[LightGBM] [Warning] No further splits with positive gain, best gain: -inf\n",
      "[LightGBM] [Warning] No further splits with positive gain, best gain: -inf\n",
      "[LightGBM] [Warning] No further splits with positive gain, best gain: -inf\n",
      "[LightGBM] [Warning] Found whitespace in feature_names, replace with underlines\n",
      "[LightGBM] [Info] Auto-choosing col-wise multi-threading, the overhead of testing was 0.011235 seconds.\n",
      "You can set `force_col_wise=true` to remove the overhead.\n",
      "[LightGBM] [Info] Total Bins 405973\n",
      "[LightGBM] [Info] Number of data points in the train set: 394, number of used features: 3078\n",
      "[LightGBM] [Info] Start training from score 17.850508\n",
      "[LightGBM] [Warning] No further splits with positive gain, best gain: -inf\n",
      "[LightGBM] [Warning] No further splits with positive gain, best gain: -inf\n",
      "[LightGBM] [Warning] No further splits with positive gain, best gain: -inf\n",
      "[LightGBM] [Warning] No further splits with positive gain, best gain: -inf\n",
      "[LightGBM] [Warning] No further splits with positive gain, best gain: -inf\n",
      "[LightGBM] [Warning] No further splits with positive gain, best gain: -inf\n",
      "[LightGBM] [Warning] No further splits with positive gain, best gain: -inf\n",
      "[LightGBM] [Warning] No further splits with positive gain, best gain: -inf\n",
      "[LightGBM] [Warning] No further splits with positive gain, best gain: -inf\n",
      "[LightGBM] [Warning] No further splits with positive gain, best gain: -inf\n",
      "[LightGBM] [Warning] No further splits with positive gain, best gain: -inf\n",
      "[LightGBM] [Warning] No further splits with positive gain, best gain: -inf\n",
      "[LightGBM] [Warning] No further splits with positive gain, best gain: -inf\n",
      "[LightGBM] [Warning] No further splits with positive gain, best gain: -inf\n",
      "[LightGBM] [Warning] No further splits with positive gain, best gain: -inf\n",
      "[LightGBM] [Warning] No further splits with positive gain, best gain: -inf\n",
      "[LightGBM] [Warning] No further splits with positive gain, best gain: -inf\n",
      "[LightGBM] [Warning] No further splits with positive gain, best gain: -inf\n",
      "[LightGBM] [Warning] No further splits with positive gain, best gain: -inf\n",
      "[LightGBM] [Warning] No further splits with positive gain, best gain: -inf\n",
      "[LightGBM] [Warning] No further splits with positive gain, best gain: -inf\n",
      "[LightGBM] [Warning] No further splits with positive gain, best gain: -inf\n",
      "[LightGBM] [Warning] No further splits with positive gain, best gain: -inf\n",
      "[LightGBM] [Warning] No further splits with positive gain, best gain: -inf\n",
      "[LightGBM] [Warning] No further splits with positive gain, best gain: -inf\n",
      "[LightGBM] [Warning] No further splits with positive gain, best gain: -inf\n",
      "[LightGBM] [Warning] No further splits with positive gain, best gain: -inf\n",
      "[LightGBM] [Warning] No further splits with positive gain, best gain: -inf\n",
      "[LightGBM] [Warning] No further splits with positive gain, best gain: -inf\n",
      "[LightGBM] [Warning] No further splits with positive gain, best gain: -inf\n",
      "[LightGBM] [Warning] No further splits with positive gain, best gain: -inf\n",
      "[LightGBM] [Warning] No further splits with positive gain, best gain: -inf\n",
      "[LightGBM] [Warning] No further splits with positive gain, best gain: -inf\n",
      "[LightGBM] [Warning] No further splits with positive gain, best gain: -inf\n",
      "[LightGBM] [Warning] No further splits with positive gain, best gain: -inf\n",
      "[LightGBM] [Warning] No further splits with positive gain, best gain: -inf\n",
      "[LightGBM] [Warning] No further splits with positive gain, best gain: -inf\n",
      "[LightGBM] [Warning] No further splits with positive gain, best gain: -inf\n",
      "[LightGBM] [Warning] No further splits with positive gain, best gain: -inf\n",
      "[LightGBM] [Warning] No further splits with positive gain, best gain: -inf\n",
      "[LightGBM] [Warning] No further splits with positive gain, best gain: -inf\n",
      "[LightGBM] [Warning] No further splits with positive gain, best gain: -inf\n",
      "[LightGBM] [Warning] No further splits with positive gain, best gain: -inf\n",
      "[LightGBM] [Warning] No further splits with positive gain, best gain: -inf\n",
      "[LightGBM] [Warning] No further splits with positive gain, best gain: -inf\n",
      "[LightGBM] [Warning] No further splits with positive gain, best gain: -inf\n",
      "[LightGBM] [Warning] No further splits with positive gain, best gain: -inf\n",
      "[LightGBM] [Warning] No further splits with positive gain, best gain: -inf\n",
      "[LightGBM] [Warning] No further splits with positive gain, best gain: -inf\n",
      "[LightGBM] [Warning] No further splits with positive gain, best gain: -inf\n",
      "[LightGBM] [Warning] No further splits with positive gain, best gain: -inf\n",
      "[LightGBM] [Warning] No further splits with positive gain, best gain: -inf\n",
      "[LightGBM] [Warning] No further splits with positive gain, best gain: -inf\n",
      "[LightGBM] [Warning] No further splits with positive gain, best gain: -inf\n",
      "[LightGBM] [Warning] No further splits with positive gain, best gain: -inf\n",
      "[LightGBM] [Warning] No further splits with positive gain, best gain: -inf\n",
      "[LightGBM] [Warning] No further splits with positive gain, best gain: -inf\n",
      "[LightGBM] [Warning] No further splits with positive gain, best gain: -inf\n",
      "[LightGBM] [Warning] No further splits with positive gain, best gain: -inf\n",
      "[LightGBM] [Warning] No further splits with positive gain, best gain: -inf\n",
      "[LightGBM] [Warning] No further splits with positive gain, best gain: -inf\n",
      "[LightGBM] [Warning] No further splits with positive gain, best gain: -inf\n",
      "[LightGBM] [Warning] No further splits with positive gain, best gain: -inf\n",
      "[LightGBM] [Warning] No further splits with positive gain, best gain: -inf\n",
      "[LightGBM] [Warning] No further splits with positive gain, best gain: -inf\n",
      "[LightGBM] [Warning] No further splits with positive gain, best gain: -inf\n",
      "[LightGBM] [Warning] No further splits with positive gain, best gain: -inf\n",
      "[LightGBM] [Warning] No further splits with positive gain, best gain: -inf\n",
      "[LightGBM] [Warning] No further splits with positive gain, best gain: -inf\n",
      "[LightGBM] [Warning] No further splits with positive gain, best gain: -inf\n",
      "[LightGBM] [Warning] No further splits with positive gain, best gain: -inf\n",
      "[LightGBM] [Warning] No further splits with positive gain, best gain: -inf\n",
      "[LightGBM] [Warning] No further splits with positive gain, best gain: -inf\n",
      "[LightGBM] [Warning] No further splits with positive gain, best gain: -inf\n",
      "[LightGBM] [Warning] No further splits with positive gain, best gain: -inf\n",
      "[LightGBM] [Warning] No further splits with positive gain, best gain: -inf\n",
      "[LightGBM] [Warning] No further splits with positive gain, best gain: -inf\n",
      "[LightGBM] [Warning] No further splits with positive gain, best gain: -inf\n",
      "[LightGBM] [Warning] No further splits with positive gain, best gain: -inf\n",
      "[LightGBM] [Warning] No further splits with positive gain, best gain: -inf\n",
      "[LightGBM] [Warning] No further splits with positive gain, best gain: -inf\n",
      "[LightGBM] [Warning] No further splits with positive gain, best gain: -inf\n",
      "[LightGBM] [Warning] No further splits with positive gain, best gain: -inf\n",
      "[LightGBM] [Warning] No further splits with positive gain, best gain: -inf\n",
      "[LightGBM] [Warning] No further splits with positive gain, best gain: -inf\n",
      "[LightGBM] [Warning] No further splits with positive gain, best gain: -inf\n",
      "[LightGBM] [Warning] No further splits with positive gain, best gain: -inf\n",
      "[LightGBM] [Warning] No further splits with positive gain, best gain: -inf\n",
      "[LightGBM] [Warning] No further splits with positive gain, best gain: -inf\n",
      "[LightGBM] [Warning] No further splits with positive gain, best gain: -inf\n",
      "[LightGBM] [Warning] No further splits with positive gain, best gain: -inf\n",
      "[LightGBM] [Warning] No further splits with positive gain, best gain: -inf\n",
      "[LightGBM] [Warning] No further splits with positive gain, best gain: -inf\n",
      "[LightGBM] [Warning] No further splits with positive gain, best gain: -inf\n",
      "[LightGBM] [Warning] No further splits with positive gain, best gain: -inf\n",
      "[LightGBM] [Warning] No further splits with positive gain, best gain: -inf\n",
      "[LightGBM] [Warning] No further splits with positive gain, best gain: -inf\n",
      "[LightGBM] [Warning] No further splits with positive gain, best gain: -inf\n",
      "[LightGBM] [Warning] No further splits with positive gain, best gain: -inf\n",
      "[LightGBM] [Warning] No further splits with positive gain, best gain: -inf\n",
      "[LightGBM] [Warning] Found whitespace in feature_names, replace with underlines\n",
      "[LightGBM] [Info] Auto-choosing col-wise multi-threading, the overhead of testing was 0.010680 seconds.\n",
      "You can set `force_col_wise=true` to remove the overhead.\n",
      "[LightGBM] [Info] Total Bins 405942\n",
      "[LightGBM] [Info] Number of data points in the train set: 394, number of used features: 3079\n",
      "[LightGBM] [Info] Start training from score 18.269035\n",
      "[LightGBM] [Warning] No further splits with positive gain, best gain: -inf\n",
      "[LightGBM] [Warning] No further splits with positive gain, best gain: -inf\n",
      "[LightGBM] [Warning] No further splits with positive gain, best gain: -inf\n",
      "[LightGBM] [Warning] No further splits with positive gain, best gain: -inf\n",
      "[LightGBM] [Warning] No further splits with positive gain, best gain: -inf\n",
      "[LightGBM] [Warning] No further splits with positive gain, best gain: -inf\n",
      "[LightGBM] [Warning] No further splits with positive gain, best gain: -inf\n",
      "[LightGBM] [Warning] No further splits with positive gain, best gain: -inf\n",
      "[LightGBM] [Warning] No further splits with positive gain, best gain: -inf\n",
      "[LightGBM] [Warning] No further splits with positive gain, best gain: -inf\n",
      "[LightGBM] [Warning] No further splits with positive gain, best gain: -inf\n",
      "[LightGBM] [Warning] No further splits with positive gain, best gain: -inf\n",
      "[LightGBM] [Warning] No further splits with positive gain, best gain: -inf\n",
      "[LightGBM] [Warning] No further splits with positive gain, best gain: -inf\n",
      "[LightGBM] [Warning] No further splits with positive gain, best gain: -inf\n",
      "[LightGBM] [Warning] No further splits with positive gain, best gain: -inf\n",
      "[LightGBM] [Warning] No further splits with positive gain, best gain: -inf\n",
      "[LightGBM] [Warning] No further splits with positive gain, best gain: -inf\n",
      "[LightGBM] [Warning] No further splits with positive gain, best gain: -inf\n",
      "[LightGBM] [Warning] No further splits with positive gain, best gain: -inf\n",
      "[LightGBM] [Warning] No further splits with positive gain, best gain: -inf\n",
      "[LightGBM] [Warning] No further splits with positive gain, best gain: -inf\n",
      "[LightGBM] [Warning] No further splits with positive gain, best gain: -inf\n",
      "[LightGBM] [Warning] No further splits with positive gain, best gain: -inf\n",
      "[LightGBM] [Warning] No further splits with positive gain, best gain: -inf\n",
      "[LightGBM] [Warning] No further splits with positive gain, best gain: -inf\n",
      "[LightGBM] [Warning] No further splits with positive gain, best gain: -inf\n",
      "[LightGBM] [Warning] No further splits with positive gain, best gain: -inf\n",
      "[LightGBM] [Warning] No further splits with positive gain, best gain: -inf\n",
      "[LightGBM] [Warning] No further splits with positive gain, best gain: -inf\n",
      "[LightGBM] [Warning] No further splits with positive gain, best gain: -inf\n",
      "[LightGBM] [Warning] No further splits with positive gain, best gain: -inf\n",
      "[LightGBM] [Warning] No further splits with positive gain, best gain: -inf\n",
      "[LightGBM] [Warning] No further splits with positive gain, best gain: -inf\n",
      "[LightGBM] [Warning] No further splits with positive gain, best gain: -inf\n",
      "[LightGBM] [Warning] No further splits with positive gain, best gain: -inf\n",
      "[LightGBM] [Warning] No further splits with positive gain, best gain: -inf\n",
      "[LightGBM] [Warning] No further splits with positive gain, best gain: -inf\n",
      "[LightGBM] [Warning] No further splits with positive gain, best gain: -inf\n",
      "[LightGBM] [Warning] No further splits with positive gain, best gain: -inf\n",
      "[LightGBM] [Warning] No further splits with positive gain, best gain: -inf\n",
      "[LightGBM] [Warning] No further splits with positive gain, best gain: -inf\n",
      "[LightGBM] [Warning] No further splits with positive gain, best gain: -inf\n",
      "[LightGBM] [Warning] No further splits with positive gain, best gain: -inf\n",
      "[LightGBM] [Warning] No further splits with positive gain, best gain: -inf\n",
      "[LightGBM] [Warning] No further splits with positive gain, best gain: -inf\n",
      "[LightGBM] [Warning] No further splits with positive gain, best gain: -inf\n",
      "[LightGBM] [Warning] No further splits with positive gain, best gain: -inf\n",
      "[LightGBM] [Warning] No further splits with positive gain, best gain: -inf\n",
      "[LightGBM] [Warning] No further splits with positive gain, best gain: -inf\n",
      "[LightGBM] [Warning] No further splits with positive gain, best gain: -inf\n",
      "[LightGBM] [Warning] No further splits with positive gain, best gain: -inf\n",
      "[LightGBM] [Warning] No further splits with positive gain, best gain: -inf\n",
      "[LightGBM] [Warning] No further splits with positive gain, best gain: -inf\n",
      "[LightGBM] [Warning] No further splits with positive gain, best gain: -inf\n",
      "[LightGBM] [Warning] No further splits with positive gain, best gain: -inf\n",
      "[LightGBM] [Warning] No further splits with positive gain, best gain: -inf\n",
      "[LightGBM] [Warning] No further splits with positive gain, best gain: -inf\n",
      "[LightGBM] [Warning] No further splits with positive gain, best gain: -inf\n",
      "[LightGBM] [Warning] No further splits with positive gain, best gain: -inf\n",
      "[LightGBM] [Warning] No further splits with positive gain, best gain: -inf\n",
      "[LightGBM] [Warning] No further splits with positive gain, best gain: -inf\n",
      "[LightGBM] [Warning] No further splits with positive gain, best gain: -inf\n",
      "[LightGBM] [Warning] No further splits with positive gain, best gain: -inf\n",
      "[LightGBM] [Warning] No further splits with positive gain, best gain: -inf\n",
      "[LightGBM] [Warning] No further splits with positive gain, best gain: -inf\n",
      "[LightGBM] [Warning] No further splits with positive gain, best gain: -inf\n",
      "[LightGBM] [Warning] No further splits with positive gain, best gain: -inf\n",
      "[LightGBM] [Warning] No further splits with positive gain, best gain: -inf\n",
      "[LightGBM] [Warning] No further splits with positive gain, best gain: -inf\n",
      "[LightGBM] [Warning] No further splits with positive gain, best gain: -inf\n",
      "[LightGBM] [Warning] No further splits with positive gain, best gain: -inf\n",
      "[LightGBM] [Warning] No further splits with positive gain, best gain: -inf\n",
      "[LightGBM] [Warning] No further splits with positive gain, best gain: -inf\n",
      "[LightGBM] [Warning] No further splits with positive gain, best gain: -inf\n",
      "[LightGBM] [Warning] No further splits with positive gain, best gain: -inf\n",
      "[LightGBM] [Warning] No further splits with positive gain, best gain: -inf\n",
      "[LightGBM] [Warning] No further splits with positive gain, best gain: -inf\n",
      "[LightGBM] [Warning] No further splits with positive gain, best gain: -inf\n",
      "[LightGBM] [Warning] No further splits with positive gain, best gain: -inf\n",
      "[LightGBM] [Warning] No further splits with positive gain, best gain: -inf\n",
      "[LightGBM] [Warning] No further splits with positive gain, best gain: -inf\n",
      "[LightGBM] [Warning] No further splits with positive gain, best gain: -inf\n",
      "[LightGBM] [Warning] No further splits with positive gain, best gain: -inf\n",
      "[LightGBM] [Warning] No further splits with positive gain, best gain: -inf\n",
      "[LightGBM] [Warning] No further splits with positive gain, best gain: -inf\n",
      "[LightGBM] [Warning] No further splits with positive gain, best gain: -inf\n",
      "[LightGBM] [Warning] No further splits with positive gain, best gain: -inf\n",
      "[LightGBM] [Warning] No further splits with positive gain, best gain: -inf\n",
      "[LightGBM] [Warning] No further splits with positive gain, best gain: -inf\n",
      "[LightGBM] [Warning] No further splits with positive gain, best gain: -inf\n",
      "[LightGBM] [Warning] No further splits with positive gain, best gain: -inf\n",
      "[LightGBM] [Warning] No further splits with positive gain, best gain: -inf\n",
      "[LightGBM] [Warning] No further splits with positive gain, best gain: -inf\n",
      "[LightGBM] [Warning] No further splits with positive gain, best gain: -inf\n",
      "[LightGBM] [Warning] No further splits with positive gain, best gain: -inf\n",
      "[LightGBM] [Warning] No further splits with positive gain, best gain: -inf\n",
      "[LightGBM] [Warning] No further splits with positive gain, best gain: -inf\n",
      "[LightGBM] [Warning] No further splits with positive gain, best gain: -inf\n",
      "[LightGBM] [Warning] No further splits with positive gain, best gain: -inf\n",
      "Mean MSE: 62.1723 (+/- 10.8645)\n",
      "Mean R2: 0.0144 (+/- 0.2546)\n"
     ]
    }
   ],
   "source": [
    "from sklearn.metrics import mean_squared_error, r2_score\n",
    "import numpy as np\n",
    "from lightgbm import LGBMRegressor, Dataset\n",
    "from sklearn.model_selection import GroupKFold\n",
    "from imblearn.over_sampling import SMOTENC\n",
    "\n",
    "# Set up GroupKFold cross-validation\n",
    "n_splits = 5\n",
    "group_kfold = GroupKFold(n_splits=n_splits)\n",
    "seed = 42\n",
    "\n",
    "# Initialize storage for regression metrics\n",
    "mse_scores = []\n",
    "r2_scores = []\n",
    "feature_importances = []\n",
    "\n",
    "# Perform grouped cross-validation\n",
    "for train_idx, val_idx in group_kfold.split(X, y, groups=X.subject):\n",
    "    X_train, X_val = X.drop(columns=['subject']).iloc[train_idx], X.drop(columns=['subject']).iloc[val_idx]\n",
    "    y_train, y_val = y.iloc[train_idx], y.iloc[val_idx]\n",
    "\n",
    "    train_data = Dataset(\n",
    "        X_train, \n",
    "        label=y_train,\n",
    "        # params={'categorical_feature': ['subject', 'ethnicity', 'race', 'sex',]}\n",
    "    )\n",
    "    val_data = Dataset(\n",
    "        X_val, \n",
    "        label=y_val,\n",
    "        # params={'categorical_feature': ['subject', 'ethnicity', 'race', 'sex',]}\n",
    "    )\n",
    "    \n",
    "    lgb = LGBMRegressor(\n",
    "        random_state=seed,\n",
    "    )\n",
    "    lgb.fit(X_train, y_train)\n",
    "\n",
    "    # Make predictions\n",
    "    y_pred = lgb.predict(X_val)\n",
    "    \n",
    "    # Store feature importances\n",
    "    feature_importances.append(lgb.feature_importances_)\n",
    "    \n",
    "    # Calculate regression metrics\n",
    "    # mse = mean_squared_error(y_val, np.round(y_pred))\n",
    "    # r2 = r2_score(y_val, np.round(y_pred))\n",
    "    mse = mean_squared_error(y_val, y_pred)\n",
    "    r2 = r2_score(y_val, y_pred)\n",
    "    \n",
    "    mse_scores.append(mse)\n",
    "    r2_scores.append(r2)\n",
    "\n",
    "print(f\"Mean MSE: {np.mean(mse_scores):.4f} (+/- {np.std(mse_scores):.4f})\")\n",
    "print(f\"Mean R2: {np.mean(r2_scores):.4f} (+/- {np.std(r2_scores):.4f})\")\n"
   ]
  },
  {
   "cell_type": "code",
   "execution_count": 32,
   "metadata": {},
   "outputs": [
    {
     "ename": "NameError",
     "evalue": "name 'all_y_val' is not defined",
     "output_type": "error",
     "traceback": [
      "\u001b[0;31m---------------------------------------------------------------------------\u001b[0m",
      "\u001b[0;31mNameError\u001b[0m                                 Traceback (most recent call last)",
      "Cell \u001b[0;32mIn[32], line 6\u001b[0m\n\u001b[1;32m      3\u001b[0m \u001b[38;5;28;01mimport\u001b[39;00m\u001b[38;5;250m \u001b[39m\u001b[38;5;21;01mseaborn\u001b[39;00m\u001b[38;5;250m \u001b[39m\u001b[38;5;28;01mas\u001b[39;00m\u001b[38;5;250m \u001b[39m\u001b[38;5;21;01msns\u001b[39;00m\n\u001b[1;32m      5\u001b[0m \u001b[38;5;66;03m# Create confusion matrix\u001b[39;00m\n\u001b[0;32m----> 6\u001b[0m cm \u001b[38;5;241m=\u001b[39m confusion_matrix(\u001b[43mall_y_val\u001b[49m, all_y_pred)\n\u001b[1;32m      8\u001b[0m \u001b[38;5;66;03m# Plot confusion matrix\u001b[39;00m\n\u001b[1;32m      9\u001b[0m plt\u001b[38;5;241m.\u001b[39mfigure(figsize\u001b[38;5;241m=\u001b[39m(\u001b[38;5;241m10\u001b[39m, \u001b[38;5;241m8\u001b[39m))\n",
      "\u001b[0;31mNameError\u001b[0m: name 'all_y_val' is not defined"
     ]
    }
   ],
   "source": [
    "from sklearn.metrics import confusion_matrix\n",
    "import matplotlib.pyplot as plt\n",
    "import seaborn as sns\n",
    "\n",
    "# Create confusion matrix\n",
    "cm = confusion_matrix(all_y_val, all_y_pred)\n",
    "\n",
    "# Plot confusion matrix\n",
    "plt.figure(figsize=(10, 8))\n",
    "sns.heatmap(cm, annot=True, fmt='d', cmap='Blues',\n",
    "            xticklabels=[f\"{(i+2)*10}-{(i+3)*10-1}\" for i in range(len(cm))],\n",
    "            yticklabels=[f\"{(i+2)*10}-{(i+3)*10-1}\" for i in range(len(cm))])\n",
    "plt.title('Confusion Matrix')\n",
    "plt.ylabel('True Label')\n",
    "plt.xlabel('Predicted Label')\n",
    "plt.show()"
   ]
  },
  {
   "cell_type": "code",
   "execution_count": 30,
   "metadata": {},
   "outputs": [
    {
     "ename": "NameError",
     "evalue": "name 'avg_feature_importance' is not defined",
     "output_type": "error",
     "traceback": [
      "\u001b[0;31m---------------------------------------------------------------------------\u001b[0m",
      "\u001b[0;31mNameError\u001b[0m                                 Traceback (most recent call last)",
      "Cell \u001b[0;32mIn[30], line 2\u001b[0m\n\u001b[1;32m      1\u001b[0m correlations \u001b[38;5;241m=\u001b[39m {\n\u001b[0;32m----> 2\u001b[0m     embedding: \u001b[43mavg_feature_importance\u001b[49m[embedding_features_indicator]\u001b[38;5;241m.\u001b[39mdot(gene_embedding\u001b[38;5;241m.\u001b[39mloc[embedding])\n\u001b[1;32m      3\u001b[0m     \u001b[38;5;28;01mfor\u001b[39;00m embedding \u001b[38;5;129;01min\u001b[39;00m gene_embedding\u001b[38;5;241m.\u001b[39mindex\n\u001b[1;32m      4\u001b[0m }\n\u001b[1;32m      6\u001b[0m abs_correlations \u001b[38;5;241m=\u001b[39m {\n\u001b[1;32m      7\u001b[0m     embedding: avg_feature_importance[embedding_features_indicator]\u001b[38;5;241m.\u001b[39mdot(np\u001b[38;5;241m.\u001b[39mabs(gene_embedding\u001b[38;5;241m.\u001b[39mloc[embedding]))\n\u001b[1;32m      8\u001b[0m     \u001b[38;5;28;01mfor\u001b[39;00m embedding \u001b[38;5;129;01min\u001b[39;00m gene_embedding\u001b[38;5;241m.\u001b[39mindex\n\u001b[1;32m      9\u001b[0m }\n",
      "\u001b[0;31mNameError\u001b[0m: name 'avg_feature_importance' is not defined"
     ]
    }
   ],
   "source": [
    "\n",
    "correlations = {\n",
    "    embedding: avg_feature_importance[embedding_features_indicator].dot(gene_embedding.loc[embedding])\n",
    "    for embedding in gene_embedding.index\n",
    "}\n",
    "\n",
    "abs_correlations = {\n",
    "    embedding: avg_feature_importance[embedding_features_indicator].dot(np.abs(gene_embedding.loc[embedding]))\n",
    "    for embedding in gene_embedding.index\n",
    "}\n"
   ]
  },
  {
   "cell_type": "code",
   "execution_count": 359,
   "metadata": {},
   "outputs": [],
   "source": [
    "correlations_series = pd.Series(correlations)\n",
    "correlations_series.sort_values(ascending=False, inplace=True)\n",
    "\n",
    "# Convert dictionary to pandas Series and sort\n",
    "abs_correlations_series = pd.Series(abs_correlations)\n",
    "abs_correlations_series.sort_values(ascending=False, inplace=True)"
   ]
  },
  {
   "cell_type": "code",
   "execution_count": 367,
   "metadata": {},
   "outputs": [
    {
     "data": {
      "text/plain": [
       "<Axes: >"
      ]
     },
     "execution_count": 367,
     "metadata": {},
     "output_type": "execute_result"
    },
    {
     "data": {
      "image/png": "[encoded data removed]",
      "text/plain": [
       "<Figure size 640x480 with 1 Axes>"
      ]
     },
     "metadata": {},
     "output_type": "display_data"
    }
   ],
   "source": []
  },
  {
   "cell_type": "code",
   "execution_count": 264,
   "metadata": {},
   "outputs": [
    {
     "name": "stdout",
     "output_type": "stream",
     "text": [
      "Random Forest Results:\n",
      "--------------------------------------------------\n",
      "              precision    recall  f1-score   support\n",
      "\n",
      "        High       0.95      0.90      0.93        70\n",
      "         Low       0.85      0.93      0.89        43\n",
      "\n",
      "    accuracy                           0.91       113\n",
      "   macro avg       0.90      0.92      0.91       113\n",
      "weighted avg       0.92      0.91      0.91       113\n",
      "\n",
      "\n",
      "LightGBM Results:\n",
      "--------------------------------------------------\n",
      "[LightGBM] [Info] Number of positive: 99, number of negative: 164\n",
      "[LightGBM] [Info] Auto-choosing col-wise multi-threading, the overhead of testing was 0.007836 seconds.\n",
      "You can set `force_col_wise=true` to remove the overhead.\n",
      "[LightGBM] [Info] Total Bins 270536\n",
      "[LightGBM] [Info] Number of data points in the train set: 263, number of used features: 3072\n",
      "[LightGBM] [Info] [binary:BoostFromScore]: pavg=0.376426 -> initscore=-0.504747\n",
      "[LightGBM] [Info] Start training from score -0.504747\n",
      "[LightGBM] [Warning] No further splits with positive gain, best gain: -inf\n",
      "[LightGBM] [Warning] No further splits with positive gain, best gain: -inf\n",
      "[LightGBM] [Warning] No further splits with positive gain, best gain: -inf\n",
      "[LightGBM] [Warning] No further splits with positive gain, best gain: -inf\n",
      "[LightGBM] [Warning] No further splits with positive gain, best gain: -inf\n",
      "[LightGBM] [Warning] No further splits with positive gain, best gain: -inf\n",
      "[LightGBM] [Warning] No further splits with positive gain, best gain: -inf\n",
      "[LightGBM] [Warning] No further splits with positive gain, best gain: -inf\n",
      "[LightGBM] [Warning] No further splits with positive gain, best gain: -inf\n",
      "[LightGBM] [Warning] No further splits with positive gain, best gain: -inf\n",
      "[LightGBM] [Warning] No further splits with positive gain, best gain: -inf\n",
      "[LightGBM] [Warning] No further splits with positive gain, best gain: -inf\n",
      "[LightGBM] [Warning] No further splits with positive gain, best gain: -inf\n",
      "[LightGBM] [Warning] No further splits with positive gain, best gain: -inf\n",
      "[LightGBM] [Warning] No further splits with positive gain, best gain: -inf\n",
      "[LightGBM] [Warning] No further splits with positive gain, best gain: -inf\n",
      "[LightGBM] [Warning] No further splits with positive gain, best gain: -inf\n",
      "[LightGBM] [Warning] No further splits with positive gain, best gain: -inf\n",
      "[LightGBM] [Warning] No further splits with positive gain, best gain: -inf\n",
      "[LightGBM] [Warning] No further splits with positive gain, best gain: -inf\n",
      "[LightGBM] [Warning] No further splits with positive gain, best gain: -inf\n",
      "[LightGBM] [Warning] No further splits with positive gain, best gain: -inf\n",
      "[LightGBM] [Warning] No further splits with positive gain, best gain: -inf\n",
      "[LightGBM] [Warning] No further splits with positive gain, best gain: -inf\n",
      "[LightGBM] [Warning] No further splits with positive gain, best gain: -inf\n",
      "[LightGBM] [Warning] No further splits with positive gain, best gain: -inf\n",
      "[LightGBM] [Warning] No further splits with positive gain, best gain: -inf\n",
      "[LightGBM] [Warning] No further splits with positive gain, best gain: -inf\n",
      "[LightGBM] [Warning] No further splits with positive gain, best gain: -inf\n",
      "[LightGBM] [Warning] No further splits with positive gain, best gain: -inf\n",
      "[LightGBM] [Warning] No further splits with positive gain, best gain: -inf\n",
      "[LightGBM] [Warning] No further splits with positive gain, best gain: -inf\n",
      "[LightGBM] [Warning] No further splits with positive gain, best gain: -inf\n",
      "[LightGBM] [Warning] No further splits with positive gain, best gain: -inf\n",
      "[LightGBM] [Warning] No further splits with positive gain, best gain: -inf\n",
      "[LightGBM] [Warning] No further splits with positive gain, best gain: -inf\n",
      "[LightGBM] [Warning] No further splits with positive gain, best gain: -inf\n",
      "[LightGBM] [Warning] No further splits with positive gain, best gain: -inf\n",
      "[LightGBM] [Warning] No further splits with positive gain, best gain: -inf\n",
      "[LightGBM] [Warning] No further splits with positive gain, best gain: -inf\n",
      "[LightGBM] [Warning] No further splits with positive gain, best gain: -inf\n",
      "[LightGBM] [Warning] No further splits with positive gain, best gain: -inf\n",
      "[LightGBM] [Warning] No further splits with positive gain, best gain: -inf\n",
      "[LightGBM] [Warning] No further splits with positive gain, best gain: -inf\n",
      "[LightGBM] [Warning] No further splits with positive gain, best gain: -inf\n",
      "[LightGBM] [Warning] No further splits with positive gain, best gain: -inf\n",
      "[LightGBM] [Warning] No further splits with positive gain, best gain: -inf\n",
      "[LightGBM] [Warning] No further splits with positive gain, best gain: -inf\n",
      "[LightGBM] [Warning] No further splits with positive gain, best gain: -inf\n",
      "[LightGBM] [Warning] No further splits with positive gain, best gain: -inf\n",
      "[LightGBM] [Warning] No further splits with positive gain, best gain: -inf\n",
      "[LightGBM] [Warning] No further splits with positive gain, best gain: -inf\n",
      "[LightGBM] [Warning] No further splits with positive gain, best gain: -inf\n",
      "[LightGBM] [Warning] No further splits with positive gain, best gain: -inf\n",
      "[LightGBM] [Warning] No further splits with positive gain, best gain: -inf\n",
      "[LightGBM] [Warning] No further splits with positive gain, best gain: -inf\n",
      "[LightGBM] [Warning] No further splits with positive gain, best gain: -inf\n",
      "[LightGBM] [Warning] No further splits with positive gain, best gain: -inf\n",
      "[LightGBM] [Warning] No further splits with positive gain, best gain: -inf\n",
      "[LightGBM] [Warning] No further splits with positive gain, best gain: -inf\n",
      "[LightGBM] [Warning] No further splits with positive gain, best gain: -inf\n",
      "[LightGBM] [Warning] No further splits with positive gain, best gain: -inf\n",
      "[LightGBM] [Warning] No further splits with positive gain, best gain: -inf\n",
      "[LightGBM] [Warning] No further splits with positive gain, best gain: -inf\n",
      "[LightGBM] [Warning] No further splits with positive gain, best gain: -inf\n",
      "[LightGBM] [Warning] No further splits with positive gain, best gain: -inf\n",
      "[LightGBM] [Warning] No further splits with positive gain, best gain: -inf\n",
      "[LightGBM] [Warning] No further splits with positive gain, best gain: -inf\n",
      "[LightGBM] [Warning] No further splits with positive gain, best gain: -inf\n",
      "[LightGBM] [Warning] No further splits with positive gain, best gain: -inf\n",
      "[LightGBM] [Warning] No further splits with positive gain, best gain: -inf\n",
      "[LightGBM] [Warning] No further splits with positive gain, best gain: -inf\n",
      "[LightGBM] [Warning] No further splits with positive gain, best gain: -inf\n",
      "[LightGBM] [Warning] No further splits with positive gain, best gain: -inf\n",
      "[LightGBM] [Warning] No further splits with positive gain, best gain: -inf\n",
      "[LightGBM] [Warning] No further splits with positive gain, best gain: -inf\n",
      "[LightGBM] [Warning] No further splits with positive gain, best gain: -inf\n",
      "[LightGBM] [Warning] No further splits with positive gain, best gain: -inf\n",
      "[LightGBM] [Warning] No further splits with positive gain, best gain: -inf\n",
      "[LightGBM] [Warning] No further splits with positive gain, best gain: -inf\n",
      "[LightGBM] [Warning] No further splits with positive gain, best gain: -inf\n",
      "[LightGBM] [Warning] No further splits with positive gain, best gain: -inf\n",
      "[LightGBM] [Warning] No further splits with positive gain, best gain: -inf\n",
      "[LightGBM] [Warning] No further splits with positive gain, best gain: -inf\n",
      "[LightGBM] [Warning] No further splits with positive gain, best gain: -inf\n",
      "[LightGBM] [Warning] No further splits with positive gain, best gain: -inf\n",
      "[LightGBM] [Warning] No further splits with positive gain, best gain: -inf\n",
      "[LightGBM] [Warning] No further splits with positive gain, best gain: -inf\n",
      "[LightGBM] [Warning] No further splits with positive gain, best gain: -inf\n",
      "[LightGBM] [Warning] No further splits with positive gain, best gain: -inf\n",
      "[LightGBM] [Warning] No further splits with positive gain, best gain: -inf\n",
      "[LightGBM] [Warning] No further splits with positive gain, best gain: -inf\n",
      "[LightGBM] [Warning] No further splits with positive gain, best gain: -inf\n",
      "[LightGBM] [Warning] No further splits with positive gain, best gain: -inf\n",
      "[LightGBM] [Warning] No further splits with positive gain, best gain: -inf\n",
      "[LightGBM] [Warning] No further splits with positive gain, best gain: -inf\n",
      "[LightGBM] [Warning] No further splits with positive gain, best gain: -inf\n",
      "[LightGBM] [Warning] No further splits with positive gain, best gain: -inf\n",
      "[LightGBM] [Warning] No further splits with positive gain, best gain: -inf\n",
      "[LightGBM] [Warning] No further splits with positive gain, best gain: -inf\n",
      "              precision    recall  f1-score   support\n",
      "\n",
      "        High       0.98      0.90      0.94        70\n",
      "         Low       0.86      0.98      0.91        43\n",
      "\n",
      "    accuracy                           0.93       113\n",
      "   macro avg       0.92      0.94      0.93       113\n",
      "weighted avg       0.94      0.93      0.93       113\n",
      "\n",
      "\n",
      "Top 10 Important Features (Random Forest):\n",
      "     feature  importance\n",
      "2968    2968    0.028092\n",
      "1249    1249    0.022396\n",
      "971      971    0.020912\n",
      "2593    2593    0.018981\n",
      "662      662    0.017912\n",
      "910      910    0.017910\n",
      "249      249    0.017126\n",
      "1194    1194    0.015178\n",
      "832      832    0.014984\n",
      "234      234    0.014477\n",
      "\n",
      "Top 10 Important Features (LightGBM):\n",
      "     feature  importance\n",
      "249      249          74\n",
      "1276    1276          28\n",
      "1885    1885          19\n",
      "1958    1958          17\n",
      "2163    2163          17\n",
      "345      345          16\n",
      "124      124          15\n",
      "1614    1614          15\n",
      "1812    1812          14\n",
      "3049    3049          14\n"
     ]
    }
   ],
   "source": [
    "from sklearn.model_selection import train_test_split\n",
    "from sklearn.ensemble import RandomForestClassifier\n",
    "from lightgbm import LGBMClassifier\n",
    "from sklearn.metrics import classification_report\n",
    "\n",
    "# Prepare the data\n",
    "X = normalized_embeddings_df.merge(\n",
    "    sample_attributes_df[['external_id', 'ifn status']], \n",
    "    left_index=True, right_on='external_id'\n",
    ")\n",
    "\n",
    "# Filter out NA values and keep only High/Low\n",
    "mask = X['ifn status'].isin(['High', 'Low'])\n",
    "X_filtered = X[mask]\n",
    "y = X_filtered['ifn status']\n",
    "X_filtered = X_filtered.drop(['external_id', 'ifn status'], axis=1)\n",
    "\n",
    "# Split the data\n",
    "X_train, X_test, y_train, y_test = train_test_split(\n",
    "    X_filtered, y, test_size=0.3, random_state=42, stratify=y\n",
    ")\n",
    "\n",
    "# Train Random Forest\n",
    "print(\"Random Forest Results:\")\n",
    "print(\"-\" * 50)\n",
    "rf = RandomForestClassifier(random_state=42)\n",
    "rf.fit(X_train, y_train)\n",
    "y_pred_rf = rf.predict(X_test)\n",
    "print(classification_report(y_test, y_pred_rf))\n",
    "\n",
    "# Train LightGBM\n",
    "print(\"\\nLightGBM Results:\")\n",
    "print(\"-\" * 50)\n",
    "lgb = LGBMClassifier(\n",
    "    random_state=42,\n",
    "    n_estimators=100,\n",
    "    learning_rate=0.1,\n",
    "    max_depth=-1,\n",
    "    num_leaves=31\n",
    ")\n",
    "lgb.fit(X_train, y_train)\n",
    "y_pred_lgb = lgb.predict(X_test)\n",
    "print(classification_report(y_test, y_pred_lgb))\n",
    "\n",
    "# Print top 10 important features for both models\n",
    "print(\"\\nTop 10 Important Features (Random Forest):\")\n",
    "importance_rf = pd.DataFrame({\n",
    "    'feature': X_filtered.columns,\n",
    "    'importance': rf.feature_importances_\n",
    "})\n",
    "print(importance_rf.nlargest(10, 'importance'))\n",
    "\n",
    "print(\"\\nTop 10 Important Features (LightGBM):\")\n",
    "importance_lgb = pd.DataFrame({\n",
    "    'feature': X_filtered.columns,\n",
    "    'importance': lgb.feature_importances_\n",
    "})\n",
    "print(importance_lgb.nlargest(10, 'importance'))"
   ]
  },
  {
   "cell_type": "code",
   "execution_count": 149,
   "metadata": {},
   "outputs": [
    {
     "data": {
      "text/html": [
       "<div>\n",
       "<style scoped>\n",
       "    .dataframe tbody tr th:only-of-type {\n",
       "        vertical-align: middle;\n",
       "    }\n",
       "\n",
       "    .dataframe tbody tr th {\n",
       "        vertical-align: top;\n",
       "    }\n",
       "\n",
       "    .dataframe thead th {\n",
       "        text-align: right;\n",
       "    }\n",
       "</style>\n",
       "<table border=\"1\" class=\"dataframe\">\n",
       "  <thead>\n",
       "    <tr style=\"text-align: right;\">\n",
       "      <th></th>\n",
       "      <th>gene_id</th>\n",
       "      <th>external_id</th>\n",
       "      <th>counts</th>\n",
       "      <th>rail_id</th>\n",
       "      <th>study</th>\n",
       "      <th>sample_acc</th>\n",
       "      <th>experiment_acc</th>\n",
       "      <th>submission_acc</th>\n",
       "      <th>submission_center</th>\n",
       "      <th>submission_lab</th>\n",
       "      <th>...</th>\n",
       "      <th>run_center</th>\n",
       "      <th>drug dose</th>\n",
       "      <th>drug exposure</th>\n",
       "      <th>ifn status</th>\n",
       "      <th>recruitment site</th>\n",
       "      <th>source_name</th>\n",
       "      <th>subject age</th>\n",
       "      <th>subject sex</th>\n",
       "      <th>timepoint</th>\n",
       "      <th>tissue</th>\n",
       "    </tr>\n",
       "  </thead>\n",
       "  <tbody>\n",
       "    <tr>\n",
       "      <th>0</th>\n",
       "      <td>ENSG00000278704.1</td>\n",
       "      <td>SRR7368000</td>\n",
       "      <td>0</td>\n",
       "      <td>1572883</td>\n",
       "      <td>SRP150872</td>\n",
       "      <td>SRS3436857</td>\n",
       "      <td>SRX4240949</td>\n",
       "      <td>SRA725005</td>\n",
       "      <td>GEO</td>\n",
       "      <td>NaN</td>\n",
       "      <td>...</td>\n",
       "      <td>NaN</td>\n",
       "      <td>50mg</td>\n",
       "      <td>1</td>\n",
       "      <td>High</td>\n",
       "      <td>1123</td>\n",
       "      <td>Whole blood</td>\n",
       "      <td>34</td>\n",
       "      <td>Female</td>\n",
       "      <td>12</td>\n",
       "      <td>Whole blood</td>\n",
       "    </tr>\n",
       "    <tr>\n",
       "      <th>1</th>\n",
       "      <td>ENSG00000277400.1</td>\n",
       "      <td>SRR7368000</td>\n",
       "      <td>0</td>\n",
       "      <td>1572883</td>\n",
       "      <td>SRP150872</td>\n",
       "      <td>SRS3436857</td>\n",
       "      <td>SRX4240949</td>\n",
       "      <td>SRA725005</td>\n",
       "      <td>GEO</td>\n",
       "      <td>NaN</td>\n",
       "      <td>...</td>\n",
       "      <td>NaN</td>\n",
       "      <td>50mg</td>\n",
       "      <td>1</td>\n",
       "      <td>High</td>\n",
       "      <td>1123</td>\n",
       "      <td>Whole blood</td>\n",
       "      <td>34</td>\n",
       "      <td>Female</td>\n",
       "      <td>12</td>\n",
       "      <td>Whole blood</td>\n",
       "    </tr>\n",
       "    <tr>\n",
       "      <th>2</th>\n",
       "      <td>ENSG00000274847.1</td>\n",
       "      <td>SRR7368000</td>\n",
       "      <td>0</td>\n",
       "      <td>1572883</td>\n",
       "      <td>SRP150872</td>\n",
       "      <td>SRS3436857</td>\n",
       "      <td>SRX4240949</td>\n",
       "      <td>SRA725005</td>\n",
       "      <td>GEO</td>\n",
       "      <td>NaN</td>\n",
       "      <td>...</td>\n",
       "      <td>NaN</td>\n",
       "      <td>50mg</td>\n",
       "      <td>1</td>\n",
       "      <td>High</td>\n",
       "      <td>1123</td>\n",
       "      <td>Whole blood</td>\n",
       "      <td>34</td>\n",
       "      <td>Female</td>\n",
       "      <td>12</td>\n",
       "      <td>Whole blood</td>\n",
       "    </tr>\n",
       "    <tr>\n",
       "      <th>3</th>\n",
       "      <td>ENSG00000277428.1</td>\n",
       "      <td>SRR7368000</td>\n",
       "      <td>0</td>\n",
       "      <td>1572883</td>\n",
       "      <td>SRP150872</td>\n",
       "      <td>SRS3436857</td>\n",
       "      <td>SRX4240949</td>\n",
       "      <td>SRA725005</td>\n",
       "      <td>GEO</td>\n",
       "      <td>NaN</td>\n",
       "      <td>...</td>\n",
       "      <td>NaN</td>\n",
       "      <td>50mg</td>\n",
       "      <td>1</td>\n",
       "      <td>High</td>\n",
       "      <td>1123</td>\n",
       "      <td>Whole blood</td>\n",
       "      <td>34</td>\n",
       "      <td>Female</td>\n",
       "      <td>12</td>\n",
       "      <td>Whole blood</td>\n",
       "    </tr>\n",
       "    <tr>\n",
       "      <th>4</th>\n",
       "      <td>ENSG00000276256.1</td>\n",
       "      <td>SRR7368000</td>\n",
       "      <td>0</td>\n",
       "      <td>1572883</td>\n",
       "      <td>SRP150872</td>\n",
       "      <td>SRS3436857</td>\n",
       "      <td>SRX4240949</td>\n",
       "      <td>SRA725005</td>\n",
       "      <td>GEO</td>\n",
       "      <td>NaN</td>\n",
       "      <td>...</td>\n",
       "      <td>NaN</td>\n",
       "      <td>50mg</td>\n",
       "      <td>1</td>\n",
       "      <td>High</td>\n",
       "      <td>1123</td>\n",
       "      <td>Whole blood</td>\n",
       "      <td>34</td>\n",
       "      <td>Female</td>\n",
       "      <td>12</td>\n",
       "      <td>Whole blood</td>\n",
       "    </tr>\n",
       "  </tbody>\n",
       "</table>\n",
       "<p>5 rows × 52 columns</p>\n",
       "</div>"
      ],
      "text/plain": [
       "             gene_id external_id  counts  rail_id      study  sample_acc  \\\n",
       "0  ENSG00000278704.1  SRR7368000       0  1572883  SRP150872  SRS3436857   \n",
       "1  ENSG00000277400.1  SRR7368000       0  1572883  SRP150872  SRS3436857   \n",
       "2  ENSG00000274847.1  SRR7368000       0  1572883  SRP150872  SRS3436857   \n",
       "3  ENSG00000277428.1  SRR7368000       0  1572883  SRP150872  SRS3436857   \n",
       "4  ENSG00000276256.1  SRR7368000       0  1572883  SRP150872  SRS3436857   \n",
       "\n",
       "  experiment_acc submission_acc submission_center  submission_lab  ...  \\\n",
       "0     SRX4240949      SRA725005               GEO             NaN  ...   \n",
       "1     SRX4240949      SRA725005               GEO             NaN  ...   \n",
       "2     SRX4240949      SRA725005               GEO             NaN  ...   \n",
       "3     SRX4240949      SRA725005               GEO             NaN  ...   \n",
       "4     SRX4240949      SRA725005               GEO             NaN  ...   \n",
       "\n",
       "  run_center drug dose  drug exposure ifn status  recruitment site  \\\n",
       "0        NaN      50mg              1       High              1123   \n",
       "1        NaN      50mg              1       High              1123   \n",
       "2        NaN      50mg              1       High              1123   \n",
       "3        NaN      50mg              1       High              1123   \n",
       "4        NaN      50mg              1       High              1123   \n",
       "\n",
       "   source_name  subject age subject sex timepoint       tissue  \n",
       "0  Whole blood           34      Female        12  Whole blood  \n",
       "1  Whole blood           34      Female        12  Whole blood  \n",
       "2  Whole blood           34      Female        12  Whole blood  \n",
       "3  Whole blood           34      Female        12  Whole blood  \n",
       "4  Whole blood           34      Female        12  Whole blood  \n",
       "\n",
       "[5 rows x 52 columns]"
      ]
     },
     "execution_count": 149,
     "metadata": {},
     "output_type": "execute_result"
    }
   ],
   "source": [
    "# from src.recount3_utils import create_rse_manual\n",
    "# rse = create_rse_manual(\"SRP150872\", \"data_sources/sra\", \"human\", \"gencode_v26\", \"gene\")\n",
    "# rse.head()\n"
   ]
  },
  {
   "cell_type": "code",
   "execution_count": null,
   "metadata": {},
   "outputs": [],
   "source": []
  }
 ],
 "metadata": {
  "kernelspec": {
   "display_name": "Python 3",
   "language": "python",
   "name": "python3"
  },
  "language_info": {
   "codemirror_mode": {
    "name": "ipython",
    "version": 3
   },
   "file_extension": ".py",
   "mimetype": "text/x-python",
   "name": "python",
   "nbconvert_exporter": "python",
   "pygments_lexer": "ipython3",
   "version": "3.12.7"
  }
 },
 "nbformat": 4,
 "nbformat_minor": 2
}
