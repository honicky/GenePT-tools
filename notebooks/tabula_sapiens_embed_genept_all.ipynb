{
 "cells": [
  {
   "cell_type": "markdown",
   "metadata": {},
   "source": [
    "# GenePT cell classification performance on the Tabula Sapiens data set\n",
    "\n",
    "This notebook downloads (if necessary) the Tabula Sapiens data set (https://cellxgene.cziscience.com/collections/e5f58829-1a66-40b5-a624-9046778e74f5)\n",
    "uses a GenePT-style embedding to embed the cells and then tests classification performance.  This is a benchmark dataset, but we are using it for\n",
    "both training and testing. We are doing this to \"benchmark\" our GenePT embeddings on a large dataset with a high number of cell types.\n"
   ]
  },
  {
   "cell_type": "code",
   "execution_count": 2,
   "metadata": {},
   "outputs": [
    {
     "name": "stdout",
     "output_type": "stream",
     "text": [
      "autoreload enabled\n",
      "repo_dir set to /Users/rj/personal/GenePT-tools\n",
      "File already exists at /Users/rj/personal/GenePT-tools/data/GenePT_emebdding_v2.zip\n",
      "Extracting files...\n",
      "Extracting GenePT_emebdding_v2/\n",
      "Skipping GenePT_emebdding_v2/NCBI_UniProt_summary_of_genes.json - already exists with same size\n",
      "Skipping GenePT_emebdding_v2/GenePT_gene_embedding_ada_text.pickle - already exists with same size\n",
      "Skipping GenePT_emebdding_v2/GenePT_gene_protein_embedding_model_3_text.pickle. - already exists with same size\n",
      "Skipping GenePT_emebdding_v2/NCBI_summary_of_genes.json - already exists with same size\n",
      "Extraction complete!\n",
      "Skipping embedding_original_ada_text.parquet - already exists\n",
      "Skipping embedding_original_large_3.parquet - already exists\n",
      "Skipping embedding_associations_age_cell_type_drugs_pathways_openai_large.parquet - already exists\n",
      "Skipping embedding_associations_age_drugs_pathways_openai_large.parquet - already exists\n",
      "Skipping embedding_associations_cell_type_openai_large.parquet - already exists\n",
      "Setup finished!\n",
      "data_dir set to /Users/rj/personal/GenePT-tools/data\n"
     ]
    }
   ],
   "source": [
    "%run notebook_setup.ipynb"
   ]
  },
  {
   "cell_type": "markdown",
   "metadata": {},
   "source": [
    "## Download the Tabula Sapiens data set\n",
    "\n",
    "We use the name `1m_cells.h5ad` for this dataset, which is not the best name."
   ]
  },
  {
   "cell_type": "code",
   "execution_count": 3,
   "metadata": {},
   "outputs": [],
   "source": [
    "import requests\n",
    "\n",
    "dataset = \"https://datasets.cellxgene.cziscience.com/10df7690-6d10-4029-a47e-0f071bb2df83.h5ad\"\n",
    "# dataset_id = \"10df7690-6d10-4029-a47e-0f071bb2df83\"\n",
    "\n",
    "file_path = data_dir / \"1m_cells.h5ad\"  # adjust this path as needed\n",
    "\n",
    "if not file_path.exists():\n",
    "    response = requests.get(dataset, stream=True)\n",
    "    with open(file_path, \"wb\") as file:\n",
    "        for chunk in response.iter_content(chunk_size=8192):\n",
    "            if chunk:  # filter out keep-alive chunks\n",
    "                file.write(chunk)"
   ]
  },
  {
   "cell_type": "code",
   "execution_count": 4,
   "metadata": {},
   "outputs": [
    {
     "name": "stdout",
     "output_type": "stream",
     "text": [
      "Dataset file size: 45.14 GB\n",
      "\n",
      "Main HDF5 groups: <KeysViewHDF5 ['X', 'layers', 'obs', 'obsm', 'obsp', 'raw', 'uns', 'var', 'varm', 'varp']>\n",
      "\n",
      "Expression matrix (X) storage type: <class 'h5py._hl.group.Group'>\n",
      "\n",
      "Sparse matrix components: <KeysViewHDF5 ['data', 'indices', 'indptr']>\n",
      "\n",
      "Chunk size for data storage: (53979,)\n",
      "\n",
      "Stored embeddings (e.g. PCA, UMAP): <KeysViewHDF5 ['X_pca', 'X_scvi', 'X_umap', 'X_umap_scvi_full_donorassay', 'X_uncorrected_alltissues_umap', 'X_uncorrected_umap']>\n",
      "Pairwise relationships (e.g. distances, connectivities): <KeysViewHDF5 ['connectivities', 'distances']>\n",
      "Additional expression matrices (e.g. normalized, raw): <KeysViewHDF5 ['decontXcounts', 'scale_data']>\n"
     ]
    }
   ],
   "source": [
    "import os\n",
    "# Print the file size of the dataset\n",
    "print(f\"Dataset file size: {os.path.getsize(file_path) / 1e9:.2f} GB\")\n",
    "\n",
    "import h5py\n",
    "with h5py.File(file_path, 'r') as f:\n",
    "    # Print the main groups in the HDF5 file\n",
    "    print(\"\\nMain HDF5 groups:\", f.keys())\n",
    "    \n",
    "    # Print the type of the expression matrix storage\n",
    "    print(\"\\nExpression matrix (X) storage type:\", type(f['X']))\n",
    "    \n",
    "    # Print the components of the sparse matrix storage\n",
    "    print(\"\\nSparse matrix components:\", f['X'].keys())\n",
    "    \n",
    "    # Print the chunk size used for data storage\n",
    "    print(\"\\nChunk size for data storage:\", f['X/data'].chunks)\n",
    "    \n",
    "    # Check what additional data matrices are stored\n",
    "    print(\"\\nStored embeddings (e.g. PCA, UMAP):\", \n",
    "          f['obsm'].keys() if 'obsm' in f else \"No embeddings found\")\n",
    "    print(\"Pairwise relationships (e.g. distances, connectivities):\", \n",
    "          f['obsp'].keys() if 'obsp' in f else \"No pairwise relationships found\")\n",
    "    print(\"Additional expression matrices (e.g. normalized, raw):\", \n",
    "          f['layers'].keys() if 'layers' in f else \"No additional layers found\")"
   ]
  },
  {
   "cell_type": "code",
   "execution_count": 5,
   "metadata": {},
   "outputs": [
    {
     "name": "stdout",
     "output_type": "stream",
     "text": [
      "Contents of X group: ['data', 'indices', 'indptr']\n",
      "\n",
      "Contents of obs group: ['10X_run', '_index', '_scvi_batch', '_scvi_labels', 'ambient_removal', 'anatomical_position', 'assay', 'assay_ontology_term_id', 'broad_cell_class', 'cdna_plate', 'cdna_well', 'cell_type', 'cell_type_ontology_term_id', 'compartment', 'development_stage', 'development_stage_ontology_term_id', 'disease', 'disease_ontology_term_id', 'donor_assay', 'donor_id', 'donor_method', 'donor_tissue', 'donor_tissue_assay', 'ethnicity_original', 'free_annotation', 'is_primary_data', 'library_plate', 'manually_annotated', 'method', 'n_genes_by_counts', 'notes', 'observation_joinid', 'organism', 'organism_ontology_term_id', 'pct_counts_ercc', 'pct_counts_mt', 'published_2022', 'replicate', 'sample_id', 'sample_number', 'scvi_leiden_donorassay_full', 'self_reported_ethnicity', 'self_reported_ethnicity_ontology_term_id', 'sex', 'sex_ontology_term_id', 'suspension_type', 'tissue', 'tissue_in_publication', 'tissue_ontology_term_id', 'tissue_type', 'total_counts', 'total_counts_ercc', 'total_counts_mt']\n",
      "Contents of var group: ['ensembl_id', 'ensg', 'ercc', 'feature_biotype', 'feature_is_filtered', 'feature_length', 'feature_name', 'feature_reference', 'feature_type', 'genome', 'mean', 'mean_counts', 'mt', 'n_cells_by_counts', 'pct_dropout_by_counts', 'std', 'total_counts']\n",
      "\n",
      "Shape of X/data: (3537524007,)\n",
      "Shape of X/indices: (3537524007,)\n",
      "Shape of X/indptr: (1136219,)\n"
     ]
    }
   ],
   "source": [
    "import h5py\n",
    "\n",
    "with h5py.File(file_path, \"r\") as f:\n",
    "    # Look at the structure of the X group\n",
    "    print(\"Contents of X group:\", list(f[\"X\"].keys()))\n",
    "\n",
    "    # Look at obs and var to get dimensions\n",
    "    print(\"\\nContents of obs group:\", list(f[\"obs\"].keys()))\n",
    "    print(\"Contents of var group:\", list(f[\"var\"].keys()))\n",
    "\n",
    "    # If X contains a sparse matrix, it likely has 'data', 'indices', and 'indptr'\n",
    "    if \"data\" in f[\"X\"]:\n",
    "        print(\"\\nShape of X/data:\", f[\"X\"][\"data\"].shape)\n",
    "        print(\"Shape of X/indices:\", f[\"X\"][\"indices\"].shape)\n",
    "        print(\"Shape of X/indptr:\", f[\"X\"][\"indptr\"].shape)"
   ]
  },
  {
   "cell_type": "code",
   "execution_count": 6,
   "metadata": {},
   "outputs": [
    {
     "name": "stdout",
     "output_type": "stream",
     "text": [
      "\n",
      "Contents of obs['broad_cell_class'] group: 180\n"
     ]
    }
   ],
   "source": [
    "with h5py.File(file_path, \"r\") as f:\n",
    "    # Look at obs and var to get dimensions\n",
    "    print(\"\\nContents of obs['broad_cell_class'] group:\", len(f[\"obs\"][\"cell_type\"][\"categories\"]))"
   ]
  },
  {
   "cell_type": "markdown",
   "metadata": {},
   "source": [
    "## Load 100K cells \n",
    "\n",
    "We load a large subset of the data to make sure that we have enough cells in the smaller classes to train on.  We can use the whole dataset\n",
    "to select cells of each type from."
   ]
  },
  {
   "cell_type": "code",
   "execution_count": 7,
   "metadata": {},
   "outputs": [
    {
     "data": {
      "text/plain": [
       "<src.utils.AnnDataChunker at 0x108597220>"
      ]
     },
     "execution_count": 7,
     "metadata": {},
     "output_type": "execute_result"
    }
   ],
   "source": [
    "import h5py\n",
    "import anndata as ad\n",
    "from scipy import sparse\n",
    "import pandas as pd\n",
    "from src.utils import AnnDataChunker\n",
    "\n",
    "chunker = AnnDataChunker(file_path, [\"cell_type\", \"broad_cell_class\", \"donor_id\"])\n",
    "chunker.open()\n"
   ]
  },
  {
   "cell_type": "markdown",
   "metadata": {},
   "source": [
    "### Count the number of genes and cells in the dataset\n",
    "\n",
    "* `f['var']['feature_name']` contains the gene names\n",
    "* `f['obs']` contains metadata about the cells\n",
    "* `f['X']['indptr']` contains the indices of the cells in the sparse matrix\n",
    "* `f['X']['indices']` contains the indices of the genes in the sparse matrix rows\n",
    "* `f['X']['data']` contains the data for the matrix"
   ]
  },
  {
   "cell_type": "markdown",
   "metadata": {},
   "source": [
    "## Load the GenePT embedding data\n",
    "These embeddings were loaded from huggingface in the setup above."
   ]
  },
  {
   "cell_type": "code",
   "execution_count": 8,
   "metadata": {},
   "outputs": [],
   "source": [
    "gene_names = chunker.var.feature_name\n",
    "ensembl_ids = chunker.var.ensembl_id\n",
    "major_ensembl_ids = pd.Series(ensembl_id.split(\".\")[0] for ensembl_id in ensembl_ids)"
   ]
  },
  {
   "cell_type": "code",
   "execution_count": 9,
   "metadata": {},
   "outputs": [
    {
     "name": "stderr",
     "output_type": "stream",
     "text": [
      "/Users/rj/personal/GenePT-tools/venv3.10/lib/python3.10/site-packages/tqdm/auto.py:21: TqdmWarning: IProgress not found. Please update jupyter and ipywidgets. See https://ipywidgets.readthedocs.io/en/stable/user_install.html\n",
      "  from .autonotebook import tqdm as notebook_tqdm\n",
      "Using the latest cached version of the dataset since honicky/genept-composable-embeddings-source-data couldn't be found on the Hugging Face Hub\n",
      "Found the latest cached dataset configuration 'gene_info' at /Users/rj/.cache/huggingface/datasets/honicky___genept-composable-embeddings-source-data/gene_info/0.0.0/5a0eee4f5ea012c2de528b150376dc0d4b3c9e45 (last modified on Tue Jan 14 05:59:50 2025).\n"
     ]
    },
    {
     "data": {
      "text/html": [
       "<div>\n",
       "<style scoped>\n",
       "    .dataframe tbody tr th:only-of-type {\n",
       "        vertical-align: middle;\n",
       "    }\n",
       "\n",
       "    .dataframe tbody tr th {\n",
       "        vertical-align: top;\n",
       "    }\n",
       "\n",
       "    .dataframe thead th {\n",
       "        text-align: right;\n",
       "    }\n",
       "</style>\n",
       "<table border=\"1\" class=\"dataframe\">\n",
       "  <thead>\n",
       "    <tr style=\"text-align: right;\">\n",
       "      <th></th>\n",
       "      <th>gene_name</th>\n",
       "      <th>ensembl_id</th>\n",
       "      <th>gene_type</th>\n",
       "    </tr>\n",
       "  </thead>\n",
       "  <tbody>\n",
       "    <tr>\n",
       "      <th>0</th>\n",
       "      <td>TSPAN6</td>\n",
       "      <td>ENSG00000000003</td>\n",
       "      <td>protein_coding</td>\n",
       "    </tr>\n",
       "    <tr>\n",
       "      <th>1</th>\n",
       "      <td>TNMD</td>\n",
       "      <td>ENSG00000000005</td>\n",
       "      <td>protein_coding</td>\n",
       "    </tr>\n",
       "    <tr>\n",
       "      <th>2</th>\n",
       "      <td>DPM1</td>\n",
       "      <td>ENSG00000000419</td>\n",
       "      <td>protein_coding</td>\n",
       "    </tr>\n",
       "    <tr>\n",
       "      <th>3</th>\n",
       "      <td>SCYL3</td>\n",
       "      <td>ENSG00000000457</td>\n",
       "      <td>protein_coding</td>\n",
       "    </tr>\n",
       "    <tr>\n",
       "      <th>4</th>\n",
       "      <td>C1orf112</td>\n",
       "      <td>ENSG00000000460</td>\n",
       "      <td>protein_coding</td>\n",
       "    </tr>\n",
       "  </tbody>\n",
       "</table>\n",
       "</div>"
      ],
      "text/plain": [
       "  gene_name       ensembl_id       gene_type\n",
       "0    TSPAN6  ENSG00000000003  protein_coding\n",
       "1      TNMD  ENSG00000000005  protein_coding\n",
       "2      DPM1  ENSG00000000419  protein_coding\n",
       "3     SCYL3  ENSG00000000457  protein_coding\n",
       "4  C1orf112  ENSG00000000460  protein_coding"
      ]
     },
     "execution_count": 9,
     "metadata": {},
     "output_type": "execute_result"
    }
   ],
   "source": [
    "from datasets import load_dataset\n",
    "\n",
    "gene_info_table_dataset = load_dataset(\n",
    "    \"honicky/genept-composable-embeddings-source-data\", \"gene_info\"\n",
    ")\n",
    "gene_info_table = gene_info_table_dataset[\"train\"].to_pandas()\n",
    "gene_info_table.head()"
   ]
  },
  {
   "cell_type": "code",
   "execution_count": 10,
   "metadata": {},
   "outputs": [],
   "source": [
    "huggingface_model_dir = data_dir / \"huggingface_model\"\n",
    "gene_embedding = pd.read_parquet(\n",
    "    huggingface_model_dir\n",
    "    / \"embedding_associations_cell_type_tissue_drug_pathway_openai_large.parquet\"\n",
    ")"
   ]
  },
  {
   "cell_type": "markdown",
   "metadata": {},
   "source": [
    "# Embed using the mean for duplicate Ensembl IDs\n",
    "\n",
    "Some of the embeddings have duplicate Ensembl IDs (but separate gene names). Take the mean of the duplicates as a rough heuristic."
   ]
  },
  {
   "cell_type": "code",
   "execution_count": 11,
   "metadata": {},
   "outputs": [],
   "source": [
    "gene_embeddings_with_ensembl_id = gene_embedding.merge(\n",
    "    gene_info_table, left_index=True, right_on=\"gene_name\"\n",
    ")"
   ]
  },
  {
   "cell_type": "code",
   "execution_count": 12,
   "metadata": {},
   "outputs": [
    {
     "data": {
      "text/html": [
       "<div>\n",
       "<style scoped>\n",
       "    .dataframe tbody tr th:only-of-type {\n",
       "        vertical-align: middle;\n",
       "    }\n",
       "\n",
       "    .dataframe tbody tr th {\n",
       "        vertical-align: top;\n",
       "    }\n",
       "\n",
       "    .dataframe thead th {\n",
       "        text-align: right;\n",
       "    }\n",
       "</style>\n",
       "<table border=\"1\" class=\"dataframe\">\n",
       "  <thead>\n",
       "    <tr style=\"text-align: right;\">\n",
       "      <th></th>\n",
       "      <th>0</th>\n",
       "      <th>1</th>\n",
       "      <th>2</th>\n",
       "      <th>3</th>\n",
       "      <th>4</th>\n",
       "      <th>5</th>\n",
       "      <th>6</th>\n",
       "      <th>7</th>\n",
       "      <th>8</th>\n",
       "      <th>9</th>\n",
       "      <th>...</th>\n",
       "      <th>3065</th>\n",
       "      <th>3066</th>\n",
       "      <th>3067</th>\n",
       "      <th>3068</th>\n",
       "      <th>3069</th>\n",
       "      <th>3070</th>\n",
       "      <th>3071</th>\n",
       "      <th>gene_name</th>\n",
       "      <th>ensembl_id</th>\n",
       "      <th>gene_type</th>\n",
       "    </tr>\n",
       "  </thead>\n",
       "  <tbody>\n",
       "    <tr>\n",
       "      <th>83316</th>\n",
       "      <td>-0.008708</td>\n",
       "      <td>0.019564</td>\n",
       "      <td>-0.004104</td>\n",
       "      <td>0.007363</td>\n",
       "      <td>0.001401</td>\n",
       "      <td>-0.015853</td>\n",
       "      <td>0.031096</td>\n",
       "      <td>-0.013775</td>\n",
       "      <td>0.029875</td>\n",
       "      <td>0.012154</td>\n",
       "      <td>...</td>\n",
       "      <td>-0.027197</td>\n",
       "      <td>-0.001720</td>\n",
       "      <td>-0.017885</td>\n",
       "      <td>0.026281</td>\n",
       "      <td>-0.014139</td>\n",
       "      <td>-0.013329</td>\n",
       "      <td>-0.027221</td>\n",
       "      <td>LINC01118</td>\n",
       "      <td>ENSG00000222005</td>\n",
       "      <td>None</td>\n",
       "    </tr>\n",
       "    <tr>\n",
       "      <th>83105</th>\n",
       "      <td>-0.018096</td>\n",
       "      <td>0.014083</td>\n",
       "      <td>-0.011138</td>\n",
       "      <td>-0.001666</td>\n",
       "      <td>0.012291</td>\n",
       "      <td>-0.000067</td>\n",
       "      <td>0.038749</td>\n",
       "      <td>-0.007913</td>\n",
       "      <td>0.007358</td>\n",
       "      <td>0.008200</td>\n",
       "      <td>...</td>\n",
       "      <td>-0.016436</td>\n",
       "      <td>-0.012757</td>\n",
       "      <td>-0.025251</td>\n",
       "      <td>0.022767</td>\n",
       "      <td>-0.019888</td>\n",
       "      <td>-0.012172</td>\n",
       "      <td>-0.025777</td>\n",
       "      <td>LINC01119</td>\n",
       "      <td>ENSG00000222005</td>\n",
       "      <td>None</td>\n",
       "    </tr>\n",
       "  </tbody>\n",
       "</table>\n",
       "<p>2 rows × 3075 columns</p>\n",
       "</div>"
      ],
      "text/plain": [
       "              0         1         2         3         4         5         6  \\\n",
       "83316 -0.008708  0.019564 -0.004104  0.007363  0.001401 -0.015853  0.031096   \n",
       "83105 -0.018096  0.014083 -0.011138 -0.001666  0.012291 -0.000067  0.038749   \n",
       "\n",
       "              7         8         9  ...      3065      3066      3067  \\\n",
       "83316 -0.013775  0.029875  0.012154  ... -0.027197 -0.001720 -0.017885   \n",
       "83105 -0.007913  0.007358  0.008200  ... -0.016436 -0.012757 -0.025251   \n",
       "\n",
       "           3068      3069      3070      3071  gene_name       ensembl_id  \\\n",
       "83316  0.026281 -0.014139 -0.013329 -0.027221  LINC01118  ENSG00000222005   \n",
       "83105  0.022767 -0.019888 -0.012172 -0.025777  LINC01119  ENSG00000222005   \n",
       "\n",
       "       gene_type  \n",
       "83316       None  \n",
       "83105       None  \n",
       "\n",
       "[2 rows x 3075 columns]"
      ]
     },
     "execution_count": 12,
     "metadata": {},
     "output_type": "execute_result"
    }
   ],
   "source": [
    "gene_embeddings_with_ensembl_id[\n",
    "    gene_embeddings_with_ensembl_id.ensembl_id == \"ENSG00000222005\"\n",
    "]"
   ]
  },
  {
   "cell_type": "code",
   "execution_count": 13,
   "metadata": {},
   "outputs": [
    {
     "data": {
      "text/plain": [
       "ensembl_id\n",
       "ENSG00000000003    2\n",
       "ENSG00000243485    2\n",
       "ENSG00000222005    2\n",
       "ENSG00000264405    2\n",
       "ENSG00000204792    2\n",
       "ENSG00000201388    2\n",
       "ENSG00000222345    2\n",
       "ENSG00000276234    2\n",
       "ENSG00000187838    2\n",
       "ENSG00000202377    2\n",
       "ENSG00000226364    2\n",
       "ENSG00000269433    2\n",
       "ENSG00000183598    2\n",
       "ENSG00000267151    2\n",
       "ENSG00000236790    2\n",
       "ENSG00000264073    2\n",
       "ENSG00000265134    2\n",
       "ENSG00000238936    2\n",
       "ENSG00000270722    2\n",
       "ENSG00000226444    2\n",
       "ENSG00000269099    2\n",
       "ENSG00000204397    2\n",
       "ENSG00000249532    2\n",
       "ENSG00000206603    2\n",
       "ENSG00000284917    2\n",
       "ENSG00000268942    2\n",
       "ENSG00000206903    2\n",
       "ENSG00000063587    2\n",
       "ENSG00000274020    2\n",
       "ENSG00000255154    2\n",
       "ENSG00000090857    2\n",
       "ENSG00000254508    2\n",
       "ENSG00000206897    2\n",
       "ENSG00000251866    2\n",
       "ENSG00000226419    2\n",
       "ENSG00000264448    2\n",
       "ENSG00000206785    2\n",
       "ENSG00000197927    2\n",
       "ENSG00000245080    2\n",
       "ENSG00000269586    2\n",
       "ENSG00000227518    2\n",
       "ENSG00000145491    2\n",
       "ENSG00000221164    2\n",
       "ENSG00000250331    2\n",
       "ENSG00000223770    2\n",
       "ENSG00000269955    2\n",
       "ENSG00000207187    2\n",
       "ENSG00000270011    2\n",
       "ENSG00000212295    2\n",
       "ENSG00000260458    2\n",
       "ENSG00000198064    2\n",
       "ENSG00000236975    2\n",
       "ENSG00000266780    2\n",
       "ENSG00000196696    2\n",
       "ENSG00000208308    2\n",
       "ENSG00000212309    2\n",
       "ENSG00000271907    2\n",
       "ENSG00000265014    2\n",
       "ENSG00000088298    2\n",
       "ENSG00000212264    2\n",
       "ENSG00000212214    2\n",
       "ENSG00000121933    2\n",
       "ENSG00000284505    2\n",
       "ENSG00000264105    2\n",
       "ENSG00000178734    2\n",
       "ENSG00000211563    2\n",
       "ENSG00000253828    2\n",
       "ENSG00000274290    2\n",
       "ENSG00000264346    2\n",
       "ENSG00000252830    2\n",
       "ENSG00000202189    2\n",
       "ENSG00000265075    2\n",
       "ENSG00000266038    2\n",
       "ENSG00000231646    2\n",
       "ENSG00000231767    2\n",
       "ENSG00000251209    2\n",
       "ENSG00000283569    2\n",
       "ENSG00000263572    2\n",
       "ENSG00000221750    2\n",
       "ENSG00000076554    2\n",
       "ENSG00000206947    2\n",
       "ENSG00000207516    2\n",
       "ENSG00000264717    2\n",
       "ENSG00000259324    2\n",
       "ENSG00000268471    2\n",
       "ENSG00000225327    2\n",
       "ENSG00000275379    2\n",
       "ENSG00000254119    2\n",
       "ENSG00000252284    2\n",
       "ENSG00000120341    2\n",
       "ENSG00000286061    2\n",
       "ENSG00000276903    2\n",
       "ENSG00000253051    2\n",
       "ENSG00000109927    2\n",
       "ENSG00000267532    2\n",
       "ENSG00000273331    2\n",
       "ENSG00000276966    2\n",
       "ENSG00000201142    2\n",
       "ENSG00000266354    2\n",
       "ENSG00000212587    2\n",
       "ENSG00000182974    2\n",
       "ENSG00000252699    2\n",
       "ENSG00000188660    2\n",
       "ENSG00000000005    2\n",
       "ENSG00000118804    2\n",
       "ENSG00000283340    2\n",
       "ENSG00000187600    2\n",
       "ENSG00000277075    2\n",
       "ENSG00000288859    2\n",
       "ENSG00000266206    2\n",
       "ENSG00000257114    2\n",
       "ENSG00000085231    2\n",
       "ENSG00000199405    2\n",
       "ENSG00000255267    2\n",
       "ENSG00000216195    2\n",
       "ENSG00000207344    2\n",
       "ENSG00000252135    2\n",
       "ENSG00000132670    2\n",
       "ENSG00000207778    2\n",
       "ENSG00000241098    2\n",
       "ENSG00000222489    2\n",
       "ENSG00000207062    2\n",
       "ENSG00000128534    2\n",
       "ENSG00000263468    2\n",
       "Name: count, dtype: int64"
      ]
     },
     "execution_count": 13,
     "metadata": {},
     "output_type": "execute_result"
    }
   ],
   "source": [
    "import numpy as np\n",
    "\n",
    "matching_ensembl_ids = pd.DataFrame(major_ensembl_ids, columns=[\"ensembl_id\"]).merge(\n",
    "    gene_embeddings_with_ensembl_id, left_on=\"ensembl_id\", right_on=\"ensembl_id\"\n",
    ")[[\"gene_name\", \"ensembl_id\"]]\n",
    "ensembl_id_counts = matching_ensembl_ids.ensembl_id.value_counts()\n",
    "ensembl_id_counts[ensembl_id_counts > 1]"
   ]
  },
  {
   "cell_type": "code",
   "execution_count": 14,
   "metadata": {},
   "outputs": [
    {
     "name": "stdout",
     "output_type": "stream",
     "text": [
      "Original shape: (37220, 3075)\n",
      "After merging duplicates: (36573, 3073)\n",
      "\n",
      "Number of remaining duplicates: 0\n"
     ]
    }
   ],
   "source": [
    "import numpy as np\n",
    "\n",
    "# Get embeddings without metadata columns\n",
    "embedding_cols = [\n",
    "    col\n",
    "    for col in gene_embeddings_with_ensembl_id.columns\n",
    "    if col not in [\"gene_name\", \"ensembl_id\", \"gene_type\"]\n",
    "]\n",
    "\n",
    "# Group by ensembl_id and take mean of embeddings\n",
    "merged_embeddings = (\n",
    "    gene_embeddings_with_ensembl_id.groupby(\"ensembl_id\")[embedding_cols]\n",
    "    .mean()\n",
    "    .reset_index()\n",
    ")\n",
    "\n",
    "# Renormalize the embeddings\n",
    "embedding_values = merged_embeddings[embedding_cols].values\n",
    "norms = np.linalg.norm(embedding_values, axis=1, keepdims=True)\n",
    "merged_embeddings[embedding_cols] = embedding_values / norms\n",
    "\n",
    "# Verify the results\n",
    "print(f\"Original shape: {gene_embeddings_with_ensembl_id.shape}\")\n",
    "print(f\"After merging duplicates: {merged_embeddings.shape}\")\n",
    "\n",
    "# Verify all duplicates are resolved\n",
    "duplicate_check = merged_embeddings.ensembl_id.value_counts()\n",
    "print(\"\\nNumber of remaining duplicates:\", (duplicate_check > 1).sum())"
   ]
  },
  {
   "cell_type": "code",
   "execution_count": 15,
   "metadata": {},
   "outputs": [
    {
     "data": {
      "text/plain": [
       "0        ENSG00000000003\n",
       "1        ENSG00000000005\n",
       "2        ENSG00000000419\n",
       "3        ENSG00000000457\n",
       "4        ENSG00000000460\n",
       "              ...       \n",
       "36568    ENSGR0000230542\n",
       "36569    ENSGR0000234958\n",
       "36570    ENSGR0000236871\n",
       "36571    ENSGR0000237040\n",
       "36572    ENSGR0000265658\n",
       "Name: ensembl_id, Length: 36573, dtype: object"
      ]
     },
     "execution_count": 15,
     "metadata": {},
     "output_type": "execute_result"
    }
   ],
   "source": [
    "merged_embeddings.ensembl_id"
   ]
  },
  {
   "cell_type": "code",
   "execution_count": 16,
   "metadata": {},
   "outputs": [],
   "source": [
    "import src.inference as inference\n",
    "\n",
    "embedding_matrix, valid_indices = inference.create_embedding_matrix_torch(\n",
    "    merged_embeddings, major_ensembl_ids\n",
    ")"
   ]
  },
  {
   "cell_type": "code",
   "execution_count": 17,
   "metadata": {},
   "outputs": [
    {
     "data": {
      "text/plain": [
       "torch.Size([3072, 33258])"
      ]
     },
     "execution_count": 17,
     "metadata": {},
     "output_type": "execute_result"
    }
   ],
   "source": [
    "embedding_matrix.shape"
   ]
  },
  {
   "cell_type": "code",
   "execution_count": 21,
   "metadata": {},
   "outputs": [
    {
     "name": "stderr",
     "output_type": "stream",
     "text": [
      "/Users/rj/personal/GenePT-tools/venv3.10/lib/python3.10/site-packages/anndata/_core/aligned_df.py:68: ImplicitModificationWarning: Transforming to str index.\n",
      "  warnings.warn(\"Transforming to str index.\", ImplicitModificationWarning)\n"
     ]
    },
    {
     "name": "stdout",
     "output_type": "stream",
     "text": [
      "Original data memory address: fd627f3cb9bd4840fd62\n",
      "Reference count before: 2\n",
      "Tensor data memory address: 31deb0000\n",
      "Reference count after: 3\n",
      "Is tensor contiguous? True\n",
      "Original data type: float32\n",
      "Tensor data type: torch.float32\n",
      "Shape of cell embeddings: (10000, 3072)\n",
      "Total time: 119.89 seconds\n",
      "Processing speed: 83.4 cells/second\n"
     ]
    }
   ],
   "source": [
    "from threading import Thread\n",
    "from queue import Queue\n",
    "import numpy as np\n",
    "import time\n",
    "import torch\n",
    "\n",
    "\n",
    "adata_filtered = chunker.load_subset(0, 10000, valid_indices)\n",
    "\n",
    "start_time = time.time()\n",
    "\n",
    "import sys\n",
    "import numpy as np\n",
    "\n",
    "# Check memory addresses and ref counts before\n",
    "print(f\"Original data memory address: {adata_filtered.X.data.data.tobytes()[:10].hex()}\")\n",
    "print(f\"Reference count before: {sys.getrefcount(adata_filtered.X.data)}\")\n",
    "\n",
    "# Create tensor\n",
    "chunk_data_tensor = torch.sparse_csr_tensor(\n",
    "    torch.from_numpy(adata_filtered.X.indptr),\n",
    "    torch.from_numpy(adata_filtered.X.indices),\n",
    "    torch.from_numpy(adata_filtered.X.data),\n",
    "    size=adata_filtered.X.shape\n",
    ")\n",
    "\n",
    "# Check tensor's data memory address\n",
    "print(f\"Tensor data memory address: {chunk_data_tensor.values().data_ptr():x}\")\n",
    "print(f\"Reference count after: {sys.getrefcount(adata_filtered.X.data)}\")\n",
    "\n",
    "# Check if data is contiguous and shares memory\n",
    "print(f\"Is tensor contiguous? {chunk_data_tensor.values().is_contiguous()}\")\n",
    "print(f\"Original data type: {adata_filtered.X.data.dtype}\")\n",
    "print(f\"Tensor data type: {chunk_data_tensor.dtype}\")\n",
    "# Create embeddings for this chunk\n",
    "cell_embeddings_pt = inference.create_cell_embeddings_torch(\n",
    "    chunk_data_tensor, embedding_matrix\n",
    ")\n",
    "\n",
    "# If tensor is already on CPU, use in-place operation\n",
    "if cell_embeddings_pt.device.type == 'cpu':\n",
    "    cell_embeddings = cell_embeddings_pt.numpy()\n",
    "else:\n",
    "    # Move to CPU and convert to numpy\n",
    "    cell_embeddings = cell_embeddings_pt.to(\"cpu\").numpy()\n",
    "\n",
    "end_time = time.time()\n",
    "\n",
    "# Calculate metrics\n",
    "total_time = end_time - start_time\n",
    "cells_per_second = cell_embeddings.shape[0] / total_time\n",
    "\n",
    "print(f\"Shape of cell embeddings: {cell_embeddings.shape}\")\n",
    "print(f\"Total time: {total_time:.2f} seconds\")\n",
    "print(f\"Processing speed: {cells_per_second:.1f} cells/second\")"
   ]
  },
  {
   "cell_type": "code",
   "execution_count": 19,
   "metadata": {},
   "outputs": [
    {
     "name": "stdout",
     "output_type": "stream",
     "text": [
      "Shape of cell embeddings: (100000, 3072)\n",
      "Number of genes used: 33258 out of 61759 total genes\n",
      "Total time: 246.57 seconds\n",
      "Processing speed: 405.6 cells/second\n"
     ]
    }
   ],
   "source": [
    "# import time\n",
    "# import numpy as np\n",
    "\n",
    "# # Time the embedding creation\n",
    "# start_time = time.time()\n",
    "# cell_embeddings = inference.create_cell_embeddings(\n",
    "#     adata_filtered.X, embedding_matrix, valid_indices\n",
    "# )\n",
    "# end_time = time.time()\n",
    "\n",
    "# # Calculate metrics\n",
    "# total_time = end_time - start_time\n",
    "# cells_per_second = cell_embeddings.shape[0] / total_time\n",
    "\n",
    "# print(f\"Shape of cell embeddings: {cell_embeddings.shape}\")\n",
    "# print(f\"Number of genes used: {len(valid_indices)} out of {len(major_ensembl_ids)} total genes\")\n",
    "# print(f\"Total time: {total_time:.2f} seconds\")\n",
    "# print(f\"Processing speed: {cells_per_second:.1f} cells/second\")"
   ]
  },
  {
   "cell_type": "code",
   "execution_count": null,
   "metadata": {},
   "outputs": [
    {
     "data": {
      "text/html": [
       "<div>\n",
       "<style scoped>\n",
       "    .dataframe tbody tr th:only-of-type {\n",
       "        vertical-align: middle;\n",
       "    }\n",
       "\n",
       "    .dataframe tbody tr th {\n",
       "        vertical-align: top;\n",
       "    }\n",
       "\n",
       "    .dataframe thead th {\n",
       "        text-align: right;\n",
       "    }\n",
       "</style>\n",
       "<table border=\"1\" class=\"dataframe\">\n",
       "  <thead>\n",
       "    <tr style=\"text-align: right;\">\n",
       "      <th></th>\n",
       "      <th>cell_type</th>\n",
       "      <th>broad_cell_class</th>\n",
       "      <th>donor_id</th>\n",
       "    </tr>\n",
       "  </thead>\n",
       "  <tbody>\n",
       "    <tr>\n",
       "      <th>0</th>\n",
       "      <td>naive thymus-derived CD4-positive, alpha-beta ...</td>\n",
       "      <td>t cell</td>\n",
       "      <td>TSP2</td>\n",
       "    </tr>\n",
       "    <tr>\n",
       "      <th>1</th>\n",
       "      <td>B cell</td>\n",
       "      <td>lymphocyte of b lineage</td>\n",
       "      <td>TSP2</td>\n",
       "    </tr>\n",
       "    <tr>\n",
       "      <th>2</th>\n",
       "      <td>B cell</td>\n",
       "      <td>lymphocyte of b lineage</td>\n",
       "      <td>TSP2</td>\n",
       "    </tr>\n",
       "    <tr>\n",
       "      <th>3</th>\n",
       "      <td>B cell</td>\n",
       "      <td>lymphocyte of b lineage</td>\n",
       "      <td>TSP2</td>\n",
       "    </tr>\n",
       "    <tr>\n",
       "      <th>4</th>\n",
       "      <td>CD8-positive, alpha-beta T cell</td>\n",
       "      <td>t cell</td>\n",
       "      <td>TSP2</td>\n",
       "    </tr>\n",
       "    <tr>\n",
       "      <th>...</th>\n",
       "      <td>...</td>\n",
       "      <td>...</td>\n",
       "      <td>...</td>\n",
       "    </tr>\n",
       "    <tr>\n",
       "      <th>9995</th>\n",
       "      <td>macrophage</td>\n",
       "      <td>myeloid leukocyte</td>\n",
       "      <td>TSP14</td>\n",
       "    </tr>\n",
       "    <tr>\n",
       "      <th>9996</th>\n",
       "      <td>T cell</td>\n",
       "      <td>t cell</td>\n",
       "      <td>TSP14</td>\n",
       "    </tr>\n",
       "    <tr>\n",
       "      <th>9997</th>\n",
       "      <td>macrophage</td>\n",
       "      <td>myeloid leukocyte</td>\n",
       "      <td>TSP14</td>\n",
       "    </tr>\n",
       "    <tr>\n",
       "      <th>9998</th>\n",
       "      <td>mast cell</td>\n",
       "      <td>granulocyte</td>\n",
       "      <td>TSP14</td>\n",
       "    </tr>\n",
       "    <tr>\n",
       "      <th>9999</th>\n",
       "      <td>mast cell</td>\n",
       "      <td>granulocyte</td>\n",
       "      <td>TSP14</td>\n",
       "    </tr>\n",
       "  </tbody>\n",
       "</table>\n",
       "<p>10000 rows × 3 columns</p>\n",
       "</div>"
      ],
      "text/plain": [
       "                                              cell_type  \\\n",
       "0     naive thymus-derived CD4-positive, alpha-beta ...   \n",
       "1                                                B cell   \n",
       "2                                                B cell   \n",
       "3                                                B cell   \n",
       "4                       CD8-positive, alpha-beta T cell   \n",
       "...                                                 ...   \n",
       "9995                                         macrophage   \n",
       "9996                                             T cell   \n",
       "9997                                         macrophage   \n",
       "9998                                          mast cell   \n",
       "9999                                          mast cell   \n",
       "\n",
       "             broad_cell_class donor_id  \n",
       "0                      t cell     TSP2  \n",
       "1     lymphocyte of b lineage     TSP2  \n",
       "2     lymphocyte of b lineage     TSP2  \n",
       "3     lymphocyte of b lineage     TSP2  \n",
       "4                      t cell     TSP2  \n",
       "...                       ...      ...  \n",
       "9995        myeloid leukocyte    TSP14  \n",
       "9996                   t cell    TSP14  \n",
       "9997        myeloid leukocyte    TSP14  \n",
       "9998              granulocyte    TSP14  \n",
       "9999              granulocyte    TSP14  \n",
       "\n",
       "[10000 rows x 3 columns]"
      ]
     },
     "execution_count": 24,
     "metadata": {},
     "output_type": "execute_result"
    }
   ],
   "source": [
    "adata_filtered.obs"
   ]
  },
  {
   "cell_type": "code",
   "execution_count": 25,
   "metadata": {},
   "outputs": [
    {
     "name": "stdout",
     "output_type": "stream",
     "text": [
      "Loaded metadata keys: ['cell_type', 'broad_cell_class', 'donor_id']\n",
      "\n",
      "First 5 values of cell_type:\n",
      "0    naive thymus-derived CD4-positive, alpha-beta ...\n",
      "1                                               B cell\n",
      "2                                               B cell\n",
      "3                                               B cell\n",
      "4                      CD8-positive, alpha-beta T cell\n",
      "Name: cell_type, dtype: category\n",
      "Categories (180, object): ['male germ cell', 'spermatocyte', 'spermatid', 'spermatogonium', ..., 'alveolar adventitial fibroblast', 'BEST4+ intestinal epithelial cell, human', 'enteroglial cell', 'unknown']\n",
      "\n",
      "First 5 values of broad_cell_class:\n",
      "0                     t cell\n",
      "1    lymphocyte of b lineage\n",
      "2    lymphocyte of b lineage\n",
      "3    lymphocyte of b lineage\n",
      "4                     t cell\n",
      "Name: broad_cell_class, dtype: category\n",
      "Categories (40, object): ['adventitial cell', 'cardiac endothelial cell', 'ciliated epithelial cell', 'conjunctival epithelial cell', ..., 'stromal cell', 't cell', 'transitional epithelial cell', 'vestibular dark cell']\n",
      "\n",
      "First 5 values of donor_id:\n",
      "0    TSP2\n",
      "1    TSP2\n",
      "2    TSP2\n",
      "3    TSP2\n",
      "4    TSP2\n",
      "Name: donor_id, dtype: category\n",
      "Categories (24, object): ['TSP1', 'TSP2', 'TSP3', 'TSP4', ..., 'TSP26', 'TSP27', 'TSP28', 'TSP30']\n"
     ]
    }
   ],
   "source": [
    "# def load_cell_metadata(file_path, start_row=0, n_rows=1000, columns=None):\n",
    "#     \"\"\"\n",
    "#     Load metadata for specific cells.\n",
    "\n",
    "#     Args:\n",
    "#         file_path: Path to h5ad file\n",
    "#         start_row: Starting row index\n",
    "#         n_rows: Number of rows to load\n",
    "#         columns: List of metadata columns to load (if None, load all)\n",
    "\n",
    "#     Returns:\n",
    "#         Dictionary of metadata arrays\n",
    "#     \"\"\"\n",
    "#     with h5py.File(file_path, 'r') as f:\n",
    "#         metadata = {}\n",
    "#         obs_keys = list(f['obs'].keys()) if columns is None else columns\n",
    "#         for key in obs_keys:\n",
    "#             if key in f['obs']:\n",
    "#                 column_group = f['obs'][key]\n",
    "#                 if isinstance(column_group, h5py.Dataset):\n",
    "#                     metadata[key] = column_group[start_row:start_row + n_rows]\n",
    "#                 else:\n",
    "#                     if 'categories' in column_group and 'codes' in column_group:\n",
    "#                         # Get categories and decode from bytes to strings\n",
    "#                         categories = [cat.decode('utf-8') for cat in column_group['categories'][:]]\n",
    "#                         codes = column_group['codes'][start_row:start_row + n_rows]\n",
    "#                         metadata[key] = np.array([categories[code] for code in codes])\n",
    "#     return metadata\n",
    "\n",
    "# # Example usage:\n",
    "# metadata = load_cell_metadata(file_path, start_row=0, n_rows=1136219,\n",
    "#                             columns=['cell_type', 'total_counts', 'broad_cell_class', 'donor_id'])\n",
    "metadata = adata_filtered.obs\n",
    "\n",
    "print(\"Loaded metadata keys:\", list(metadata.keys()))\n",
    "\n",
    "# Print first few values of each column\n",
    "for key in metadata:\n",
    "    print(f\"\\nFirst 5 values of {key}:\")\n",
    "    print(metadata[key][:5])"
   ]
  },
  {
   "cell_type": "code",
   "execution_count": 26,
   "metadata": {},
   "outputs": [
    {
     "data": {
      "text/html": [
       "<div>\n",
       "<style scoped>\n",
       "    .dataframe tbody tr th:only-of-type {\n",
       "        vertical-align: middle;\n",
       "    }\n",
       "\n",
       "    .dataframe tbody tr th {\n",
       "        vertical-align: top;\n",
       "    }\n",
       "\n",
       "    .dataframe thead th {\n",
       "        text-align: right;\n",
       "    }\n",
       "</style>\n",
       "<table border=\"1\" class=\"dataframe\">\n",
       "  <thead>\n",
       "    <tr style=\"text-align: right;\">\n",
       "      <th></th>\n",
       "      <th>0</th>\n",
       "      <th>1</th>\n",
       "      <th>2</th>\n",
       "      <th>3</th>\n",
       "      <th>4</th>\n",
       "      <th>5</th>\n",
       "      <th>6</th>\n",
       "      <th>7</th>\n",
       "      <th>8</th>\n",
       "      <th>9</th>\n",
       "      <th>...</th>\n",
       "      <th>3065</th>\n",
       "      <th>3066</th>\n",
       "      <th>3067</th>\n",
       "      <th>3068</th>\n",
       "      <th>3069</th>\n",
       "      <th>3070</th>\n",
       "      <th>3071</th>\n",
       "      <th>cell_type</th>\n",
       "      <th>broad_cell_class</th>\n",
       "      <th>donor_id</th>\n",
       "    </tr>\n",
       "  </thead>\n",
       "  <tbody>\n",
       "    <tr>\n",
       "      <th>0</th>\n",
       "      <td>-0.007720</td>\n",
       "      <td>0.013851</td>\n",
       "      <td>-0.005736</td>\n",
       "      <td>0.010341</td>\n",
       "      <td>0.000320</td>\n",
       "      <td>-0.023683</td>\n",
       "      <td>0.041729</td>\n",
       "      <td>-0.033866</td>\n",
       "      <td>0.035611</td>\n",
       "      <td>0.005238</td>\n",
       "      <td>...</td>\n",
       "      <td>-0.015777</td>\n",
       "      <td>-0.000016</td>\n",
       "      <td>-0.017384</td>\n",
       "      <td>0.023981</td>\n",
       "      <td>-0.007408</td>\n",
       "      <td>-0.003723</td>\n",
       "      <td>-0.018266</td>\n",
       "      <td>naive thymus-derived CD4-positive, alpha-beta ...</td>\n",
       "      <td>t cell</td>\n",
       "      <td>TSP2</td>\n",
       "    </tr>\n",
       "    <tr>\n",
       "      <th>1</th>\n",
       "      <td>-0.005579</td>\n",
       "      <td>0.015617</td>\n",
       "      <td>-0.005555</td>\n",
       "      <td>0.009382</td>\n",
       "      <td>0.001121</td>\n",
       "      <td>-0.022421</td>\n",
       "      <td>0.040697</td>\n",
       "      <td>-0.034355</td>\n",
       "      <td>0.035864</td>\n",
       "      <td>0.004520</td>\n",
       "      <td>...</td>\n",
       "      <td>-0.014589</td>\n",
       "      <td>0.000164</td>\n",
       "      <td>-0.017984</td>\n",
       "      <td>0.023778</td>\n",
       "      <td>-0.007307</td>\n",
       "      <td>-0.004185</td>\n",
       "      <td>-0.018247</td>\n",
       "      <td>B cell</td>\n",
       "      <td>lymphocyte of b lineage</td>\n",
       "      <td>TSP2</td>\n",
       "    </tr>\n",
       "    <tr>\n",
       "      <th>2</th>\n",
       "      <td>-0.007412</td>\n",
       "      <td>0.014734</td>\n",
       "      <td>-0.005714</td>\n",
       "      <td>0.010164</td>\n",
       "      <td>0.001523</td>\n",
       "      <td>-0.023222</td>\n",
       "      <td>0.042165</td>\n",
       "      <td>-0.034563</td>\n",
       "      <td>0.036910</td>\n",
       "      <td>0.005400</td>\n",
       "      <td>...</td>\n",
       "      <td>-0.014859</td>\n",
       "      <td>0.000339</td>\n",
       "      <td>-0.017272</td>\n",
       "      <td>0.024080</td>\n",
       "      <td>-0.006957</td>\n",
       "      <td>-0.004390</td>\n",
       "      <td>-0.017801</td>\n",
       "      <td>B cell</td>\n",
       "      <td>lymphocyte of b lineage</td>\n",
       "      <td>TSP2</td>\n",
       "    </tr>\n",
       "    <tr>\n",
       "      <th>3</th>\n",
       "      <td>-0.008063</td>\n",
       "      <td>0.014125</td>\n",
       "      <td>-0.005429</td>\n",
       "      <td>0.010397</td>\n",
       "      <td>-0.000308</td>\n",
       "      <td>-0.023580</td>\n",
       "      <td>0.041392</td>\n",
       "      <td>-0.034021</td>\n",
       "      <td>0.035953</td>\n",
       "      <td>0.005418</td>\n",
       "      <td>...</td>\n",
       "      <td>-0.015378</td>\n",
       "      <td>-0.000165</td>\n",
       "      <td>-0.017942</td>\n",
       "      <td>0.023627</td>\n",
       "      <td>-0.007249</td>\n",
       "      <td>-0.003548</td>\n",
       "      <td>-0.018380</td>\n",
       "      <td>B cell</td>\n",
       "      <td>lymphocyte of b lineage</td>\n",
       "      <td>TSP2</td>\n",
       "    </tr>\n",
       "    <tr>\n",
       "      <th>4</th>\n",
       "      <td>-0.006627</td>\n",
       "      <td>0.014602</td>\n",
       "      <td>-0.005593</td>\n",
       "      <td>0.009993</td>\n",
       "      <td>0.002419</td>\n",
       "      <td>-0.021874</td>\n",
       "      <td>0.041174</td>\n",
       "      <td>-0.034943</td>\n",
       "      <td>0.036720</td>\n",
       "      <td>0.005483</td>\n",
       "      <td>...</td>\n",
       "      <td>-0.015101</td>\n",
       "      <td>0.000418</td>\n",
       "      <td>-0.018152</td>\n",
       "      <td>0.023877</td>\n",
       "      <td>-0.006763</td>\n",
       "      <td>-0.004058</td>\n",
       "      <td>-0.017972</td>\n",
       "      <td>CD8-positive, alpha-beta T cell</td>\n",
       "      <td>t cell</td>\n",
       "      <td>TSP2</td>\n",
       "    </tr>\n",
       "    <tr>\n",
       "      <th>...</th>\n",
       "      <td>...</td>\n",
       "      <td>...</td>\n",
       "      <td>...</td>\n",
       "      <td>...</td>\n",
       "      <td>...</td>\n",
       "      <td>...</td>\n",
       "      <td>...</td>\n",
       "      <td>...</td>\n",
       "      <td>...</td>\n",
       "      <td>...</td>\n",
       "      <td>...</td>\n",
       "      <td>...</td>\n",
       "      <td>...</td>\n",
       "      <td>...</td>\n",
       "      <td>...</td>\n",
       "      <td>...</td>\n",
       "      <td>...</td>\n",
       "      <td>...</td>\n",
       "      <td>...</td>\n",
       "      <td>...</td>\n",
       "      <td>...</td>\n",
       "    </tr>\n",
       "    <tr>\n",
       "      <th>9995</th>\n",
       "      <td>-0.007187</td>\n",
       "      <td>0.015967</td>\n",
       "      <td>-0.005466</td>\n",
       "      <td>0.009160</td>\n",
       "      <td>0.004823</td>\n",
       "      <td>-0.021902</td>\n",
       "      <td>0.038536</td>\n",
       "      <td>-0.036308</td>\n",
       "      <td>0.038071</td>\n",
       "      <td>0.003966</td>\n",
       "      <td>...</td>\n",
       "      <td>-0.014213</td>\n",
       "      <td>0.001092</td>\n",
       "      <td>-0.017817</td>\n",
       "      <td>0.023512</td>\n",
       "      <td>-0.007067</td>\n",
       "      <td>-0.004614</td>\n",
       "      <td>-0.018447</td>\n",
       "      <td>macrophage</td>\n",
       "      <td>myeloid leukocyte</td>\n",
       "      <td>TSP14</td>\n",
       "    </tr>\n",
       "    <tr>\n",
       "      <th>9996</th>\n",
       "      <td>-0.007834</td>\n",
       "      <td>0.014847</td>\n",
       "      <td>-0.005910</td>\n",
       "      <td>0.009447</td>\n",
       "      <td>0.001457</td>\n",
       "      <td>-0.021850</td>\n",
       "      <td>0.040369</td>\n",
       "      <td>-0.034805</td>\n",
       "      <td>0.038106</td>\n",
       "      <td>0.005192</td>\n",
       "      <td>...</td>\n",
       "      <td>-0.014837</td>\n",
       "      <td>0.000930</td>\n",
       "      <td>-0.017083</td>\n",
       "      <td>0.023103</td>\n",
       "      <td>-0.006398</td>\n",
       "      <td>-0.003092</td>\n",
       "      <td>-0.017232</td>\n",
       "      <td>T cell</td>\n",
       "      <td>t cell</td>\n",
       "      <td>TSP14</td>\n",
       "    </tr>\n",
       "    <tr>\n",
       "      <th>9997</th>\n",
       "      <td>-0.010408</td>\n",
       "      <td>0.017290</td>\n",
       "      <td>-0.005335</td>\n",
       "      <td>0.008223</td>\n",
       "      <td>0.005261</td>\n",
       "      <td>-0.021961</td>\n",
       "      <td>0.035685</td>\n",
       "      <td>-0.036731</td>\n",
       "      <td>0.037943</td>\n",
       "      <td>0.001932</td>\n",
       "      <td>...</td>\n",
       "      <td>-0.014933</td>\n",
       "      <td>0.000962</td>\n",
       "      <td>-0.018446</td>\n",
       "      <td>0.023422</td>\n",
       "      <td>-0.007367</td>\n",
       "      <td>-0.004373</td>\n",
       "      <td>-0.018508</td>\n",
       "      <td>macrophage</td>\n",
       "      <td>myeloid leukocyte</td>\n",
       "      <td>TSP14</td>\n",
       "    </tr>\n",
       "    <tr>\n",
       "      <th>9998</th>\n",
       "      <td>-0.006572</td>\n",
       "      <td>0.015467</td>\n",
       "      <td>-0.005140</td>\n",
       "      <td>0.008197</td>\n",
       "      <td>0.000863</td>\n",
       "      <td>-0.023032</td>\n",
       "      <td>0.040971</td>\n",
       "      <td>-0.035768</td>\n",
       "      <td>0.036060</td>\n",
       "      <td>0.004490</td>\n",
       "      <td>...</td>\n",
       "      <td>-0.014846</td>\n",
       "      <td>0.000088</td>\n",
       "      <td>-0.017184</td>\n",
       "      <td>0.023590</td>\n",
       "      <td>-0.007205</td>\n",
       "      <td>-0.004473</td>\n",
       "      <td>-0.017510</td>\n",
       "      <td>mast cell</td>\n",
       "      <td>granulocyte</td>\n",
       "      <td>TSP14</td>\n",
       "    </tr>\n",
       "    <tr>\n",
       "      <th>9999</th>\n",
       "      <td>-0.006888</td>\n",
       "      <td>0.015932</td>\n",
       "      <td>-0.005717</td>\n",
       "      <td>0.008660</td>\n",
       "      <td>0.003561</td>\n",
       "      <td>-0.021916</td>\n",
       "      <td>0.038521</td>\n",
       "      <td>-0.035606</td>\n",
       "      <td>0.036693</td>\n",
       "      <td>0.003859</td>\n",
       "      <td>...</td>\n",
       "      <td>-0.014414</td>\n",
       "      <td>0.000317</td>\n",
       "      <td>-0.016786</td>\n",
       "      <td>0.023482</td>\n",
       "      <td>-0.006957</td>\n",
       "      <td>-0.004518</td>\n",
       "      <td>-0.017495</td>\n",
       "      <td>mast cell</td>\n",
       "      <td>granulocyte</td>\n",
       "      <td>TSP14</td>\n",
       "    </tr>\n",
       "  </tbody>\n",
       "</table>\n",
       "<p>10000 rows × 3075 columns</p>\n",
       "</div>"
      ],
      "text/plain": [
       "             0         1         2         3         4         5         6  \\\n",
       "0    -0.007720  0.013851 -0.005736  0.010341  0.000320 -0.023683  0.041729   \n",
       "1    -0.005579  0.015617 -0.005555  0.009382  0.001121 -0.022421  0.040697   \n",
       "2    -0.007412  0.014734 -0.005714  0.010164  0.001523 -0.023222  0.042165   \n",
       "3    -0.008063  0.014125 -0.005429  0.010397 -0.000308 -0.023580  0.041392   \n",
       "4    -0.006627  0.014602 -0.005593  0.009993  0.002419 -0.021874  0.041174   \n",
       "...        ...       ...       ...       ...       ...       ...       ...   \n",
       "9995 -0.007187  0.015967 -0.005466  0.009160  0.004823 -0.021902  0.038536   \n",
       "9996 -0.007834  0.014847 -0.005910  0.009447  0.001457 -0.021850  0.040369   \n",
       "9997 -0.010408  0.017290 -0.005335  0.008223  0.005261 -0.021961  0.035685   \n",
       "9998 -0.006572  0.015467 -0.005140  0.008197  0.000863 -0.023032  0.040971   \n",
       "9999 -0.006888  0.015932 -0.005717  0.008660  0.003561 -0.021916  0.038521   \n",
       "\n",
       "             7         8         9  ...      3065      3066      3067  \\\n",
       "0    -0.033866  0.035611  0.005238  ... -0.015777 -0.000016 -0.017384   \n",
       "1    -0.034355  0.035864  0.004520  ... -0.014589  0.000164 -0.017984   \n",
       "2    -0.034563  0.036910  0.005400  ... -0.014859  0.000339 -0.017272   \n",
       "3    -0.034021  0.035953  0.005418  ... -0.015378 -0.000165 -0.017942   \n",
       "4    -0.034943  0.036720  0.005483  ... -0.015101  0.000418 -0.018152   \n",
       "...        ...       ...       ...  ...       ...       ...       ...   \n",
       "9995 -0.036308  0.038071  0.003966  ... -0.014213  0.001092 -0.017817   \n",
       "9996 -0.034805  0.038106  0.005192  ... -0.014837  0.000930 -0.017083   \n",
       "9997 -0.036731  0.037943  0.001932  ... -0.014933  0.000962 -0.018446   \n",
       "9998 -0.035768  0.036060  0.004490  ... -0.014846  0.000088 -0.017184   \n",
       "9999 -0.035606  0.036693  0.003859  ... -0.014414  0.000317 -0.016786   \n",
       "\n",
       "          3068      3069      3070      3071  \\\n",
       "0     0.023981 -0.007408 -0.003723 -0.018266   \n",
       "1     0.023778 -0.007307 -0.004185 -0.018247   \n",
       "2     0.024080 -0.006957 -0.004390 -0.017801   \n",
       "3     0.023627 -0.007249 -0.003548 -0.018380   \n",
       "4     0.023877 -0.006763 -0.004058 -0.017972   \n",
       "...        ...       ...       ...       ...   \n",
       "9995  0.023512 -0.007067 -0.004614 -0.018447   \n",
       "9996  0.023103 -0.006398 -0.003092 -0.017232   \n",
       "9997  0.023422 -0.007367 -0.004373 -0.018508   \n",
       "9998  0.023590 -0.007205 -0.004473 -0.017510   \n",
       "9999  0.023482 -0.006957 -0.004518 -0.017495   \n",
       "\n",
       "                                              cell_type  \\\n",
       "0     naive thymus-derived CD4-positive, alpha-beta ...   \n",
       "1                                                B cell   \n",
       "2                                                B cell   \n",
       "3                                                B cell   \n",
       "4                       CD8-positive, alpha-beta T cell   \n",
       "...                                                 ...   \n",
       "9995                                         macrophage   \n",
       "9996                                             T cell   \n",
       "9997                                         macrophage   \n",
       "9998                                          mast cell   \n",
       "9999                                          mast cell   \n",
       "\n",
       "             broad_cell_class  donor_id  \n",
       "0                      t cell      TSP2  \n",
       "1     lymphocyte of b lineage      TSP2  \n",
       "2     lymphocyte of b lineage      TSP2  \n",
       "3     lymphocyte of b lineage      TSP2  \n",
       "4                      t cell      TSP2  \n",
       "...                       ...       ...  \n",
       "9995        myeloid leukocyte     TSP14  \n",
       "9996                   t cell     TSP14  \n",
       "9997        myeloid leukocyte     TSP14  \n",
       "9998              granulocyte     TSP14  \n",
       "9999              granulocyte     TSP14  \n",
       "\n",
       "[10000 rows x 3075 columns]"
      ]
     },
     "execution_count": 26,
     "metadata": {},
     "output_type": "execute_result"
    }
   ],
   "source": [
    "embed_genept_pdf = pd.DataFrame(cell_embeddings, index=metadata.index).merge(\n",
    "    metadata, left_index=True, right_index=True\n",
    ")\n",
    "embed_genept_pdf.columns = [str(col) for col in embed_genept_pdf.columns]\n",
    "embed_genept_pdf"
   ]
  },
  {
   "cell_type": "code",
   "execution_count": 27,
   "metadata": {},
   "outputs": [],
   "source": [
    "embed_genept_pdf.to_parquet(data_dir / \"tabula_sapiens_10k_genept_embedding_cell_type_tissue_drug_pathway_openai_large.parquet\")"
   ]
  },
  {
   "cell_type": "code",
   "execution_count": 28,
   "metadata": {},
   "outputs": [
    {
     "data": {
      "text/plain": [
       "['t cell', 'lymphocyte of b lineage', 'lymphocyte of b lineage', 'lymphocyte of b lineage', 't cell', ..., 'myeloid leukocyte', 't cell', 'myeloid leukocyte', 'granulocyte', 'granulocyte']\n",
       "Length: 10000\n",
       "Categories (40, object): ['adventitial cell', 'cardiac endothelial cell', 'ciliated epithelial cell', 'conjunctival epithelial cell', ..., 'stromal cell', 't cell', 'transitional epithelial cell', 'vestibular dark cell']"
      ]
     },
     "execution_count": 28,
     "metadata": {},
     "output_type": "execute_result"
    }
   ],
   "source": [
    "cell_type_labels = pd.Categorical(\n",
    "    pd.Series(metadata[\"broad_cell_class\"])[: len(cell_embeddings)]\n",
    ")\n",
    "cell_type_labels"
   ]
  },
  {
   "cell_type": "code",
   "execution_count": 29,
   "metadata": {},
   "outputs": [
    {
     "data": {
      "text/plain": [
       "broad_cell_class\n",
       "t cell                             1299\n",
       "lymphocyte of b lineage            1217\n",
       "contractile cell                   1077\n",
       "granulocyte                         962\n",
       "myeloid leukocyte                   931\n",
       "stem cell                           711\n",
       "endothelial cell                    654\n",
       "stromal cell                        593\n",
       "fibroblast                          519\n",
       "innate lymphoid cell                474\n",
       "epithelial cell                     468\n",
       "endo-epithelial cell                242\n",
       "intestinal epithelial cell          222\n",
       "glandular epithelial cell           118\n",
       "hematopoietic cell                  114\n",
       "adventitial cell                     85\n",
       "dendritic cell                       79\n",
       "epithelial cell of lung              61\n",
       "cardiac endothelial cell             39\n",
       "erythroid lineage cell               31\n",
       "ciliated epithelial cell             18\n",
       "duct epithelial cell                 18\n",
       "secretory cell                       16\n",
       "stratified epithelial cell           14\n",
       "meso-epithelial cell                  9\n",
       "melanocyte                            7\n",
       "hepatocyte                            6\n",
       "fat cell                              4\n",
       "transitional epithelial cell          4\n",
       "neuron                                3\n",
       "glial cell                            2\n",
       "conjunctival epithelial cell          2\n",
       "female germ cell                      1\n",
       "retinal pigment epithelial cell       0\n",
       "connective tissue cell                0\n",
       "follicle                              0\n",
       "male germ cell                        0\n",
       "kidney epithelial cell                0\n",
       "ecto-epithelial cell                  0\n",
       "vestibular dark cell                  0\n",
       "Name: count, dtype: int64"
      ]
     },
     "execution_count": 29,
     "metadata": {},
     "output_type": "execute_result"
    }
   ],
   "source": [
    "metadata[\"broad_cell_class\"].value_counts()"
   ]
  },
  {
   "cell_type": "code",
   "execution_count": 30,
   "metadata": {},
   "outputs": [
    {
     "data": {
      "text/plain": [
       "['TSP2', 'TSP2', 'TSP2', 'TSP2', 'TSP2', ..., 'TSP14', 'TSP14', 'TSP14', 'TSP14', 'TSP14']\n",
       "Length: 10000\n",
       "Categories (24, object): ['TSP1', 'TSP2', 'TSP3', 'TSP4', ..., 'TSP26', 'TSP27', 'TSP28', 'TSP30']"
      ]
     },
     "execution_count": 30,
     "metadata": {},
     "output_type": "execute_result"
    }
   ],
   "source": [
    "donor_ids = pd.Categorical(metadata[\"donor_id\"][: len(cell_embeddings)])\n",
    "donor_ids"
   ]
  },
  {
   "cell_type": "code",
   "execution_count": 31,
   "metadata": {},
   "outputs": [],
   "source": [
    "cell_embeddings_pdf = pd.DataFrame(\n",
    "    cell_embeddings, columns=list(range(cell_embeddings.shape[1]))\n",
    ")\n",
    "cell_embeddings_pdf[\"cell_type\"] = cell_type_labels\n",
    "cell_embeddings_pdf[\"donor_id\"] = donor_ids"
   ]
  },
  {
   "cell_type": "code",
   "execution_count": 32,
   "metadata": {},
   "outputs": [
    {
     "data": {
      "text/plain": [
       "(10000, 3074)"
      ]
     },
     "execution_count": 32,
     "metadata": {},
     "output_type": "execute_result"
    }
   ],
   "source": [
    "cell_embeddings_pdf.shape"
   ]
  },
  {
   "cell_type": "code",
   "execution_count": 33,
   "metadata": {},
   "outputs": [
    {
     "name": "stderr",
     "output_type": "stream",
     "text": [
      "/Users/rj/personal/GenePT-tools/venv3.10/lib/python3.10/site-packages/sklearn/utils/deprecation.py:151: FutureWarning: 'force_all_finite' was renamed to 'ensure_all_finite' in 1.6 and will be removed in 1.8.\n",
      "  warnings.warn(\n",
      "/Users/rj/personal/GenePT-tools/venv3.10/lib/python3.10/site-packages/umap/umap_.py:1952: UserWarning: n_jobs value 1 overridden to 1 by setting random_state. Use no seed for parallelism.\n",
      "  warn(\n"
     ]
    },
    {
     "data": {
      "application/vnd.plotly.v1+json": {
       "config": {
        "plotlyServerURL": "https://plot.ly"
       },
       "data": [
        {
         "hovertemplate": "cell_type=t cell<br>UMAP1=%{x}<br>UMAP2=%{y}<extra></extra>",
         "legendgroup": "t cell",
         "marker": {
          "color": "#636efa",
          "opacity": 0.7,
          "symbol": "circle"
         },
         "mode": "markers",
         "name": "t cell",
         "showlegend": true,
         "type": "scattergl",
         "x": {
          "bdata": "xh6GP6mYVL12zRO+BspNv0QQgL7zkX89KlGwQCQ0M7/vzp2+ehdcvPfzKb5aIDs/eQjtvgl05z219hM/sx+EQGvOpz9vp1e+sKvxvs2dDj433uu9XM+DP1BaAT8ILipB9mV2Pd2faL6Fxdy+7uc6v70/jT8Q7nw/9iEXvjELXD/UnHQ/hkdWPl2kIb95hVc/34emvYbuBb6HMjZBaSs+v7Tf6j2hsY2+P4Q/vuJx171bDt++UEsPvJWXoL4/wJg++fJAP2MWfz/cwgQ+/OogvzeFEL4X85Q+/P+OP1DkL76VyM29F215vptKjz3k4+o+M0yOvccVl74mjQg+MGMaPschaD/NrXG8/UIFv87XNL0fkla/VEfXPYhFGL+eJjVBBcktP08Fir3tTJO+W/1pPjJYTb5HSiG/AfozQQLFMb6jAtU+Bk8mQf+8x7x+4Sa/JOn/vhLxOL/s4WY/RsQ2QQTsBj+Xp80+h6KXPPpTWD7XGB07fKtnv0MqoD1KIW89wI6/vjZzhECNvoO+oduDQLm7ZL3asRQ/LbFSvsmgw75omY2+kB6FQG+LnL2dcO2+j9MXvquTjEAs+nk/+ijNPQKfHb+44z6+USyDQKEtmb54ESG/8uzRvT0Yc75TMha/SFa2Pkkyuz4Qma++dIMcvikHN75XgEq/nKeEQD1bhr7SSZ89tGc3v0g2hEBXwmo+d8OhPuRPFEEnNCm/YtievtLnaD1AIbG+27duPzXMl776W52+t3Ywv3ZKnb4cHzG+aX8UvzW0hUAyc1M/YWS/Pkp+lD/D5Ig+ja/dPccBu739PCU78LZwP9/QPT4DGYq+/ZjevjE/kz7TlxM++SdzvlEr7D5fnbo8oQSqPlZWFL8P7hK/hPeZPftPg0DIDzZB5lX5vj3Quz6CpKi+V2KqvtmCYL0H3q89W2rVviD7IL4iszu+cnKNvnXYJz8nwvw9WPKkPZZwTD+u0Jy+X2wTP+rGeb6fTBu+zsqqvvOqhUAbtkO+MzBSvkRjh76pu1++zmrevPyE5r7TFNU+Y4Mvv1JBjb4VYgM+AIhFv89biD8x/06/39MsvxFqB7+EbiW/JFddPvOe7D6SgXc/zwnoPYdsmL1x4MJAdjAJv8QQgL72Eii/45tRvm8xGLwB6rW9Rqm9QDjOij1R5pU/z67tvlnZK78Hh0S+XT4TPoNFn0DD9g8/z13dPXV6vzvrqSy8FTCBP1uGTb5zIMa9mpLFvg25V79gEEQ9pWWQvgQUSb+Cv8s+wJ4wv8ENw74=",
          "dtype": "f4"
         },
         "xaxis": "x",
         "y": {
          "bdata": "2inoQEWzy0Dey6NAF7mwQAUavkBVKRZAOgrWQHEJpkDHI4xA22zQQMWGokC8UelA6wKIQGG8w0Asb9BAIoDbP2oG5EA9N6VAyn6aQBB70EDjvtZAwC7dQKhXZECE97hASCcUQJQrT0CQ2r9A5vGfQKgj60D/hetAYbbDQPTm7kDjI+lA3AbNQJC/k0AJA2BA7lmOQF0p2EBLrpJAA1OcQBJUx0Cl66lA3w/DQP/Gv0A1lGhAnW6yQEzRpUA+6L1A6yHrQPGY60Cr/MJAhn+lQCChukCpQHJA5KngQE5Ip0Ax1YNAQPbDQEvDGUCfkMZA2pe1QD1xWkCAJ7xAqqzSQClf3kBqAohAYwmLQGeHyUAKMMpA+CO+QOQJmkDB5ZNAujjkQF3CTED981ZAwuDWQJ4EzEB7m51Ae0OWQJx4lkBw9N9ATcfIQIomDkDc6pZAZWKUQBWKokAuB69A742QQGwq0UBcEcpAOy4RQHtbVEBjrg9AP2anQPpJuEBjm9BANy2JQLwH2T9BVdNAb8LcP5n8MUCE6shAa72mQNUZeUAbEWFANr7XP+61v0DKXp1AfHC9QLBetT95XepALP3UQH43nEBh2rZApgfUP+2ckUA3JrtA+enKQFi/qUCamZxA2cvVQI0B1UAdA6dAh9CkQC8/q0Ba4axA5JDYP88XWUASroNAKfuhQLl51z9apcBAxDzdQKnW3EA3j5tApn6wQKOJ3UAxTrNAzqHkQH5K00BkSGFAK1mjQBQevUC0XMtAW4uKQG/21z/y++BAi9rGQM+vjUDFHb9AE2/MQCzB0EAAoMZAj6jmQMqyx0CqQKNA38jWQJSx2kB4schAoSXJQA16v0A/SLVATnlyQH8plUCq/qNA6RMXQIeB2T++fJNA70u2QL/n0kDOVs5A0ACJQMn0yUCaJbNAUyS2QA/Po0DJI51A4yKaQBp66UC8WdFASYjNQDee7EBGHm1AnVfQQAgelUBSEdZA2O+xQPlu2j/RYq9At8KgQBRwz0BT5ZNABYPBQJTVuUAGfNJAzcChQDKfwUBv8MFAgTWlQGdf7UAFzqRAlw+9QCFBkECI1adAT1naQGTvx0DiMN5A1Td8QGYNpEC48dxAl76GQPe6wkDuRqhArIGPQLC7xUBku6VAZLpsP7ImF0DwU+lAJ5+GQJrQnEAKaptAGVTcQOMl4UA/de1AWhbGQLQ7EECt78tAGb7oQEz1YUBUfblAfiGGQCN5o0AEHRhAhRTDQK8XqkCt8M9A1XisQMzcaUA=",
          "dtype": "f4"
         },
         "yaxis": "y"
        },
        {
         "hovertemplate": "cell_type=lymphocyte of b lineage<br>UMAP1=%{x}<br>UMAP2=%{y}<extra></extra>",
         "legendgroup": "lymphocyte of b lineage",
         "marker": {
          "color": "#EF553B",
          "opacity": 0.7,
          "symbol": "circle"
         },
         "mode": "markers",
         "name": "lymphocyte of b lineage",
         "showlegend": true,
         "type": "scattergl",
         "x": {
          "bdata": "9vN2P4WyEr/Tpha/o4yIuv/YdL9y5/m+ehcBv97bpr6ITYO/Lfwmv7KDjr/+222/szwmv2rxgr8VZEi/HkBhv8tpkL/aYaa+qktev6ufQb89v3i//OaAPdqWh76PPMq+cmGEvzjjBb9sfnM+gOmLvpx52b7ETsa+AIKBv0CFhr/dHgC/tMdlv2rbT7/RTki/d43YvFwgRb8Pqdy+KC1gv1Rpsb4/MYu/MWEJvywjKL7GEoO/DqtvvvxB6L6+RXm/MfYvv7AQlr4NcdW+pbDJvoSUZb99X16+fjvqvs0fvL7kd8W+88h5PkUsMb8rMWe/2wUJv+lUNL8/mIS/62Jhv1YD5EBN/S6+4OPQvhDvJL/JmT6/45lYv9+1G79lKH+/lulMv+U5bL8cy5a+zO6Tv/j1rz7PPJO+WjmHv7BeWL//ThG/BkuWvsuadb8IPzK/6sU9v9PdIL/jaoK+p34vvtNAGb8OZRG/C4Emv1tab79SyoG/A6yHv/9GHL8gzS2/7tl9v0Q2lr/z//C+P8q8vpBeUL/13oJAahcpPreMUb/irGq/x1MDvxBeEr/MZHO/rcQZvxnkHb98qRW/wVBTv5x1er/ZXAe/hh6Gv6NMaL8LfDS/kF0/vz3pc79Jugq/WP8Yv2TYQr8tVIG/KZk8v+x3mb8Czja+S4eNv8ZTjr9Xhj6/yWEfv1HVVj5sUI8+gWBSv+YDS7+cNhQ+mrQPvwUDlb8Glg6/t+9/vn37376r/fVAc1mDvxh5bT8Zpni/BmOOv9Xxjj/wkZO/rP2AvyPnTL+jFUe+TAdRv0h/UD0iIRO/2BLRvtOSL78mYGM/SI4WvyPHHb/WWoi/dfNpv80ri76Jo8u+BVGyOxFejb8quoS/j0hpv+9DYz7Wo1O+4vhjv0BQkb9ckAq/yWGcvjBhIr+Av0G8Cv8Fv3PKS79upCS/QmGRv2eBLL9JDme/IvWYvvDUHr+3nT2/Xuggv0n6hb/TVYI/oMpavyhn7b2GfIy+Rk1wv6nqi7+KnNa+ae5LvifKh7+CU4w/1OEiv8fgXL+H8WS/Cg+jva0PxL6FPJy+THppvz9XR7+pLs6+6QNyvzOBSb+pDNe+XOqKvnGNNL8ysQG9uXZgP/hcgj95Zm8/udDxPluKjr8bpqW+rZWHv2WZL7+rG/m+Cb4Rv33uZr+Vr5C/ycRyvw==",
          "dtype": "f4"
         },
         "xaxis": "x",
         "y": {
          "bdata": "60ywQIORBT/EZ7Q+g0MgQPhWv0D0K31AQD/HQL7hyUCsYL9A0xXOQKyM4j2UjAA+Dqq3QAiJAj6Iqx8/JcXCQN8nFD6OANhAQnvKQGgtCz+rSp5AYiIVQOf2wkBJnAk/QUOeQOxTc0Dl2bc/3JE0P1zT00AhPjg/bOVzPmPCtz0z1NNAxTbJQK+NjUCV3MJAfbOeP6yZyUAmXCo/uQXEQLtyKD+Z4Lc9trbJQDhLSEDJQf89FjhDP3Ghf0CfaLBA43aCQI7X0UBY7cZAzuwZP7RcwUCyXj4/M23WQMTWFj+kG5lAvcnFP22dy0D5rxo/RrbDQCOvyEC2Z7lA2XWDPlV33EBybVFAtp0tP8UQkD5qLhA/hxepQFqABj+/KL9AL6m6QFu/wEDQQtZAmDNJPqyvu0A9WNZAXDS3QIVttUABEdJAXmDWQGjvp0BnUc5AJN21QNbYMD9Yzjw/T8JdP9wO1UDoAtBAj2PBQKiZwUDZfA4+AJO1QGr4ikBVVsVAr3+tQHxLuUAnW8pA3uXVQPQG0UD5Sto/C3zsP+l7tkD/Ur1AMgvVQBbu0UAcDMZARZaLQF+pwUCo/cFApTzHQAJ98z57bNI+TMmhQI+8t0DevIJAk50JPw4ZtEBxOdNAkyK9QLvtlUBctbBA638PP7m6pUDIe14/L/KzQOu/4T13g1Q+iwqRPslBzD8H19A/POa8QKoLzEBI+9RA5e69PoqBt0DwQMJAcKtOQLcc4D6tfOhA/O69QK5FykCa0ew+O3YYPkJm3EAdeL9AjK+5QHnCvEC6J1lAvC2pPjhgNEA1sYZAedIcP8uqvUCHX85A2E+vQAO81UAae6o9r1q0QCUuOD/0x+c+QV6OP70r4z0yZr5A2faeQNGStz/Ho0xAzhm1QFJMn0AhhtNAIaA+P1P7Hj8d8A5Aegc0P4EMvEDa4iQ/1BfdPZGNwUAEmr9A0UA/PwVD00Dyec5AGnPIQASmuECddbhArH3MQJHLcT8fHDQ/eAuqQIuAij1rFhM/nayNP7/ktEDuYtRAqgiiPt68Gz+UertAk3PWQIarukDsiUA/6uQcP7zIjT6O7sdAATX0PsOCzkBTcAk/XBcoP4QfFz8aJQ5A0WzuQJX0TEAV4sNA7WPWP1E8xz1c/1pAD0WZQHL+z0Cp7iI/SijGQCQkxkAaG4M+kMqtPg==",
          "dtype": "f4"
         },
         "yaxis": "y"
        },
        {
         "hovertemplate": "cell_type=contractile cell<br>UMAP1=%{x}<br>UMAP2=%{y}<extra></extra>",
         "legendgroup": "contractile cell",
         "marker": {
          "color": "#00cc96",
          "opacity": 0.7,
          "symbol": "circle"
         },
         "mode": "markers",
         "name": "contractile cell",
         "showlegend": true,
         "type": "scattergl",
         "x": {
          "bdata": "MrLfQDL9/kBbSgNBpWUKQfw+DkFhURJBS7kCQUqq50Cmsg1B420DQcNSA0H+TKRAxKb/QAcrp0A7nKBA4VEAQYdr1UCihQNBMf3+QPyPB0Ft+e9AvEIOQU3iDEHAWxJBRcIEQa2CAEE5kfNARysCQTUBFEGqJwNBWlMNQc3n3kBz3QRBI/ULQQwI40AUSBFBfU/jQLAvSEG4jqxAII/zQKyc7UDQNYFAHf8HQctN9kAYYABBRtUIQVqG5kD3HBJByj4LQSViCkE5699Abv/sQKsUA0ENMw5B6dgNQe4850De0gxBcLkDQZogDEGCDQFBunahQCDT7UCKnwFBKFcMQZ8IBEHfOdxA8OmIQOM1DUH8VBBBYPwQQVQ6DEFKyKxAcRPUQNihD0H9XQpBTccEQcbDvED1UhBBfb3YQJ/6c0BOM+JAQdinQPzQA0HSJq9A/oCsQC2bo0AM7ANBZrIRQQqT+UCZRftApAcDQUMNFEHofRFBoOcLQUoeB0FB4ApB2wkKQY2pC0EKeoVAPTUNQaRW4EDeEwhB0BwSQQKY1kDKS+ZAMszZQG3fDUGd9AJBxaC7QJXrR0H/3wZBVjQPQb0DA0GQrNNABKzsQGE0A0F0dBBBBFLpQAnUCkHaO4JAyGcNQUECBEEYwgtBa24NQX6dqkAjr4BAYdoMQf0XBkFBfg5Bh/gOQQTPqEDWExJB2gTnQFN/BUESsQZBEjTRQPWk6UCNWwJBuepHQSrk4kAqbwNBehYHQTSrDUEZkRFBpUQNQbhL9UDS665ADIe7QCK15UBsfBJBp8ujQI7ZAUE1cQxBijjmQFRJAkFwfrhAmFqhQBajo0BlRQFBlLEDQa/RA0FJ0Q1BWeACQeNxCkFClgJBovtHQQ74ikDSUKtAjx1IQZuj2UBtxoRAmkmfQEcIjkDwEaFAUunfQP4PAEE9dQdBqITrQNhkCkEKnvlAnPIAQVfs/0BS/wBB6QoFQWkDNkHMrw9Be5UEQV9TB0HfbdZAKaoUQay5A0FvIbZAS5j/QKcDBEEmwQFB8FgUQU/ADUGGpQ5B4XsOQd2cSEHU6L1AhpYPQXntEkFv7gFBo9kSQUlIBkFtSUhBAO6YQBZFBUHGKNhAWl0PQe7hA0EP2cVA4ZMDQWQxCkErNORA3uf9QA1DC0GYbANBcj4EQQ+a5UBwQwBBY8MKQRrJDkG499NAznELQasqEEET1A1BV4AIQTIH30BqMwdBoW8BQbRLA0Hp1wVBHQL4QARTBkHzeBBBJ4cHQQG5pEAG0uVAzA/lQKbbg0BV359AdIsLQbm/qUAF7HpA7XmyQMLpR0HQVuFA1oMBQfgQC0GYlgxB",
          "dtype": "f4"
         },
         "xaxis": "x",
         "y": {
          "bdata": "AUUnwPqrQMBSJ5PAaFs9wB2taMDa5UbAY4uTwAvRIcCEzHDAAy6UwJWxHsCLBYnAiMxWwA4/gMBVEGnAFHVSwM2WIsC+Y0zAfu4nwHWvVMCY7D7A9ZFSwJIiUMCBLUvAtEGRwLn9KsB0LUPAjrQ9wM7wSsDsW5TAWcNOwBhxOMBTbkPAoDx7wP+JLMB2DlDAL9QkwEWMEsDKY5TAzjdFwF+1N8DumZO/DLE4wDcWL8D/7UDAMHAwwAJqKsCyeVnAp4KBwFEQR8CcGyXAs08uwDXrk8BOD/S/siFfwPs9N8ChZETAaIk/wOBbZsBTto/A6xp8wCu8O8APYy/AQOY4wLMfk8AIyTfAQZmlvxz7ZsDH3VHAhxpYwHV7Z8AdVWm/PHAGPiQUX8CTHWbAKGBKwC71AMAwRh/A9pcqwMirSz+BWDrAWhGdwLNCTcATgme/dWSEwIvBrcCbHZPAc2RMwIA0SMAYYi3ALjWTwCiOSMABGVDANrl/wOgSPMBPB1TAqNNxwONrZcB4baK/yeM1wKtTMMDmfErABJRNwMVQJ8BIrzXAGUbmQE6XNsCE+2DAxHCEwNDNEcDtT0nApx03wMxilMCxbhzAfVYqwDMdR8BrsD7AoilBwL9OJsCwJ5W/eohJwJWTPMCyT2fAbhpnwKjotL+aeDc/pHJHwHInWsCpMWbA9N9KwAkymMBnzVHAFMgowCC8jsBdM0nACUsbwILOKMDnZ1jAqR4RwJ71JcDS5TXArCCLwJvSL8BZilLALnhSwJBFKMBgol+/WBoIwDV0N8AY5U7A44eawB0fLsDpqUbACp2Ov+6/k8DfZ/u/UOCowLG6csD8IEHATdGSwFa4SMB0EyLAZHCUwJU5gcAo3EnA5BUSwP9JIj4bf26/neARwGHmFL/CiZ2/bB2owKTOjr/DDV7APqAmwMnAMcCJdobAQgI6wAD6NcAjICzAMCwzwN0QNMB0OzrAMhkxwHPrkUCocVHAZyQwwIJdK8DRVyPAXK08wN/AksDmkGDAmRU4wAgBRMA84THAtFdIwHd9N8C1wWfA4X9fwPYAFMC5ePa/o9BCwOMSLMDDCjvASzRTwIqmR8DFdRLArSJnwPkBY8Db0jPALGdTwH3kOcDscUbA4Xs2wKe7gsBh2i7A6NMjwKIXPsDRqZPATTSSwLo1JcDDDSbA0YyBwFSSSMDwMBzAixA+wPH5NsCjGGLAzA45wId7K8ClPCvANuxHwMABlcAuXEzA0EUnwEmuRMDRJFPA1jeKwC5aq8DYUD7AtHg4wIfSoL+nNqrAV56BwAjnh8C2pjw/C+6iv1QYEcBnMCbA/4A8wPw8PsBcCEHA",
          "dtype": "f4"
         },
         "yaxis": "y"
        },
        {
         "hovertemplate": "cell_type=myeloid leukocyte<br>UMAP1=%{x}<br>UMAP2=%{y}<extra></extra>",
         "legendgroup": "myeloid leukocyte",
         "marker": {
          "color": "#ab63fa",
          "opacity": 0.7,
          "symbol": "circle"
         },
         "mode": "markers",
         "name": "myeloid leukocyte",
         "showlegend": true,
         "type": "scattergl",
         "x": {
          "bdata": "xJngQFj70kA5BShBydPmQNyENkG7FA1BORbvQJRD4UA2jOxAB9bjQJDQEUFcHv1AkKEIQbRTnT9e8PdAoEENQVFGDkEvJiRBbFn2QHYL5EABC59A5mg2QT278EDgWDVBJ432QJon+UB8GPZACjPjQOk+3UCkuOVAc9oTQXzBMUE5BTZBT7Y1QSo57EBHi/NA3k7iQAUg9kADOydBG2DfQDIm80C+huNA8uM1QQth3kC1HgpBposRQTs4EEFbKCZBncnYQFJK80C9ihJBIjwMQYoc3EDvAA5B3SfAQN4P5EBTdBVB4tEKQay4NUE16fFA0P3yQFZz8kCRcxW/xdv5QPBw50Bj8TVBi+/PQAbBz0CgawFBkCT0QBJvB0HRv/BAQjI2QaYE3ECjtAJBx132QL2UDUF9oDVBdInbQEr540AY4upAJPwUQc+lNEGzIQlBnMbiQJBM3UDNRupAbv31QGRlBkGGE+FA2RHbQPmU50A1tBFB/+MpP66h8UCPJPxAkjnwQMZPjUCaTQZBVGDfQIGyDUF/9kI/7HTgQD3A30BIEvtAlbrOQAuyC0HrCZs/UR4zQb/N20D7uSBBz+7xQBGK90AIEg5B2hcUQSjahD/4QflAFV3cQJ6nDkEh78RAVm79QPsvSEEY4+lAt30GQRHsDkHMSABBbUfzQAAzzUCiOR9BvGDiQLqzgz9hZ1E/kUEOQVns/EA7m49AeuX+QIkJ+kCUVABBpOrbQBbZ6kDrPog/xPedP3yK9UC0MthAHYTlQFE64kBE0qo/lZrmQO156UBkF+BAg/wTQXjEKEFXmDVBZIcQQYSdEUFs/ulAXGfYQGxO4EBb29xAZj7eQNeH2kBzPdxAmS1KviIB7UB7N+1AhU7dQEzMB0HR468/1VQ2Qcqf5UCJedZAU7vtQM1FCEF7WORA/ffbQMO03kAOtOFAcyYZQdJk/ECuC+FAgqXeQHub4UDGYTVB2+YwQSO950BH3Pe9T33UQJh43kA=",
          "dtype": "f4"
         },
         "xaxis": "x",
         "y": {
          "bdata": "YXPzQAH+2UAaiONA72HXQENukEDbANlA+/fvQPiV9ECcgvNAtUXhQJmk3kCoN9xAiuDdQEAO30BkJudAEd/dQIuf4EBOg9BAVYDqQJ2R9ECpwJ/A9SuRQNcD2EApNZNAeNTgQETb4UCdBeJAhcL0QMC94EAkkeRAZUkPwPxflUCFA5JABi+SQPkm10BXc95AssL1QEXK7EADc79ArbDwQFK55UCfBN5APn6SQLlK5kCVwONAG1jeQLdtB8BQU8RAsiDrQP9lYL7pUgzAvercQNJM60CRBNtAF+jUQKd48UAVttxAWmveQH9Xk0CeTdhA2+/tQBdw2kAW88FA0jTrQDHB10Do/5FAA87pQChL3EBoCOVAJ5zWQNK33kCoXNdAiQGRQHue30B5tN9AgVZAwJKT4EDwsZNA3e/oQLon9kAnS9RAWa7cQAlblUDTe95Azo/vQDKX6UAEWuFAHtnfQAki3kBRPfNAyBLuQAhP2EBYz95A4VagQB3G1kB0DeBA1G/ZQObSHr7hKORAjtjzQC7s4UCj5J1AWKL1QFxf3UCSe+JAyMDbQES13UDovUVA12uWQCfb70DlqLhAHqHaQFpf4EAaj91AuIQqwDDcpEApiN5AzRbxQHXP4kCyb9xA2Y3kQGxLEsA6OfVAcbneQFFb3kDwyd5Aq7zZQGf72kDdeLtANcTgQNyMxUBLFcZAxWfbQPDe30A8Qm2+inDmQA996UAfKN1AR73xQKJ9z0Bvv6RA2G+1QFDG30C2s+5A1JnfQInx9UBNuttAoXn0QOdv00Dk3/dA1JjdQEEJu0Cn3JFAtSvhQFfE3kDOi99ADM3qQNU28UBCY+hAdgTgQOYS50BW6OdArG5SQEjr8ECI1tdAYvTlQD7g4UAq18dAO52TQHUOMb9SVuxA0jbfQJbg3EAnxfJAen/nQHKT5kB6vN5AEGHfQH/G4EAKvORAYdHsQINE3kB285JAmDufQA1R1EDI+IlAyY/qQFQx9UA=",
          "dtype": "f4"
         },
         "yaxis": "y"
        },
        {
         "hovertemplate": "cell_type=stem cell<br>UMAP1=%{x}<br>UMAP2=%{y}<extra></extra>",
         "legendgroup": "stem cell",
         "marker": {
          "color": "#FFA15A",
          "opacity": 0.7,
          "symbol": "circle"
         },
         "mode": "markers",
         "name": "stem cell",
         "showlegend": true,
         "type": "scattergl",
         "x": {
          "bdata": "8BW+QF9lnUB1MxU/TEifQEXvoEDkeK1Abh2nQFUUoUDpLp9A64hMP/C8nkDL0LNA5XqjQG2vuEDjHgpB9C2BQHMIkj/uWKc/mcAHQZcghT/h4pA/A1O2QAfq2D4hF59AUqmeQJKakD+rdp5A+VMMQS4lv0Dm7pg/jhHLQNVvHz9aKa4/riigQF0obz/IFaJAKAKqPyRjoEDI/bdALJqyQHZvqEALFkE/2nueQFbgokDoxJU/sQe8QDeTqT63SaVAkXTGPrDbQT8QoD0/OXyrQLPXnkCGxdZAeyLAQP0JokClrpw/q8bTQLnynEC+CgY/fk6YQHXLo0DpHo4/TziiQJMWvUBltapAf83jPntiikAZlXc/+fLEPusnqD8pbKNARTmMP3dsjT/V9wlBgyWiQH/9oEC3d18/O6RxQEDkrz/44q8/NSKhQMA4oUBpkJtA86roQIAOpkDHcDQ//geSP8knoEBadno/KkTRQKj2oEC7AJ1APdGuQCQP1kDdab1A5SylPyMBv0Dc6EA/Rd+iQOWOwEAoKI5ATEamQIl9/z4J4b1A6jWlQCRapkBOTp1Ad1L2PZUZuT63PgY/1SKiQBrbnEDBHjo/DHGqPyon0kAGtr1AyGyLP8wUokCEe6FABQagQDfBnECcyqJAH1bxQFmuz0DghqFAW6REP7HuhD8F95pA2aebQPCXoEBJyqVAfEPxPqJ1Lz/TPs9ANX6gQIgnoUAHHKNAyo6TP36HNT/1Eek+5xDnPsqZeD9XrTs/UKmdQDysrj8=",
          "dtype": "f4"
         },
         "xaxis": "x",
         "y": {
          "bdata": "aTifv359fMByMvs/zPCBwJ7TqMC1ypvA1uF4wC5ZhMDeC6LAEs7FQBkToMCYNI7AD22swBCiFcANJX7A77IyP4Ivj0ApGIlANmSJwE0VVUBDd4FAgceav36kY0CsjqnAL6eewJCoZ0BReKTATW96wJRZ7L/Hm3lAvM0FP/0fYUDuapRAexGZwAESc0DJep/AeUSLQJpZXcDz9b+/BK6RwC4/g8AyPnVAjcOjwIhOmsAbW4BAks2kvwSyUUDA2IfANSt9QEqFXkBtH2ZACNJ2wCDzp8Afp10/Vregv6BtqMByUINA1z+BP8DGpMA0T15Aqbi6vpJ9nsBDCHxAAM2lwMPZnb9ChaHABr5eQEV3hb+yv4hADVxdQCk+h0CzSG3A8DlfQAaRWUBBKITAwbWhwCoecMBJP3FA08NsvznziUD/1YZAmOGhwEa8n8A4EqLAn7XWQKfZdMCm+15Ae16AQDDDo8BsX2JA4iGrPtLgp8B3fonAlQm3v44aiT+2H6G/ckSKQK11nb9aOGZARV2VwFavfb9Sioq/ErCdwOS3X0BJoaK/oVV5wHJvl8Dx7VvASYVNQPEGhUC/AZVA8iOPwKknjsDEdMJAmyGIQBIi/z6xbaO/vxGNQBPErcBpDks/vAmnwPP7gsBaPK3AdnJuPjqRAz8qgA7ADeMOQNa9UkAgiF/AS+afwFlLnsAz/k8/M1VcQHtNEUB74qm/6rdowDONrMBOR6vAIEVoQMIsYUDCTGZANsZCQDusYUCd5WlANf+kwLT2jEA=",
          "dtype": "f4"
         },
         "yaxis": "y"
        },
        {
         "hovertemplate": "cell_type=stromal cell<br>UMAP1=%{x}<br>UMAP2=%{y}<extra></extra>",
         "legendgroup": "stromal cell",
         "marker": {
          "color": "#19d3f3",
          "opacity": 0.7,
          "symbol": "circle"
         },
         "mode": "markers",
         "name": "stromal cell",
         "showlegend": true,
         "type": "scattergl",
         "x": {
          "bdata": "uEW5QOUhpkDdfaVATFuvQMyNoUBK5qNAOc6DQIFUvECUi3hAsY2dQHyOgUAvAR0/qIugQKE9akB6wsVA0FeXQP42pUBJ+aNAS/KoQGJDuUBHwJ5AU/SRQAWCu0ADyIdAbGmnQL30pUC+T5pAknabQHU2qUC5NdJAjjWQQJzSm0BTKJdA6uIGQSYQnEC4ZOxAC4uSQBKHuEAKRIVAxzsLQdzP40A8loZAts+GQFmspEBrGLlACsC9QB3Kq0ASSp5AQEajQBkru0AdcPFAjearQICMpUC7HZ9AwN+eQM1bjkBw0Y5ABTqmQArJpUCJdfdA5rqRQPBvZ0CdLItA6J2YQJtJp0BN4ZVA1+mfQLr3DD4Mj6tA1U6TQBVXg0D/EAhBcCSMQERBd0A8fLFAf3GwQPd0ZUDefLVAClvtQEchkUB8Q5xAQ+mWQOpVv0DszdZAimmlQIRRhkDSZsRAGR+ZQJE0AUEjwPFAOc2iQGDtokANL4dAkfulQIKznUB0NYtAYiWwQLI8tEBUsLZAFk5nQLYNa0AblYdAemKdQPrulkBAuapASg6HQCf/f0ANz4lA",
          "dtype": "f4"
         },
         "xaxis": "x",
         "y": {
          "bdata": "HeUNwG/u6L+xDea/zz8FwAPjur+M/d+/8yGTv6WrCcDd74S/+Ym8v/UmmL99L1tAEOXYv1rXVL+7CxTASiLCv3s3479XO5TAHr/wv3u6DsD3jcm/ve+ivxpLE8D5IKS/qeLxvxME+b/nNce/sPjMvw7j6b9C0h7Ati2lvwmu0L+1Xr2/+TkdwL7Bxb8L+jPATUyyv61LLcCec6G/Zbp/wEzuK8AwiK2/ZuKsv7Cg478+vBDAuFwRwMA/47+RotO/rS/jv2SUE8AAszTAOKnwvxjMicBwD7y/ILfZv1kOor8Gh5W/6HQfwO3O57/RzSbADK3Bv3gLUb/k1pq/T+7DvxFi6r+EOL+/emjRv4/cGkDoPQDAURqzvyqcn79tZBDAi2K6v/sKhb/GnAXA3yb/vw6MPL9VDQnAUZgtwKQ5pr9ZxV3AaKK5v37dEcCVnDDApKTqvyj0qb/7OUrAPFzFv4gDU8CovijAty7Rv+Dx57/EUbK/2oTmv6/60b8IR6K/sUHovzCtkcBWPg7AiU1Iv7psVb9QNrO/sXvDv3eLvb+Rz/q/YnWxv1Ekkr8bdLK/",
          "dtype": "f4"
         },
         "yaxis": "y"
        },
        {
         "hovertemplate": "cell_type=innate lymphoid cell<br>UMAP1=%{x}<br>UMAP2=%{y}<extra></extra>",
         "legendgroup": "innate lymphoid cell",
         "marker": {
          "color": "#FF6692",
          "opacity": 0.7,
          "symbol": "circle"
         },
         "mode": "markers",
         "name": "innate lymphoid cell",
         "showlegend": true,
         "type": "scattergl",
         "x": {
          "bdata": "r6lbPwB8n75hQ/w+xzBZvbSAQD9/acs+FF48Pzehh74dITQ/A2xZPzvGEb98fKm+xtqSP1kD8r3ROTc+0cIjP2aSaT/IgRc/OEYhP/ghMT+JyuY+7sCsPkDRcz4iyTQ/gfGpPvLUVj6wjVQ/NfiVvv0btT5Hm+2+/Ke8vjh3gj852Ww/xWXqPtaUlj+EUyc9f3vTPrji5b1+8hC+Yv5AP64Rnj/fbZY/hofuPsReP78aMug+BbmsPgpTxz4JR5S+2E0TP2SjAb/pcNW8/h5VP0NKMj9Iioo/7TzfvsNTDL6goVQ/3TKQP9k32r3dw9Y9mk86PzBEz73ZgB8/1wLqvttBrr14d0y+0vAXPz3kA74Nq6c+af7qPbr+Sz6ZpKI/CeNOP8WJHL9uOJu+/zSWPnJCXz8nsIE/2qtlP6M3cD/BvpU9YxKNP817gr6U3J++FfL2PBc+2L5bSJI+ZvMHv8KuUz/7oJE+1kCbP25Jw755YwY+PTQ4P930iT+KF1O+zfaDPw==",
          "dtype": "f4"
         },
         "xaxis": "x",
         "y": {
          "bdata": "MyHSQGAHbUD/v+VArHa2QBmp5ECyJ+pAJCDMQPDXvEDzmNRAayzRQN0gj0B+pFJAGU/hQDGyy0BEEGdAvUznQIBU6EAIpu1AJlDaQAh+yUBgz+lAwGrsQHQquEDdSelAW/7dQLWDbEC+iNJAIV+xQI287UC3V7VA5xK2QIKJ3EDoz+lAo13lQJQU30AuUBdABK7hQHZfrUAZHMhAfFHLQARwiEBecNtAhonpQHZEpkA2e+tAIDnoQM+f6UDJJMBAEEfrQIsVtEAYbNZAblfSQD9vvkDhp+JAdAudQCh01kAKMdBA1rPfQGo5uEDg0BpAlqXJQCJcvUDVicdAKMK/QKnsxEC9+qVA8/DIQLr5N0Br5cZAjke5QFhcuECUzOhAm1HtQBHVwkD5DWVABPDpQG7G0kCL3epAgcrYQIo+1kB26RRAOPTlQFtpq0BzmFlAuTnTQFhIc0D9fupAmle+QA3c4EAeNexAshDiQDays0AIzcRAyarYQLqK6kCEoExA7zLeQA==",
          "dtype": "f4"
         },
         "yaxis": "y"
        },
        {
         "hovertemplate": "cell_type=fibroblast<br>UMAP1=%{x}<br>UMAP2=%{y}<extra></extra>",
         "legendgroup": "fibroblast",
         "marker": {
          "color": "#B6E880",
          "opacity": 0.7,
          "symbol": "circle"
         },
         "mode": "markers",
         "name": "fibroblast",
         "showlegend": true,
         "type": "scattergl",
         "x": {
          "bdata": "WxmsQBKjYUA56qJArGesQMUIoUBCpAJBFDWqQCwADEHjsp1AM6yiQAThrECOdqFAKYWaQHIuqUAwBalAIFmfQFHDnUCUMZtA72yaQPREl0AGmLNAlzikQHRCtUC716FAkTSmQB/dq0DfUZxAZcumQAtpokC8y7NApG2xQJJF0kCcBqtA0bmYQDoaokAdaqFASsuzQJ2FBEF2J7JAzEycQG1ppEDecgZB8uSnQImipkBaW5tAeuK4QFiBmkAKOqBAV8mkQHP/2kBGCbZAxQmjQF07qUBfJ7VAo86bQLFLokBSAm9Ail2oQA1im0C8O6JAZ6yZQIs7jEDUvwZBow+kQDVNtkDJ0ZtAB+q7QPs/nEDwhZxADYuxQKlxnkA+VJxA3YGnQC0wBkHeOJpATkegQNJ4mkC6zd9AsdmyQCq2sUCQKKtAhuqmQHNSrkBmc5pA9cqpQOljtUBM3gZBbPOiQBgZqkAh/7NA+H2ZQJ+zgECbYIhA",
          "dtype": "f4"
         },
         "xaxis": "x",
         "y": {
          "bdata": "Prl8wEKxL7+Zi2/AA4KEwCvmgsDG1jvA6eihwIA3JcAw3fq/t7tqwP4EncBEB3rAjsh/wGnvfMDQXHPA1b1twL2WbMCtNGbAudGDwLuL0j5JrpDANgNrwJ6J5r8/voDAWmyBwLdnesC3p3jA3KJmwJgtf8Awlo7AbQqLwIefXT9utxK/QO1wwFxNrsDEPanA4R6RwO6EEMCibJjAclN6wEs0Z8B7TAzAKkOKPDYod8AlJde/mayIwNX1hcDWMYDAPW7fvHt3BL+l3ovAr1qIwNTYhrzIaozA8Hd3wAwsisDAh26/TyW5v5apdMBgLJrArAdnwF9o/r4QOg3Axv6nwE/w9r92rlnAKeeJwCOS1b8wy4DAbL2RwBTcHr6YMX/AHH6BwAQZD8Cok2/ApZOAwH7PXMC/JTa/oS6SwMtencA9RWzATih5wHNMkcCZ/sq/mzh5wJI6i8ARZBPAmUnIvRAueMAt95HAKKqCwDgyMr9Atye/",
          "dtype": "f4"
         },
         "yaxis": "y"
        },
        {
         "hovertemplate": "cell_type=cardiac endothelial cell<br>UMAP1=%{x}<br>UMAP2=%{y}<extra></extra>",
         "legendgroup": "cardiac endothelial cell",
         "marker": {
          "color": "#FF97FF",
          "opacity": 0.7,
          "symbol": "circle"
         },
         "mode": "markers",
         "name": "cardiac endothelial cell",
         "showlegend": true,
         "type": "scattergl",
         "x": {
          "bdata": "kUjnQPT1NEGtOdtAsfP/QAizNkEGv/5ALPATQT7O80BNb0hB3IFIQQtfBUHpQ0dB",
          "dtype": "f4"
         },
         "xaxis": "x",
         "y": {
          "bdata": "DUwqv7rAk0BYVSW/1JkCvzeNjkC3irG+3uU0wBWGFr9tHBPAxWQTwLrkEb8uShTA",
          "dtype": "f4"
         },
         "yaxis": "y"
        },
        {
         "hovertemplate": "cell_type=granulocyte<br>UMAP1=%{x}<br>UMAP2=%{y}<extra></extra>",
         "legendgroup": "granulocyte",
         "marker": {
          "color": "#FECB52",
          "opacity": 0.7,
          "symbol": "circle"
         },
         "mode": "markers",
         "name": "granulocyte",
         "showlegend": true,
         "type": "scattergl",
         "x": {
          "bdata": "1pMmQdIYJ0FxvidBtxMlQeS0JEEo8rhAlOsPQU3no0AcDCdBKuYLQaqRJkHJmyJB3kBzP5FxgT8cNChBRJslQeYOJkFxjSdB7/YmQbfiv0A4wCZBOe0xP3MwJUGd6CZBB2mqQKRDJ0EDIqlAs9QlQUMKJ0HKkidBMNEoQUS4sEAoYB9BMsAoQfHJJ0HB6CdBR+gpQQ3JMEEhGLZAWPjKPugvI0G1UqdAFcEeQSkaJUEgiChBBzkJQTzq+D4gErdAJNkxQX+mJEFW1CdBWGEnQXkCAUG6qCVBA3gnQTQcJ0Fg4yJBvsImQYliqkAocyBBPXQzQbZuKEFaxKlAdyS1QEReJUFjDihByPomQSXCqkAXDylBdwwzQeO/EUHR0SdBQPuqQNFwI0EwNClBi9clQZHXJkGGS91A460jQYlTMUFXNeZAc4ioQHLNH0H31v1AeKidPxZQHUHEJ6xAxWgdQYHRHUFsNihB6X2AP9YCs0BZyQFBxBylQNkSAkEk4SJBWCIkQb/HJUHkZbJA4sokQQ6rJ0E1xyVBi420QMolJUGDzyZBx44YQbxeKEGJoSRBwZMnQYrZM0EiUyFBbYiPQJPbqkCUPh1BLQ9uP96+KEF1xCRBLC0lQV1/JUG3vyhB214lQefPq0AdaadAPzIlQTcvsz8iQCdBp2IkQa3pGUEX2B5BI427QN7XJ0E3v6lAxzEiQYVGq0CV9SZBh+0jQZF8JUHhgSVBxz0jQZUwq0ClJTVBFdYmQRHrJEE2bilB2hYcQdCCskCLnSdBOJEnQWRMGEGirDBBUEQmQeQqJkFp+vw+wGaoQF8GJUGH+ahAcJdJP4FlJUFBJulAsSMnQQWyJ0F3eiZB8XQlQXBNEUEY9qtA9rkkQdfcJkHo+CBB3Q8mQfsfJkGyUSZB7I0nQR0EI0Gz9yNBx4YmQcrwJkGxUCZBXDEoQWS8Oz/CNqtA2lwRQZwxKkH4BSZBKTcyQR2QGEFpiydBVAwoQZD3D0ECLeFA1aMeQS/rIkGvqShBQXsnQb04KkHZBihBs2ouQdjrnEAHtihBPJ0oQZEcq0AH3yhBgxe4QEIFH0HXs7RA2pSpQKMps0CodKVA",
          "dtype": "f4"
         },
         "xaxis": "x",
         "y": {
          "bdata": "KnvNQDgB6EA7HsRAjaXfQAPN3EDKWtVAZevfQCVY30A2IeBARUPcQCc940CXpd9Au1eMQGI9l0DjuOVAAAvgQMCgzUCGN8FASp/HQF2F2UBG0NZAGqXIQKbr3kC6zs9ApyTbQLM4x0BozdtAK5rjQPV1v0BrguRAml3oQCRp4EBaJOJAwNDFQI/75UCzpMJADo3pQB9VoEDRVM9ANn2TQERB5UDZWd1AUgDaQFqn4kAQBb9A2hXjQJbdc0BL2tRAvZucQA2Q5kBz2cVAq8LkQHci5kCgBtlAacTnQJwO50CkH+RASc7nQCOV2kCDUbtAkFiYQO1UukC0tdxA6XzSQJJ85UAuaL9Al3zgQH+120DV6sNA9dCYQHk23EBtg71AhInaQOaE5UB1bLtARLnLQC305ECaKN5AtGPfQKtsn0AnZZ2/AFHaQPu54kDVBj2+hSHEQE334EBkjdlAM9TjQJui4UBujchA8u2OQESx0EALi+RAmnzfQGHC5EBoMuZAA8PjQG6BxkBY3dJArwHbQIzb3kCrueFA2I/RQCZV30BLCsBALiLhQKts6EAoj+ZAyffHQEh3lkDzn9xA3FLvvdaN2kDBedtA5FqJQKg850AODOlASp/kQNtg5EANMcVAVVG+QDUY2kBFVt1AIvbaQNULxkAHrr9AefnhQGUG4kA//99ApcjKQE+85UApY9pAUjjSQJvm2UCFx+FA9RXbQPcn5kBRG9VAom/iQBcX2UCDrpJAJc/AQJ7k40DRB+lAZbbeQPEY1kDTxsNAgYvIQEFq20Cb4qBAnZ7mQP/K3EBHNXxAU5LcQOzs4UBGfdpA8ZR5QEuDz0B+C/JAhHLKQP8ZxECx/udA5rDiQP5O3UDxeNpATwnHQDx35UAOm+ZA4y2+QMlW40A8QeVA0a3BQNFt0UBPfNpAiHnkQKtA60DVXMBA8qvFQBvHzkBGEtpAFaXgQCb7u0ACC8dA24+bQINd4kAy3OVAuuDEQMTQ30AsuO1Av+TeQOOw2kBVoMJANSfkQAPwuUAqOsxARlqpQCaC2b/Sp+lA2bbCQHPo2UATIsFA9znaQI3k4UCWUM9AzcvaQAgd0UDygNhA",
          "dtype": "f4"
         },
         "yaxis": "y"
        },
        {
         "hovertemplate": "cell_type=intestinal epithelial cell<br>UMAP1=%{x}<br>UMAP2=%{y}<extra></extra>",
         "legendgroup": "intestinal epithelial cell",
         "marker": {
          "color": "#636efa",
          "opacity": 0.7,
          "symbol": "circle"
         },
         "mode": "markers",
         "name": "intestinal epithelial cell",
         "showlegend": true,
         "type": "scattergl",
         "x": {
          "bdata": "rxPWQCh+BUHItbZARIzTQH26Z0DijeRANGePQNjxuEB7XalAeksTQe302ED/PJ9Ab7bKQC83EkE7yMlA5+nXQLzu1EDdn81ARiChQONugECf37pAJjXmQE0BuUBQNKtAFjLLQFjrv0Ark59A39IGQcqGEUEcxdJAgwLbQC7KEkGhnJZAmUQGQePf40BIqgtBQqcFQQz3k0A=",
          "dtype": "f4"
         },
         "xaxis": "x",
         "y": {
          "bdata": "xQ4ZP65GY8DjZUk/sHwwPxZ6Eb8lhRg/YbE/P8SRST8GNVI/I/gMwLF5Gj89Zkg/B3MaP2zfFcDHKwM/ULL0Pj3dgz8jado+yEFIP3GTLD88R/K/Xy0UP4lrpr+0mFA/j+byPv6nDMDiwTo/EsALwG9MNcDjVjk/dIEvP81+EMB6LUM/aL0LwF2OHD9Zeh7APJIlwHxURD8=",
          "dtype": "f4"
         },
         "yaxis": "y"
        },
        {
         "hovertemplate": "cell_type=epithelial cell<br>UMAP1=%{x}<br>UMAP2=%{y}<extra></extra>",
         "legendgroup": "epithelial cell",
         "marker": {
          "color": "#EF553B",
          "opacity": 0.7,
          "symbol": "circle"
         },
         "mode": "markers",
         "name": "epithelial cell",
         "showlegend": true,
         "type": "scattergl",
         "x": {
          "bdata": "dDvfQO7Gh0BHOOBABbOGQAOdg0CserJAN2WPQJ0Wg0DXsY1At5ewQIZGf0CpMMpAsRneQLQuwEC2NN9A/RG3QHG+hUCd27BArXmAQOR4hED0IXNAQj2FQAB0g0AdfZBAt0ySQKeHukCzet5A5yeSQIJasECIOZFAu7mmQMZ0q0DYsIxAEmuDQDeuk0BmAoRAFu2NQKb/j0Do0YNAlyiVQGcns0DjMYRAAAKWQIJVh0Dl1N1AWgKEQG+9mEBb2K1AkyKEQPqdjUA82a9AyTiKQOgVj0Cmrr5AvYSRQFiGhkCKqYJAJQ9wQDJFjUAjZ5tA3BuWQJkztz3CQrRAqTyEQOdTiEC67ppA1yHWQGTnuUDNHIJAwE+PQI+fw0A3/n5Acb1qQEGyikCeaa89rCKGQB0thkAgmsdAO4CzQABpj0Aqld9AezCRQNpLgEDdx4BAC/XdQJGDtUBy34dA+U2EQA==",
          "dtype": "f4"
         },
         "xaxis": "x",
         "y": {
          "bdata": "lNTJQBEQTj8vLsxA7PUuP9jzJT+kRFE/e31tP0KyTD8tX08/6YB0P3yPKz9es94+veHLQNF6cT+gm81ACARHP21PZz9f424/8Nk2P+IXAkD7azU/lEGPP5TUmD/ivVo/ZI5CP/TbPj9088xAER09P7w+ZT8T804/y2MxP+/5ST/4ioA/iQC4PyBvZD9eBQJAlp8+PyqbSz+I6QRAhV5EP+dkjD/BcPM/byG8v+zZPz+xrspA9i0BQJc7SD+Kr1c/QnP3P8H0Zz9KMk4/aPCvPwVJgD+cXYI/clY/P7+DOD+IyzM/3ppBP5O8SD9AgDk/ZnbRP6m0FkAcfIE/nW0AQMYtTT+XZws/rBlCP6M8Tz8KvzY/XANdP3ergj+WV4g/cJZGP2cMSj98ABhAKHk2Pw6M5j/3Mh8/fm9ePzOrSD+W98pAhKRMP0qtQT/eST4/RDHLQOrPPj8j8Uo/VjADQA==",
          "dtype": "f4"
         },
         "yaxis": "y"
        },
        {
         "hovertemplate": "cell_type=glandular epithelial cell<br>UMAP1=%{x}<br>UMAP2=%{y}<extra></extra>",
         "legendgroup": "glandular epithelial cell",
         "marker": {
          "color": "#00cc96",
          "opacity": 0.7,
          "symbol": "circle"
         },
         "mode": "markers",
         "name": "glandular epithelial cell",
         "showlegend": true,
         "type": "scattergl",
         "x": {
          "bdata": "JR2qQHJBNEGQzzJBVonLQDH50EDHyd9AUk7PQMbAjUDgKdRAJBt6QAWFrEBDQshARK2+QKGklkAQ1zRBYTrXQIm8nEC5tM1A",
          "dtype": "f4"
         },
         "xaxis": "x",
         "y": {
          "bdata": "rLdxv4lTkkACMY9AagcvP8ctVz/2ixE/BqE8P/sjYj9/iiU/Z+U5PyMpcsAUdDc/V/EnPzrNQz+2zJJAGI1KP/nRhMDItTg/",
          "dtype": "f4"
         },
         "yaxis": "y"
        },
        {
         "hovertemplate": "cell_type=endo-epithelial cell<br>UMAP1=%{x}<br>UMAP2=%{y}<extra></extra>",
         "legendgroup": "endo-epithelial cell",
         "marker": {
          "color": "#ab63fa",
          "opacity": 0.7,
          "symbol": "circle"
         },
         "mode": "markers",
         "name": "endo-epithelial cell",
         "showlegend": true,
         "type": "scattergl",
         "x": {
          "bdata": "ZIK7QDbEf0BAutBAYPrQQCSUvUB7AMBAiEq/QODgwkCKSXhA0dO2QEjOyEBB7bpA5om+QAGXYz9Uq8pAvp7eQIHgzECKlk4+MfaiQI03zUC1uzs/6zgGQSjLvEBI6MFAIPDBQOxpwUCGjL9AhHLCQP/hB0HisctAzcASQV7VpT8OMYFAO2EHQdzoz0Czz0w+FFzKQPL2aD536Vo/YuIEQeKkxkBoMs1A1PXJQFf8C0Hmu7tAfOG6QEWVgUB6mMhAU8LLQATmy0D9A79A",
          "dtype": "f4"
         },
         "xaxis": "x",
         "y": {
          "bdata": "bmXAP8F+Mj+cl74/TdTGPxSMwz+SH74/xADPPwuRqb8OJ4y/692bP61KwT9lTLs/brjTP5BoY0CoPdQ/cFuhP4ZE2D8CWDRAmMRXP9Sr1T878+0/3I8RwLXtvD8FI9Y/txDQPwRLzT+dLNA/L7jNPxJJFcDp39o/hRITwENTgUCBQTA/l68QwNT7jT9A8LFA4szaP4pOL0Bh71tAeQcTwCd12D8COds/Wd7YP+2TIcBTsJy/QrLDP+3GRz95Xtg/vl3kP/kU2z/lTso/",
          "dtype": "f4"
         },
         "yaxis": "y"
        },
        {
         "hovertemplate": "cell_type=endothelial cell<br>UMAP1=%{x}<br>UMAP2=%{y}<extra></extra>",
         "legendgroup": "endothelial cell",
         "marker": {
          "color": "#FFA15A",
          "opacity": 0.7,
          "symbol": "circle"
         },
         "mode": "markers",
         "name": "endothelial cell",
         "showlegend": true,
         "type": "scattergl",
         "x": {
          "bdata": "FUjlQPssDEGhgPJAh7jrQJZcAkE4/fpAPYnpQJuJ9kDAdg9Bjur9QJ7hzEBU4RBB/uXlQEZy+0BJlQRBx5zkQEaf8EAlDupAj1vhQF3n9EABJgFB7jjsQDJEmEDJ/Y9AFEDDQN5e6kAHMOFAxNAAQQJz+kDkcfBA1BDnQHCO+UACn+hArt31QNWO/UDz8wBB5avlQBy+90A9iA5BqbbpQIB6r0D+4+BANfKcQKdS20C8Zw5BWuBoQKdcBUGEegJBKHrBQPE150DeIepACd7fQOrz4UAyAQZBevnoQKZP4UDGMQxBsKT2QJes6EAQxuVAbdsPQSrS+UA18aJAQ3T4QF+j90DTselAUjPxQN8p5EDs/ulA4wHkQPlj/0AQ+g5B96XlQMB8k0Ba/vtAHx3YQH9n6EC6ffBAy2/gQM+Q1UBnMOpAc58EQSk91UA9IvJABMX6QN8H5EA1LP1A12rKQBpkDUHY0eBAMt/NQFxq8ECiEeZADEPtQKZN7kCM3/dA0S3sQBZI0kBRBetA1KMNQauljkBFdvhAX5zhQJ5H50CHYOxAVoDvQLT8BUFPEeRA86j+QO8Z9UDEvBBBHgLtQNG+7EBr5gBBBV3oQFtR40BgM7xAlMnnQBjuHj5lq+RAt8rkQLdiy0Bc5v9AZ4HoQBRD00APtOpAffT/QGmI+0DN+NRAAfzGQDW2AEGGxOpAXp26QEaU0EDqyQxBJ8HdQEui7UCz8ctARUqrQNirxUArpA9B",
          "dtype": "f4"
         },
         "xaxis": "x",
         "y": {
          "bdata": "t3ADv8mXE8DSnT09iRDdvkdY/r6Ujei+LjYav0Auvb6zzQ7ACG74voJaCr+ytwjAeB4av6niu778RCe/NM4Fv0QTpb4Q+u++HbY8vmjoFb9PEwK/vv4Dv3j2rb7S0L6++CEVvwmOKL/yHRe/P2ASv63nab7zYSbADRXwviq33b1Dfwq/IQZsvpQ4wL4gtMi+NmwIv6EyLcB3ShjApwblvvFLm8D538m+cAKkwBVSBb/JAFvAsLREvwQCKr/Z2dO+Cjkev+f/D78XQdi9pCUcv3p9p77u3Tq/v6/1vhgBE78fXhfAB7vUvgBXCL//Jt2+eFYmwOlE277qUZfAH8GxvgZZBb9M5yC/Ri2RPrCjBr9JJ/e+PmTSvlNi0r3c9zjAmhH2vmDmqr44KDy+BKb5vmbvDb/BIs6+6uQLv7kpB793QR2/oRsgv3+D+75Y/RK/8DCJvvG9Ub+Pjo2+PTMNvxdEDsBBEMi+uGElv2+vC793Hje/6PQ1v3W9/76pvP2+N0sgv53yLz4y4zi/oqskwIwulr6SW5q+194Wv+W38b505s6+Avf4vi0Il78iEQ6/UaVDvvdZJsBitQnAGc8Lv4NlKL+SBlu+K1kAv1g/YL/QhEC/0X2UvsNmUUAxqp+/40y9vqI+Ab8H0fW9SV3+vlvZBL8VFNi+1Ya4vhnC/L0+0BC/M9YBv8k60764/sy+DvdCv3z0C79d6tm/2iUCv1hkHb99mgu/BMxWv1st777GVRDA",
          "dtype": "f4"
         },
         "yaxis": "y"
        },
        {
         "hovertemplate": "cell_type=hematopoietic cell<br>UMAP1=%{x}<br>UMAP2=%{y}<extra></extra>",
         "legendgroup": "hematopoietic cell",
         "marker": {
          "color": "#19d3f3",
          "opacity": 0.7,
          "symbol": "circle"
         },
         "mode": "markers",
         "name": "hematopoietic cell",
         "showlegend": true,
         "type": "scattergl",
         "x": {
          "bdata": "yaqcP63Tez3PgJc/dmCNP5yukj+0XaI/JjY2QUlpA0HKpQlBngOovreTEzzUewNBx4EzQVbSTz5OLCE9aMg0QdLKmz+04v5AlnsDv/u4D0HR7jK/K3qGPQU1AUEwaQNB",
          "dtype": "f4"
         },
         "xaxis": "x",
         "y": {
          "bdata": "epSOQEGtF0BOCdxA7JDaQF815EBr8I5AIaeRQGlLOD7TuuNAK3lYQMUWHkBxoik+fsyVQJxrgkDGVRhApNSVQE1E30D6KORAgeWfQPwnAsD+tZhA1wQUQIvZ2L4xAjE+",
          "dtype": "f4"
         },
         "yaxis": "y"
        },
        {
         "hovertemplate": "cell_type=adventitial cell<br>UMAP1=%{x}<br>UMAP2=%{y}<extra></extra>",
         "legendgroup": "adventitial cell",
         "marker": {
          "color": "#FF6692",
          "opacity": 0.7,
          "symbol": "circle"
         },
         "mode": "markers",
         "name": "adventitial cell",
         "showlegend": true,
         "type": "scattergl",
         "x": {
          "bdata": "wrycQLM4sEAEhq9ADi6nQAgLnEDCULNAETKuQAdOs0DAKaxAbQOvQMoEqUD/bKZArqKiQKFftEASbKlA",
          "dtype": "f4"
         },
         "xaxis": "x",
         "y": {
          "bdata": "nzJqwC0Dk8B9TpTApBeWwKtZRcCnU5LAhrKJwOf0mMDHUpXAokaXwBhmkMDu3ZTAAhCtwNiHjMDb/o7A",
          "dtype": "f4"
         },
         "yaxis": "y"
        },
        {
         "hovertemplate": "cell_type=dendritic cell<br>UMAP1=%{x}<br>UMAP2=%{y}<extra></extra>",
         "legendgroup": "dendritic cell",
         "marker": {
          "color": "#B6E880",
          "opacity": 0.7,
          "symbol": "circle"
         },
         "mode": "markers",
         "name": "dendritic cell",
         "showlegend": true,
         "type": "scattergl",
         "x": {
          "bdata": "epUMQZ7dE0FYYApBvrZwPsZrCkFrmQtBrLwQQS9PEkGLUxRB5NZWP0aeCkF/dAtB6Kv4QB1p0kCbpAhB",
          "dtype": "f4"
         },
         "xaxis": "x",
         "y": {
          "bdata": "O5nbQOTG3UBO5NxAJ9PlQLNt3UAIb91A10jdQFNZ3kD3eN1AsCS0QFLP3EBuDt1ASV/aQBD13UBtjN5A",
          "dtype": "f4"
         },
         "yaxis": "y"
        },
        {
         "hovertemplate": "cell_type=erythroid lineage cell<br>UMAP1=%{x}<br>UMAP2=%{y}<extra></extra>",
         "legendgroup": "erythroid lineage cell",
         "marker": {
          "color": "#FF97FF",
          "opacity": 0.7,
          "symbol": "circle"
         },
         "mode": "markers",
         "name": "erythroid lineage cell",
         "showlegend": true,
         "type": "scattergl",
         "x": {
          "bdata": "1UxGQYuozEB1wNRAg6lHQQ==",
          "dtype": "f4"
         },
         "xaxis": "x",
         "y": {
          "bdata": "+hgNwF7Y1T+odT8/RqoQwA==",
          "dtype": "f4"
         },
         "yaxis": "y"
        },
        {
         "hovertemplate": "cell_type=epithelial cell of lung<br>UMAP1=%{x}<br>UMAP2=%{y}<extra></extra>",
         "legendgroup": "epithelial cell of lung",
         "marker": {
          "color": "#FECB52",
          "opacity": 0.7,
          "symbol": "circle"
         },
         "mode": "markers",
         "name": "epithelial cell of lung",
         "showlegend": true,
         "type": "scattergl",
         "x": {
          "bdata": "6FHpQGA5jkAByN9AjKDkQCB74UCma+BAAxjuQHCfzECPAepAZ5mvQORf4ECKo+BAzRSPQA==",
          "dtype": "f4"
         },
         "xaxis": "x",
         "y": {
          "bdata": "FLwTP/bnSD8Bsac/JoSVP8ufoT/i/KY/kHbZPoTUDL9nMVM/k0VlwBWBqj/AHqU/sN1HPw==",
          "dtype": "f4"
         },
         "yaxis": "y"
        },
        {
         "hovertemplate": "cell_type=duct epithelial cell<br>UMAP1=%{x}<br>UMAP2=%{y}<extra></extra>",
         "legendgroup": "duct epithelial cell",
         "marker": {
          "color": "#636efa",
          "opacity": 0.7,
          "symbol": "circle"
         },
         "mode": "markers",
         "name": "duct epithelial cell",
         "showlegend": true,
         "type": "scattergl",
         "x": {
          "bdata": "OToSQbdh40DPKtBAsN8SQROL6EDjns1A",
          "dtype": "f4"
         },
         "xaxis": "x",
         "y": {
          "bdata": "a14YwC+nDz9s/0Y/xjIRwFClJD+NtyM/",
          "dtype": "f4"
         },
         "yaxis": "y"
        },
        {
         "hovertemplate": "cell_type=meso-epithelial cell<br>UMAP1=%{x}<br>UMAP2=%{y}<extra></extra>",
         "legendgroup": "meso-epithelial cell",
         "marker": {
          "color": "#EF553B",
          "opacity": 0.7,
          "symbol": "circle"
         },
         "mode": "markers",
         "name": "meso-epithelial cell",
         "showlegend": true,
         "type": "scattergl",
         "x": {
          "bdata": "KXq4QPFazUDDE4ZA",
          "dtype": "f4"
         },
         "xaxis": "x",
         "y": {
          "bdata": "c7OAwMx4Vz5DGCs/",
          "dtype": "f4"
         },
         "yaxis": "y"
        },
        {
         "hovertemplate": "cell_type=ciliated epithelial cell<br>UMAP1=%{x}<br>UMAP2=%{y}<extra></extra>",
         "legendgroup": "ciliated epithelial cell",
         "marker": {
          "color": "#00cc96",
          "opacity": 0.7,
          "symbol": "circle"
         },
         "mode": "markers",
         "name": "ciliated epithelial cell",
         "showlegend": true,
         "type": "scattergl",
         "x": {
          "bdata": "hq2+QMXC00C8/dlAlxvaQDrP10Cc/QZBbz/BQA==",
          "dtype": "f4"
         },
         "xaxis": "x",
         "y": {
          "bdata": "U6C6PxBNcT/Q2VA/Q/xVP/iZXj91mhDAOPTAPw==",
          "dtype": "f4"
         },
         "yaxis": "y"
        },
        {
         "hovertemplate": "cell_type=hepatocyte<br>UMAP1=%{x}<br>UMAP2=%{y}<extra></extra>",
         "legendgroup": "hepatocyte",
         "marker": {
          "color": "#ab63fa",
          "opacity": 0.7,
          "symbol": "circle"
         },
         "mode": "markers",
         "name": "hepatocyte",
         "showlegend": true,
         "type": "scattergl",
         "x": {
          "bdata": "WW7ZQFk14UA=",
          "dtype": "f4"
         },
         "xaxis": "x",
         "y": {
          "bdata": "Bo6/Pw5/nj8=",
          "dtype": "f4"
         },
         "yaxis": "y"
        },
        {
         "hovertemplate": "cell_type=stratified epithelial cell<br>UMAP1=%{x}<br>UMAP2=%{y}<extra></extra>",
         "legendgroup": "stratified epithelial cell",
         "marker": {
          "color": "#FFA15A",
          "opacity": 0.7,
          "symbol": "circle"
         },
         "mode": "markers",
         "name": "stratified epithelial cell",
         "showlegend": true,
         "type": "scattergl",
         "x": {
          "bdata": "llLTQCQgsUAPL9NA",
          "dtype": "f4"
         },
         "xaxis": "x",
         "y": {
          "bdata": "faySPwECUT9llIk/",
          "dtype": "f4"
         },
         "yaxis": "y"
        },
        {
         "hovertemplate": "cell_type=fat cell<br>UMAP1=%{x}<br>UMAP2=%{y}<extra></extra>",
         "legendgroup": "fat cell",
         "marker": {
          "color": "#19d3f3",
          "opacity": 0.7,
          "symbol": "circle"
         },
         "mode": "markers",
         "name": "fat cell",
         "showlegend": true,
         "type": "scattergl",
         "x": {
          "bdata": "cKziQA==",
          "dtype": "f4"
         },
         "xaxis": "x",
         "y": {
          "bdata": "zoeWPw==",
          "dtype": "f4"
         },
         "yaxis": "y"
        },
        {
         "hovertemplate": "cell_type=neuron<br>UMAP1=%{x}<br>UMAP2=%{y}<extra></extra>",
         "legendgroup": "neuron",
         "marker": {
          "color": "#FF6692",
          "opacity": 0.7,
          "symbol": "circle"
         },
         "mode": "markers",
         "name": "neuron",
         "showlegend": true,
         "type": "scattergl",
         "x": {
          "bdata": "GknHQA==",
          "dtype": "f4"
         },
         "xaxis": "x",
         "y": {
          "bdata": "JkWRPw==",
          "dtype": "f4"
         },
         "yaxis": "y"
        },
        {
         "hovertemplate": "cell_type=transitional epithelial cell<br>UMAP1=%{x}<br>UMAP2=%{y}<extra></extra>",
         "legendgroup": "transitional epithelial cell",
         "marker": {
          "color": "#B6E880",
          "opacity": 0.7,
          "symbol": "circle"
         },
         "mode": "markers",
         "name": "transitional epithelial cell",
         "showlegend": true,
         "type": "scattergl",
         "x": {
          "bdata": "EMAwQQ==",
          "dtype": "f4"
         },
         "xaxis": "x",
         "y": {
          "bdata": "cJSSQA==",
          "dtype": "f4"
         },
         "yaxis": "y"
        },
        {
         "hovertemplate": "cell_type=glial cell<br>UMAP1=%{x}<br>UMAP2=%{y}<extra></extra>",
         "legendgroup": "glial cell",
         "marker": {
          "color": "#FF97FF",
          "opacity": 0.7,
          "symbol": "circle"
         },
         "mode": "markers",
         "name": "glial cell",
         "showlegend": true,
         "type": "scattergl",
         "x": {
          "bdata": "l3jZQA==",
          "dtype": "f4"
         },
         "xaxis": "x",
         "y": {
          "bdata": "IYTDvw==",
          "dtype": "f4"
         },
         "yaxis": "y"
        },
        {
         "hovertemplate": "cell_type=secretory cell<br>UMAP1=%{x}<br>UMAP2=%{y}<extra></extra>",
         "legendgroup": "secretory cell",
         "marker": {
          "color": "#FECB52",
          "opacity": 0.7,
          "symbol": "circle"
         },
         "mode": "markers",
         "name": "secretory cell",
         "showlegend": true,
         "type": "scattergl",
         "x": {
          "bdata": "lGfNQMKi0EA=",
          "dtype": "f4"
         },
         "xaxis": "x",
         "y": {
          "bdata": "tK1NP/siZz8=",
          "dtype": "f4"
         },
         "yaxis": "y"
        },
        {
         "hovertemplate": "cell_type=melanocyte<br>UMAP1=%{x}<br>UMAP2=%{y}<extra></extra>",
         "legendgroup": "melanocyte",
         "marker": {
          "color": "#636efa",
          "opacity": 0.7,
          "symbol": "circle"
         },
         "mode": "markers",
         "name": "melanocyte",
         "showlegend": true,
         "type": "scattergl",
         "x": {
          "bdata": "b5LBQA==",
          "dtype": "f4"
         },
         "xaxis": "x",
         "y": {
          "bdata": "lNdmvw==",
          "dtype": "f4"
         },
         "yaxis": "y"
        }
       ],
       "layout": {
        "legend": {
         "title": {
          "text": "cell_type"
         },
         "tracegroupgap": 0
        },
        "template": {
         "data": {
          "bar": [
           {
            "error_x": {
             "color": "#2a3f5f"
            },
            "error_y": {
             "color": "#2a3f5f"
            },
            "marker": {
             "line": {
              "color": "#E5ECF6",
              "width": 0.5
             },
             "pattern": {
              "fillmode": "overlay",
              "size": 10,
              "solidity": 0.2
             }
            },
            "type": "bar"
           }
          ],
          "barpolar": [
           {
            "marker": {
             "line": {
              "color": "#E5ECF6",
              "width": 0.5
             },
             "pattern": {
              "fillmode": "overlay",
              "size": 10,
              "solidity": 0.2
             }
            },
            "type": "barpolar"
           }
          ],
          "carpet": [
           {
            "aaxis": {
             "endlinecolor": "#2a3f5f",
             "gridcolor": "white",
             "linecolor": "white",
             "minorgridcolor": "white",
             "startlinecolor": "#2a3f5f"
            },
            "baxis": {
             "endlinecolor": "#2a3f5f",
             "gridcolor": "white",
             "linecolor": "white",
             "minorgridcolor": "white",
             "startlinecolor": "#2a3f5f"
            },
            "type": "carpet"
           }
          ],
          "choropleth": [
           {
            "colorbar": {
             "outlinewidth": 0,
             "ticks": ""
            },
            "type": "choropleth"
           }
          ],
          "contour": [
           {
            "colorbar": {
             "outlinewidth": 0,
             "ticks": ""
            },
            "colorscale": [
             [
              0,
              "#0d0887"
             ],
             [
              0.1111111111111111,
              "#46039f"
             ],
             [
              0.2222222222222222,
              "#7201a8"
             ],
             [
              0.3333333333333333,
              "#9c179e"
             ],
             [
              0.4444444444444444,
              "#bd3786"
             ],
             [
              0.5555555555555556,
              "#d8576b"
             ],
             [
              0.6666666666666666,
              "#ed7953"
             ],
             [
              0.7777777777777778,
              "#fb9f3a"
             ],
             [
              0.8888888888888888,
              "#fdca26"
             ],
             [
              1,
              "#f0f921"
             ]
            ],
            "type": "contour"
           }
          ],
          "contourcarpet": [
           {
            "colorbar": {
             "outlinewidth": 0,
             "ticks": ""
            },
            "type": "contourcarpet"
           }
          ],
          "heatmap": [
           {
            "colorbar": {
             "outlinewidth": 0,
             "ticks": ""
            },
            "colorscale": [
             [
              0,
              "#0d0887"
             ],
             [
              0.1111111111111111,
              "#46039f"
             ],
             [
              0.2222222222222222,
              "#7201a8"
             ],
             [
              0.3333333333333333,
              "#9c179e"
             ],
             [
              0.4444444444444444,
              "#bd3786"
             ],
             [
              0.5555555555555556,
              "#d8576b"
             ],
             [
              0.6666666666666666,
              "#ed7953"
             ],
             [
              0.7777777777777778,
              "#fb9f3a"
             ],
             [
              0.8888888888888888,
              "#fdca26"
             ],
             [
              1,
              "#f0f921"
             ]
            ],
            "type": "heatmap"
           }
          ],
          "histogram": [
           {
            "marker": {
             "pattern": {
              "fillmode": "overlay",
              "size": 10,
              "solidity": 0.2
             }
            },
            "type": "histogram"
           }
          ],
          "histogram2d": [
           {
            "colorbar": {
             "outlinewidth": 0,
             "ticks": ""
            },
            "colorscale": [
             [
              0,
              "#0d0887"
             ],
             [
              0.1111111111111111,
              "#46039f"
             ],
             [
              0.2222222222222222,
              "#7201a8"
             ],
             [
              0.3333333333333333,
              "#9c179e"
             ],
             [
              0.4444444444444444,
              "#bd3786"
             ],
             [
              0.5555555555555556,
              "#d8576b"
             ],
             [
              0.6666666666666666,
              "#ed7953"
             ],
             [
              0.7777777777777778,
              "#fb9f3a"
             ],
             [
              0.8888888888888888,
              "#fdca26"
             ],
             [
              1,
              "#f0f921"
             ]
            ],
            "type": "histogram2d"
           }
          ],
          "histogram2dcontour": [
           {
            "colorbar": {
             "outlinewidth": 0,
             "ticks": ""
            },
            "colorscale": [
             [
              0,
              "#0d0887"
             ],
             [
              0.1111111111111111,
              "#46039f"
             ],
             [
              0.2222222222222222,
              "#7201a8"
             ],
             [
              0.3333333333333333,
              "#9c179e"
             ],
             [
              0.4444444444444444,
              "#bd3786"
             ],
             [
              0.5555555555555556,
              "#d8576b"
             ],
             [
              0.6666666666666666,
              "#ed7953"
             ],
             [
              0.7777777777777778,
              "#fb9f3a"
             ],
             [
              0.8888888888888888,
              "#fdca26"
             ],
             [
              1,
              "#f0f921"
             ]
            ],
            "type": "histogram2dcontour"
           }
          ],
          "mesh3d": [
           {
            "colorbar": {
             "outlinewidth": 0,
             "ticks": ""
            },
            "type": "mesh3d"
           }
          ],
          "parcoords": [
           {
            "line": {
             "colorbar": {
              "outlinewidth": 0,
              "ticks": ""
             }
            },
            "type": "parcoords"
           }
          ],
          "pie": [
           {
            "automargin": true,
            "type": "pie"
           }
          ],
          "scatter": [
           {
            "fillpattern": {
             "fillmode": "overlay",
             "size": 10,
             "solidity": 0.2
            },
            "type": "scatter"
           }
          ],
          "scatter3d": [
           {
            "line": {
             "colorbar": {
              "outlinewidth": 0,
              "ticks": ""
             }
            },
            "marker": {
             "colorbar": {
              "outlinewidth": 0,
              "ticks": ""
             }
            },
            "type": "scatter3d"
           }
          ],
          "scattercarpet": [
           {
            "marker": {
             "colorbar": {
              "outlinewidth": 0,
              "ticks": ""
             }
            },
            "type": "scattercarpet"
           }
          ],
          "scattergeo": [
           {
            "marker": {
             "colorbar": {
              "outlinewidth": 0,
              "ticks": ""
             }
            },
            "type": "scattergeo"
           }
          ],
          "scattergl": [
           {
            "marker": {
             "colorbar": {
              "outlinewidth": 0,
              "ticks": ""
             }
            },
            "type": "scattergl"
           }
          ],
          "scattermap": [
           {
            "marker": {
             "colorbar": {
              "outlinewidth": 0,
              "ticks": ""
             }
            },
            "type": "scattermap"
           }
          ],
          "scattermapbox": [
           {
            "marker": {
             "colorbar": {
              "outlinewidth": 0,
              "ticks": ""
             }
            },
            "type": "scattermapbox"
           }
          ],
          "scatterpolar": [
           {
            "marker": {
             "colorbar": {
              "outlinewidth": 0,
              "ticks": ""
             }
            },
            "type": "scatterpolar"
           }
          ],
          "scatterpolargl": [
           {
            "marker": {
             "colorbar": {
              "outlinewidth": 0,
              "ticks": ""
             }
            },
            "type": "scatterpolargl"
           }
          ],
          "scatterternary": [
           {
            "marker": {
             "colorbar": {
              "outlinewidth": 0,
              "ticks": ""
             }
            },
            "type": "scatterternary"
           }
          ],
          "surface": [
           {
            "colorbar": {
             "outlinewidth": 0,
             "ticks": ""
            },
            "colorscale": [
             [
              0,
              "#0d0887"
             ],
             [
              0.1111111111111111,
              "#46039f"
             ],
             [
              0.2222222222222222,
              "#7201a8"
             ],
             [
              0.3333333333333333,
              "#9c179e"
             ],
             [
              0.4444444444444444,
              "#bd3786"
             ],
             [
              0.5555555555555556,
              "#d8576b"
             ],
             [
              0.6666666666666666,
              "#ed7953"
             ],
             [
              0.7777777777777778,
              "#fb9f3a"
             ],
             [
              0.8888888888888888,
              "#fdca26"
             ],
             [
              1,
              "#f0f921"
             ]
            ],
            "type": "surface"
           }
          ],
          "table": [
           {
            "cells": {
             "fill": {
              "color": "#EBF0F8"
             },
             "line": {
              "color": "white"
             }
            },
            "header": {
             "fill": {
              "color": "#C8D4E3"
             },
             "line": {
              "color": "white"
             }
            },
            "type": "table"
           }
          ]
         },
         "layout": {
          "annotationdefaults": {
           "arrowcolor": "#2a3f5f",
           "arrowhead": 0,
           "arrowwidth": 1
          },
          "autotypenumbers": "strict",
          "coloraxis": {
           "colorbar": {
            "outlinewidth": 0,
            "ticks": ""
           }
          },
          "colorscale": {
           "diverging": [
            [
             0,
             "#8e0152"
            ],
            [
             0.1,
             "#c51b7d"
            ],
            [
             0.2,
             "#de77ae"
            ],
            [
             0.3,
             "#f1b6da"
            ],
            [
             0.4,
             "#fde0ef"
            ],
            [
             0.5,
             "#f7f7f7"
            ],
            [
             0.6,
             "#e6f5d0"
            ],
            [
             0.7,
             "#b8e186"
            ],
            [
             0.8,
             "#7fbc41"
            ],
            [
             0.9,
             "#4d9221"
            ],
            [
             1,
             "#276419"
            ]
           ],
           "sequential": [
            [
             0,
             "#0d0887"
            ],
            [
             0.1111111111111111,
             "#46039f"
            ],
            [
             0.2222222222222222,
             "#7201a8"
            ],
            [
             0.3333333333333333,
             "#9c179e"
            ],
            [
             0.4444444444444444,
             "#bd3786"
            ],
            [
             0.5555555555555556,
             "#d8576b"
            ],
            [
             0.6666666666666666,
             "#ed7953"
            ],
            [
             0.7777777777777778,
             "#fb9f3a"
            ],
            [
             0.8888888888888888,
             "#fdca26"
            ],
            [
             1,
             "#f0f921"
            ]
           ],
           "sequentialminus": [
            [
             0,
             "#0d0887"
            ],
            [
             0.1111111111111111,
             "#46039f"
            ],
            [
             0.2222222222222222,
             "#7201a8"
            ],
            [
             0.3333333333333333,
             "#9c179e"
            ],
            [
             0.4444444444444444,
             "#bd3786"
            ],
            [
             0.5555555555555556,
             "#d8576b"
            ],
            [
             0.6666666666666666,
             "#ed7953"
            ],
            [
             0.7777777777777778,
             "#fb9f3a"
            ],
            [
             0.8888888888888888,
             "#fdca26"
            ],
            [
             1,
             "#f0f921"
            ]
           ]
          },
          "colorway": [
           "#636efa",
           "#EF553B",
           "#00cc96",
           "#ab63fa",
           "#FFA15A",
           "#19d3f3",
           "#FF6692",
           "#B6E880",
           "#FF97FF",
           "#FECB52"
          ],
          "font": {
           "color": "#2a3f5f"
          },
          "geo": {
           "bgcolor": "white",
           "lakecolor": "white",
           "landcolor": "#E5ECF6",
           "showlakes": true,
           "showland": true,
           "subunitcolor": "white"
          },
          "hoverlabel": {
           "align": "left"
          },
          "hovermode": "closest",
          "mapbox": {
           "style": "light"
          },
          "paper_bgcolor": "white",
          "plot_bgcolor": "#E5ECF6",
          "polar": {
           "angularaxis": {
            "gridcolor": "white",
            "linecolor": "white",
            "ticks": ""
           },
           "bgcolor": "#E5ECF6",
           "radialaxis": {
            "gridcolor": "white",
            "linecolor": "white",
            "ticks": ""
           }
          },
          "scene": {
           "xaxis": {
            "backgroundcolor": "#E5ECF6",
            "gridcolor": "white",
            "gridwidth": 2,
            "linecolor": "white",
            "showbackground": true,
            "ticks": "",
            "zerolinecolor": "white"
           },
           "yaxis": {
            "backgroundcolor": "#E5ECF6",
            "gridcolor": "white",
            "gridwidth": 2,
            "linecolor": "white",
            "showbackground": true,
            "ticks": "",
            "zerolinecolor": "white"
           },
           "zaxis": {
            "backgroundcolor": "#E5ECF6",
            "gridcolor": "white",
            "gridwidth": 2,
            "linecolor": "white",
            "showbackground": true,
            "ticks": "",
            "zerolinecolor": "white"
           }
          },
          "shapedefaults": {
           "line": {
            "color": "#2a3f5f"
           }
          },
          "ternary": {
           "aaxis": {
            "gridcolor": "white",
            "linecolor": "white",
            "ticks": ""
           },
           "baxis": {
            "gridcolor": "white",
            "linecolor": "white",
            "ticks": ""
           },
           "bgcolor": "#E5ECF6",
           "caxis": {
            "gridcolor": "white",
            "linecolor": "white",
            "ticks": ""
           }
          },
          "title": {
           "x": 0.05
          },
          "xaxis": {
           "automargin": true,
           "gridcolor": "white",
           "linecolor": "white",
           "ticks": "",
           "title": {
            "standoff": 15
           },
           "zerolinecolor": "white",
           "zerolinewidth": 2
          },
          "yaxis": {
           "automargin": true,
           "gridcolor": "white",
           "linecolor": "white",
           "ticks": "",
           "title": {
            "standoff": 15
           },
           "zerolinecolor": "white",
           "zerolinewidth": 2
          }
         }
        },
        "title": {
         "text": "UMAP Visualization of Gene Expression Embeddings",
         "x": 0.5,
         "xanchor": "center",
         "y": 0.95,
         "yanchor": "top"
        },
        "xaxis": {
         "anchor": "y",
         "domain": [
          0,
          1
         ],
         "title": {
          "text": "UMAP1"
         }
        },
        "yaxis": {
         "anchor": "x",
         "domain": [
          0,
          1
         ],
         "title": {
          "text": "UMAP2"
         }
        }
       }
      }
     },
     "metadata": {},
     "output_type": "display_data"
    }
   ],
   "source": [
    "from sklearn.decomposition import PCA\n",
    "import umap\n",
    "import matplotlib.pyplot as plt\n",
    "import plotly.express as px\n",
    "\n",
    "# Convert all column names to strings before applying PCA\n",
    "# features_24_weeks_df.columns = features_24_weeks_df.columns.astype(str)\n",
    "\n",
    "# Now run PCA\n",
    "# pca = PCA(n_components=50)\n",
    "# pca_embeddings = pca.fit_transform(features_24_weeks_df.drop(columns=['drug dose', 'external_id', 'ifn status', \"subject sex\", \"subject age\", \"subject_id\"]))\n",
    "# Then apply UMAP to the PCA results\n",
    "reducer = umap.UMAP(random_state=42)\n",
    "umap_sample_pdf = cell_embeddings_pdf.sample(2000)\n",
    "umap_embeddings = reducer.fit_transform(\n",
    "    umap_sample_pdf.drop(columns=[\"cell_type\", \"donor_id\"])\n",
    ")\n",
    "\n",
    "# Create a DataFrame with the UMAP coordinates using the original DataFrame's index\n",
    "umap_df = pd.DataFrame(\n",
    "    umap_embeddings, columns=[\"UMAP1\", \"UMAP2\"], index=umap_sample_pdf.index\n",
    ")  # Use the original DataFrame's index\n",
    "\n",
    "# Merge with sample attributes to get metadata for coloring\n",
    "umap_df = umap_df.merge(\n",
    "    umap_sample_pdf[[\"cell_type\", \"donor_id\"]], left_index=True, right_index=True\n",
    ")\n",
    "# Create the plot\n",
    "fig = px.scatter(\n",
    "    umap_df,\n",
    "    x=\"UMAP1\",\n",
    "    y=\"UMAP2\",\n",
    "    color=\"cell_type\",\n",
    "    opacity=0.7,\n",
    "    title=\"UMAP Visualization of Gene Expression Embeddings\",\n",
    ")\n",
    "\n",
    "# Update layout\n",
    "fig.update_layout(title={\"y\": 0.95, \"x\": 0.5, \"xanchor\": \"center\", \"yanchor\": \"top\"})\n",
    "\n",
    "fig.show()"
   ]
  },
  {
   "cell_type": "code",
   "execution_count": null,
   "metadata": {},
   "outputs": [],
   "source": []
  }
 ],
 "metadata": {
  "kernelspec": {
   "display_name": "venv",
   "language": "python",
   "name": "python3"
  },
  "language_info": {
   "codemirror_mode": {
    "name": "ipython",
    "version": 3
   },
   "file_extension": ".py",
   "mimetype": "text/x-python",
   "name": "python",
   "nbconvert_exporter": "python",
   "pygments_lexer": "ipython3",
   "version": "3.10.16"
  }
 },
 "nbformat": 4,
 "nbformat_minor": 2
}
